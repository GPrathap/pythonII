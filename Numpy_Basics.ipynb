{
  "nbformat": 4,
  "nbformat_minor": 0,
  "metadata": {
    "colab": {
      "name": "Numpy Basics",
      "provenance": [],
      "collapsed_sections": [],
      "include_colab_link": true
    },
    "kernelspec": {
      "display_name": "Python 3",
      "name": "python3"
    }
  },
  "cells": [
    {
      "cell_type": "markdown",
      "metadata": {
        "id": "view-in-github",
        "colab_type": "text"
      },
      "source": [
        "<a href=\"https://colab.research.google.com/github/titusnkumara/pythonII/blob/master/Numpy_Basics.ipynb\" target=\"_parent\"><img src=\"https://colab.research.google.com/assets/colab-badge.svg\" alt=\"Open In Colab\"/></a>"
      ]
    },
    {
      "cell_type": "markdown",
      "metadata": {
        "id": "70pYkR9LiOV0"
      },
      "source": [
        "## Using the library\n",
        "\n",
        "import the numpy library, and rename the imported class as np"
      ]
    },
    {
      "cell_type": "code",
      "metadata": {
        "id": "pSpbsyiaARvs"
      },
      "source": [
        "import numpy as np"
      ],
      "execution_count": 10,
      "outputs": []
    },
    {
      "cell_type": "markdown",
      "metadata": {
        "id": "VIGIBJI0Absb"
      },
      "source": [
        "#Why use numpy?\n",
        "\n",
        "*   Numpy arrays are faster and efficient than python arrays\n",
        "*   Numpy has built in functions useful for faster calculations\n",
        "*   Many libraries use numpy arrays to improve the performance\n",
        "\n",
        "\n",
        "\n",
        "\n"
      ]
    },
    {
      "cell_type": "markdown",
      "metadata": {
        "id": "hVmryYy1BFfs"
      },
      "source": [
        "#Create an array\n",
        "The simplest way to create a numpy array is to type the values on the python scritp, however this is rarely used in practice"
      ]
    },
    {
      "cell_type": "code",
      "metadata": {
        "colab": {
          "base_uri": "https://localhost:8080/"
        },
        "id": "1dwpl39dAuzT",
        "outputId": "f1b18939-ba07-4c04-db73-4771ac5f390d"
      },
      "source": [
        "myNPArray = np.array([1, 2, 3, 4, 5, 6])\n",
        "print(myNPArray)"
      ],
      "execution_count": 11,
      "outputs": [
        {
          "output_type": "stream",
          "name": "stdout",
          "text": [
            "[1 2 3 4 5 6]\n"
          ]
        }
      ]
    },
    {
      "cell_type": "markdown",
      "metadata": {
        "id": "zuMEVG4UBcPc"
      },
      "source": [
        "#Other ways to create numpy arrays\n",
        "You can use already established python list and convert it to a numpy array\n"
      ]
    },
    {
      "cell_type": "code",
      "metadata": {
        "colab": {
          "base_uri": "https://localhost:8080/"
        },
        "id": "ssQ54N2HBwUb",
        "outputId": "c90b146c-e44a-4ac5-926b-744881876445"
      },
      "source": [
        "pythonArray = [1,2,3,4,5,6,7,8,9,10]\n",
        "convertedNPArray = np.array(pythonArray)\n",
        "print(convertedNPArray)"
      ],
      "execution_count": 12,
      "outputs": [
        {
          "output_type": "stream",
          "name": "stdout",
          "text": [
            "[ 1  2  3  4  5  6  7  8  9 10]\n"
          ]
        }
      ]
    },
    {
      "cell_type": "markdown",
      "metadata": {
        "id": "IBB6z81JCeCb"
      },
      "source": [
        "#Operations with numpy arrays and a speed test\n",
        "Lets assume we have a large dataset, and we want to multiply value by some number\n",
        "We can create an array with numpy and python and do a speed comparison\n",
        "\n"
      ]
    },
    {
      "cell_type": "code",
      "metadata": {
        "colab": {
          "base_uri": "https://localhost:8080/"
        },
        "id": "dP4uw5DODmMU",
        "outputId": "1e1e4dcc-949e-433e-dadc-2dd68b1d646d"
      },
      "source": [
        "import time #time library to measure execution time\n",
        "\n",
        "#make two data storage variables for numpy and python \n",
        "pythonList100000000 = list(range(1,100000001))\n",
        "print(len(pythonList100000000))\n",
        "\n",
        "numpyArray100000000 = np.arange(1,100000001)\n",
        "print(len(numpyArray100000000))\n",
        "\n",
        "multiplyNumber = 3\n",
        "\n",
        "#measure the time it takes to multiply each value\n",
        "\n",
        "t1 = time.time()\n",
        "out1 = [multiplyNumber*x for x in pythonList100000000]\n",
        "t2 = time.time()\n",
        "timediffPython = t2-t1\n",
        "print(timediffPython)\n",
        "\n",
        "#now measure how much time it takes for numpy to do the same task\n",
        "t1 = time.time()\n",
        "out2 = numpyArray100000000 * multiplyNumber\n",
        "t2 = time.time()\n",
        "timediffNumpy = t2-t1\n",
        "print(timediffNumpy)\n",
        "\n",
        "print(\"Numpy is {} times faster than a python list\".format(timediffPython/timediffNumpy ))\n"
      ],
      "execution_count": 13,
      "outputs": [
        {
          "output_type": "stream",
          "name": "stdout",
          "text": [
            "100000000\n",
            "100000000\n",
            "12.920283555984497\n",
            "0.26180267333984375\n",
            "Numpy is 49.35122850794114 times faster than a python list\n"
          ]
        }
      ]
    },
    {
      "cell_type": "markdown",
      "metadata": {
        "id": "EX_n8btnHoXb"
      },
      "source": [
        "Now, since we have firsthand know numpy has a big performance advantage over standard python lists, we will learn more operations we can do with numpy"
      ]
    },
    {
      "cell_type": "markdown",
      "metadata": {
        "id": "WoRH1cIn7zIX"
      },
      "source": [
        "#Basic operations with numpy\n"
      ]
    },
    {
      "cell_type": "markdown",
      "metadata": {
        "id": "aKR339atVd-Y"
      },
      "source": [
        "These are the paths to data files of class list\n",
        "\n"
      ]
    },
    {
      "cell_type": "code",
      "metadata": {
        "id": "AuazwQC6E0N3"
      },
      "source": [
        "\n",
        "class1_data_path = \"https://raw.githubusercontent.com/GPrathap/pythonII/master/dataset/class_list/class1_marks.csv\"\n",
        "class2_data_path = \"https://raw.githubusercontent.com/GPrathap/pythonII/master/dataset/class_list/class2_marks.csv\""
      ],
      "execution_count": 14,
      "outputs": []
    },
    {
      "cell_type": "code",
      "metadata": {
        "colab": {
          "base_uri": "https://localhost:8080/"
        },
        "id": "N9qcuCHp74Et",
        "outputId": "60296bdb-a516-43b0-836d-be93a9985bda"
      },
      "source": [
        "#read an array from a file\n",
        "class1data = np.loadtxt(class1_data_path, dtype=float,skiprows=1)\n",
        "class2data = np.loadtxt(class2_data_path, dtype=float,skiprows=1)\n",
        "print(len(class1data))\n",
        "print(len(class2data))\n",
        "\n",
        "\n",
        "print(max(class1data))\n",
        "print(max(class2data))"
      ],
      "execution_count": 15,
      "outputs": [
        {
          "output_type": "stream",
          "name": "stdout",
          "text": [
            "50\n",
            "50\n",
            "100.0\n",
            "99.0\n"
          ]
        }
      ]
    },
    {
      "cell_type": "markdown",
      "metadata": {
        "id": "BE5rBvZKFjDv"
      },
      "source": [
        "Lets see if we can sort the class 1 results\n"
      ]
    },
    {
      "cell_type": "code",
      "metadata": {
        "colab": {
          "base_uri": "https://localhost:8080/"
        },
        "id": "VdX0vOrCF0mH",
        "outputId": "0dcfa17b-8f41-49db-996e-6a800c13d362"
      },
      "source": [
        "sortedClass1 = np.sort(class1data);\n",
        "print(sortedClass1)\n"
      ],
      "execution_count": 16,
      "outputs": [
        {
          "output_type": "stream",
          "name": "stdout",
          "text": [
            "[  3.   8.  13.  14.  15.  18.  21.  22.  24.  27.  30.  33.  35.  37.\n",
            "  39.  40.  40.  40.  40.  43.  44.  48.  50.  52.  56.  57.  58.  59.\n",
            "  60.  60.  62.  63.  65.  72.  72.  73.  74.  79.  81.  82.  82.  82.\n",
            "  83.  84.  91.  93.  94.  97.  98. 100.]\n"
          ]
        }
      ]
    },
    {
      "cell_type": "markdown",
      "metadata": {
        "id": "OFBNztwYGdvH"
      },
      "source": [
        "We can do the same for the class 2 results\n"
      ]
    },
    {
      "cell_type": "code",
      "metadata": {
        "colab": {
          "base_uri": "https://localhost:8080/"
        },
        "id": "imGj-GCxGi0V",
        "outputId": "0fe00f63-2eb3-477a-d623-3ccbb9f7064e"
      },
      "source": [
        "sortedClass2 = np.sort(class2data);\n",
        "print(sortedClass2)"
      ],
      "execution_count": 17,
      "outputs": [
        {
          "output_type": "stream",
          "name": "stdout",
          "text": [
            "[ 0.  0.  1.  3.  3.  4.  6.  7.  9. 13. 15. 16. 16. 19. 19. 21. 26. 29.\n",
            " 30. 30. 32. 35. 36. 37. 37. 40. 40. 46. 48. 49. 55. 57. 58. 58. 59. 64.\n",
            " 67. 71. 72. 74. 75. 76. 78. 84. 92. 95. 97. 98. 99. 99.]\n"
          ]
        }
      ]
    },
    {
      "cell_type": "markdown",
      "metadata": {
        "id": "acMUhSv-GvKX"
      },
      "source": [
        "With this sorted array, we can do some interesting comparisons. Lets say our pass mark is 50. Can we find how many students have passed?\n"
      ]
    },
    {
      "cell_type": "code",
      "metadata": {
        "colab": {
          "base_uri": "https://localhost:8080/"
        },
        "id": "ooy-LDUTG6BD",
        "outputId": "2b812daf-cb73-46b8-86c7-55adb8e6780d"
      },
      "source": [
        "Cl1Passed = sortedClass1 >= 50 # this will give us an true false array\n",
        "print(Cl1Passed)\n",
        "Cl1PassedSum = Cl1Passed.sum(); # find total pass students\n",
        "Cl1FailedSum = sortedClass1.size - Cl1PassedSum\n",
        "print(\"Passed: \",Cl1PassedSum)\n",
        "print(\"Failed: \",Cl1FailedSum)\n"
      ],
      "execution_count": 18,
      "outputs": [
        {
          "output_type": "stream",
          "name": "stdout",
          "text": [
            "[False False False False False False False False False False False False\n",
            " False False False False False False False False False False  True  True\n",
            "  True  True  True  True  True  True  True  True  True  True  True  True\n",
            "  True  True  True  True  True  True  True  True  True  True  True  True\n",
            "  True  True]\n",
            "Passed:  28\n",
            "Failed:  22\n"
          ]
        }
      ]
    },
    {
      "cell_type": "markdown",
      "metadata": {
        "id": "T44NE8kMIkYn"
      },
      "source": [
        "Then, lets say you want to display all failed students, you can achieve the same with a sorted array or non-sorted array\n",
        "For sorted array, its easy because we just want to cut the class in two sections\n",
        "\n",
        " "
      ]
    },
    {
      "cell_type": "code",
      "metadata": {
        "colab": {
          "base_uri": "https://localhost:8080/"
        },
        "id": "XTE-EprfIyOm",
        "outputId": "244c4f62-4bda-4e20-c203-b54eb46d7f62"
      },
      "source": [
        "failedCl1Array = sortedClass1[0:Cl1FailedSum]\n",
        "print(failedCl1Array)"
      ],
      "execution_count": 19,
      "outputs": [
        {
          "output_type": "stream",
          "name": "stdout",
          "text": [
            "[ 3.  8. 13. 14. 15. 18. 21. 22. 24. 27. 30. 33. 35. 37. 39. 40. 40. 40.\n",
            " 40. 43. 44. 48.]\n"
          ]
        }
      ]
    },
    {
      "cell_type": "markdown",
      "metadata": {
        "id": "AgNwaFsuDdMp"
      },
      "source": [
        "The other way of finding out students satisfying a codition doesn't require a sorted array\n",
        "For example, from the original unsorted array, lests find out students who scored 50 or more"
      ]
    },
    {
      "cell_type": "code",
      "metadata": {
        "colab": {
          "base_uri": "https://localhost:8080/"
        },
        "id": "IyHsEqIpDufR",
        "outputId": "aade2e8b-469f-4216-c9f3-ea9aa8d9a692"
      },
      "source": [
        "passedindexes1 = class1data>=50 # this will compare the condition elementwise and give us an array \n",
        "print(passedindexes1)"
      ],
      "execution_count": 20,
      "outputs": [
        {
          "output_type": "stream",
          "name": "stdout",
          "text": [
            "[ True  True  True  True  True  True  True False  True  True False False\n",
            " False False False False False  True False  True  True  True False False\n",
            "  True  True False False False  True  True False  True  True False  True\n",
            " False False  True  True  True False False False  True  True  True  True\n",
            " False  True]\n"
          ]
        }
      ]
    },
    {
      "cell_type": "markdown",
      "metadata": {
        "id": "5WExaxztEAmh"
      },
      "source": [
        "Then, we can use this true/false index array to select the elements from the original array"
      ]
    },
    {
      "cell_type": "code",
      "metadata": {
        "colab": {
          "base_uri": "https://localhost:8080/"
        },
        "id": "Uy2WST_2D-Yf",
        "outputId": "f48103b3-9f31-490d-c178-d1c59f124326"
      },
      "source": [
        "print(class1data) #original array\n",
        "print(passedindexes1)\n",
        "print(class1data[passedindexes1])\n"
      ],
      "execution_count": 21,
      "outputs": [
        {
          "output_type": "stream",
          "name": "stdout",
          "text": [
            "[ 82.  98.  84.  97.  83.  72.  91.   3.  62.  60.  48.  35.  30.  40.\n",
            "  15.  22.  40.  72.  13.  73.  60. 100.   8.  21.  65.  94.  44.  24.\n",
            "  27.  63.  82.  33.  56.  81.  18.  79.  40.  14.  50.  82.  74.  40.\n",
            "  43.  37.  59.  52.  93.  58.  39.  57.]\n",
            "[ True  True  True  True  True  True  True False  True  True False False\n",
            " False False False False False  True False  True  True  True False False\n",
            "  True  True False False False  True  True False  True  True False  True\n",
            " False False  True  True  True False False False  True  True  True  True\n",
            " False  True]\n",
            "[ 82.  98.  84.  97.  83.  72.  91.  62.  60.  72.  73.  60. 100.  65.\n",
            "  94.  63.  82.  56.  81.  79.  50.  82.  74.  59.  52.  93.  58.  57.]\n"
          ]
        }
      ]
    },
    {
      "cell_type": "markdown",
      "metadata": {
        "id": "F2NXQxSoEklf"
      },
      "source": [
        "As you can see above, the true, false array work as indexes and we can easily select elements satisfying a condition\n",
        "This could be extended in many ways\n"
      ]
    },
    {
      "cell_type": "code",
      "metadata": {
        "colab": {
          "base_uri": "https://localhost:8080/"
        },
        "id": "xhC4t3T2Eu4C",
        "outputId": "6f20e8d9-6545-4c74-f08f-3d3401b40bcc"
      },
      "source": [
        "print(\">90 students \",class1data[class1data>90])#print students who got more than 90\n",
        "print(\"45-55 students \",class1data[np.logical_and((class1data>45),(class1data<55))])#print students marks between 45-55, take two arrays and take the logical and\n"
      ],
      "execution_count": 22,
      "outputs": [
        {
          "output_type": "stream",
          "name": "stdout",
          "text": [
            ">90 students  [ 98.  97.  91. 100.  94.  93.]\n",
            "45-55 students  [48. 50. 52.]\n"
          ]
        }
      ]
    },
    {
      "cell_type": "markdown",
      "metadata": {
        "id": "dtAiZPZsGHUu"
      },
      "source": [
        "Now lets write a quick loop to group students with different mark regions\n"
      ]
    },
    {
      "cell_type": "code",
      "metadata": {
        "colab": {
          "base_uri": "https://localhost:8080/"
        },
        "id": "QIfPMsKhGVqH",
        "outputId": "767f5866-0c8b-49ee-d60a-e6d31279aa90"
      },
      "source": [
        "markCutoffs = [35,50,65,75,85,100]\n",
        "tmpClass1Data = np.array(class1data, copy=True)  \n",
        "for cutoff in markCutoffs:\n",
        "  indexes = tmpClass1Data>=cutoff\n",
        "  aboveCutoff = tmpClass1Data[indexes]\n",
        "  belowCutoff = tmpClass1Data[np.logical_not(indexes)]\n",
        "  print(\"<\",cutoff,\" \",np.sort(belowCutoff),\" sum = \",len(belowCutoff))\n",
        "  tmpClass1Data = aboveCutoff"
      ],
      "execution_count": 23,
      "outputs": [
        {
          "output_type": "stream",
          "name": "stdout",
          "text": [
            "< 35   [ 3.  8. 13. 14. 15. 18. 21. 22. 24. 27. 30. 33.]  sum =  12\n",
            "< 50   [35. 37. 39. 40. 40. 40. 40. 43. 44. 48.]  sum =  10\n",
            "< 65   [50. 52. 56. 57. 58. 59. 60. 60. 62. 63.]  sum =  10\n",
            "< 75   [65. 72. 72. 73. 74.]  sum =  5\n",
            "< 85   [79. 81. 82. 82. 82. 83. 84.]  sum =  7\n",
            "< 100   [91. 93. 94. 97. 98.]  sum =  5\n"
          ]
        }
      ]
    },
    {
      "cell_type": "markdown",
      "metadata": {
        "id": "fZjzH-6hN3ak"
      },
      "source": [
        "#Currupted or not available data\n",
        "\n",
        "Lets say, class2 data is tentative for three student, we can mark these students as np.nan which is a way to tell numpy thate these are not a numbers"
      ]
    },
    {
      "cell_type": "code",
      "metadata": {
        "colab": {
          "base_uri": "https://localhost:8080/"
        },
        "id": "1vJHeCRlOQaO",
        "outputId": "9bd45335-b715-4f29-fe0e-f9968e362933"
      },
      "source": [
        "class2data[[5,8,20]] = np.nan #we are using multiple indexes to assign a value\n",
        "#now 5th, 8th, and 20th student doesn't have valid numbers\n",
        "print(class2data)"
      ],
      "execution_count": 24,
      "outputs": [
        {
          "output_type": "stream",
          "name": "stdout",
          "text": [
            "[ 0. 99. 98. 97.  3. nan 40. 37. nan  1. 40. 58. 13. 57. 92. 19. 71.  3.\n",
            "  4. 78. nan 36. 84. 15. 49. 75.  6. 37. 99. 67. 19. 46. 59. 35. 30. 74.\n",
            " 55. 30. 95. 29.  7. 26. 72. 16.  9. 76. 21. 32. 16. 64.]\n"
          ]
        }
      ]
    },
    {
      "cell_type": "markdown",
      "metadata": {
        "id": "2SFKx1ybPh8q"
      },
      "source": [
        "Now lets see what happen if we get the class average\n"
      ]
    },
    {
      "cell_type": "code",
      "metadata": {
        "colab": {
          "base_uri": "https://localhost:8080/"
        },
        "id": "WtIaij8LPm7g",
        "outputId": "f24c3585-4a61-4eee-b8e4-86bd9c1017d6"
      },
      "source": [
        "np.average(class2data) #the output is also a not-a-number because we try to do mathematical operations with nan"
      ],
      "execution_count": 25,
      "outputs": [
        {
          "output_type": "execute_result",
          "data": {
            "text/plain": [
              "nan"
            ]
          },
          "metadata": {},
          "execution_count": 25
        }
      ]
    },
    {
      "cell_type": "markdown",
      "metadata": {
        "id": "ibaEKGA3Pze2"
      },
      "source": [
        "To deal with this kind of situations, we can use numpy mask\n"
      ]
    },
    {
      "cell_type": "code",
      "metadata": {
        "colab": {
          "base_uri": "https://localhost:8080/"
        },
        "id": "gCEMyp5bP3XL",
        "outputId": "ad7a1f1a-7c7b-4bf1-8971-00ed495894a5"
      },
      "source": [
        "maskedCl2 = np.ma.masked_invalid(class2data)\n",
        "print(class2data)\n",
        "print(maskedCl2)\n",
        "print(np.average(maskedCl2)) #the size of the array doesn't change, but with masked arrays we can avoid invalid data causing problems"
      ],
      "execution_count": 26,
      "outputs": [
        {
          "output_type": "stream",
          "name": "stdout",
          "text": [
            "[ 0. 99. 98. 97.  3. nan 40. 37. nan  1. 40. 58. 13. 57. 92. 19. 71.  3.\n",
            "  4. 78. nan 36. 84. 15. 49. 75.  6. 37. 99. 67. 19. 46. 59. 35. 30. 74.\n",
            " 55. 30. 95. 29.  7. 26. 72. 16.  9. 76. 21. 32. 16. 64.]\n",
            "[0.0 99.0 98.0 97.0 3.0 -- 40.0 37.0 -- 1.0 40.0 58.0 13.0 57.0 92.0 19.0\n",
            " 71.0 3.0 4.0 78.0 -- 36.0 84.0 15.0 49.0 75.0 6.0 37.0 99.0 67.0 19.0\n",
            " 46.0 59.0 35.0 30.0 74.0 55.0 30.0 95.0 29.0 7.0 26.0 72.0 16.0 9.0 76.0\n",
            " 21.0 32.0 16.0 64.0]\n",
            "44.4468085106383\n"
          ]
        }
      ]
    },
    {
      "cell_type": "code",
      "metadata": {
        "colab": {
          "base_uri": "https://localhost:8080/"
        },
        "id": "BYmZfbtaQ4nQ",
        "outputId": "7d6ac86a-4a5e-4493-9815-444cd0bcd8ac"
      },
      "source": [
        "#we can get more details for masked array\n",
        "\n",
        "print(\"masked array indexes \",np.flatnonzero(maskedCl2.mask))"
      ],
      "execution_count": 27,
      "outputs": [
        {
          "output_type": "stream",
          "name": "stdout",
          "text": [
            "masked array indexes  [ 5  8 20]\n"
          ]
        }
      ]
    },
    {
      "cell_type": "markdown",
      "metadata": {
        "id": "XOKQJNOBUp45"
      },
      "source": [
        "This shows that we have non-zero values on the masked array at these points, indicating we have 3 nan values, and places"
      ]
    },
    {
      "cell_type": "code",
      "metadata": {
        "id": "Lc6yZAqqRq2Y"
      },
      "source": [
        ""
      ],
      "execution_count": 27,
      "outputs": []
    }
  ]
}