{
  "nbformat": 4,
  "nbformat_minor": 0,
  "metadata": {
    "colab": {
      "name": "course_motivation.ipynb",
      "provenance": [],
      "include_colab_link": true
    },
    "kernelspec": {
      "name": "python3",
      "display_name": "Python 3"
    },
    "language_info": {
      "name": "python"
    }
  },
  "cells": [
    {
      "cell_type": "markdown",
      "metadata": {
        "id": "view-in-github",
        "colab_type": "text"
      },
      "source": [
        "<a href=\"https://colab.research.google.com/github/GPrathap/pythonII/blob/master/intro/course_motivation.ipynb\" target=\"_parent\"><img src=\"https://colab.research.google.com/assets/colab-badge.svg\" alt=\"Open In Colab\"/></a>"
      ]
    },
    {
      "cell_type": "markdown",
      "source": [
        "# **Motivation**\n",
        "As you have explored in the [Python I module](https://www.nenathambara.org/courses/sinhala/programming), the Python programming language is capable of providing programmer-friendly syntax and having great flexibility with the data structures while providing highly effective computational power. Python works on different platforms such as Windows, Mac, Linux, Raspberry Pi, etc. Python's syntax requires fewer lines of code to program tasks than some other programming languages. Therefore, throughout the years Python has become the most used language in the programming world. Some familiar names that use Python include Google, Facebook, Venmo, Spotify, Netflix, and Dropbox. \n",
        "\n",
        "ඔබ [Python I module](https://www.nenathambara.org/courses/sinhala/programming) එක තුළ ඉගෙනගත් පරිදි, Python යනු programming කිරීමට පහසු syntax සහිත, data structures භාවිත කරමින් දත්ත හැසිරවීමට හැකියාව ඇති අතරම ඉහළ ඵලදායී ගණනය කිරීමේ වේගයක් සහිත පරිගණක ක්‍රමලේඛන භාෂාවකි. Python ක්‍රමලේඛන භාෂාව Windows, Mac, Linux, Raspberry Pi මත ක්‍රියා කරයි. Python ක්‍රමලේඛන භාෂාවේ syntax උපයෝගී කරගනිමින් අනෙකුත් සමහර ක්‍රමලේඛන භාෂාවලට වඩා අඩු කේත පේළි සංඛ්‍යාවකින් යම් පරිගණක වැඩසටහනක් කේතනය කරගත හැකිය. එමනිසා, වසර ගණනාවක් පුරා Python ක්‍රමලේඛන ලෝකයේ වැඩිපුරම භාවිතා වන භාෂාව බවට පත්ව ඇත. Google, Facebook, Venmo, Spotify, Netflix සහ Dropbox Python භාවිතා කරන සමහර හුරුපුරුදු සමාගම් හා ආයතන කිහිපයකි.\n",
        "\n",
        "<img src='https://drive.google.com/uc?id=1WWBstoSm0ZkCSMX0xa3AnTx5HMEye3wp' width=\"700\" height=\"480\">\n",
        "\n"
      ],
      "metadata": {
        "id": "F7EQwQq1_V85"
      }
    },
    {
      "cell_type": "markdown",
      "metadata": {
        "id": "sTZUpqtRR-d9"
      },
      "source": [
        "Source: [Stackoverflow trends](https://insights.stackoverflow.com/trends?tags=python%2Cjavascript%2Cjava%2Cc%23%2Cphp%2Cc%2B%2B&utm_source=so-owned&utm_medium=blog&utm_campaign=gen-blog&utm_content=blog-link&utm_term=incredible-growth-python)"
      ]
    },
    {
      "cell_type": "markdown",
      "source": [
        "Python is used in many application domains. Here are some examples.\n",
        "\n",
        "Python භාවිත වන අවස්ථාවලට උදාහරණ කිහිපයක් පහතින් දැක්වේ.\n",
        "\n",
        "<img src='https://drive.google.com/uc?id=1JqULEAqaoHGh4z1U-IdWvWqvKtG1NFlm' width=\"600\" height=\"400\">\n",
        "\n",
        "Python can be used to build web applications, to develop graphical user interfaces (GUIs), and also to connect database systems. Similarily, Python is often used as a support language for software developers, for build control and management, testing, and in many other ways. It also has the ability to handle large amounts of data and perform complex mathematical calculations. Python is an excellent language for teaching programming, both at a beginner's level and in more advanced courses.\n",
        "\n",
        "වෙබ් යෙදුම් තැනීමට, චිත්‍රක පරිශීලක අතුරුමුහුණත් (දෘශ්‍ය දර්ශක නිරූපණය හරහා පරිශීලකයින් ඉලෙක්ට්‍රොනික උපාංග සමඟ අන්තර් ක්‍රියා කරන පරිශීලක අතුරුමුහුණත වර්ගය) සංවර්ධනය කිරීමට සහ දත්ත සමුදා පද්ධති සම්බන්ධ කිරීමට Python භාවිතා කළ හැක. ඒ හා සමානව, ඒ හා සමානව, Python ක්‍රමලේඛන භාෂාව බොහෝ විට මෘදුකාංග සංවර්ධකයින් සඳහා, ගොඩනැගීම පාලනය සහ කළමනාකරණය, software පරීක්ෂා කිරීම් සහ වෙනත් බොහෝ ආකාරවලින් ආධාරක භාෂාවක් ලෙස භාවිතා කරයි. විශාල දත්ත ප්‍රමාණයක් හැසිරවීමට සහ සංකීර්ණ ගණිතමය ගණනය කිරීම් සිදු කිරීමට ද එයට හැකියාව ඇත. Python යනු ආරම්භක මට්ටමින් සහ වඩාත් උසස් පාඨමාලා වලදී programming ඉගැන්වීම සඳහා විශිෂ්ට භාෂාවකි.\n",
        "\n",
        "In this Python module, we are focusing on the main tools/libraries that are useful for the applications under Scientific and Numeric domain.\n",
        "\n",
        "මෙම Python module එක තුළ, අපි Scientific and Numeric domain යටතේ ඇති යෙදුම් සඳහා ප්‍රයෝජනවත් වන ප්‍රධාන tools /libraries වෙත අවධානය යොමු කරන්නෙමු."
      ],
      "metadata": {
        "id": "5tohFjQ_H7gR"
      }
    },
    {
      "cell_type": "markdown",
      "metadata": {
        "id": "ahlrOwKVR4S1"
      },
      "source": [
        "Python’s popularity can be mostly attributed to its capability of handling scientific computing with effective resource management. A few decades back scientific computing was limited to highly resourced companies or institutions that would have mainframe computers or supercomputers. But with the development of computer hardware technologies and corresponding software development including the development of powerful languages like Python, anyone with the right toolset is able to perform scientific computing without going through much hassle.\n",
        "\n",
        "Python හි ජනප්‍රියතාවයට බොහෝ දුරට හේතු විය හැක්කේ ඵලදායි සම්පත් කළමනාකරණයක් සමඟින් විද්‍යාත්මක පරිගණනය (පරිගණක භාවිතයෙන් විද්‍යාත්මක ගැටළු විසඳීම) කිරීමට ඇති හැකියාවයි. දශක කිහිපයකට පෙර විද්‍යාත්මක පරිගණනය mainframe computers or super computers ඇති ඉහළ සම්පත් සහිත සමාගම් හෝ ආයතනවලට සීමා විය. නමුත් පරිගණක දෘඪාංග තාක්ෂණයන්ගේ සහ Python වැනි ප්‍රබල භාෂා සංවර්ධනය ඇතුළු මෘදුකාංග සංවර්ධනයන්ගේ දියුණුවීම සමඟ ඕනෑම කෙනෙකුට පහසුවෙන් විද්‍යාත්මක පරිගණකකරණය සිදු කිරීමට හැකි විය.\n",
        "\n"
      ]
    },
    {
      "cell_type": "markdown",
      "source": [
        "Matrix and vector calculations provide the basis for scientific computing. With the time when the problems became more complex in different domains such as engineering, biology, medicine, media, etc., these computations had to rely mostly on computers. But the actual problem was there was less expertise and a handful of skilled people on solving the problems through scientific computing and less support and flexibility from the programming languages. However, with Python, many tools/libraries were developed to aid scientific computing because Python was highly efficient and easy to learn. \n",
        "\n",
        "න්‍යාස සහ දෛශික ගණනය කිරීම් විද්‍යාත්මක පරිගණනය සඳහා පදනම සපයයි. කාලයත් සමඟ ඉංජිනේරු විද්‍යාව, ජීව විද්‍යාව, වෛද්‍ය විද්‍යාව, මාධ්‍ය ආදී විවිධ ක්ෂේත්‍රවල ගැටලු වඩාත් සංකීර්ණ වීමත් සමඟ මෙම ගණනය කිරීම් බොහෝ දුරට පරිගණක මත යැපීමට සිදු විය. නමුත් සැබෑ ගැටළුව වූයේ විද්‍යාත්මක පරිගණනය හරහා ගැටළු විසඳීම සඳහා අඩු විශේෂඥ දැනුමක් සහ හැකියාවක් සහිත පුද්ගලයින් සිටීම මෙන්ම ක්‍රමලේඛන භාෂාවලින් අඩු සහයෝගයක් සහ නම්‍යශීලී බවක් තිබීමයි. කෙසේ නමුත්, Python ඉතා කාර්යක්ෂම සහ ඉගෙනීමට පහසු වූ නිසා විද්‍යාත්මක පරිගණනයට ආධාර කිරීම සඳහා Python ක්‍රමලේඛන භාෂාව භාවිත කරමින් බොහෝ tools/ libraries සංවර්ධනය කරන ලදී.\n",
        "\n"
      ],
      "metadata": {
        "id": "KMVefgenAzh0"
      }
    },
    {
      "cell_type": "markdown",
      "source": [
        "Science leads us forward in knowledge, but only analysis makes us more aware. With the current setting thousands and thousands of data is gathered every day that can provide useful insights to any field. It can be finance, retail business, medicine, and healthcare, and even in the world of sports. Therefore, the importance of data analytics in any sector is compounded, creating an enormous pool of knowledge to derive impactful insights. Data analysis is a process of inspecting, cleansing, transforming, and modeling data with the goal of discovering useful information, informing conclusions, and supporting decision-making. Data analysis is a lucrative, and in-demand career and you don’t need to be a mathematician to get a grasp of it enabled by the right programming toolset.\n",
        "\n",
        "විද්‍යාව අපව දැනුමෙන් ඉදිරියට ගෙන යන නමුත් විශ්ලේෂණය පමණක් අපව වඩාත් දැනුවත් කරයි. වර්තමානයේ තාක්ෂණයත් සමඟ ඕනෑම ක්ෂේත්‍රයක් සඳහා ප්‍රයෝජනවත් අවබෝධයක් ලබා දිය හැකි දත්ත දහස් ගණනක් සහ දහස් ගණනක් සෑම දිනකම රැස්වේ. එය මූල්‍ය, ව්‍යාපාර, ඖෂධ, සහ සෞඛ්‍ය සේවා, සහ ක්‍රීඩා ආදී ඕනෑම ශේෂ්ත්‍රයක විය හැකිය. එබැවින්, ඕනෑම අංශයක් පිළිබඳව මනා දැනුමක් ලබා ගැනීමට දත්ත විශ්ලේෂණවල ඉතා වැදගත් වේ. දත්ත විශ්ලේෂණය යනු ප්‍රයෝජනවත් තොරතුරු ගවේෂණය, නිගමන දැනුම් දීම සහ තීරණ ගැනීමට සහාය වීම අරමුණු කර ගනිමින් දත්ත පරීක්ෂා කිරීම, පිරිසිදු කිරීම, පරිවර්තනය කිරීම සහ ආකෘතිකරණය (දත්ත හෝ තොරතුරු නිරුපණය) කිරීමේ ක්‍රියාවලියකි. දත්ත විශ්ලේෂණය ලාභදායී සහ ඉල්ලුමට සරිලන වෘත්තියක් වන අතර නිවැරදි ක්‍රමලේඛන මෙවලම් කට්ටලය මඟින් එය සිදු කර ගැනීමට ඔබ ගණිතඥයෙකු වීමට අවශ්‍ය නොවේ."
      ],
      "metadata": {
        "id": "jkeDWyqaA2Zg"
      }
    }
  ]
}