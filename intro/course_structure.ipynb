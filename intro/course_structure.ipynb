{
  "nbformat": 4,
  "nbformat_minor": 0,
  "metadata": {
    "colab": {
      "name": "course_structure.ipynb",
      "provenance": [],
      "include_colab_link": true
    },
    "kernelspec": {
      "name": "python3",
      "display_name": "Python 3"
    },
    "language_info": {
      "name": "python"
    }
  },
  "cells": [
    {
      "cell_type": "markdown",
      "metadata": {
        "id": "view-in-github",
        "colab_type": "text"
      },
      "source": [
        "<a href=\"https://colab.research.google.com/github/kts-desilva/pythonII/blob/master/intro/course_structure.ipynb\" target=\"_parent\"><img src=\"https://colab.research.google.com/assets/colab-badge.svg\" alt=\"Open In Colab\"/></a>"
      ]
    },
    {
      "cell_type": "markdown",
      "metadata": {
        "id": "hj31e1wzTEzr"
      },
      "source": [
        "# **Course Strcuture**\n",
        "\n",
        "In this module, we are going to focus on learning the main tools/libraries that are being used in data analysis. The umbrella term for this set of libraries is SciPy which is a set of open-source Python libraries specialized for scientific computing. Together they constitute a set of tools for calculating and displaying data. Among the libraries that are part of the SciPy group, there are three in particular that are discussed in this Python II module.\n",
        "\n",
        "මෙම module එක තුළ, අපි දත්ත විශ්ලේෂණයේදී භාවිතා කරන ප්‍රධාන tools/ libraries ඉගෙනීම කෙරෙහි අවධානය යොමු කරන්නෙමු. මෙම library සමූහය SciPy නමින් හදුන්වන අතර එය විද්‍යාත්මක පරිගණකකරණය සඳහා විශේෂිත වූ open-source (ඕනෑම කෙනෙකුට නොමිලේ පහසුවෙන් ලබාගත හැකි) Python library සමූහයකි. එම libraries එකතු කර ගනිමින් දත්ත ගණනය කිරීම සහ ප්‍රදර්ශනය කිරීම සඳහා මෙවලම් සමූහයක් සාදයි. මෙම Python II module එක තුලින් SciPy library සමූහයේ ඇති library තුනක් ගැන සාකච්ඡා කරනු ලැබේ.\n",
        "\n",
        "*   NumPy\n",
        "*   Pandas\n",
        "*   Matplotlib\n",
        "\n",
        "Numpy, whose name means numerical Python, contains the core of many other Python libraries that have originated from it. NumPy can be introduced as the foundation library for scientific computing in Python since it provides data structures and high-performing functions that the basic package of Python cannot provide. Knowledge of this library is essential in terms of numerical calculations since its correct use can greatly influence the performance of your computations. This library is known for its efficient handling of complex data by using reshaping, masking, sorting, slicing, and stacking.\n",
        "\n",
        "Numpy යන නාමයේ තේරුම සංඛ්‍යාත්මක Python වන අතර Python හි විද්‍යාත්මක පරිගණකකරණය සඳහා වන මූලික library එක වේ. Python හි මූලික පැකේජයට සැපයිය නොහැකි දත්ත ව්‍යුහයන් සහ ඉහළ ක්‍රියාකාරී කාර්යයන් සපයන බැවින් Python හි විද්‍යාත්මක පරිගණකකරණය සඳහා පදනම් පුස්තකාලය ලෙස NumPy හඳුන්වා දිය හැක. සංඛ්‍යාත්මක ගණනය කිරීම් සම්බන්ධයෙන් මෙම පුස්තකාලය පිළිබඳ දැනුම අත්‍යවශ්‍ය වේ, මන්ද එහි නිවැරදි භාවිතය ඔබේ ගණනය කිරීම් වල ක්‍රියාකාරීත්වයට බෙහෙවින් බලපානු ඇත. මෙම library එක දත්ත සංවිධානය වී ඇති ආකාරය වෙනස් කිරීම, ආරක්ෂාව සඳහා සංවේදී දත්ත වෙනස් කිරීම, දත්ත වර්ගීකරණය, දත්ත කුඩා කොටස්වලට වෙන් කිරීම, සහ ගොඩගැසීම සඳහා භාවිත කරමින් සංකීර්ණ දත්ත කාර්යක්ෂමව හැසිරවීම සඳහා ප්‍රසිද්ධය.\n",
        "\n",
        "Pandas package provides complex data structures and functions specifically designed to make the work on piles of data easy, fast, and effective. This package is the core of data analysis in Python. Pandas apply the high-performance properties of the NumPy library to the manipulation of data in spreadsheets or in relational databases which come as dictionaries, series, or data series. In fact, by using sophisticated indexing, it will be easy to carry out many operations on this kind of data structure, such as merging, slicing, pivoting, and the selection of subsets using groupBy operations.\n",
        "\n",
        "Pandas package එක දත්ත මත පහසුවෙන්, වේගවත්ව හා ඵලදායී ලෙස වැඩ කිරීම සඳහා විශේෂයෙන් සකස් කර ඇති සංකීර්ණ data structures (දත්ත සංවිධානය කිරීමේ සහ ගබඩා කිරීමේ විශේෂ ආකාර) සහ functions (නිශ්චිත කාර්යයක් ඉටු කරන කේත මොඩියුල) සපයයි. Python හි දත්ත විශ්ලේෂණයට ඇති ප්‍රධාන package එකකි. Pandas, පැතුරුම්පත්වල ඇති දත්ත හෝ සම්බන්ධතා සහිත දත්ත dictionaries (key:value තුළ දත්ත අගයන් ගබඩා කිරීම), series, or data series (දත්ත ශ්‍රේණියක්) ලෙස හැසිරවීමට NumPy library එක භාවිත කරයි. සංකීර්ණ indexing (පුනරාවර්තනය කළ හැකි අයිතමයක් තුළ ඇති තනි අයිතම එහි පිහිටීම අනුව යොමු කිරීමේ ක්‍රමයක්) භාවිත කරමින් ඒකාබද්ධ කිරීම, කොටස් කිරීම, දත්ත රාමු නැවත හැඩගැන්වීම සහ groupBy මෙහෙයුම් භාවිතයෙන් උප කුලක තෝරා ගැනීම වැනි බොහෝ මෙහෙයුම් මෙවැනි දත්ත ව්‍යුහයන් මත සිදු කිරීම පහසු වනු ඇත.\n",
        "\n",
        "Matplotlib is the Python library that is currently most popular for producing plots and other data visualizations in 2D. Since data analysis requires visualization tools, this is the library that best suits this purpose. This library enables us to generate plots and other types of charts with just a few lines of code and even enables handling data with different distributions. This library is providing the ability to showcase different aspects regardless of their complexity by providing a wide range of plots such as line, bar, pie,  scatter, histogram, and time series.\n",
        "\n",
        "Matplotlib යනු ද්විමාන ප්‍රස්ථාර සහ අනෙකුත් දත්ත නිරුපණයන් සඳහා ප්‍රසිද්ධ Python library එකකි. දත්ත විශ්ලේෂණයට දෘශ්‍යකරණ මෙවලම් අවශ්‍ය වන බැවින්, මෙම කාර්යය සඳහා වඩාත් ගැලපෙන පුස්තකාලය මෙයයි. මෙම library භාවිත කරමින් විවිධාකාර වූ ප්‍රස්ථාර වර්ග කේත පේළි කිහිපයකින් නිර්මාණය කරගත හැකි මෙන්ම විවිධ බෙදාහැරීම් සමඟ දත්ත හැසිරවීමට පවා හැකියාව ලබා ගත හැකිය. මෙම library එක රේඛා ප්‍රස්ථාර, තීර ප්‍රස්ථාර, වෘත්ත ප්‍රස්ථාර, scatter (වෙනස් සංඛ්‍යාත්මක විචල්‍ය දෙකක් සඳහා අගයන් නිරූපණය කිරීමට තිත් භාවිත කරයි), histogram (සංඛ්‍යාත්මක දත්ත බඳුන්වලට කාණ්ඩ කරන ප්‍රස්ථාරයක්, බඳුන් කොටස් කළ තීරු ලෙස පෙන්වයි) සහ time series (නිශ්චිත කාල අන්තරයකින් ලබා ගත් දත්ත රේඛා ප්‍රස්ථාරයකින් නිරුපණය) ආදී ප්‍රස්ථාර ක්‍රම තුලින් ඒවායේ සංකීර්ණත්වය නොසලකා දත්තවල ගුණාංග නිරූපණයට හැකියාව සපයයි.\n",
        "\n"
      ]
    }
  ]
}
