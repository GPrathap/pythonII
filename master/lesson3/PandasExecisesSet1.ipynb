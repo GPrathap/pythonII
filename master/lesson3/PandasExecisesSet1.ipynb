{
  "nbformat": 4,
  "nbformat_minor": 0,
  "metadata": {
    "colab": {
      "name": "PandasExecisesSet1.ipynb",
      "provenance": [],
      "authorship_tag": "ABX9TyMai4X8HGWz3cUzTdYG0SYn",
      "include_colab_link": true
    },
    "kernelspec": {
      "name": "python3",
      "display_name": "Python 3"
    },
    "language_info": {
      "name": "python"
    }
  },
  "cells": [
    {
      "cell_type": "markdown",
      "metadata": {
        "id": "view-in-github",
        "colab_type": "text"
      },
      "source": [
        "<a href=\"https://colab.research.google.com/github/GPrathap/pythonII/blob/master/master/lesson3/PandasExecisesSet1.ipynb\" target=\"_parent\"><img src=\"https://colab.research.google.com/assets/colab-badge.svg\" alt=\"Open In Colab\"/></a>"
      ]
    },
    {
      "cell_type": "markdown",
      "metadata": {
        "id": "FM-gmYnoFlf5"
      },
      "source": [
        "\n",
        "Let's download the necessary datasets "
      ]
    },
    {
      "cell_type": "code",
      "metadata": {
        "id": "VE_g6uJ4-nhX"
      },
      "source": [
        "import pandas as pd\n",
        "\n",
        "dataset_dir = \"https://raw.githubusercontent.com/GPrathap/pythonII/master/dataset/\"\n",
        "olympic_datset_repo = dataset_dir + \"olympic_games/olympic_hosts.csv\"\n",
        "cryptocurrencies_dataset_repo = dataset_dir + \"cryptocurrencies/Aave.csv\"\n",
        "\n",
        "olympic_dataset = pd.read_csv(olympic_datset_repo)  \n",
        "olympic_dataset.to_csv('/content/sample_data/olympic_hosts.csv') \n",
        "\n",
        "cryptocurrencies_dataset = pd.read_csv(cryptocurrencies_dataset_repo)\n",
        "cryptocurrencies_dataset.to_csv('/content/sample_data/cryptocurrencies.csv')\n"
      ],
      "execution_count": 252,
      "outputs": []
    },
    {
      "cell_type": "markdown",
      "metadata": {
        "id": "Xf3-V02QF2aB"
      },
      "source": [
        "# **Section 01:** Creating, Reading and Writing"
      ]
    },
    {
      "cell_type": "markdown",
      "metadata": {
        "id": "kogT3m5DNrbp"
      },
      "source": [
        "###**Question 01**: Observe the  Olympic dataset and create a DataFrame look like this:"
      ]
    },
    {
      "cell_type": "code",
      "metadata": {
        "colab": {
          "base_uri": "https://localhost:8080/",
          "height": 0
        },
        "id": "9S0kSzs8O5UB",
        "outputId": "ca2ee689-8c67-43d8-a168-4f0e69920966"
      },
      "source": [
        "olympic_dataset.head()[:2]"
      ],
      "execution_count": 253,
      "outputs": [
        {
          "output_type": "execute_result",
          "data": {
            "text/html": [
              "<div>\n",
              "<style scoped>\n",
              "    .dataframe tbody tr th:only-of-type {\n",
              "        vertical-align: middle;\n",
              "    }\n",
              "\n",
              "    .dataframe tbody tr th {\n",
              "        vertical-align: top;\n",
              "    }\n",
              "\n",
              "    .dataframe thead th {\n",
              "        text-align: right;\n",
              "    }\n",
              "</style>\n",
              "<table border=\"1\" class=\"dataframe\">\n",
              "  <thead>\n",
              "    <tr style=\"text-align: right;\">\n",
              "      <th></th>\n",
              "      <th>game_slug</th>\n",
              "      <th>game_end_date</th>\n",
              "      <th>game_start_date</th>\n",
              "      <th>game_location</th>\n",
              "      <th>game_name</th>\n",
              "      <th>game_season</th>\n",
              "      <th>game_year</th>\n",
              "    </tr>\n",
              "  </thead>\n",
              "  <tbody>\n",
              "    <tr>\n",
              "      <th>0</th>\n",
              "      <td>pyeongchang-2018</td>\n",
              "      <td>2018-02-25T08:00:00Z</td>\n",
              "      <td>2018-02-08T23:00:00Z</td>\n",
              "      <td>Republic of Korea</td>\n",
              "      <td>PyeongChang 2018</td>\n",
              "      <td>Winter</td>\n",
              "      <td>2018</td>\n",
              "    </tr>\n",
              "    <tr>\n",
              "      <th>1</th>\n",
              "      <td>rio-2016</td>\n",
              "      <td>2016-08-21T21:00:00Z</td>\n",
              "      <td>2016-08-05T12:00:00Z</td>\n",
              "      <td>Brazil</td>\n",
              "      <td>Rio 2016</td>\n",
              "      <td>Summer</td>\n",
              "      <td>2016</td>\n",
              "    </tr>\n",
              "  </tbody>\n",
              "</table>\n",
              "</div>"
            ],
            "text/plain": [
              "          game_slug         game_end_date  ... game_season game_year\n",
              "0  pyeongchang-2018  2018-02-25T08:00:00Z  ...      Winter      2018\n",
              "1          rio-2016  2016-08-21T21:00:00Z  ...      Summer      2016\n",
              "\n",
              "[2 rows x 7 columns]"
            ]
          },
          "metadata": {},
          "execution_count": 253
        }
      ]
    },
    {
      "cell_type": "markdown",
      "metadata": {
        "id": "dwIqGnxwPyRo"
      },
      "source": [
        "### **Answer:**"
      ]
    },
    {
      "cell_type": "code",
      "metadata": {
        "colab": {
          "base_uri": "https://localhost:8080/",
          "height": 0
        },
        "id": "JMq52bImPxi6",
        "outputId": "799063e1-d093-4263-e8fc-5e0da5396392"
      },
      "source": [
        "pd.DataFrame({\"game_slug\":['pyeongchang-2018','rio-2016'], \"game_end_date\":['2018-02-25T08:00:00Z', '2016-08-21T21:00:00Z'], \n",
        "              \"game_start_date\":['2018-02-08T23:00:00Z', '2016-08-05T12:00:00Z'], \"game_location\":['Republic of Korea', 'Brazil'],\n",
        "              \"game_name\":['PyeongChang 2018', 'Rio 2016'],\"game_season\":['Winter', 'Summer'], \"game_year\": [2018, 2016]})"
      ],
      "execution_count": 254,
      "outputs": [
        {
          "output_type": "execute_result",
          "data": {
            "text/html": [
              "<div>\n",
              "<style scoped>\n",
              "    .dataframe tbody tr th:only-of-type {\n",
              "        vertical-align: middle;\n",
              "    }\n",
              "\n",
              "    .dataframe tbody tr th {\n",
              "        vertical-align: top;\n",
              "    }\n",
              "\n",
              "    .dataframe thead th {\n",
              "        text-align: right;\n",
              "    }\n",
              "</style>\n",
              "<table border=\"1\" class=\"dataframe\">\n",
              "  <thead>\n",
              "    <tr style=\"text-align: right;\">\n",
              "      <th></th>\n",
              "      <th>game_slug</th>\n",
              "      <th>game_end_date</th>\n",
              "      <th>game_start_date</th>\n",
              "      <th>game_location</th>\n",
              "      <th>game_name</th>\n",
              "      <th>game_season</th>\n",
              "      <th>game_year</th>\n",
              "    </tr>\n",
              "  </thead>\n",
              "  <tbody>\n",
              "    <tr>\n",
              "      <th>0</th>\n",
              "      <td>pyeongchang-2018</td>\n",
              "      <td>2018-02-25T08:00:00Z</td>\n",
              "      <td>2018-02-08T23:00:00Z</td>\n",
              "      <td>Republic of Korea</td>\n",
              "      <td>PyeongChang 2018</td>\n",
              "      <td>Winter</td>\n",
              "      <td>2018</td>\n",
              "    </tr>\n",
              "    <tr>\n",
              "      <th>1</th>\n",
              "      <td>rio-2016</td>\n",
              "      <td>2016-08-21T21:00:00Z</td>\n",
              "      <td>2016-08-05T12:00:00Z</td>\n",
              "      <td>Brazil</td>\n",
              "      <td>Rio 2016</td>\n",
              "      <td>Summer</td>\n",
              "      <td>2016</td>\n",
              "    </tr>\n",
              "  </tbody>\n",
              "</table>\n",
              "</div>"
            ],
            "text/plain": [
              "          game_slug         game_end_date  ... game_season game_year\n",
              "0  pyeongchang-2018  2018-02-25T08:00:00Z  ...      Winter      2018\n",
              "1          rio-2016  2016-08-21T21:00:00Z  ...      Summer      2016\n",
              "\n",
              "[2 rows x 7 columns]"
            ]
          },
          "metadata": {},
          "execution_count": 254
        }
      ]
    },
    {
      "cell_type": "markdown",
      "metadata": {
        "id": "AD86ujFFSIdK"
      },
      "source": [
        "### **Question 02**: Create a variable, i.e., games, with a Series including the following information"
      ]
    },
    {
      "cell_type": "markdown",
      "metadata": {
        "id": "i1zmA6ZLaTUY"
      },
      "source": [
        "> name: pyeongchang-2018 ,   year: 2018\n",
        "\n",
        "> name: rio-2016, year: 2016"
      ]
    },
    {
      "cell_type": "markdown",
      "metadata": {
        "id": "_z0xKAfqUMdN"
      },
      "source": [
        "### **Answer**:"
      ]
    },
    {
      "cell_type": "code",
      "metadata": {
        "colab": {
          "base_uri": "https://localhost:8080/"
        },
        "id": "tVun7xvLULGL",
        "outputId": "a2e96515-0b51-4456-80d1-7ac1e2d7cd5c"
      },
      "source": [
        "pd.Series([2018, 2016], index=['pyeongchang-2018','rio-2016'], name=\"games\")"
      ],
      "execution_count": 255,
      "outputs": [
        {
          "output_type": "execute_result",
          "data": {
            "text/plain": [
              "pyeongchang-2018    2018\n",
              "rio-2016            2016\n",
              "Name: games, dtype: int64"
            ]
          },
          "metadata": {},
          "execution_count": 255
        }
      ]
    },
    {
      "cell_type": "markdown",
      "metadata": {
        "id": "jG9XuhNBXUmh"
      },
      "source": [
        "### **Question 03**: How can you construct the DataFrame you created in Question 01 using a Series object?"
      ]
    },
    {
      "cell_type": "markdown",
      "metadata": {
        "id": "5i6qfcgXX7eq"
      },
      "source": [
        "### **Answer:**"
      ]
    },
    {
      "cell_type": "code",
      "metadata": {
        "colab": {
          "base_uri": "https://localhost:8080/",
          "height": 0
        },
        "id": "cCmCK998X6nO",
        "outputId": "e95261b8-73d6-4564-c804-27edac5a14ff"
      },
      "source": [
        "game_slug = ['pyeongchang-2018','rio-2016']\n",
        "game_end_date = ['2018-02-25T08:00:00Z', '2016-08-21T21:00:00Z']\n",
        "game_start_date = ['2018-02-08T23:00:00Z', '2016-08-05T12:00:00Z']\n",
        "game_location =['Republic of Korea', 'Brazil']\n",
        "game_name = ['PyeongChang 2018', 'Rio 2016']\n",
        "game_season = ['Winter', 'Summer']\n",
        "game_year = [2018, 2016]\n",
        "\n",
        "games = pd.DataFrame({\"game_slug\": game_slug, \"game_end_date\":game_end_date, \"game_start_date\":game_start_date, \"game_location\":game_location,\n",
        "                   \"game_name\":game_name, \"game_season\":game_season, \"game_year\":[2018, 2016]})\n",
        "games "
      ],
      "execution_count": 256,
      "outputs": [
        {
          "output_type": "execute_result",
          "data": {
            "text/html": [
              "<div>\n",
              "<style scoped>\n",
              "    .dataframe tbody tr th:only-of-type {\n",
              "        vertical-align: middle;\n",
              "    }\n",
              "\n",
              "    .dataframe tbody tr th {\n",
              "        vertical-align: top;\n",
              "    }\n",
              "\n",
              "    .dataframe thead th {\n",
              "        text-align: right;\n",
              "    }\n",
              "</style>\n",
              "<table border=\"1\" class=\"dataframe\">\n",
              "  <thead>\n",
              "    <tr style=\"text-align: right;\">\n",
              "      <th></th>\n",
              "      <th>game_slug</th>\n",
              "      <th>game_end_date</th>\n",
              "      <th>game_start_date</th>\n",
              "      <th>game_location</th>\n",
              "      <th>game_name</th>\n",
              "      <th>game_season</th>\n",
              "      <th>game_year</th>\n",
              "    </tr>\n",
              "  </thead>\n",
              "  <tbody>\n",
              "    <tr>\n",
              "      <th>0</th>\n",
              "      <td>pyeongchang-2018</td>\n",
              "      <td>2018-02-25T08:00:00Z</td>\n",
              "      <td>2018-02-08T23:00:00Z</td>\n",
              "      <td>Republic of Korea</td>\n",
              "      <td>PyeongChang 2018</td>\n",
              "      <td>Winter</td>\n",
              "      <td>2018</td>\n",
              "    </tr>\n",
              "    <tr>\n",
              "      <th>1</th>\n",
              "      <td>rio-2016</td>\n",
              "      <td>2016-08-21T21:00:00Z</td>\n",
              "      <td>2016-08-05T12:00:00Z</td>\n",
              "      <td>Brazil</td>\n",
              "      <td>Rio 2016</td>\n",
              "      <td>Summer</td>\n",
              "      <td>2016</td>\n",
              "    </tr>\n",
              "  </tbody>\n",
              "</table>\n",
              "</div>"
            ],
            "text/plain": [
              "          game_slug         game_end_date  ... game_season game_year\n",
              "0  pyeongchang-2018  2018-02-25T08:00:00Z  ...      Winter      2018\n",
              "1          rio-2016  2016-08-21T21:00:00Z  ...      Summer      2016\n",
              "\n",
              "[2 rows x 7 columns]"
            ]
          },
          "metadata": {},
          "execution_count": 256
        }
      ]
    },
    {
      "cell_type": "markdown",
      "metadata": {
        "id": "SsJTaDlea-5g"
      },
      "source": [
        "### **Question 04**: Save the DataFrame you created in question 03 as game_info.csv and read back to a DataFrame. If you observe any changes, explains why you get such behaviour? "
      ]
    },
    {
      "cell_type": "markdown",
      "metadata": {
        "id": "zXzXoGUub4--"
      },
      "source": [
        "### **Answer:**"
      ]
    },
    {
      "cell_type": "code",
      "metadata": {
        "colab": {
          "base_uri": "https://localhost:8080/",
          "height": 0
        },
        "id": "VoErW3qpbnKA",
        "outputId": "78c260e4-94b2-4321-8f97-b3e43c7cb863"
      },
      "source": [
        "games.to_csv(\"/content/sample_data/game_info.csv\")\n",
        "\n",
        "pd.read_csv(\"/content/sample_data/game_info.csv\")"
      ],
      "execution_count": 257,
      "outputs": [
        {
          "output_type": "execute_result",
          "data": {
            "text/html": [
              "<div>\n",
              "<style scoped>\n",
              "    .dataframe tbody tr th:only-of-type {\n",
              "        vertical-align: middle;\n",
              "    }\n",
              "\n",
              "    .dataframe tbody tr th {\n",
              "        vertical-align: top;\n",
              "    }\n",
              "\n",
              "    .dataframe thead th {\n",
              "        text-align: right;\n",
              "    }\n",
              "</style>\n",
              "<table border=\"1\" class=\"dataframe\">\n",
              "  <thead>\n",
              "    <tr style=\"text-align: right;\">\n",
              "      <th></th>\n",
              "      <th>Unnamed: 0</th>\n",
              "      <th>game_slug</th>\n",
              "      <th>game_end_date</th>\n",
              "      <th>game_start_date</th>\n",
              "      <th>game_location</th>\n",
              "      <th>game_name</th>\n",
              "      <th>game_season</th>\n",
              "      <th>game_year</th>\n",
              "    </tr>\n",
              "  </thead>\n",
              "  <tbody>\n",
              "    <tr>\n",
              "      <th>0</th>\n",
              "      <td>0</td>\n",
              "      <td>pyeongchang-2018</td>\n",
              "      <td>2018-02-25T08:00:00Z</td>\n",
              "      <td>2018-02-08T23:00:00Z</td>\n",
              "      <td>Republic of Korea</td>\n",
              "      <td>PyeongChang 2018</td>\n",
              "      <td>Winter</td>\n",
              "      <td>2018</td>\n",
              "    </tr>\n",
              "    <tr>\n",
              "      <th>1</th>\n",
              "      <td>1</td>\n",
              "      <td>rio-2016</td>\n",
              "      <td>2016-08-21T21:00:00Z</td>\n",
              "      <td>2016-08-05T12:00:00Z</td>\n",
              "      <td>Brazil</td>\n",
              "      <td>Rio 2016</td>\n",
              "      <td>Summer</td>\n",
              "      <td>2016</td>\n",
              "    </tr>\n",
              "  </tbody>\n",
              "</table>\n",
              "</div>"
            ],
            "text/plain": [
              "   Unnamed: 0         game_slug  ... game_season game_year\n",
              "0           0  pyeongchang-2018  ...      Winter      2018\n",
              "1           1          rio-2016  ...      Summer      2016\n",
              "\n",
              "[2 rows x 8 columns]"
            ]
          },
          "metadata": {},
          "execution_count": 257
        }
      ]
    },
    {
      "cell_type": "code",
      "metadata": {
        "colab": {
          "base_uri": "https://localhost:8080/",
          "height": 0
        },
        "id": "C-P0B8K4cK66",
        "outputId": "a556027b-d57e-44d0-d3bf-ce9cbe25d590"
      },
      "source": [
        "pd.read_csv(\"/content/sample_data/game_info.csv\", index_col=0)"
      ],
      "execution_count": 258,
      "outputs": [
        {
          "output_type": "execute_result",
          "data": {
            "text/html": [
              "<div>\n",
              "<style scoped>\n",
              "    .dataframe tbody tr th:only-of-type {\n",
              "        vertical-align: middle;\n",
              "    }\n",
              "\n",
              "    .dataframe tbody tr th {\n",
              "        vertical-align: top;\n",
              "    }\n",
              "\n",
              "    .dataframe thead th {\n",
              "        text-align: right;\n",
              "    }\n",
              "</style>\n",
              "<table border=\"1\" class=\"dataframe\">\n",
              "  <thead>\n",
              "    <tr style=\"text-align: right;\">\n",
              "      <th></th>\n",
              "      <th>game_slug</th>\n",
              "      <th>game_end_date</th>\n",
              "      <th>game_start_date</th>\n",
              "      <th>game_location</th>\n",
              "      <th>game_name</th>\n",
              "      <th>game_season</th>\n",
              "      <th>game_year</th>\n",
              "    </tr>\n",
              "  </thead>\n",
              "  <tbody>\n",
              "    <tr>\n",
              "      <th>0</th>\n",
              "      <td>pyeongchang-2018</td>\n",
              "      <td>2018-02-25T08:00:00Z</td>\n",
              "      <td>2018-02-08T23:00:00Z</td>\n",
              "      <td>Republic of Korea</td>\n",
              "      <td>PyeongChang 2018</td>\n",
              "      <td>Winter</td>\n",
              "      <td>2018</td>\n",
              "    </tr>\n",
              "    <tr>\n",
              "      <th>1</th>\n",
              "      <td>rio-2016</td>\n",
              "      <td>2016-08-21T21:00:00Z</td>\n",
              "      <td>2016-08-05T12:00:00Z</td>\n",
              "      <td>Brazil</td>\n",
              "      <td>Rio 2016</td>\n",
              "      <td>Summer</td>\n",
              "      <td>2016</td>\n",
              "    </tr>\n",
              "  </tbody>\n",
              "</table>\n",
              "</div>"
            ],
            "text/plain": [
              "          game_slug         game_end_date  ... game_season game_year\n",
              "0  pyeongchang-2018  2018-02-25T08:00:00Z  ...      Winter      2018\n",
              "1          rio-2016  2016-08-21T21:00:00Z  ...      Summer      2016\n",
              "\n",
              "[2 rows x 7 columns]"
            ]
          },
          "metadata": {},
          "execution_count": 258
        }
      ]
    },
    {
      "cell_type": "markdown",
      "metadata": {
        "id": "W4y5zlQ6o0ao"
      },
      "source": [
        ""
      ]
    },
    {
      "cell_type": "markdown",
      "metadata": {
        "id": "T1QmRBmCo3i9"
      },
      "source": [
        "# **Section 02**: Accessing, Indexing, Selecting, and Assigning"
      ]
    },
    {
      "cell_type": "code",
      "metadata": {
        "colab": {
          "base_uri": "https://localhost:8080/",
          "height": 0
        },
        "id": "uToYtZGSpM6K",
        "outputId": "df1394d6-2a13-441e-b255-954ebc6e8a59"
      },
      "source": [
        "cryptocurrencies_dataset.head()"
      ],
      "execution_count": 259,
      "outputs": [
        {
          "output_type": "execute_result",
          "data": {
            "text/html": [
              "<div>\n",
              "<style scoped>\n",
              "    .dataframe tbody tr th:only-of-type {\n",
              "        vertical-align: middle;\n",
              "    }\n",
              "\n",
              "    .dataframe tbody tr th {\n",
              "        vertical-align: top;\n",
              "    }\n",
              "\n",
              "    .dataframe thead th {\n",
              "        text-align: right;\n",
              "    }\n",
              "</style>\n",
              "<table border=\"1\" class=\"dataframe\">\n",
              "  <thead>\n",
              "    <tr style=\"text-align: right;\">\n",
              "      <th></th>\n",
              "      <th>SNo</th>\n",
              "      <th>Date</th>\n",
              "      <th>Price</th>\n",
              "      <th>Open</th>\n",
              "      <th>High</th>\n",
              "      <th>Low</th>\n",
              "      <th>Vol.</th>\n",
              "      <th>Change %</th>\n",
              "    </tr>\n",
              "  </thead>\n",
              "  <tbody>\n",
              "    <tr>\n",
              "      <th>0</th>\n",
              "      <td>1</td>\n",
              "      <td>2018-01-30</td>\n",
              "      <td>0.15</td>\n",
              "      <td>0.17</td>\n",
              "      <td>0.17</td>\n",
              "      <td>0.14</td>\n",
              "      <td>530470.0</td>\n",
              "      <td>-7.95</td>\n",
              "    </tr>\n",
              "    <tr>\n",
              "      <th>1</th>\n",
              "      <td>2</td>\n",
              "      <td>2018-01-31</td>\n",
              "      <td>0.14</td>\n",
              "      <td>0.15</td>\n",
              "      <td>0.15</td>\n",
              "      <td>0.13</td>\n",
              "      <td>396050.0</td>\n",
              "      <td>-11.10</td>\n",
              "    </tr>\n",
              "    <tr>\n",
              "      <th>2</th>\n",
              "      <td>3</td>\n",
              "      <td>2018-02-01</td>\n",
              "      <td>0.11</td>\n",
              "      <td>0.14</td>\n",
              "      <td>0.14</td>\n",
              "      <td>0.11</td>\n",
              "      <td>987260.0</td>\n",
              "      <td>-17.46</td>\n",
              "    </tr>\n",
              "    <tr>\n",
              "      <th>3</th>\n",
              "      <td>4</td>\n",
              "      <td>2018-02-02</td>\n",
              "      <td>0.10</td>\n",
              "      <td>0.11</td>\n",
              "      <td>0.11</td>\n",
              "      <td>0.08</td>\n",
              "      <td>1810000.0</td>\n",
              "      <td>-8.32</td>\n",
              "    </tr>\n",
              "    <tr>\n",
              "      <th>4</th>\n",
              "      <td>5</td>\n",
              "      <td>2018-02-03</td>\n",
              "      <td>0.11</td>\n",
              "      <td>0.10</td>\n",
              "      <td>0.12</td>\n",
              "      <td>0.09</td>\n",
              "      <td>1200000.0</td>\n",
              "      <td>6.85</td>\n",
              "    </tr>\n",
              "  </tbody>\n",
              "</table>\n",
              "</div>"
            ],
            "text/plain": [
              "   SNo        Date  Price  Open  High   Low       Vol.  Change %\n",
              "0    1  2018-01-30   0.15  0.17  0.17  0.14   530470.0     -7.95\n",
              "1    2  2018-01-31   0.14  0.15  0.15  0.13   396050.0    -11.10\n",
              "2    3  2018-02-01   0.11  0.14  0.14  0.11   987260.0    -17.46\n",
              "3    4  2018-02-02   0.10  0.11  0.11  0.08  1810000.0     -8.32\n",
              "4    5  2018-02-03   0.11  0.10  0.12  0.09  1200000.0      6.85"
            ]
          },
          "metadata": {},
          "execution_count": 259
        }
      ]
    },
    {
      "cell_type": "markdown",
      "metadata": {
        "id": "4eK2ib-LpBGx"
      },
      "source": [
        "### **Question 01**: Select the `Price` column from `cryptocurrencies_dataset` and assign the result to the variable `price`. Estimate the mean price using both Numpy mean function and appropriate Pandas function? "
      ]
    },
    {
      "cell_type": "markdown",
      "metadata": {
        "id": "cXf_hkWLrARb"
      },
      "source": [
        "### **Answer:**"
      ]
    },
    {
      "cell_type": "code",
      "metadata": {
        "colab": {
          "base_uri": "https://localhost:8080/"
        },
        "id": "UdU8n2OyrEsp",
        "outputId": "43b3f268-2ab0-44ae-ed76-0c2ff83100a1"
      },
      "source": [
        "price = cryptocurrencies_dataset.Price\n",
        "\n",
        "#Using numpy\n",
        "import numpy as np \n",
        "np.mean(price)\n",
        "\n",
        "#Using pandas Dataframe object \n",
        "price.mean()\n"
      ],
      "execution_count": 260,
      "outputs": [
        {
          "output_type": "execute_result",
          "data": {
            "text/plain": [
              "67.04590588235298"
            ]
          },
          "metadata": {},
          "execution_count": 260
        }
      ]
    },
    {
      "cell_type": "markdown",
      "metadata": {
        "id": "ZJVW7mU5spHC"
      },
      "source": [
        "### **Question 02**:  Replace all values of the `High` column with 0.34"
      ]
    },
    {
      "cell_type": "markdown",
      "metadata": {
        "id": "LpGRCTDDuVn-"
      },
      "source": [
        "### **Answer:**"
      ]
    },
    {
      "cell_type": "code",
      "metadata": {
        "colab": {
          "base_uri": "https://localhost:8080/"
        },
        "id": "N2NPmNATthSf",
        "outputId": "6a709d81-6ea2-4a8c-a7bd-28e8e49f477d"
      },
      "source": [
        "cryptocurrencies_dataset.High"
      ],
      "execution_count": 261,
      "outputs": [
        {
          "output_type": "execute_result",
          "data": {
            "text/plain": [
              "0         0.17\n",
              "1         0.15\n",
              "2         0.14\n",
              "3         0.11\n",
              "4         0.12\n",
              "         ...  \n",
              "1270    420.72\n",
              "1271    415.39\n",
              "1272    408.44\n",
              "1273    415.14\n",
              "1274    413.91\n",
              "Name: High, Length: 1275, dtype: float64"
            ]
          },
          "metadata": {},
          "execution_count": 261
        }
      ]
    },
    {
      "cell_type": "code",
      "metadata": {
        "colab": {
          "base_uri": "https://localhost:8080/"
        },
        "id": "G5eK0fmBtTli",
        "outputId": "72ad949d-4079-4338-c338-2a9cecd9b566"
      },
      "source": [
        "cryptocurrencies_dataset.High = 0.45\n",
        "\n",
        "cryptocurrencies_dataset.High"
      ],
      "execution_count": 262,
      "outputs": [
        {
          "output_type": "execute_result",
          "data": {
            "text/plain": [
              "0       0.45\n",
              "1       0.45\n",
              "2       0.45\n",
              "3       0.45\n",
              "4       0.45\n",
              "        ... \n",
              "1270    0.45\n",
              "1271    0.45\n",
              "1272    0.45\n",
              "1273    0.45\n",
              "1274    0.45\n",
              "Name: High, Length: 1275, dtype: float64"
            ]
          },
          "metadata": {},
          "execution_count": 262
        }
      ]
    },
    {
      "cell_type": "markdown",
      "metadata": {
        "id": "rLTbrGD-ueV8"
      },
      "source": [
        "### **Question 03**: Select the first value of `Price` and assign it to 0.41"
      ]
    },
    {
      "cell_type": "markdown",
      "metadata": {
        "id": "HhNEZvB9u1Ae"
      },
      "source": [
        "### **Answer:** "
      ]
    },
    {
      "cell_type": "code",
      "metadata": {
        "colab": {
          "base_uri": "https://localhost:8080/"
        },
        "id": "41ev9BHnu5GV",
        "outputId": "cb462dfa-975a-4e15-b870-3a5d7c0648ab"
      },
      "source": [
        "cryptocurrencies_dataset.Price.iloc[0] = 0.41 \n",
        "cryptocurrencies_dataset.Price[0] = 0.78\n",
        "cryptocurrencies_dataset.Price[0]"
      ],
      "execution_count": 263,
      "outputs": [
        {
          "output_type": "stream",
          "name": "stderr",
          "text": [
            "/usr/local/lib/python3.7/dist-packages/pandas/core/indexing.py:670: SettingWithCopyWarning: \n",
            "A value is trying to be set on a copy of a slice from a DataFrame\n",
            "\n",
            "See the caveats in the documentation: https://pandas.pydata.org/pandas-docs/stable/user_guide/indexing.html#returning-a-view-versus-a-copy\n",
            "  iloc._setitem_with_indexer(indexer, value)\n",
            "/usr/local/lib/python3.7/dist-packages/ipykernel_launcher.py:2: SettingWithCopyWarning: \n",
            "A value is trying to be set on a copy of a slice from a DataFrame\n",
            "\n",
            "See the caveats in the documentation: https://pandas.pydata.org/pandas-docs/stable/user_guide/indexing.html#returning-a-view-versus-a-copy\n",
            "  \n"
          ]
        },
        {
          "output_type": "execute_result",
          "data": {
            "text/plain": [
              "0.78"
            ]
          },
          "metadata": {},
          "execution_count": 263
        }
      ]
    },
    {
      "cell_type": "markdown",
      "metadata": {
        "id": "bjwwMdTMvWYH"
      },
      "source": [
        "### **Question 04**: Select 4th row of the data from `cryptocurrencies_dataset` and assign it to the 2nd row of `cryptocurrencies_dataset` "
      ]
    },
    {
      "cell_type": "markdown",
      "metadata": {
        "id": "ewU0e2dDwW3y"
      },
      "source": [
        "### **Answer:** "
      ]
    },
    {
      "cell_type": "code",
      "metadata": {
        "colab": {
          "base_uri": "https://localhost:8080/"
        },
        "id": "nAnVNUZewW3z",
        "outputId": "f3e4987e-652a-47ce-f107-79bbd2d211d2"
      },
      "source": [
        "cryptocurrencies_dataset.iloc[1]"
      ],
      "execution_count": 264,
      "outputs": [
        {
          "output_type": "execute_result",
          "data": {
            "text/plain": [
              "SNo                  2\n",
              "Date        2018-01-31\n",
              "Price             0.14\n",
              "Open              0.15\n",
              "High              0.45\n",
              "Low               0.13\n",
              "Vol.            396050\n",
              "Change %         -11.1\n",
              "Name: 1, dtype: object"
            ]
          },
          "metadata": {},
          "execution_count": 264
        }
      ]
    },
    {
      "cell_type": "code",
      "metadata": {
        "colab": {
          "base_uri": "https://localhost:8080/"
        },
        "id": "mIKm66bcv4BD",
        "outputId": "fbfe1a1e-23da-4d45-fcca-6498c19f4198"
      },
      "source": [
        "cryptocurrencies_dataset.iloc[3]\n"
      ],
      "execution_count": 265,
      "outputs": [
        {
          "output_type": "execute_result",
          "data": {
            "text/plain": [
              "SNo                  4\n",
              "Date        2018-02-02\n",
              "Price              0.1\n",
              "Open              0.11\n",
              "High              0.45\n",
              "Low               0.08\n",
              "Vol.          1.81e+06\n",
              "Change %         -8.32\n",
              "Name: 3, dtype: object"
            ]
          },
          "metadata": {},
          "execution_count": 265
        }
      ]
    },
    {
      "cell_type": "code",
      "metadata": {
        "colab": {
          "base_uri": "https://localhost:8080/"
        },
        "id": "wYu5kphwv6bI",
        "outputId": "f87bf181-3554-429d-c2ac-087500747a45"
      },
      "source": [
        "cryptocurrencies_dataset.iloc[1] = cryptocurrencies_dataset.iloc[3]\n",
        "\n",
        "cryptocurrencies_dataset.iloc[1]"
      ],
      "execution_count": 266,
      "outputs": [
        {
          "output_type": "execute_result",
          "data": {
            "text/plain": [
              "SNo                  4\n",
              "Date        2018-02-02\n",
              "Price              0.1\n",
              "Open              0.11\n",
              "High              0.45\n",
              "Low               0.08\n",
              "Vol.          1.81e+06\n",
              "Change %         -8.32\n",
              "Name: 1, dtype: object"
            ]
          },
          "metadata": {},
          "execution_count": 266
        }
      ]
    },
    {
      "cell_type": "markdown",
      "metadata": {
        "id": "PtcVXEIaws09"
      },
      "source": [
        "### **Question 05**:  Select the first five values from the `Price` column; estimate the max value, and assign it to the first five values of `Price`"
      ]
    },
    {
      "cell_type": "markdown",
      "metadata": {
        "id": "auV8WKRBxKZI"
      },
      "source": [
        "### **Answer:** "
      ]
    },
    {
      "cell_type": "markdown",
      "metadata": {
        "id": "JHsBNGmVxTLZ"
      },
      "source": [
        "Ways to select "
      ]
    },
    {
      "cell_type": "code",
      "metadata": {
        "colab": {
          "base_uri": "https://localhost:8080/"
        },
        "id": "R0UlB1lLxKZJ",
        "outputId": "7af299f0-f495-4af5-e65d-e92e395b6c79"
      },
      "source": [
        "cryptocurrencies_dataset.Price.iloc[:5]"
      ],
      "execution_count": 267,
      "outputs": [
        {
          "output_type": "execute_result",
          "data": {
            "text/plain": [
              "0    0.78\n",
              "1    0.10\n",
              "2    0.11\n",
              "3    0.10\n",
              "4    0.11\n",
              "Name: Price, dtype: float64"
            ]
          },
          "metadata": {},
          "execution_count": 267
        }
      ]
    },
    {
      "cell_type": "code",
      "metadata": {
        "colab": {
          "base_uri": "https://localhost:8080/"
        },
        "id": "w_agbAIVxKZL",
        "outputId": "4c05d03b-b8cc-44a6-a35e-f2ea0c19686d"
      },
      "source": [
        "cryptocurrencies_dataset.Price.head(5)\n"
      ],
      "execution_count": 268,
      "outputs": [
        {
          "output_type": "execute_result",
          "data": {
            "text/plain": [
              "0    0.78\n",
              "1    0.10\n",
              "2    0.11\n",
              "3    0.10\n",
              "4    0.11\n",
              "Name: Price, dtype: float64"
            ]
          },
          "metadata": {},
          "execution_count": 268
        }
      ]
    },
    {
      "cell_type": "code",
      "metadata": {
        "colab": {
          "base_uri": "https://localhost:8080/"
        },
        "id": "brbhpePfxKZM",
        "outputId": "7e878541-b1f2-42a3-b4f6-19d1f3d0e95e"
      },
      "source": [
        "cryptocurrencies_dataset.loc[:4, \"Price\"]"
      ],
      "execution_count": 269,
      "outputs": [
        {
          "output_type": "execute_result",
          "data": {
            "text/plain": [
              "0    0.78\n",
              "1    0.10\n",
              "2    0.11\n",
              "3    0.10\n",
              "4    0.11\n",
              "Name: Price, dtype: float64"
            ]
          },
          "metadata": {},
          "execution_count": 269
        }
      ]
    },
    {
      "cell_type": "code",
      "metadata": {
        "colab": {
          "base_uri": "https://localhost:8080/"
        },
        "id": "JWSKg77ExIQ0",
        "outputId": "09124189-e080-49af-b9a3-5ebf5e163458"
      },
      "source": [
        "cryptocurrencies_dataset.Price.iloc[:5].max() #Finding the max value "
      ],
      "execution_count": 270,
      "outputs": [
        {
          "output_type": "execute_result",
          "data": {
            "text/plain": [
              "0.78"
            ]
          },
          "metadata": {},
          "execution_count": 270
        }
      ]
    },
    {
      "cell_type": "code",
      "metadata": {
        "colab": {
          "base_uri": "https://localhost:8080/"
        },
        "id": "z3Ts4kOdx8Fh",
        "outputId": "f8c2750e-ff3c-437d-af03-71e223a9491a"
      },
      "source": [
        "cryptocurrencies_dataset.Price.iloc[:5] = cryptocurrencies_dataset.Price.iloc[:5].max()"
      ],
      "execution_count": 271,
      "outputs": [
        {
          "output_type": "stream",
          "name": "stderr",
          "text": [
            "/usr/local/lib/python3.7/dist-packages/pandas/core/indexing.py:670: SettingWithCopyWarning: \n",
            "A value is trying to be set on a copy of a slice from a DataFrame\n",
            "\n",
            "See the caveats in the documentation: https://pandas.pydata.org/pandas-docs/stable/user_guide/indexing.html#returning-a-view-versus-a-copy\n",
            "  iloc._setitem_with_indexer(indexer, value)\n"
          ]
        }
      ]
    },
    {
      "cell_type": "code",
      "metadata": {
        "colab": {
          "base_uri": "https://localhost:8080/"
        },
        "id": "-0W6vFqdyBjz",
        "outputId": "6d9dc7ce-0bd7-400a-eebe-1fe03d602e26"
      },
      "source": [
        "cryptocurrencies_dataset.Price.iloc[:5]"
      ],
      "execution_count": 272,
      "outputs": [
        {
          "output_type": "execute_result",
          "data": {
            "text/plain": [
              "0    0.78\n",
              "1    0.78\n",
              "2    0.78\n",
              "3    0.78\n",
              "4    0.78\n",
              "Name: Price, dtype: float64"
            ]
          },
          "metadata": {},
          "execution_count": 272
        }
      ]
    },
    {
      "cell_type": "markdown",
      "metadata": {
        "id": "WlX_HZ95zK3F"
      },
      "source": [
        "### **Question 06**: Select rows with index lables 1,45, 300, 700, and 450"
      ]
    },
    {
      "cell_type": "markdown",
      "metadata": {
        "id": "gR_W3gYcz3fO"
      },
      "source": [
        "### **Answer:** "
      ]
    },
    {
      "cell_type": "code",
      "metadata": {
        "colab": {
          "base_uri": "https://localhost:8080/",
          "height": 0
        },
        "id": "XtfkM2kCz3fP",
        "outputId": "9ae82349-d0c2-45fe-b8d6-6701390f06e1"
      },
      "source": [
        "indices  = [1,45, 300, 450, 700]\n",
        "cryptocurrencies_dataset.loc[indices]"
      ],
      "execution_count": 273,
      "outputs": [
        {
          "output_type": "execute_result",
          "data": {
            "text/html": [
              "<div>\n",
              "<style scoped>\n",
              "    .dataframe tbody tr th:only-of-type {\n",
              "        vertical-align: middle;\n",
              "    }\n",
              "\n",
              "    .dataframe tbody tr th {\n",
              "        vertical-align: top;\n",
              "    }\n",
              "\n",
              "    .dataframe thead th {\n",
              "        text-align: right;\n",
              "    }\n",
              "</style>\n",
              "<table border=\"1\" class=\"dataframe\">\n",
              "  <thead>\n",
              "    <tr style=\"text-align: right;\">\n",
              "      <th></th>\n",
              "      <th>SNo</th>\n",
              "      <th>Date</th>\n",
              "      <th>Price</th>\n",
              "      <th>Open</th>\n",
              "      <th>High</th>\n",
              "      <th>Low</th>\n",
              "      <th>Vol.</th>\n",
              "      <th>Change %</th>\n",
              "    </tr>\n",
              "  </thead>\n",
              "  <tbody>\n",
              "    <tr>\n",
              "      <th>1</th>\n",
              "      <td>4</td>\n",
              "      <td>2018-02-02</td>\n",
              "      <td>0.78</td>\n",
              "      <td>0.11</td>\n",
              "      <td>0.45</td>\n",
              "      <td>0.08</td>\n",
              "      <td>1810000.0</td>\n",
              "      <td>-8.32</td>\n",
              "    </tr>\n",
              "    <tr>\n",
              "      <th>45</th>\n",
              "      <td>46</td>\n",
              "      <td>2018-03-16</td>\n",
              "      <td>0.05</td>\n",
              "      <td>0.05</td>\n",
              "      <td>0.45</td>\n",
              "      <td>0.05</td>\n",
              "      <td>388430.0</td>\n",
              "      <td>0.00</td>\n",
              "    </tr>\n",
              "    <tr>\n",
              "      <th>300</th>\n",
              "      <td>301</td>\n",
              "      <td>2018-11-26</td>\n",
              "      <td>0.01</td>\n",
              "      <td>0.01</td>\n",
              "      <td>0.45</td>\n",
              "      <td>0.01</td>\n",
              "      <td>933250.0</td>\n",
              "      <td>0.00</td>\n",
              "    </tr>\n",
              "    <tr>\n",
              "      <th>450</th>\n",
              "      <td>451</td>\n",
              "      <td>2019-04-25</td>\n",
              "      <td>0.01</td>\n",
              "      <td>0.01</td>\n",
              "      <td>0.45</td>\n",
              "      <td>0.01</td>\n",
              "      <td>605670.0</td>\n",
              "      <td>0.00</td>\n",
              "    </tr>\n",
              "    <tr>\n",
              "      <th>700</th>\n",
              "      <td>701</td>\n",
              "      <td>2019-12-31</td>\n",
              "      <td>0.02</td>\n",
              "      <td>0.01</td>\n",
              "      <td>0.45</td>\n",
              "      <td>0.01</td>\n",
              "      <td>3370000.0</td>\n",
              "      <td>64.14</td>\n",
              "    </tr>\n",
              "  </tbody>\n",
              "</table>\n",
              "</div>"
            ],
            "text/plain": [
              "     SNo        Date  Price  Open  High   Low       Vol.  Change %\n",
              "1      4  2018-02-02   0.78  0.11  0.45  0.08  1810000.0     -8.32\n",
              "45    46  2018-03-16   0.05  0.05  0.45  0.05   388430.0      0.00\n",
              "300  301  2018-11-26   0.01  0.01  0.45  0.01   933250.0      0.00\n",
              "450  451  2019-04-25   0.01  0.01  0.45  0.01   605670.0      0.00\n",
              "700  701  2019-12-31   0.02  0.01  0.45  0.01  3370000.0     64.14"
            ]
          },
          "metadata": {},
          "execution_count": 273
        }
      ]
    },
    {
      "cell_type": "markdown",
      "metadata": {
        "id": "Kxl-bdJx1EW2"
      },
      "source": [
        "### **Question 07**: Create a DataFrame containing `Low`, `Vol.`, and `Price` columns that correspond to 1,45, 300, 450, 700 index labels? "
      ]
    },
    {
      "cell_type": "markdown",
      "metadata": {
        "id": "51G7Hz3f16Bc"
      },
      "source": [
        "### **Answer:** "
      ]
    },
    {
      "cell_type": "code",
      "metadata": {
        "colab": {
          "base_uri": "https://localhost:8080/",
          "height": 0
        },
        "id": "nplZhcv61_x2",
        "outputId": "c1473dff-3cd8-48e8-922e-aa0cae31f715"
      },
      "source": [
        "indices  = [1,45, 300, 450, 700]\n",
        "labels = [\"Low\", \"Vol.\", \"Price\"]\n",
        "cryptocurrencies_dataset.loc[indices, labels]"
      ],
      "execution_count": 274,
      "outputs": [
        {
          "output_type": "execute_result",
          "data": {
            "text/html": [
              "<div>\n",
              "<style scoped>\n",
              "    .dataframe tbody tr th:only-of-type {\n",
              "        vertical-align: middle;\n",
              "    }\n",
              "\n",
              "    .dataframe tbody tr th {\n",
              "        vertical-align: top;\n",
              "    }\n",
              "\n",
              "    .dataframe thead th {\n",
              "        text-align: right;\n",
              "    }\n",
              "</style>\n",
              "<table border=\"1\" class=\"dataframe\">\n",
              "  <thead>\n",
              "    <tr style=\"text-align: right;\">\n",
              "      <th></th>\n",
              "      <th>Low</th>\n",
              "      <th>Vol.</th>\n",
              "      <th>Price</th>\n",
              "    </tr>\n",
              "  </thead>\n",
              "  <tbody>\n",
              "    <tr>\n",
              "      <th>1</th>\n",
              "      <td>0.08</td>\n",
              "      <td>1810000.0</td>\n",
              "      <td>0.78</td>\n",
              "    </tr>\n",
              "    <tr>\n",
              "      <th>45</th>\n",
              "      <td>0.05</td>\n",
              "      <td>388430.0</td>\n",
              "      <td>0.05</td>\n",
              "    </tr>\n",
              "    <tr>\n",
              "      <th>300</th>\n",
              "      <td>0.01</td>\n",
              "      <td>933250.0</td>\n",
              "      <td>0.01</td>\n",
              "    </tr>\n",
              "    <tr>\n",
              "      <th>450</th>\n",
              "      <td>0.01</td>\n",
              "      <td>605670.0</td>\n",
              "      <td>0.01</td>\n",
              "    </tr>\n",
              "    <tr>\n",
              "      <th>700</th>\n",
              "      <td>0.01</td>\n",
              "      <td>3370000.0</td>\n",
              "      <td>0.02</td>\n",
              "    </tr>\n",
              "  </tbody>\n",
              "</table>\n",
              "</div>"
            ],
            "text/plain": [
              "      Low       Vol.  Price\n",
              "1    0.08  1810000.0   0.78\n",
              "45   0.05   388430.0   0.05\n",
              "300  0.01   933250.0   0.01\n",
              "450  0.01   605670.0   0.01\n",
              "700  0.01  3370000.0   0.02"
            ]
          },
          "metadata": {},
          "execution_count": 274
        }
      ]
    },
    {
      "cell_type": "code",
      "metadata": {
        "colab": {
          "base_uri": "https://localhost:8080/",
          "height": 0
        },
        "id": "DGYWkZE02gMZ",
        "outputId": "7e7c15bb-1295-40d3-e48e-37da282e0b0d"
      },
      "source": [
        "indices  = [1,45, 300, 450, 700]\n",
        "labels = [\"Low\", \"Vol.\", \"Price\"]\n",
        "cryptocurrencies_dataset.loc[indices, labels]"
      ],
      "execution_count": 275,
      "outputs": [
        {
          "output_type": "execute_result",
          "data": {
            "text/html": [
              "<div>\n",
              "<style scoped>\n",
              "    .dataframe tbody tr th:only-of-type {\n",
              "        vertical-align: middle;\n",
              "    }\n",
              "\n",
              "    .dataframe tbody tr th {\n",
              "        vertical-align: top;\n",
              "    }\n",
              "\n",
              "    .dataframe thead th {\n",
              "        text-align: right;\n",
              "    }\n",
              "</style>\n",
              "<table border=\"1\" class=\"dataframe\">\n",
              "  <thead>\n",
              "    <tr style=\"text-align: right;\">\n",
              "      <th></th>\n",
              "      <th>Low</th>\n",
              "      <th>Vol.</th>\n",
              "      <th>Price</th>\n",
              "    </tr>\n",
              "  </thead>\n",
              "  <tbody>\n",
              "    <tr>\n",
              "      <th>1</th>\n",
              "      <td>0.08</td>\n",
              "      <td>1810000.0</td>\n",
              "      <td>0.78</td>\n",
              "    </tr>\n",
              "    <tr>\n",
              "      <th>45</th>\n",
              "      <td>0.05</td>\n",
              "      <td>388430.0</td>\n",
              "      <td>0.05</td>\n",
              "    </tr>\n",
              "    <tr>\n",
              "      <th>300</th>\n",
              "      <td>0.01</td>\n",
              "      <td>933250.0</td>\n",
              "      <td>0.01</td>\n",
              "    </tr>\n",
              "    <tr>\n",
              "      <th>450</th>\n",
              "      <td>0.01</td>\n",
              "      <td>605670.0</td>\n",
              "      <td>0.01</td>\n",
              "    </tr>\n",
              "    <tr>\n",
              "      <th>700</th>\n",
              "      <td>0.01</td>\n",
              "      <td>3370000.0</td>\n",
              "      <td>0.02</td>\n",
              "    </tr>\n",
              "  </tbody>\n",
              "</table>\n",
              "</div>"
            ],
            "text/plain": [
              "      Low       Vol.  Price\n",
              "1    0.08  1810000.0   0.78\n",
              "45   0.05   388430.0   0.05\n",
              "300  0.01   933250.0   0.01\n",
              "450  0.01   605670.0   0.01\n",
              "700  0.01  3370000.0   0.02"
            ]
          },
          "metadata": {},
          "execution_count": 275
        }
      ]
    },
    {
      "cell_type": "markdown",
      "metadata": {
        "id": "EAp2hcNL2eC-"
      },
      "source": [
        "### **Question 07**: Create a DataFrame containing `Low`, `Vol.`, and `Price` columns that correspond to the first 100 rows?"
      ]
    },
    {
      "cell_type": "markdown",
      "metadata": {
        "id": "7VKoKaLl2gMV"
      },
      "source": [
        "### **Answer:** "
      ]
    },
    {
      "cell_type": "code",
      "metadata": {
        "colab": {
          "base_uri": "https://localhost:8080/",
          "height": 0
        },
        "id": "-Aa4C5Mr2tJ9",
        "outputId": "5fb3145e-13f6-4393-bafa-1ccaab7e84d5"
      },
      "source": [
        "labels = [\"Low\", \"Vol.\", \"Price\"]\n",
        "cryptocurrencies_dataset.loc[:100, labels]"
      ],
      "execution_count": 276,
      "outputs": [
        {
          "output_type": "execute_result",
          "data": {
            "text/html": [
              "<div>\n",
              "<style scoped>\n",
              "    .dataframe tbody tr th:only-of-type {\n",
              "        vertical-align: middle;\n",
              "    }\n",
              "\n",
              "    .dataframe tbody tr th {\n",
              "        vertical-align: top;\n",
              "    }\n",
              "\n",
              "    .dataframe thead th {\n",
              "        text-align: right;\n",
              "    }\n",
              "</style>\n",
              "<table border=\"1\" class=\"dataframe\">\n",
              "  <thead>\n",
              "    <tr style=\"text-align: right;\">\n",
              "      <th></th>\n",
              "      <th>Low</th>\n",
              "      <th>Vol.</th>\n",
              "      <th>Price</th>\n",
              "    </tr>\n",
              "  </thead>\n",
              "  <tbody>\n",
              "    <tr>\n",
              "      <th>0</th>\n",
              "      <td>0.14</td>\n",
              "      <td>530470.0</td>\n",
              "      <td>0.78</td>\n",
              "    </tr>\n",
              "    <tr>\n",
              "      <th>1</th>\n",
              "      <td>0.08</td>\n",
              "      <td>1810000.0</td>\n",
              "      <td>0.78</td>\n",
              "    </tr>\n",
              "    <tr>\n",
              "      <th>2</th>\n",
              "      <td>0.11</td>\n",
              "      <td>987260.0</td>\n",
              "      <td>0.78</td>\n",
              "    </tr>\n",
              "    <tr>\n",
              "      <th>3</th>\n",
              "      <td>0.08</td>\n",
              "      <td>1810000.0</td>\n",
              "      <td>0.78</td>\n",
              "    </tr>\n",
              "    <tr>\n",
              "      <th>4</th>\n",
              "      <td>0.09</td>\n",
              "      <td>1200000.0</td>\n",
              "      <td>0.78</td>\n",
              "    </tr>\n",
              "    <tr>\n",
              "      <th>...</th>\n",
              "      <td>...</td>\n",
              "      <td>...</td>\n",
              "      <td>...</td>\n",
              "    </tr>\n",
              "    <tr>\n",
              "      <th>96</th>\n",
              "      <td>0.08</td>\n",
              "      <td>2130000.0</td>\n",
              "      <td>0.09</td>\n",
              "    </tr>\n",
              "    <tr>\n",
              "      <th>97</th>\n",
              "      <td>0.08</td>\n",
              "      <td>1500000.0</td>\n",
              "      <td>0.08</td>\n",
              "    </tr>\n",
              "    <tr>\n",
              "      <th>98</th>\n",
              "      <td>0.08</td>\n",
              "      <td>613560.0</td>\n",
              "      <td>0.08</td>\n",
              "    </tr>\n",
              "    <tr>\n",
              "      <th>99</th>\n",
              "      <td>0.07</td>\n",
              "      <td>1070000.0</td>\n",
              "      <td>0.07</td>\n",
              "    </tr>\n",
              "    <tr>\n",
              "      <th>100</th>\n",
              "      <td>0.07</td>\n",
              "      <td>2820000.0</td>\n",
              "      <td>0.07</td>\n",
              "    </tr>\n",
              "  </tbody>\n",
              "</table>\n",
              "<p>101 rows × 3 columns</p>\n",
              "</div>"
            ],
            "text/plain": [
              "      Low       Vol.  Price\n",
              "0    0.14   530470.0   0.78\n",
              "1    0.08  1810000.0   0.78\n",
              "2    0.11   987260.0   0.78\n",
              "3    0.08  1810000.0   0.78\n",
              "4    0.09  1200000.0   0.78\n",
              "..    ...        ...    ...\n",
              "96   0.08  2130000.0   0.09\n",
              "97   0.08  1500000.0   0.08\n",
              "98   0.08   613560.0   0.08\n",
              "99   0.07  1070000.0   0.07\n",
              "100  0.07  2820000.0   0.07\n",
              "\n",
              "[101 rows x 3 columns]"
            ]
          },
          "metadata": {},
          "execution_count": 276
        }
      ]
    },
    {
      "cell_type": "code",
      "metadata": {
        "colab": {
          "base_uri": "https://localhost:8080/",
          "height": 0
        },
        "id": "_2aUdKCD20BV",
        "outputId": "b1036f74-5dac-41c6-d862-2f91cb930a48"
      },
      "source": [
        "labels_index = [5, 6, 1]\n",
        "cryptocurrencies_dataset.iloc[:100, labels_index]"
      ],
      "execution_count": 277,
      "outputs": [
        {
          "output_type": "execute_result",
          "data": {
            "text/html": [
              "<div>\n",
              "<style scoped>\n",
              "    .dataframe tbody tr th:only-of-type {\n",
              "        vertical-align: middle;\n",
              "    }\n",
              "\n",
              "    .dataframe tbody tr th {\n",
              "        vertical-align: top;\n",
              "    }\n",
              "\n",
              "    .dataframe thead th {\n",
              "        text-align: right;\n",
              "    }\n",
              "</style>\n",
              "<table border=\"1\" class=\"dataframe\">\n",
              "  <thead>\n",
              "    <tr style=\"text-align: right;\">\n",
              "      <th></th>\n",
              "      <th>Low</th>\n",
              "      <th>Vol.</th>\n",
              "      <th>Date</th>\n",
              "    </tr>\n",
              "  </thead>\n",
              "  <tbody>\n",
              "    <tr>\n",
              "      <th>0</th>\n",
              "      <td>0.14</td>\n",
              "      <td>530470.0</td>\n",
              "      <td>2018-01-30</td>\n",
              "    </tr>\n",
              "    <tr>\n",
              "      <th>1</th>\n",
              "      <td>0.08</td>\n",
              "      <td>1810000.0</td>\n",
              "      <td>2018-02-02</td>\n",
              "    </tr>\n",
              "    <tr>\n",
              "      <th>2</th>\n",
              "      <td>0.11</td>\n",
              "      <td>987260.0</td>\n",
              "      <td>2018-02-01</td>\n",
              "    </tr>\n",
              "    <tr>\n",
              "      <th>3</th>\n",
              "      <td>0.08</td>\n",
              "      <td>1810000.0</td>\n",
              "      <td>2018-02-02</td>\n",
              "    </tr>\n",
              "    <tr>\n",
              "      <th>4</th>\n",
              "      <td>0.09</td>\n",
              "      <td>1200000.0</td>\n",
              "      <td>2018-02-03</td>\n",
              "    </tr>\n",
              "    <tr>\n",
              "      <th>...</th>\n",
              "      <td>...</td>\n",
              "      <td>...</td>\n",
              "      <td>...</td>\n",
              "    </tr>\n",
              "    <tr>\n",
              "      <th>95</th>\n",
              "      <td>0.09</td>\n",
              "      <td>1760000.0</td>\n",
              "      <td>2018-05-05</td>\n",
              "    </tr>\n",
              "    <tr>\n",
              "      <th>96</th>\n",
              "      <td>0.08</td>\n",
              "      <td>2130000.0</td>\n",
              "      <td>2018-05-06</td>\n",
              "    </tr>\n",
              "    <tr>\n",
              "      <th>97</th>\n",
              "      <td>0.08</td>\n",
              "      <td>1500000.0</td>\n",
              "      <td>2018-05-07</td>\n",
              "    </tr>\n",
              "    <tr>\n",
              "      <th>98</th>\n",
              "      <td>0.08</td>\n",
              "      <td>613560.0</td>\n",
              "      <td>2018-05-08</td>\n",
              "    </tr>\n",
              "    <tr>\n",
              "      <th>99</th>\n",
              "      <td>0.07</td>\n",
              "      <td>1070000.0</td>\n",
              "      <td>2018-05-09</td>\n",
              "    </tr>\n",
              "  </tbody>\n",
              "</table>\n",
              "<p>100 rows × 3 columns</p>\n",
              "</div>"
            ],
            "text/plain": [
              "     Low       Vol.        Date\n",
              "0   0.14   530470.0  2018-01-30\n",
              "1   0.08  1810000.0  2018-02-02\n",
              "2   0.11   987260.0  2018-02-01\n",
              "3   0.08  1810000.0  2018-02-02\n",
              "4   0.09  1200000.0  2018-02-03\n",
              "..   ...        ...         ...\n",
              "95  0.09  1760000.0  2018-05-05\n",
              "96  0.08  2130000.0  2018-05-06\n",
              "97  0.08  1500000.0  2018-05-07\n",
              "98  0.08   613560.0  2018-05-08\n",
              "99  0.07  1070000.0  2018-05-09\n",
              "\n",
              "[100 rows x 3 columns]"
            ]
          },
          "metadata": {},
          "execution_count": 277
        }
      ]
    },
    {
      "cell_type": "markdown",
      "metadata": {
        "id": "j9ZKJFqZ5nyM"
      },
      "source": [
        "### **Question 08**: Select all the rows where the `Price` is higher or equal to 600\n",
        "\n"
      ]
    },
    {
      "cell_type": "markdown",
      "metadata": {
        "id": "uZpP8t8W5qXK"
      },
      "source": [
        "### **Answer:** "
      ]
    },
    {
      "cell_type": "code",
      "metadata": {
        "colab": {
          "base_uri": "https://localhost:8080/",
          "height": 0
        },
        "id": "Y_h36Kvt5qXL",
        "outputId": "a1cc6a4a-394e-4aaa-f750-219f3f132744"
      },
      "source": [
        "cryptocurrencies_dataset[cryptocurrencies_dataset.Price >= 600]"
      ],
      "execution_count": 278,
      "outputs": [
        {
          "output_type": "execute_result",
          "data": {
            "text/html": [
              "<div>\n",
              "<style scoped>\n",
              "    .dataframe tbody tr th:only-of-type {\n",
              "        vertical-align: middle;\n",
              "    }\n",
              "\n",
              "    .dataframe tbody tr th {\n",
              "        vertical-align: top;\n",
              "    }\n",
              "\n",
              "    .dataframe thead th {\n",
              "        text-align: right;\n",
              "    }\n",
              "</style>\n",
              "<table border=\"1\" class=\"dataframe\">\n",
              "  <thead>\n",
              "    <tr style=\"text-align: right;\">\n",
              "      <th></th>\n",
              "      <th>SNo</th>\n",
              "      <th>Date</th>\n",
              "      <th>Price</th>\n",
              "      <th>Open</th>\n",
              "      <th>High</th>\n",
              "      <th>Low</th>\n",
              "      <th>Vol.</th>\n",
              "      <th>Change %</th>\n",
              "    </tr>\n",
              "  </thead>\n",
              "  <tbody>\n",
              "    <tr>\n",
              "      <th>1176</th>\n",
              "      <td>1177</td>\n",
              "      <td>2021-05-18</td>\n",
              "      <td>629.38</td>\n",
              "      <td>572.86</td>\n",
              "      <td>0.45</td>\n",
              "      <td>564.85</td>\n",
              "      <td>52890.0</td>\n",
              "      <td>9.87</td>\n",
              "    </tr>\n",
              "  </tbody>\n",
              "</table>\n",
              "</div>"
            ],
            "text/plain": [
              "       SNo        Date   Price    Open  High     Low     Vol.  Change %\n",
              "1176  1177  2021-05-18  629.38  572.86  0.45  564.85  52890.0      9.87"
            ]
          },
          "metadata": {},
          "execution_count": 278
        }
      ]
    },
    {
      "cell_type": "markdown",
      "metadata": {
        "id": "QZRgjaU169Nv"
      },
      "source": [
        "### **Question 09**: Create a DataFrame containing all the `Price` and `Vol.` columns where `Change %` is higher than 0.4 and `Price` is less than 0.1   \n",
        "\n"
      ]
    },
    {
      "cell_type": "markdown",
      "metadata": {
        "id": "b0TK7zo66_Py"
      },
      "source": [
        "### **Answer:** "
      ]
    },
    {
      "cell_type": "markdown",
      "metadata": {
        "id": "Zhn6zY2o_FGb"
      },
      "source": [
        "# **Section 03**: Building Summary Functions and Maps"
      ]
    },
    {
      "cell_type": "code",
      "metadata": {
        "colab": {
          "base_uri": "https://localhost:8080/",
          "height": 0
        },
        "id": "KcROpyJc_FGg",
        "outputId": "583ce951-b67d-4192-a9a8-06f80f3a930f"
      },
      "source": [
        "cryptocurrencies_dataset.head()"
      ],
      "execution_count": 279,
      "outputs": [
        {
          "output_type": "execute_result",
          "data": {
            "text/html": [
              "<div>\n",
              "<style scoped>\n",
              "    .dataframe tbody tr th:only-of-type {\n",
              "        vertical-align: middle;\n",
              "    }\n",
              "\n",
              "    .dataframe tbody tr th {\n",
              "        vertical-align: top;\n",
              "    }\n",
              "\n",
              "    .dataframe thead th {\n",
              "        text-align: right;\n",
              "    }\n",
              "</style>\n",
              "<table border=\"1\" class=\"dataframe\">\n",
              "  <thead>\n",
              "    <tr style=\"text-align: right;\">\n",
              "      <th></th>\n",
              "      <th>SNo</th>\n",
              "      <th>Date</th>\n",
              "      <th>Price</th>\n",
              "      <th>Open</th>\n",
              "      <th>High</th>\n",
              "      <th>Low</th>\n",
              "      <th>Vol.</th>\n",
              "      <th>Change %</th>\n",
              "    </tr>\n",
              "  </thead>\n",
              "  <tbody>\n",
              "    <tr>\n",
              "      <th>0</th>\n",
              "      <td>1</td>\n",
              "      <td>2018-01-30</td>\n",
              "      <td>0.78</td>\n",
              "      <td>0.17</td>\n",
              "      <td>0.45</td>\n",
              "      <td>0.14</td>\n",
              "      <td>530470.0</td>\n",
              "      <td>-7.95</td>\n",
              "    </tr>\n",
              "    <tr>\n",
              "      <th>1</th>\n",
              "      <td>4</td>\n",
              "      <td>2018-02-02</td>\n",
              "      <td>0.78</td>\n",
              "      <td>0.11</td>\n",
              "      <td>0.45</td>\n",
              "      <td>0.08</td>\n",
              "      <td>1810000.0</td>\n",
              "      <td>-8.32</td>\n",
              "    </tr>\n",
              "    <tr>\n",
              "      <th>2</th>\n",
              "      <td>3</td>\n",
              "      <td>2018-02-01</td>\n",
              "      <td>0.78</td>\n",
              "      <td>0.14</td>\n",
              "      <td>0.45</td>\n",
              "      <td>0.11</td>\n",
              "      <td>987260.0</td>\n",
              "      <td>-17.46</td>\n",
              "    </tr>\n",
              "    <tr>\n",
              "      <th>3</th>\n",
              "      <td>4</td>\n",
              "      <td>2018-02-02</td>\n",
              "      <td>0.78</td>\n",
              "      <td>0.11</td>\n",
              "      <td>0.45</td>\n",
              "      <td>0.08</td>\n",
              "      <td>1810000.0</td>\n",
              "      <td>-8.32</td>\n",
              "    </tr>\n",
              "    <tr>\n",
              "      <th>4</th>\n",
              "      <td>5</td>\n",
              "      <td>2018-02-03</td>\n",
              "      <td>0.78</td>\n",
              "      <td>0.10</td>\n",
              "      <td>0.45</td>\n",
              "      <td>0.09</td>\n",
              "      <td>1200000.0</td>\n",
              "      <td>6.85</td>\n",
              "    </tr>\n",
              "  </tbody>\n",
              "</table>\n",
              "</div>"
            ],
            "text/plain": [
              "   SNo        Date  Price  Open  High   Low       Vol.  Change %\n",
              "0    1  2018-01-30   0.78  0.17  0.45  0.14   530470.0     -7.95\n",
              "1    4  2018-02-02   0.78  0.11  0.45  0.08  1810000.0     -8.32\n",
              "2    3  2018-02-01   0.78  0.14  0.45  0.11   987260.0    -17.46\n",
              "3    4  2018-02-02   0.78  0.11  0.45  0.08  1810000.0     -8.32\n",
              "4    5  2018-02-03   0.78  0.10  0.45  0.09  1200000.0      6.85"
            ]
          },
          "metadata": {},
          "execution_count": 279
        }
      ]
    },
    {
      "cell_type": "markdown",
      "metadata": {
        "id": "HV8YUT6K_FGh"
      },
      "source": [
        "### **Question 01**: What's the mean, median, max, and min value of the `Price` column?"
      ]
    },
    {
      "cell_type": "markdown",
      "metadata": {
        "id": "LX5_cYoR_FGh"
      },
      "source": [
        "### **Answer:**"
      ]
    },
    {
      "cell_type": "code",
      "metadata": {
        "colab": {
          "base_uri": "https://localhost:8080/"
        },
        "id": "9ZLF3suI_FGh",
        "outputId": "1b72a0e0-83de-4827-ab11-23156d5c57c7"
      },
      "source": [
        "price = cryptocurrencies_dataset.Price\n",
        "price.mean(), price.median(), price.max(), price.max()"
      ],
      "execution_count": 280,
      "outputs": [
        {
          "output_type": "execute_result",
          "data": {
            "text/plain": [
              "(67.04848627450984, 0.03, 629.38, 629.38)"
            ]
          },
          "metadata": {},
          "execution_count": 280
        }
      ]
    },
    {
      "cell_type": "markdown",
      "metadata": {
        "id": "49gSlCFA_FGh"
      },
      "source": [
        "### **Question 02**:  How many different types of `Vol.` do exist in this dataset?"
      ]
    },
    {
      "cell_type": "markdown",
      "metadata": {
        "id": "qF7kNfil_FGh"
      },
      "source": [
        "### **Answer:**"
      ]
    },
    {
      "cell_type": "code",
      "metadata": {
        "colab": {
          "base_uri": "https://localhost:8080/"
        },
        "id": "nr8tFDz5_FGh",
        "outputId": "cc49187d-121e-411b-af0c-fddf78ac3405"
      },
      "source": [
        "len(cryptocurrencies_dataset[\"Vol.\"].unique())"
      ],
      "execution_count": 281,
      "outputs": [
        {
          "output_type": "execute_result",
          "data": {
            "text/plain": [
              "1151"
            ]
          },
          "metadata": {},
          "execution_count": 281
        }
      ]
    },
    {
      "cell_type": "markdown",
      "metadata": {
        "id": "h_0voMZw_FGh"
      },
      "source": [
        "### **Question 03**: What is the value of `Vol.` that repeats at most?"
      ]
    },
    {
      "cell_type": "markdown",
      "metadata": {
        "id": "TOkVQtG8_FGi"
      },
      "source": [
        "### **Answer:** "
      ]
    },
    {
      "cell_type": "code",
      "metadata": {
        "colab": {
          "base_uri": "https://localhost:8080/"
        },
        "id": "wwl6yWbs_FGi",
        "outputId": "5b6b53fe-d4d7-4d3d-8500-e612ea2daf72"
      },
      "source": [
        "cryptocurrencies_dataset[\"Vol.\"].value_counts()"
      ],
      "execution_count": 282,
      "outputs": [
        {
          "output_type": "execute_result",
          "data": {
            "text/plain": [
              "1070000.0    7\n",
              "1210000.0    6\n",
              "0.0          5\n",
              "1200000.0    4\n",
              "1420000.0    4\n",
              "            ..\n",
              "746800.0     1\n",
              "205180.0     1\n",
              "2800000.0    1\n",
              "916780.0     1\n",
              "32640.0      1\n",
              "Name: Vol., Length: 1151, dtype: int64"
            ]
          },
          "metadata": {},
          "execution_count": 282
        }
      ]
    },
    {
      "cell_type": "markdown",
      "metadata": {
        "id": "Al6cugNy_FGi"
      },
      "source": [
        "### **Question 04**: Update the `Price` value by substracting its mean value?  "
      ]
    },
    {
      "cell_type": "markdown",
      "metadata": {
        "id": "Wczj-HmW_FGi"
      },
      "source": [
        "### **Answer:** "
      ]
    },
    {
      "cell_type": "code",
      "metadata": {
        "id": "S21ppXXp_FGi"
      },
      "source": [
        "mean_price = cryptocurrencies_dataset.Price.mean()"
      ],
      "execution_count": 283,
      "outputs": []
    },
    {
      "cell_type": "code",
      "metadata": {
        "id": "x-mHRD49_FGi"
      },
      "source": [
        "cryptocurrencies_dataset.Price = cryptocurrencies_dataset.Price - mean_price \n"
      ],
      "execution_count": 284,
      "outputs": []
    },
    {
      "cell_type": "markdown",
      "metadata": {
        "id": "us2oX09F_FGi"
      },
      "source": [
        "### **Question 05**: Let's say you want to calculate the ratio of `High` to `Low` and get the information to the highest ratio. How can you calculate it?"
      ]
    },
    {
      "cell_type": "markdown",
      "metadata": {
        "id": "3faACWY8_FGi"
      },
      "source": [
        "### **Answer:** "
      ]
    },
    {
      "cell_type": "code",
      "metadata": {
        "colab": {
          "base_uri": "https://localhost:8080/"
        },
        "id": "hg8sy5Yz_FGi",
        "outputId": "184109e5-2605-4bca-bc59-d9ab152421ce"
      },
      "source": [
        "(cryptocurrencies_dataset.High/cryptocurrencies_dataset.Low).idxmax()"
      ],
      "execution_count": 285,
      "outputs": [
        {
          "output_type": "execute_result",
          "data": {
            "text/plain": [
              "101"
            ]
          },
          "metadata": {},
          "execution_count": 285
        }
      ]
    },
    {
      "cell_type": "code",
      "metadata": {
        "colab": {
          "base_uri": "https://localhost:8080/"
        },
        "id": "8oMkrjPd_FGj",
        "outputId": "716c47f6-eca9-4478-98b7-9970414c9de9"
      },
      "source": [
        "cryptocurrencies_dataset.loc[(cryptocurrencies_dataset.High/cryptocurrencies_dataset.Low).idxmax()]\n"
      ],
      "execution_count": 286,
      "outputs": [
        {
          "output_type": "execute_result",
          "data": {
            "text/plain": [
              "SNo                102\n",
              "Date        2018-05-11\n",
              "Price         -66.9885\n",
              "Open              0.07\n",
              "High              0.45\n",
              "Low                  0\n",
              "Vol.          2.75e+06\n",
              "Change %        -13.41\n",
              "Name: 101, dtype: object"
            ]
          },
          "metadata": {},
          "execution_count": 286
        }
      ]
    },
    {
      "cell_type": "code",
      "metadata": {
        "colab": {
          "base_uri": "https://localhost:8080/"
        },
        "id": "1jaRy567_FGj",
        "outputId": "140f46f9-09ef-4953-ccbe-52dd748eae0c"
      },
      "source": [
        "cryptocurrencies_dataset.loc[:4, \"Price\"]"
      ],
      "execution_count": 287,
      "outputs": [
        {
          "output_type": "execute_result",
          "data": {
            "text/plain": [
              "0   -66.268486\n",
              "1   -66.268486\n",
              "2   -66.268486\n",
              "3   -66.268486\n",
              "4   -66.268486\n",
              "Name: Price, dtype: float64"
            ]
          },
          "metadata": {},
          "execution_count": 287
        }
      ]
    },
    {
      "cell_type": "code",
      "metadata": {
        "colab": {
          "base_uri": "https://localhost:8080/"
        },
        "id": "YhH83xfu_FGj",
        "outputId": "9a741cb2-3444-4eaf-cbeb-ea8a447f55ab"
      },
      "source": [
        "cryptocurrencies_dataset.Price.iloc[:5].max() #Finding the max value "
      ],
      "execution_count": 288,
      "outputs": [
        {
          "output_type": "execute_result",
          "data": {
            "text/plain": [
              "-66.26848627450984"
            ]
          },
          "metadata": {},
          "execution_count": 288
        }
      ]
    },
    {
      "cell_type": "code",
      "metadata": {
        "colab": {
          "base_uri": "https://localhost:8080/"
        },
        "id": "rDSAoknU_FGj",
        "outputId": "dc424b43-23cb-474f-f587-8a1d8222647b"
      },
      "source": [
        "cryptocurrencies_dataset.Price.iloc[:5] = cryptocurrencies_dataset.Price.iloc[:5].max()"
      ],
      "execution_count": 289,
      "outputs": [
        {
          "output_type": "stream",
          "name": "stderr",
          "text": [
            "/usr/local/lib/python3.7/dist-packages/pandas/core/indexing.py:670: SettingWithCopyWarning: \n",
            "A value is trying to be set on a copy of a slice from a DataFrame\n",
            "\n",
            "See the caveats in the documentation: https://pandas.pydata.org/pandas-docs/stable/user_guide/indexing.html#returning-a-view-versus-a-copy\n",
            "  iloc._setitem_with_indexer(indexer, value)\n"
          ]
        }
      ]
    },
    {
      "cell_type": "code",
      "metadata": {
        "colab": {
          "base_uri": "https://localhost:8080/"
        },
        "id": "cBZttZuE_FGj",
        "outputId": "ce864ff3-b7a8-430f-aad9-19528a10c5a8"
      },
      "source": [
        "cryptocurrencies_dataset.Price.iloc[:5]"
      ],
      "execution_count": 290,
      "outputs": [
        {
          "output_type": "execute_result",
          "data": {
            "text/plain": [
              "0   -66.268486\n",
              "1   -66.268486\n",
              "2   -66.268486\n",
              "3   -66.268486\n",
              "4   -66.268486\n",
              "Name: Price, dtype: float64"
            ]
          },
          "metadata": {},
          "execution_count": 290
        }
      ]
    },
    {
      "cell_type": "markdown",
      "metadata": {
        "id": "RnQis1hM_FGj"
      },
      "source": [
        "### **Question 06**: The following description is defined how to select the best currency. Use `apply` function to use to find information about the best currency.\n",
        "\n",
        "> If `Vol.` higher than 388430, get 5 rewards if not -5 rewards.\n",
        "\n",
        "> If the `Price` higher than 500, get 10 rewards if not -15 rewards. \n",
        "\n",
        "> If the `Low` higher than 0.3, get 4.6 rewards if not -1.5 rewards.    "
      ]
    },
    {
      "cell_type": "markdown",
      "metadata": {
        "id": "duCgpMrr_FGj"
      },
      "source": [
        "### **Answer:** "
      ]
    },
    {
      "cell_type": "code",
      "metadata": {
        "colab": {
          "base_uri": "https://localhost:8080/"
        },
        "id": "oqaoNlj3_FGj",
        "outputId": "d67ca4f1-aadf-439d-8a0c-279be670c229"
      },
      "source": [
        "def rewards(row):\n",
        "    if row[\"Vol.\"] > 388430 and row[\"Price\"] > 100 and row[\"Low\"] > 0.3:\n",
        "        return 5 + 10 + 4.6\n",
        "    elif row[\"Vol.\"] < 388430 and row[\"Price\"] < 100 and row[\"Low\"] < 0.3:\n",
        "        return -5+-15+-1.5\n",
        "    else:\n",
        "        #TODO add other conditons as well \n",
        "        return 1\n",
        "\n",
        "cryptocurrencies_dataset.loc[cryptocurrencies_dataset.apply(rewards, axis='columns').idxmax()]\n"
      ],
      "execution_count": 291,
      "outputs": [
        {
          "output_type": "execute_result",
          "data": {
            "text/plain": [
              "SNo               1225\n",
              "Date        2021-07-05\n",
              "Price          241.582\n",
              "Open            277.09\n",
              "High              0.45\n",
              "Low              262.3\n",
              "Vol.            629440\n",
              "Change %         11.38\n",
              "Name: 1224, dtype: object"
            ]
          },
          "metadata": {},
          "execution_count": 291
        }
      ]
    },
    {
      "cell_type": "markdown",
      "metadata": {
        "id": "ZKWz47yCMpKa"
      },
      "source": [
        "# **Section 04**: Grouping"
      ]
    },
    {
      "cell_type": "code",
      "metadata": {
        "colab": {
          "base_uri": "https://localhost:8080/",
          "height": 204
        },
        "id": "0is0ZSwDMpKh",
        "outputId": "713c2828-a458-4091-fda4-179c6b1224ff"
      },
      "source": [
        "olympic_dataset.head()"
      ],
      "execution_count": 292,
      "outputs": [
        {
          "output_type": "execute_result",
          "data": {
            "text/html": [
              "<div>\n",
              "<style scoped>\n",
              "    .dataframe tbody tr th:only-of-type {\n",
              "        vertical-align: middle;\n",
              "    }\n",
              "\n",
              "    .dataframe tbody tr th {\n",
              "        vertical-align: top;\n",
              "    }\n",
              "\n",
              "    .dataframe thead th {\n",
              "        text-align: right;\n",
              "    }\n",
              "</style>\n",
              "<table border=\"1\" class=\"dataframe\">\n",
              "  <thead>\n",
              "    <tr style=\"text-align: right;\">\n",
              "      <th></th>\n",
              "      <th>game_slug</th>\n",
              "      <th>game_end_date</th>\n",
              "      <th>game_start_date</th>\n",
              "      <th>game_location</th>\n",
              "      <th>game_name</th>\n",
              "      <th>game_season</th>\n",
              "      <th>game_year</th>\n",
              "    </tr>\n",
              "  </thead>\n",
              "  <tbody>\n",
              "    <tr>\n",
              "      <th>0</th>\n",
              "      <td>pyeongchang-2018</td>\n",
              "      <td>2018-02-25T08:00:00Z</td>\n",
              "      <td>2018-02-08T23:00:00Z</td>\n",
              "      <td>Republic of Korea</td>\n",
              "      <td>PyeongChang 2018</td>\n",
              "      <td>Winter</td>\n",
              "      <td>2018</td>\n",
              "    </tr>\n",
              "    <tr>\n",
              "      <th>1</th>\n",
              "      <td>rio-2016</td>\n",
              "      <td>2016-08-21T21:00:00Z</td>\n",
              "      <td>2016-08-05T12:00:00Z</td>\n",
              "      <td>Brazil</td>\n",
              "      <td>Rio 2016</td>\n",
              "      <td>Summer</td>\n",
              "      <td>2016</td>\n",
              "    </tr>\n",
              "    <tr>\n",
              "      <th>2</th>\n",
              "      <td>sochi-2014</td>\n",
              "      <td>2014-02-23T16:00:00Z</td>\n",
              "      <td>2014-02-07T04:00:00Z</td>\n",
              "      <td>Russian Federation</td>\n",
              "      <td>Sochi 2014</td>\n",
              "      <td>Winter</td>\n",
              "      <td>2014</td>\n",
              "    </tr>\n",
              "    <tr>\n",
              "      <th>3</th>\n",
              "      <td>london-2012</td>\n",
              "      <td>2012-08-12T19:00:00Z</td>\n",
              "      <td>2012-07-27T07:00:00Z</td>\n",
              "      <td>Great Britain</td>\n",
              "      <td>London 2012</td>\n",
              "      <td>Summer</td>\n",
              "      <td>2012</td>\n",
              "    </tr>\n",
              "    <tr>\n",
              "      <th>4</th>\n",
              "      <td>vancouver-2010</td>\n",
              "      <td>2010-02-28T04:00:00Z</td>\n",
              "      <td>2010-02-12T16:00:00Z</td>\n",
              "      <td>Canada</td>\n",
              "      <td>Vancouver 2010</td>\n",
              "      <td>Winter</td>\n",
              "      <td>2010</td>\n",
              "    </tr>\n",
              "  </tbody>\n",
              "</table>\n",
              "</div>"
            ],
            "text/plain": [
              "          game_slug         game_end_date  ... game_season game_year\n",
              "0  pyeongchang-2018  2018-02-25T08:00:00Z  ...      Winter      2018\n",
              "1          rio-2016  2016-08-21T21:00:00Z  ...      Summer      2016\n",
              "2        sochi-2014  2014-02-23T16:00:00Z  ...      Winter      2014\n",
              "3       london-2012  2012-08-12T19:00:00Z  ...      Summer      2012\n",
              "4    vancouver-2010  2010-02-28T04:00:00Z  ...      Winter      2010\n",
              "\n",
              "[5 rows x 7 columns]"
            ]
          },
          "metadata": {},
          "execution_count": 292
        }
      ]
    },
    {
      "cell_type": "markdown",
      "metadata": {
        "id": "6_OpaK4sMpKh"
      },
      "source": [
        "### **Question 01**: What are the most common places where Olympic was held?"
      ]
    },
    {
      "cell_type": "markdown",
      "metadata": {
        "id": "vS0SRP_FMpKh"
      },
      "source": [
        "### **Answer:**"
      ]
    },
    {
      "cell_type": "code",
      "metadata": {
        "colab": {
          "base_uri": "https://localhost:8080/"
        },
        "id": "LYM9w1dfMpKh",
        "outputId": "73232784-1ba8-44cd-ce07-a06810436c51"
      },
      "source": [
        "olympic_dataset.groupby('game_location').size()"
      ],
      "execution_count": 293,
      "outputs": [
        {
          "output_type": "execute_result",
          "data": {
            "text/plain": [
              "game_location\n",
              "Australia                      1\n",
              "Australia, Sweden              1\n",
              "Austria                        2\n",
              "Belgium                        1\n",
              "Brazil                         1\n",
              "Canada                         3\n",
              "China                          1\n",
              "Federal Republic of Germany    1\n",
              "Finland                        1\n",
              "France                         5\n",
              "Germany                        2\n",
              "Great Britain                  3\n",
              "Greece                         2\n",
              "Italy                          3\n",
              "Japan                          3\n",
              "Mexico                         1\n",
              "Netherlands                    1\n",
              "Norway                         2\n",
              "Republic of Korea              2\n",
              "Russian Federation             1\n",
              "Spain                          1\n",
              "Sweden                         1\n",
              "Switzerland                    2\n",
              "USSR                           1\n",
              "United States                  8\n",
              "Yugoslavia                     1\n",
              "dtype: int64"
            ]
          },
          "metadata": {},
          "execution_count": 293
        }
      ]
    },
    {
      "cell_type": "markdown",
      "metadata": {
        "id": "JZWTTSaUMpKh"
      },
      "source": [
        "### **Question 02**:  Create a Series whose index is `game_location` whose values is the maximum number of times place where Olympic was held"
      ]
    },
    {
      "cell_type": "markdown",
      "metadata": {
        "id": "qnMqTP5jMpKh"
      },
      "source": [
        "### **Answer:**"
      ]
    },
    {
      "cell_type": "code",
      "metadata": {
        "colab": {
          "base_uri": "https://localhost:8080/"
        },
        "id": "9puh7d9-MpKh",
        "outputId": "b058ce18-57e0-4f2d-ba26-6434b4a6ecaa"
      },
      "source": [
        "# pd.Series([2018, 2016], index=['pyeongchang-2018','rio-2016'], name=\"games\")\n",
        "olympic_dataset.groupby('game_location').size()"
      ],
      "execution_count": 294,
      "outputs": [
        {
          "output_type": "execute_result",
          "data": {
            "text/plain": [
              "game_location\n",
              "Australia                      1\n",
              "Australia, Sweden              1\n",
              "Austria                        2\n",
              "Belgium                        1\n",
              "Brazil                         1\n",
              "Canada                         3\n",
              "China                          1\n",
              "Federal Republic of Germany    1\n",
              "Finland                        1\n",
              "France                         5\n",
              "Germany                        2\n",
              "Great Britain                  3\n",
              "Greece                         2\n",
              "Italy                          3\n",
              "Japan                          3\n",
              "Mexico                         1\n",
              "Netherlands                    1\n",
              "Norway                         2\n",
              "Republic of Korea              2\n",
              "Russian Federation             1\n",
              "Spain                          1\n",
              "Sweden                         1\n",
              "Switzerland                    2\n",
              "USSR                           1\n",
              "United States                  8\n",
              "Yugoslavia                     1\n",
              "dtype: int64"
            ]
          },
          "metadata": {},
          "execution_count": 294
        }
      ]
    },
    {
      "cell_type": "code",
      "metadata": {
        "colab": {
          "base_uri": "https://localhost:8080/"
        },
        "id": "XoBgvAXeRvUo",
        "outputId": "a5554413-fb7b-4c6d-e9e3-be6dada79541"
      },
      "source": [
        "type(olympic_dataset.groupby('game_location').size())"
      ],
      "execution_count": 295,
      "outputs": [
        {
          "output_type": "execute_result",
          "data": {
            "text/plain": [
              "pandas.core.series.Series"
            ]
          },
          "metadata": {},
          "execution_count": 295
        }
      ]
    },
    {
      "cell_type": "markdown",
      "metadata": {
        "id": "PDBIL1iUMpKh"
      },
      "source": [
        "### **Question 03**: What are the maximum and minimum prices for each different type of `Vol.`?"
      ]
    },
    {
      "cell_type": "markdown",
      "metadata": {
        "id": "vpMtt3gZMpKh"
      },
      "source": [
        "### **Answer:** "
      ]
    },
    {
      "cell_type": "code",
      "metadata": {
        "colab": {
          "base_uri": "https://localhost:8080/",
          "height": 450
        },
        "id": "hwBVfJLRMpKi",
        "outputId": "4ef184c6-a878-4399-af2e-de2e8f30fd03"
      },
      "source": [
        "cryptocurrencies_dataset.groupby('Vol.').Price.agg([min, max])"
      ],
      "execution_count": 296,
      "outputs": [
        {
          "output_type": "execute_result",
          "data": {
            "text/html": [
              "<div>\n",
              "<style scoped>\n",
              "    .dataframe tbody tr th:only-of-type {\n",
              "        vertical-align: middle;\n",
              "    }\n",
              "\n",
              "    .dataframe tbody tr th {\n",
              "        vertical-align: top;\n",
              "    }\n",
              "\n",
              "    .dataframe thead th {\n",
              "        text-align: right;\n",
              "    }\n",
              "</style>\n",
              "<table border=\"1\" class=\"dataframe\">\n",
              "  <thead>\n",
              "    <tr style=\"text-align: right;\">\n",
              "      <th></th>\n",
              "      <th>min</th>\n",
              "      <th>max</th>\n",
              "    </tr>\n",
              "    <tr>\n",
              "      <th>Vol.</th>\n",
              "      <th></th>\n",
              "      <th></th>\n",
              "    </tr>\n",
              "  </thead>\n",
              "  <tbody>\n",
              "    <tr>\n",
              "      <th>0.0</th>\n",
              "      <td>-67.038486</td>\n",
              "      <td>-66.568486</td>\n",
              "    </tr>\n",
              "    <tr>\n",
              "      <th>410.0</th>\n",
              "      <td>-67.038486</td>\n",
              "      <td>12.701514</td>\n",
              "    </tr>\n",
              "    <tr>\n",
              "      <th>510.0</th>\n",
              "      <td>-3.158486</td>\n",
              "      <td>-3.158486</td>\n",
              "    </tr>\n",
              "    <tr>\n",
              "      <th>530.0</th>\n",
              "      <td>10.191514</td>\n",
              "      <td>10.191514</td>\n",
              "    </tr>\n",
              "    <tr>\n",
              "      <th>540.0</th>\n",
              "      <td>22.951514</td>\n",
              "      <td>22.951514</td>\n",
              "    </tr>\n",
              "    <tr>\n",
              "      <th>...</th>\n",
              "      <td>...</td>\n",
              "      <td>...</td>\n",
              "    </tr>\n",
              "    <tr>\n",
              "      <th>8480000.0</th>\n",
              "      <td>-67.028486</td>\n",
              "      <td>-67.028486</td>\n",
              "    </tr>\n",
              "    <tr>\n",
              "      <th>8620000.0</th>\n",
              "      <td>-67.028486</td>\n",
              "      <td>-67.028486</td>\n",
              "    </tr>\n",
              "    <tr>\n",
              "      <th>8880000.0</th>\n",
              "      <td>-67.048486</td>\n",
              "      <td>-67.048486</td>\n",
              "    </tr>\n",
              "    <tr>\n",
              "      <th>10250000.0</th>\n",
              "      <td>-67.028486</td>\n",
              "      <td>-67.028486</td>\n",
              "    </tr>\n",
              "    <tr>\n",
              "      <th>10500000.0</th>\n",
              "      <td>-67.028486</td>\n",
              "      <td>-67.028486</td>\n",
              "    </tr>\n",
              "  </tbody>\n",
              "</table>\n",
              "<p>1151 rows × 2 columns</p>\n",
              "</div>"
            ],
            "text/plain": [
              "                  min        max\n",
              "Vol.                            \n",
              "0.0        -67.038486 -66.568486\n",
              "410.0      -67.038486  12.701514\n",
              "510.0       -3.158486  -3.158486\n",
              "530.0       10.191514  10.191514\n",
              "540.0       22.951514  22.951514\n",
              "...               ...        ...\n",
              "8480000.0  -67.028486 -67.028486\n",
              "8620000.0  -67.028486 -67.028486\n",
              "8880000.0  -67.048486 -67.048486\n",
              "10250000.0 -67.028486 -67.028486\n",
              "10500000.0 -67.028486 -67.028486\n",
              "\n",
              "[1151 rows x 2 columns]"
            ]
          },
          "metadata": {},
          "execution_count": 296
        }
      ]
    },
    {
      "cell_type": "markdown",
      "metadata": {
        "id": "6nKyX2P8MpKi"
      },
      "source": [
        "### **Question 04**: What is the most expensive type of currency based on the `Price`?\n",
        " "
      ]
    },
    {
      "cell_type": "markdown",
      "metadata": {
        "id": "SfiWpE_MMpKi"
      },
      "source": [
        "### **Answer:** "
      ]
    },
    {
      "cell_type": "code",
      "metadata": {
        "colab": {
          "base_uri": "https://localhost:8080/",
          "height": 450
        },
        "id": "qQ_9uoniMpKi",
        "outputId": "e4066b22-d9c3-4d87-b244-53d3b9f9152a"
      },
      "source": [
        "price_values = cryptocurrencies_dataset.groupby('Vol.').Price.agg([min, max])\n",
        "price_values.sort_values(by=['min', 'max'], ascending=False)"
      ],
      "execution_count": 297,
      "outputs": [
        {
          "output_type": "execute_result",
          "data": {
            "text/html": [
              "<div>\n",
              "<style scoped>\n",
              "    .dataframe tbody tr th:only-of-type {\n",
              "        vertical-align: middle;\n",
              "    }\n",
              "\n",
              "    .dataframe tbody tr th {\n",
              "        vertical-align: top;\n",
              "    }\n",
              "\n",
              "    .dataframe thead th {\n",
              "        text-align: right;\n",
              "    }\n",
              "</style>\n",
              "<table border=\"1\" class=\"dataframe\">\n",
              "  <thead>\n",
              "    <tr style=\"text-align: right;\">\n",
              "      <th></th>\n",
              "      <th>min</th>\n",
              "      <th>max</th>\n",
              "    </tr>\n",
              "    <tr>\n",
              "      <th>Vol.</th>\n",
              "      <th></th>\n",
              "      <th></th>\n",
              "    </tr>\n",
              "  </thead>\n",
              "  <tbody>\n",
              "    <tr>\n",
              "      <th>52890.0</th>\n",
              "      <td>562.331514</td>\n",
              "      <td>562.331514</td>\n",
              "    </tr>\n",
              "    <tr>\n",
              "      <th>63380.0</th>\n",
              "      <td>528.121514</td>\n",
              "      <td>528.121514</td>\n",
              "    </tr>\n",
              "    <tr>\n",
              "      <th>52610.0</th>\n",
              "      <td>505.811514</td>\n",
              "      <td>505.811514</td>\n",
              "    </tr>\n",
              "    <tr>\n",
              "      <th>10920.0</th>\n",
              "      <td>461.291514</td>\n",
              "      <td>461.291514</td>\n",
              "    </tr>\n",
              "    <tr>\n",
              "      <th>27900.0</th>\n",
              "      <td>459.411514</td>\n",
              "      <td>459.411514</td>\n",
              "    </tr>\n",
              "    <tr>\n",
              "      <th>...</th>\n",
              "      <td>...</td>\n",
              "      <td>...</td>\n",
              "    </tr>\n",
              "    <tr>\n",
              "      <th>4940000.0</th>\n",
              "      <td>-67.048486</td>\n",
              "      <td>-67.048486</td>\n",
              "    </tr>\n",
              "    <tr>\n",
              "      <th>7600000.0</th>\n",
              "      <td>-67.048486</td>\n",
              "      <td>-67.048486</td>\n",
              "    </tr>\n",
              "    <tr>\n",
              "      <th>8030000.0</th>\n",
              "      <td>-67.048486</td>\n",
              "      <td>-67.048486</td>\n",
              "    </tr>\n",
              "    <tr>\n",
              "      <th>8170000.0</th>\n",
              "      <td>-67.048486</td>\n",
              "      <td>-67.048486</td>\n",
              "    </tr>\n",
              "    <tr>\n",
              "      <th>8880000.0</th>\n",
              "      <td>-67.048486</td>\n",
              "      <td>-67.048486</td>\n",
              "    </tr>\n",
              "  </tbody>\n",
              "</table>\n",
              "<p>1151 rows × 2 columns</p>\n",
              "</div>"
            ],
            "text/plain": [
              "                  min         max\n",
              "Vol.                             \n",
              "52890.0    562.331514  562.331514\n",
              "63380.0    528.121514  528.121514\n",
              "52610.0    505.811514  505.811514\n",
              "10920.0    461.291514  461.291514\n",
              "27900.0    459.411514  459.411514\n",
              "...               ...         ...\n",
              "4940000.0  -67.048486  -67.048486\n",
              "7600000.0  -67.048486  -67.048486\n",
              "8030000.0  -67.048486  -67.048486\n",
              "8170000.0  -67.048486  -67.048486\n",
              "8880000.0  -67.048486  -67.048486\n",
              "\n",
              "[1151 rows x 2 columns]"
            ]
          },
          "metadata": {},
          "execution_count": 297
        }
      ]
    },
    {
      "cell_type": "markdown",
      "metadata": {
        "id": "z_vpAYGAMpKi"
      },
      "source": [
        "### **Question 05**: Create a Series whose index is `Low` and whose value is the average `Price`?"
      ]
    },
    {
      "cell_type": "markdown",
      "metadata": {
        "id": "F_httXlBMpKi"
      },
      "source": [
        "### **Answer:** "
      ]
    },
    {
      "cell_type": "code",
      "metadata": {
        "colab": {
          "base_uri": "https://localhost:8080/"
        },
        "id": "Xi2m57cEMpKi",
        "outputId": "e4bcc9a3-2f87-4760-fb1e-672e59fd01d8"
      },
      "source": [
        "cryptocurrencies_dataset.groupby('Low').Price.mean()"
      ],
      "execution_count": 298,
      "outputs": [
        {
          "output_type": "execute_result",
          "data": {
            "text/plain": [
              "Low\n",
              "0.00      -67.046626\n",
              "0.01      -67.037884\n",
              "0.02      -67.027306\n",
              "0.03      -67.017170\n",
              "0.04      -67.004486\n",
              "             ...    \n",
              "500.26    461.291514\n",
              "506.71    528.121514\n",
              "508.58    450.341514\n",
              "509.59    448.401514\n",
              "564.85    562.331514\n",
              "Name: Price, Length: 351, dtype: float64"
            ]
          },
          "metadata": {},
          "execution_count": 298
        }
      ]
    },
    {
      "cell_type": "code",
      "metadata": {
        "colab": {
          "base_uri": "https://localhost:8080/",
          "height": 419
        },
        "id": "-lB-yguXMpKi",
        "outputId": "712457e8-0466-4b3d-d9d3-59020bfed474"
      },
      "source": [
        "cryptocurrencies_dataset"
      ],
      "execution_count": 299,
      "outputs": [
        {
          "output_type": "execute_result",
          "data": {
            "text/html": [
              "<div>\n",
              "<style scoped>\n",
              "    .dataframe tbody tr th:only-of-type {\n",
              "        vertical-align: middle;\n",
              "    }\n",
              "\n",
              "    .dataframe tbody tr th {\n",
              "        vertical-align: top;\n",
              "    }\n",
              "\n",
              "    .dataframe thead th {\n",
              "        text-align: right;\n",
              "    }\n",
              "</style>\n",
              "<table border=\"1\" class=\"dataframe\">\n",
              "  <thead>\n",
              "    <tr style=\"text-align: right;\">\n",
              "      <th></th>\n",
              "      <th>SNo</th>\n",
              "      <th>Date</th>\n",
              "      <th>Price</th>\n",
              "      <th>Open</th>\n",
              "      <th>High</th>\n",
              "      <th>Low</th>\n",
              "      <th>Vol.</th>\n",
              "      <th>Change %</th>\n",
              "    </tr>\n",
              "  </thead>\n",
              "  <tbody>\n",
              "    <tr>\n",
              "      <th>0</th>\n",
              "      <td>1</td>\n",
              "      <td>2018-01-30</td>\n",
              "      <td>-66.268486</td>\n",
              "      <td>0.17</td>\n",
              "      <td>0.45</td>\n",
              "      <td>0.14</td>\n",
              "      <td>530470.0</td>\n",
              "      <td>-7.95</td>\n",
              "    </tr>\n",
              "    <tr>\n",
              "      <th>1</th>\n",
              "      <td>4</td>\n",
              "      <td>2018-02-02</td>\n",
              "      <td>-66.268486</td>\n",
              "      <td>0.11</td>\n",
              "      <td>0.45</td>\n",
              "      <td>0.08</td>\n",
              "      <td>1810000.0</td>\n",
              "      <td>-8.32</td>\n",
              "    </tr>\n",
              "    <tr>\n",
              "      <th>2</th>\n",
              "      <td>3</td>\n",
              "      <td>2018-02-01</td>\n",
              "      <td>-66.268486</td>\n",
              "      <td>0.14</td>\n",
              "      <td>0.45</td>\n",
              "      <td>0.11</td>\n",
              "      <td>987260.0</td>\n",
              "      <td>-17.46</td>\n",
              "    </tr>\n",
              "    <tr>\n",
              "      <th>3</th>\n",
              "      <td>4</td>\n",
              "      <td>2018-02-02</td>\n",
              "      <td>-66.268486</td>\n",
              "      <td>0.11</td>\n",
              "      <td>0.45</td>\n",
              "      <td>0.08</td>\n",
              "      <td>1810000.0</td>\n",
              "      <td>-8.32</td>\n",
              "    </tr>\n",
              "    <tr>\n",
              "      <th>4</th>\n",
              "      <td>5</td>\n",
              "      <td>2018-02-03</td>\n",
              "      <td>-66.268486</td>\n",
              "      <td>0.10</td>\n",
              "      <td>0.45</td>\n",
              "      <td>0.09</td>\n",
              "      <td>1200000.0</td>\n",
              "      <td>6.85</td>\n",
              "    </tr>\n",
              "    <tr>\n",
              "      <th>...</th>\n",
              "      <td>...</td>\n",
              "      <td>...</td>\n",
              "      <td>...</td>\n",
              "      <td>...</td>\n",
              "      <td>...</td>\n",
              "      <td>...</td>\n",
              "      <td>...</td>\n",
              "      <td>...</td>\n",
              "    </tr>\n",
              "    <tr>\n",
              "      <th>1270</th>\n",
              "      <td>1271</td>\n",
              "      <td>2021-08-20</td>\n",
              "      <td>342.141514</td>\n",
              "      <td>405.27</td>\n",
              "      <td>0.45</td>\n",
              "      <td>403.54</td>\n",
              "      <td>155020.0</td>\n",
              "      <td>0.99</td>\n",
              "    </tr>\n",
              "    <tr>\n",
              "      <th>1271</th>\n",
              "      <td>1272</td>\n",
              "      <td>2021-08-21</td>\n",
              "      <td>332.791514</td>\n",
              "      <td>409.19</td>\n",
              "      <td>0.45</td>\n",
              "      <td>393.43</td>\n",
              "      <td>145060.0</td>\n",
              "      <td>-2.28</td>\n",
              "    </tr>\n",
              "    <tr>\n",
              "      <th>1272</th>\n",
              "      <td>1273</td>\n",
              "      <td>2021-08-22</td>\n",
              "      <td>333.911514</td>\n",
              "      <td>399.84</td>\n",
              "      <td>0.45</td>\n",
              "      <td>386.63</td>\n",
              "      <td>88070.0</td>\n",
              "      <td>0.28</td>\n",
              "    </tr>\n",
              "    <tr>\n",
              "      <th>1273</th>\n",
              "      <td>1274</td>\n",
              "      <td>2021-08-23</td>\n",
              "      <td>341.261514</td>\n",
              "      <td>400.96</td>\n",
              "      <td>0.45</td>\n",
              "      <td>399.45</td>\n",
              "      <td>139750.0</td>\n",
              "      <td>1.84</td>\n",
              "    </tr>\n",
              "    <tr>\n",
              "      <th>1274</th>\n",
              "      <td>1275</td>\n",
              "      <td>2021-08-24</td>\n",
              "      <td>333.971514</td>\n",
              "      <td>408.33</td>\n",
              "      <td>0.45</td>\n",
              "      <td>398.49</td>\n",
              "      <td>116250.0</td>\n",
              "      <td>-1.79</td>\n",
              "    </tr>\n",
              "  </tbody>\n",
              "</table>\n",
              "<p>1275 rows × 8 columns</p>\n",
              "</div>"
            ],
            "text/plain": [
              "       SNo        Date       Price    Open  High     Low       Vol.  Change %\n",
              "0        1  2018-01-30  -66.268486    0.17  0.45    0.14   530470.0     -7.95\n",
              "1        4  2018-02-02  -66.268486    0.11  0.45    0.08  1810000.0     -8.32\n",
              "2        3  2018-02-01  -66.268486    0.14  0.45    0.11   987260.0    -17.46\n",
              "3        4  2018-02-02  -66.268486    0.11  0.45    0.08  1810000.0     -8.32\n",
              "4        5  2018-02-03  -66.268486    0.10  0.45    0.09  1200000.0      6.85\n",
              "...    ...         ...         ...     ...   ...     ...        ...       ...\n",
              "1270  1271  2021-08-20  342.141514  405.27  0.45  403.54   155020.0      0.99\n",
              "1271  1272  2021-08-21  332.791514  409.19  0.45  393.43   145060.0     -2.28\n",
              "1272  1273  2021-08-22  333.911514  399.84  0.45  386.63    88070.0      0.28\n",
              "1273  1274  2021-08-23  341.261514  400.96  0.45  399.45   139750.0      1.84\n",
              "1274  1275  2021-08-24  333.971514  408.33  0.45  398.49   116250.0     -1.79\n",
              "\n",
              "[1275 rows x 8 columns]"
            ]
          },
          "metadata": {},
          "execution_count": 299
        }
      ]
    },
    {
      "cell_type": "code",
      "metadata": {
        "colab": {
          "base_uri": "https://localhost:8080/"
        },
        "id": "VeRwRTI6MpKi",
        "outputId": "e0d014bd-c489-4aba-e439-ce0aaf3a872d"
      },
      "source": [
        "cryptocurrencies_dataset.loc[:4, \"Price\"]"
      ],
      "execution_count": 300,
      "outputs": [
        {
          "output_type": "execute_result",
          "data": {
            "text/plain": [
              "0   -66.268486\n",
              "1   -66.268486\n",
              "2   -66.268486\n",
              "3   -66.268486\n",
              "4   -66.268486\n",
              "Name: Price, dtype: float64"
            ]
          },
          "metadata": {},
          "execution_count": 300
        }
      ]
    },
    {
      "cell_type": "code",
      "metadata": {
        "colab": {
          "base_uri": "https://localhost:8080/"
        },
        "id": "4r15L8SHMpKi",
        "outputId": "95347f51-fbbe-4192-ee78-80fbb4ab1377"
      },
      "source": [
        "cryptocurrencies_dataset.Price.iloc[:5].max() #Finding the max value "
      ],
      "execution_count": 301,
      "outputs": [
        {
          "output_type": "execute_result",
          "data": {
            "text/plain": [
              "-66.26848627450984"
            ]
          },
          "metadata": {},
          "execution_count": 301
        }
      ]
    },
    {
      "cell_type": "code",
      "metadata": {
        "colab": {
          "base_uri": "https://localhost:8080/"
        },
        "id": "Z2TtD1ziMpKi",
        "outputId": "3e5a946e-03f3-4a13-9bb8-5cb00590978f"
      },
      "source": [
        "cryptocurrencies_dataset.Price.iloc[:5] = cryptocurrencies_dataset.Price.iloc[:5].max()"
      ],
      "execution_count": 302,
      "outputs": [
        {
          "output_type": "stream",
          "name": "stderr",
          "text": [
            "/usr/local/lib/python3.7/dist-packages/pandas/core/indexing.py:670: SettingWithCopyWarning: \n",
            "A value is trying to be set on a copy of a slice from a DataFrame\n",
            "\n",
            "See the caveats in the documentation: https://pandas.pydata.org/pandas-docs/stable/user_guide/indexing.html#returning-a-view-versus-a-copy\n",
            "  iloc._setitem_with_indexer(indexer, value)\n"
          ]
        }
      ]
    },
    {
      "cell_type": "code",
      "metadata": {
        "colab": {
          "base_uri": "https://localhost:8080/"
        },
        "id": "AuEHSe71MpKj",
        "outputId": "828d6a12-6d3b-4e0c-8d37-257e790444e7"
      },
      "source": [
        "cryptocurrencies_dataset.Price.iloc[:5]"
      ],
      "execution_count": 303,
      "outputs": [
        {
          "output_type": "execute_result",
          "data": {
            "text/plain": [
              "0   -66.268486\n",
              "1   -66.268486\n",
              "2   -66.268486\n",
              "3   -66.268486\n",
              "4   -66.268486\n",
              "Name: Price, dtype: float64"
            ]
          },
          "metadata": {},
          "execution_count": 303
        }
      ]
    },
    {
      "cell_type": "markdown",
      "metadata": {
        "id": "Tv23RuGyMpKj"
      },
      "source": [
        "### **Question 06**: What combination of `Low` and `Price` is the most common?   "
      ]
    },
    {
      "cell_type": "markdown",
      "metadata": {
        "id": "X7U40UhRMpKj"
      },
      "source": [
        "### **Answer:** "
      ]
    },
    {
      "cell_type": "code",
      "metadata": {
        "colab": {
          "base_uri": "https://localhost:8080/"
        },
        "id": "MTV1UV8yMpKj",
        "outputId": "3a8323af-1000-4202-a87c-9dea1dccaf48"
      },
      "source": [
        "cryptocurrencies_dataset.groupby(['Low', 'Price']).size().sort_values(ascending=False)"
      ],
      "execution_count": 304,
      "outputs": [
        {
          "output_type": "execute_result",
          "data": {
            "text/plain": [
              "Low     Price      \n",
              "0.01    -67.038486     359\n",
              "0.02    -67.028486     127\n",
              "0.00    -67.048486      75\n",
              "0.03    -67.018486      66\n",
              "0.06    -66.988486      31\n",
              "                      ... \n",
              "307.91   249.691514      1\n",
              "309.06   251.111514      1\n",
              "309.63   253.501514      1\n",
              "310.45   305.861514      1\n",
              "184.86   120.241514      1\n",
              "Length: 422, dtype: int64"
            ]
          },
          "metadata": {},
          "execution_count": 304
        }
      ]
    },
    {
      "cell_type": "markdown",
      "metadata": {
        "id": "YnRWSgSHW-4S"
      },
      "source": [
        "# **Section 05**: Data Types and Missing Values"
      ]
    },
    {
      "cell_type": "code",
      "metadata": {
        "colab": {
          "base_uri": "https://localhost:8080/",
          "height": 204
        },
        "id": "ggKVNT95W-4X",
        "outputId": "879b23eb-11b1-42ff-bd8c-b8f9d56286a8"
      },
      "source": [
        "olympic_dataset.head()"
      ],
      "execution_count": 305,
      "outputs": [
        {
          "output_type": "execute_result",
          "data": {
            "text/html": [
              "<div>\n",
              "<style scoped>\n",
              "    .dataframe tbody tr th:only-of-type {\n",
              "        vertical-align: middle;\n",
              "    }\n",
              "\n",
              "    .dataframe tbody tr th {\n",
              "        vertical-align: top;\n",
              "    }\n",
              "\n",
              "    .dataframe thead th {\n",
              "        text-align: right;\n",
              "    }\n",
              "</style>\n",
              "<table border=\"1\" class=\"dataframe\">\n",
              "  <thead>\n",
              "    <tr style=\"text-align: right;\">\n",
              "      <th></th>\n",
              "      <th>game_slug</th>\n",
              "      <th>game_end_date</th>\n",
              "      <th>game_start_date</th>\n",
              "      <th>game_location</th>\n",
              "      <th>game_name</th>\n",
              "      <th>game_season</th>\n",
              "      <th>game_year</th>\n",
              "    </tr>\n",
              "  </thead>\n",
              "  <tbody>\n",
              "    <tr>\n",
              "      <th>0</th>\n",
              "      <td>pyeongchang-2018</td>\n",
              "      <td>2018-02-25T08:00:00Z</td>\n",
              "      <td>2018-02-08T23:00:00Z</td>\n",
              "      <td>Republic of Korea</td>\n",
              "      <td>PyeongChang 2018</td>\n",
              "      <td>Winter</td>\n",
              "      <td>2018</td>\n",
              "    </tr>\n",
              "    <tr>\n",
              "      <th>1</th>\n",
              "      <td>rio-2016</td>\n",
              "      <td>2016-08-21T21:00:00Z</td>\n",
              "      <td>2016-08-05T12:00:00Z</td>\n",
              "      <td>Brazil</td>\n",
              "      <td>Rio 2016</td>\n",
              "      <td>Summer</td>\n",
              "      <td>2016</td>\n",
              "    </tr>\n",
              "    <tr>\n",
              "      <th>2</th>\n",
              "      <td>sochi-2014</td>\n",
              "      <td>2014-02-23T16:00:00Z</td>\n",
              "      <td>2014-02-07T04:00:00Z</td>\n",
              "      <td>Russian Federation</td>\n",
              "      <td>Sochi 2014</td>\n",
              "      <td>Winter</td>\n",
              "      <td>2014</td>\n",
              "    </tr>\n",
              "    <tr>\n",
              "      <th>3</th>\n",
              "      <td>london-2012</td>\n",
              "      <td>2012-08-12T19:00:00Z</td>\n",
              "      <td>2012-07-27T07:00:00Z</td>\n",
              "      <td>Great Britain</td>\n",
              "      <td>London 2012</td>\n",
              "      <td>Summer</td>\n",
              "      <td>2012</td>\n",
              "    </tr>\n",
              "    <tr>\n",
              "      <th>4</th>\n",
              "      <td>vancouver-2010</td>\n",
              "      <td>2010-02-28T04:00:00Z</td>\n",
              "      <td>2010-02-12T16:00:00Z</td>\n",
              "      <td>Canada</td>\n",
              "      <td>Vancouver 2010</td>\n",
              "      <td>Winter</td>\n",
              "      <td>2010</td>\n",
              "    </tr>\n",
              "  </tbody>\n",
              "</table>\n",
              "</div>"
            ],
            "text/plain": [
              "          game_slug         game_end_date  ... game_season game_year\n",
              "0  pyeongchang-2018  2018-02-25T08:00:00Z  ...      Winter      2018\n",
              "1          rio-2016  2016-08-21T21:00:00Z  ...      Summer      2016\n",
              "2        sochi-2014  2014-02-23T16:00:00Z  ...      Winter      2014\n",
              "3       london-2012  2012-08-12T19:00:00Z  ...      Summer      2012\n",
              "4    vancouver-2010  2010-02-28T04:00:00Z  ...      Winter      2010\n",
              "\n",
              "[5 rows x 7 columns]"
            ]
          },
          "metadata": {},
          "execution_count": 305
        }
      ]
    },
    {
      "cell_type": "code",
      "metadata": {
        "colab": {
          "base_uri": "https://localhost:8080/",
          "height": 204
        },
        "id": "dUZUqnedYc9-",
        "outputId": "835dc8a9-8a10-45ba-8f98-e2eed9e4682b"
      },
      "source": [
        "cryptocurrencies_dataset.head()"
      ],
      "execution_count": 306,
      "outputs": [
        {
          "output_type": "execute_result",
          "data": {
            "text/html": [
              "<div>\n",
              "<style scoped>\n",
              "    .dataframe tbody tr th:only-of-type {\n",
              "        vertical-align: middle;\n",
              "    }\n",
              "\n",
              "    .dataframe tbody tr th {\n",
              "        vertical-align: top;\n",
              "    }\n",
              "\n",
              "    .dataframe thead th {\n",
              "        text-align: right;\n",
              "    }\n",
              "</style>\n",
              "<table border=\"1\" class=\"dataframe\">\n",
              "  <thead>\n",
              "    <tr style=\"text-align: right;\">\n",
              "      <th></th>\n",
              "      <th>SNo</th>\n",
              "      <th>Date</th>\n",
              "      <th>Price</th>\n",
              "      <th>Open</th>\n",
              "      <th>High</th>\n",
              "      <th>Low</th>\n",
              "      <th>Vol.</th>\n",
              "      <th>Change %</th>\n",
              "    </tr>\n",
              "  </thead>\n",
              "  <tbody>\n",
              "    <tr>\n",
              "      <th>0</th>\n",
              "      <td>1</td>\n",
              "      <td>2018-01-30</td>\n",
              "      <td>-66.268486</td>\n",
              "      <td>0.17</td>\n",
              "      <td>0.45</td>\n",
              "      <td>0.14</td>\n",
              "      <td>530470.0</td>\n",
              "      <td>-7.95</td>\n",
              "    </tr>\n",
              "    <tr>\n",
              "      <th>1</th>\n",
              "      <td>4</td>\n",
              "      <td>2018-02-02</td>\n",
              "      <td>-66.268486</td>\n",
              "      <td>0.11</td>\n",
              "      <td>0.45</td>\n",
              "      <td>0.08</td>\n",
              "      <td>1810000.0</td>\n",
              "      <td>-8.32</td>\n",
              "    </tr>\n",
              "    <tr>\n",
              "      <th>2</th>\n",
              "      <td>3</td>\n",
              "      <td>2018-02-01</td>\n",
              "      <td>-66.268486</td>\n",
              "      <td>0.14</td>\n",
              "      <td>0.45</td>\n",
              "      <td>0.11</td>\n",
              "      <td>987260.0</td>\n",
              "      <td>-17.46</td>\n",
              "    </tr>\n",
              "    <tr>\n",
              "      <th>3</th>\n",
              "      <td>4</td>\n",
              "      <td>2018-02-02</td>\n",
              "      <td>-66.268486</td>\n",
              "      <td>0.11</td>\n",
              "      <td>0.45</td>\n",
              "      <td>0.08</td>\n",
              "      <td>1810000.0</td>\n",
              "      <td>-8.32</td>\n",
              "    </tr>\n",
              "    <tr>\n",
              "      <th>4</th>\n",
              "      <td>5</td>\n",
              "      <td>2018-02-03</td>\n",
              "      <td>-66.268486</td>\n",
              "      <td>0.10</td>\n",
              "      <td>0.45</td>\n",
              "      <td>0.09</td>\n",
              "      <td>1200000.0</td>\n",
              "      <td>6.85</td>\n",
              "    </tr>\n",
              "  </tbody>\n",
              "</table>\n",
              "</div>"
            ],
            "text/plain": [
              "   SNo        Date      Price  Open  High   Low       Vol.  Change %\n",
              "0    1  2018-01-30 -66.268486  0.17  0.45  0.14   530470.0     -7.95\n",
              "1    4  2018-02-02 -66.268486  0.11  0.45  0.08  1810000.0     -8.32\n",
              "2    3  2018-02-01 -66.268486  0.14  0.45  0.11   987260.0    -17.46\n",
              "3    4  2018-02-02 -66.268486  0.11  0.45  0.08  1810000.0     -8.32\n",
              "4    5  2018-02-03 -66.268486  0.10  0.45  0.09  1200000.0      6.85"
            ]
          },
          "metadata": {},
          "execution_count": 306
        }
      ]
    },
    {
      "cell_type": "markdown",
      "metadata": {
        "id": "HsGBXg4jW-4X"
      },
      "source": [
        "### **Question 01**: What is the data type of `game_name`?"
      ]
    },
    {
      "cell_type": "markdown",
      "metadata": {
        "id": "pw90DMtLW-4X"
      },
      "source": [
        "### **Answer:**"
      ]
    },
    {
      "cell_type": "code",
      "metadata": {
        "colab": {
          "base_uri": "https://localhost:8080/"
        },
        "id": "FE-YBv6yW-4X",
        "outputId": "042a92b8-6499-43c8-b40e-522b814e04a0"
      },
      "source": [
        "olympic_dataset.game_name.dtype"
      ],
      "execution_count": 307,
      "outputs": [
        {
          "output_type": "execute_result",
          "data": {
            "text/plain": [
              "dtype('O')"
            ]
          },
          "metadata": {},
          "execution_count": 307
        }
      ]
    },
    {
      "cell_type": "markdown",
      "metadata": {
        "id": "cYk2j8wOW-4X"
      },
      "source": [
        "### **Question 02**:  Change the `Change %` values into integers. Hence, what will happen in result?"
      ]
    },
    {
      "cell_type": "markdown",
      "metadata": {
        "id": "yU192Y_VW-4X"
      },
      "source": [
        "### **Answer:**"
      ]
    },
    {
      "cell_type": "code",
      "metadata": {
        "colab": {
          "base_uri": "https://localhost:8080/"
        },
        "id": "2S2XpsC4W-4Y",
        "outputId": "f7efdb10-2854-4284-b7f1-bba9565ac249"
      },
      "source": [
        "cryptocurrencies_dataset[\"Change %\"].astype(int)"
      ],
      "execution_count": 308,
      "outputs": [
        {
          "output_type": "execute_result",
          "data": {
            "text/plain": [
              "0       -7\n",
              "1       -8\n",
              "2      -17\n",
              "3       -8\n",
              "4        6\n",
              "        ..\n",
              "1270     0\n",
              "1271    -2\n",
              "1272     0\n",
              "1273     1\n",
              "1274    -1\n",
              "Name: Change %, Length: 1275, dtype: int64"
            ]
          },
          "metadata": {},
          "execution_count": 308
        }
      ]
    },
    {
      "cell_type": "markdown",
      "metadata": {
        "id": "qchu1_m_W-4Y"
      },
      "source": [
        "### **Question 03**: How can you confirm whether there are some missing values in `game_slug`?"
      ]
    },
    {
      "cell_type": "markdown",
      "metadata": {
        "id": "tcTYsn4MW-4Y"
      },
      "source": [
        "### **Answer:** "
      ]
    },
    {
      "cell_type": "code",
      "metadata": {
        "colab": {
          "base_uri": "https://localhost:8080/"
        },
        "id": "MIlT-GR7W-4Y",
        "outputId": "061a5066-22ca-47a9-d8e0-c375caeacea8"
      },
      "source": [
        "missing_ = olympic_dataset[olympic_dataset.game_slug.isnull()]\n",
        "len(missing_)"
      ],
      "execution_count": 309,
      "outputs": [
        {
          "output_type": "execute_result",
          "data": {
            "text/plain": [
              "0"
            ]
          },
          "metadata": {},
          "execution_count": 309
        }
      ]
    },
    {
      "cell_type": "markdown",
      "metadata": {
        "id": "gOBMiCPjbrXi"
      },
      "source": [
        "# **Section 06**: Renaming and Combining"
      ]
    },
    {
      "cell_type": "code",
      "metadata": {
        "colab": {
          "base_uri": "https://localhost:8080/",
          "height": 204
        },
        "id": "6xeWLyHHbrX7",
        "outputId": "ee373b4d-196c-4334-cd56-3d74e3d4ed08"
      },
      "source": [
        "olympic_dataset.head()"
      ],
      "execution_count": 310,
      "outputs": [
        {
          "output_type": "execute_result",
          "data": {
            "text/html": [
              "<div>\n",
              "<style scoped>\n",
              "    .dataframe tbody tr th:only-of-type {\n",
              "        vertical-align: middle;\n",
              "    }\n",
              "\n",
              "    .dataframe tbody tr th {\n",
              "        vertical-align: top;\n",
              "    }\n",
              "\n",
              "    .dataframe thead th {\n",
              "        text-align: right;\n",
              "    }\n",
              "</style>\n",
              "<table border=\"1\" class=\"dataframe\">\n",
              "  <thead>\n",
              "    <tr style=\"text-align: right;\">\n",
              "      <th></th>\n",
              "      <th>game_slug</th>\n",
              "      <th>game_end_date</th>\n",
              "      <th>game_start_date</th>\n",
              "      <th>game_location</th>\n",
              "      <th>game_name</th>\n",
              "      <th>game_season</th>\n",
              "      <th>game_year</th>\n",
              "    </tr>\n",
              "  </thead>\n",
              "  <tbody>\n",
              "    <tr>\n",
              "      <th>0</th>\n",
              "      <td>pyeongchang-2018</td>\n",
              "      <td>2018-02-25T08:00:00Z</td>\n",
              "      <td>2018-02-08T23:00:00Z</td>\n",
              "      <td>Republic of Korea</td>\n",
              "      <td>PyeongChang 2018</td>\n",
              "      <td>Winter</td>\n",
              "      <td>2018</td>\n",
              "    </tr>\n",
              "    <tr>\n",
              "      <th>1</th>\n",
              "      <td>rio-2016</td>\n",
              "      <td>2016-08-21T21:00:00Z</td>\n",
              "      <td>2016-08-05T12:00:00Z</td>\n",
              "      <td>Brazil</td>\n",
              "      <td>Rio 2016</td>\n",
              "      <td>Summer</td>\n",
              "      <td>2016</td>\n",
              "    </tr>\n",
              "    <tr>\n",
              "      <th>2</th>\n",
              "      <td>sochi-2014</td>\n",
              "      <td>2014-02-23T16:00:00Z</td>\n",
              "      <td>2014-02-07T04:00:00Z</td>\n",
              "      <td>Russian Federation</td>\n",
              "      <td>Sochi 2014</td>\n",
              "      <td>Winter</td>\n",
              "      <td>2014</td>\n",
              "    </tr>\n",
              "    <tr>\n",
              "      <th>3</th>\n",
              "      <td>london-2012</td>\n",
              "      <td>2012-08-12T19:00:00Z</td>\n",
              "      <td>2012-07-27T07:00:00Z</td>\n",
              "      <td>Great Britain</td>\n",
              "      <td>London 2012</td>\n",
              "      <td>Summer</td>\n",
              "      <td>2012</td>\n",
              "    </tr>\n",
              "    <tr>\n",
              "      <th>4</th>\n",
              "      <td>vancouver-2010</td>\n",
              "      <td>2010-02-28T04:00:00Z</td>\n",
              "      <td>2010-02-12T16:00:00Z</td>\n",
              "      <td>Canada</td>\n",
              "      <td>Vancouver 2010</td>\n",
              "      <td>Winter</td>\n",
              "      <td>2010</td>\n",
              "    </tr>\n",
              "  </tbody>\n",
              "</table>\n",
              "</div>"
            ],
            "text/plain": [
              "          game_slug         game_end_date  ... game_season game_year\n",
              "0  pyeongchang-2018  2018-02-25T08:00:00Z  ...      Winter      2018\n",
              "1          rio-2016  2016-08-21T21:00:00Z  ...      Summer      2016\n",
              "2        sochi-2014  2014-02-23T16:00:00Z  ...      Winter      2014\n",
              "3       london-2012  2012-08-12T19:00:00Z  ...      Summer      2012\n",
              "4    vancouver-2010  2010-02-28T04:00:00Z  ...      Winter      2010\n",
              "\n",
              "[5 rows x 7 columns]"
            ]
          },
          "metadata": {},
          "execution_count": 310
        }
      ]
    },
    {
      "cell_type": "code",
      "metadata": {
        "colab": {
          "base_uri": "https://localhost:8080/",
          "height": 204
        },
        "id": "k-tMHgIrcf97",
        "outputId": "3f8a4b8a-47db-450d-e8e2-22c048fdd368"
      },
      "source": [
        "cryptocurrencies_dataset.head()"
      ],
      "execution_count": 311,
      "outputs": [
        {
          "output_type": "execute_result",
          "data": {
            "text/html": [
              "<div>\n",
              "<style scoped>\n",
              "    .dataframe tbody tr th:only-of-type {\n",
              "        vertical-align: middle;\n",
              "    }\n",
              "\n",
              "    .dataframe tbody tr th {\n",
              "        vertical-align: top;\n",
              "    }\n",
              "\n",
              "    .dataframe thead th {\n",
              "        text-align: right;\n",
              "    }\n",
              "</style>\n",
              "<table border=\"1\" class=\"dataframe\">\n",
              "  <thead>\n",
              "    <tr style=\"text-align: right;\">\n",
              "      <th></th>\n",
              "      <th>SNo</th>\n",
              "      <th>Date</th>\n",
              "      <th>Price</th>\n",
              "      <th>Open</th>\n",
              "      <th>High</th>\n",
              "      <th>Low</th>\n",
              "      <th>Vol.</th>\n",
              "      <th>Change %</th>\n",
              "    </tr>\n",
              "  </thead>\n",
              "  <tbody>\n",
              "    <tr>\n",
              "      <th>0</th>\n",
              "      <td>1</td>\n",
              "      <td>2018-01-30</td>\n",
              "      <td>-66.268486</td>\n",
              "      <td>0.17</td>\n",
              "      <td>0.45</td>\n",
              "      <td>0.14</td>\n",
              "      <td>530470.0</td>\n",
              "      <td>-7.95</td>\n",
              "    </tr>\n",
              "    <tr>\n",
              "      <th>1</th>\n",
              "      <td>4</td>\n",
              "      <td>2018-02-02</td>\n",
              "      <td>-66.268486</td>\n",
              "      <td>0.11</td>\n",
              "      <td>0.45</td>\n",
              "      <td>0.08</td>\n",
              "      <td>1810000.0</td>\n",
              "      <td>-8.32</td>\n",
              "    </tr>\n",
              "    <tr>\n",
              "      <th>2</th>\n",
              "      <td>3</td>\n",
              "      <td>2018-02-01</td>\n",
              "      <td>-66.268486</td>\n",
              "      <td>0.14</td>\n",
              "      <td>0.45</td>\n",
              "      <td>0.11</td>\n",
              "      <td>987260.0</td>\n",
              "      <td>-17.46</td>\n",
              "    </tr>\n",
              "    <tr>\n",
              "      <th>3</th>\n",
              "      <td>4</td>\n",
              "      <td>2018-02-02</td>\n",
              "      <td>-66.268486</td>\n",
              "      <td>0.11</td>\n",
              "      <td>0.45</td>\n",
              "      <td>0.08</td>\n",
              "      <td>1810000.0</td>\n",
              "      <td>-8.32</td>\n",
              "    </tr>\n",
              "    <tr>\n",
              "      <th>4</th>\n",
              "      <td>5</td>\n",
              "      <td>2018-02-03</td>\n",
              "      <td>-66.268486</td>\n",
              "      <td>0.10</td>\n",
              "      <td>0.45</td>\n",
              "      <td>0.09</td>\n",
              "      <td>1200000.0</td>\n",
              "      <td>6.85</td>\n",
              "    </tr>\n",
              "  </tbody>\n",
              "</table>\n",
              "</div>"
            ],
            "text/plain": [
              "   SNo        Date      Price  Open  High   Low       Vol.  Change %\n",
              "0    1  2018-01-30 -66.268486  0.17  0.45  0.14   530470.0     -7.95\n",
              "1    4  2018-02-02 -66.268486  0.11  0.45  0.08  1810000.0     -8.32\n",
              "2    3  2018-02-01 -66.268486  0.14  0.45  0.11   987260.0    -17.46\n",
              "3    4  2018-02-02 -66.268486  0.11  0.45  0.08  1810000.0     -8.32\n",
              "4    5  2018-02-03 -66.268486  0.10  0.45  0.09  1200000.0      6.85"
            ]
          },
          "metadata": {},
          "execution_count": 311
        }
      ]
    },
    {
      "cell_type": "markdown",
      "metadata": {
        "id": "ZwquQzSGbrX8"
      },
      "source": [
        "### **Question 01**: How can you rename `Low` and `High` with `Low` and `High`, respectively?"
      ]
    },
    {
      "cell_type": "markdown",
      "metadata": {
        "id": "u9kU_4GLbrX8"
      },
      "source": [
        "### **Answer:**"
      ]
    },
    {
      "cell_type": "code",
      "metadata": {
        "id": "DhRn_osYbrX8"
      },
      "source": [
        "\n",
        "renamed = cryptocurrencies_dataset.rename(columns=dict(Low='low', High='high'))\n"
      ],
      "execution_count": 312,
      "outputs": []
    },
    {
      "cell_type": "markdown",
      "metadata": {
        "id": "Y5ZKFYI0brX8"
      },
      "source": [
        "### **Question 02**:  Set the index name to crypto in cryptocurrencies_dataset"
      ]
    },
    {
      "cell_type": "markdown",
      "metadata": {
        "id": "lwZBmgy2brX9"
      },
      "source": [
        "### **Answer:**"
      ]
    },
    {
      "cell_type": "code",
      "metadata": {
        "colab": {
          "base_uri": "https://localhost:8080/",
          "height": 450
        },
        "id": "-Nz-hSt_brX9",
        "outputId": "5ed23bcc-a79a-48bb-9390-4340b5488654"
      },
      "source": [
        "cryptocurrencies_dataset.rename_axis('crypto', axis='rows')"
      ],
      "execution_count": 313,
      "outputs": [
        {
          "output_type": "execute_result",
          "data": {
            "text/html": [
              "<div>\n",
              "<style scoped>\n",
              "    .dataframe tbody tr th:only-of-type {\n",
              "        vertical-align: middle;\n",
              "    }\n",
              "\n",
              "    .dataframe tbody tr th {\n",
              "        vertical-align: top;\n",
              "    }\n",
              "\n",
              "    .dataframe thead th {\n",
              "        text-align: right;\n",
              "    }\n",
              "</style>\n",
              "<table border=\"1\" class=\"dataframe\">\n",
              "  <thead>\n",
              "    <tr style=\"text-align: right;\">\n",
              "      <th></th>\n",
              "      <th>SNo</th>\n",
              "      <th>Date</th>\n",
              "      <th>Price</th>\n",
              "      <th>Open</th>\n",
              "      <th>High</th>\n",
              "      <th>Low</th>\n",
              "      <th>Vol.</th>\n",
              "      <th>Change %</th>\n",
              "    </tr>\n",
              "    <tr>\n",
              "      <th>crypto</th>\n",
              "      <th></th>\n",
              "      <th></th>\n",
              "      <th></th>\n",
              "      <th></th>\n",
              "      <th></th>\n",
              "      <th></th>\n",
              "      <th></th>\n",
              "      <th></th>\n",
              "    </tr>\n",
              "  </thead>\n",
              "  <tbody>\n",
              "    <tr>\n",
              "      <th>0</th>\n",
              "      <td>1</td>\n",
              "      <td>2018-01-30</td>\n",
              "      <td>-66.268486</td>\n",
              "      <td>0.17</td>\n",
              "      <td>0.45</td>\n",
              "      <td>0.14</td>\n",
              "      <td>530470.0</td>\n",
              "      <td>-7.95</td>\n",
              "    </tr>\n",
              "    <tr>\n",
              "      <th>1</th>\n",
              "      <td>4</td>\n",
              "      <td>2018-02-02</td>\n",
              "      <td>-66.268486</td>\n",
              "      <td>0.11</td>\n",
              "      <td>0.45</td>\n",
              "      <td>0.08</td>\n",
              "      <td>1810000.0</td>\n",
              "      <td>-8.32</td>\n",
              "    </tr>\n",
              "    <tr>\n",
              "      <th>2</th>\n",
              "      <td>3</td>\n",
              "      <td>2018-02-01</td>\n",
              "      <td>-66.268486</td>\n",
              "      <td>0.14</td>\n",
              "      <td>0.45</td>\n",
              "      <td>0.11</td>\n",
              "      <td>987260.0</td>\n",
              "      <td>-17.46</td>\n",
              "    </tr>\n",
              "    <tr>\n",
              "      <th>3</th>\n",
              "      <td>4</td>\n",
              "      <td>2018-02-02</td>\n",
              "      <td>-66.268486</td>\n",
              "      <td>0.11</td>\n",
              "      <td>0.45</td>\n",
              "      <td>0.08</td>\n",
              "      <td>1810000.0</td>\n",
              "      <td>-8.32</td>\n",
              "    </tr>\n",
              "    <tr>\n",
              "      <th>4</th>\n",
              "      <td>5</td>\n",
              "      <td>2018-02-03</td>\n",
              "      <td>-66.268486</td>\n",
              "      <td>0.10</td>\n",
              "      <td>0.45</td>\n",
              "      <td>0.09</td>\n",
              "      <td>1200000.0</td>\n",
              "      <td>6.85</td>\n",
              "    </tr>\n",
              "    <tr>\n",
              "      <th>...</th>\n",
              "      <td>...</td>\n",
              "      <td>...</td>\n",
              "      <td>...</td>\n",
              "      <td>...</td>\n",
              "      <td>...</td>\n",
              "      <td>...</td>\n",
              "      <td>...</td>\n",
              "      <td>...</td>\n",
              "    </tr>\n",
              "    <tr>\n",
              "      <th>1270</th>\n",
              "      <td>1271</td>\n",
              "      <td>2021-08-20</td>\n",
              "      <td>342.141514</td>\n",
              "      <td>405.27</td>\n",
              "      <td>0.45</td>\n",
              "      <td>403.54</td>\n",
              "      <td>155020.0</td>\n",
              "      <td>0.99</td>\n",
              "    </tr>\n",
              "    <tr>\n",
              "      <th>1271</th>\n",
              "      <td>1272</td>\n",
              "      <td>2021-08-21</td>\n",
              "      <td>332.791514</td>\n",
              "      <td>409.19</td>\n",
              "      <td>0.45</td>\n",
              "      <td>393.43</td>\n",
              "      <td>145060.0</td>\n",
              "      <td>-2.28</td>\n",
              "    </tr>\n",
              "    <tr>\n",
              "      <th>1272</th>\n",
              "      <td>1273</td>\n",
              "      <td>2021-08-22</td>\n",
              "      <td>333.911514</td>\n",
              "      <td>399.84</td>\n",
              "      <td>0.45</td>\n",
              "      <td>386.63</td>\n",
              "      <td>88070.0</td>\n",
              "      <td>0.28</td>\n",
              "    </tr>\n",
              "    <tr>\n",
              "      <th>1273</th>\n",
              "      <td>1274</td>\n",
              "      <td>2021-08-23</td>\n",
              "      <td>341.261514</td>\n",
              "      <td>400.96</td>\n",
              "      <td>0.45</td>\n",
              "      <td>399.45</td>\n",
              "      <td>139750.0</td>\n",
              "      <td>1.84</td>\n",
              "    </tr>\n",
              "    <tr>\n",
              "      <th>1274</th>\n",
              "      <td>1275</td>\n",
              "      <td>2021-08-24</td>\n",
              "      <td>333.971514</td>\n",
              "      <td>408.33</td>\n",
              "      <td>0.45</td>\n",
              "      <td>398.49</td>\n",
              "      <td>116250.0</td>\n",
              "      <td>-1.79</td>\n",
              "    </tr>\n",
              "  </tbody>\n",
              "</table>\n",
              "<p>1275 rows × 8 columns</p>\n",
              "</div>"
            ],
            "text/plain": [
              "         SNo        Date       Price    Open  High     Low       Vol.  Change %\n",
              "crypto                                                                         \n",
              "0          1  2018-01-30  -66.268486    0.17  0.45    0.14   530470.0     -7.95\n",
              "1          4  2018-02-02  -66.268486    0.11  0.45    0.08  1810000.0     -8.32\n",
              "2          3  2018-02-01  -66.268486    0.14  0.45    0.11   987260.0    -17.46\n",
              "3          4  2018-02-02  -66.268486    0.11  0.45    0.08  1810000.0     -8.32\n",
              "4          5  2018-02-03  -66.268486    0.10  0.45    0.09  1200000.0      6.85\n",
              "...      ...         ...         ...     ...   ...     ...        ...       ...\n",
              "1270    1271  2021-08-20  342.141514  405.27  0.45  403.54   155020.0      0.99\n",
              "1271    1272  2021-08-21  332.791514  409.19  0.45  393.43   145060.0     -2.28\n",
              "1272    1273  2021-08-22  333.911514  399.84  0.45  386.63    88070.0      0.28\n",
              "1273    1274  2021-08-23  341.261514  400.96  0.45  399.45   139750.0      1.84\n",
              "1274    1275  2021-08-24  333.971514  408.33  0.45  398.49   116250.0     -1.79\n",
              "\n",
              "[1275 rows x 8 columns]"
            ]
          },
          "metadata": {},
          "execution_count": 313
        }
      ]
    },
    {
      "cell_type": "code",
      "metadata": {
        "colab": {
          "base_uri": "https://localhost:8080/"
        },
        "id": "bU0DNDyrbrX9",
        "outputId": "aa8dc4d0-d5ee-4edd-8635-cfd3d1a21184"
      },
      "source": [
        "type(olympic_dataset.groupby('game_location').size())"
      ],
      "execution_count": 314,
      "outputs": [
        {
          "output_type": "execute_result",
          "data": {
            "text/plain": [
              "pandas.core.series.Series"
            ]
          },
          "metadata": {},
          "execution_count": 314
        }
      ]
    },
    {
      "cell_type": "markdown",
      "metadata": {
        "id": "Q9qNxd4GbrX9"
      },
      "source": [
        "### **Question 03**: Combine the following datasets as one dataset"
      ]
    },
    {
      "cell_type": "markdown",
      "metadata": {
        "id": "CtbIddL8brX-"
      },
      "source": [
        "### **Answer:** "
      ]
    },
    {
      "cell_type": "code",
      "metadata": {
        "colab": {
          "base_uri": "https://localhost:8080/",
          "height": 419
        },
        "id": "hazv9c7YbrX-",
        "outputId": "6eda52f4-805e-4815-f7ed-007362ffa73c"
      },
      "source": [
        "cryptocurrencies_dataset2 = pd.read_csv(cryptocurrencies_dataset_repo)\n",
        "cryptocurrencies_dataset2.to_csv('/content/sample_data/cryptocurrencies.csv')\n",
        "\n",
        "pd.concat([cryptocurrencies_dataset, cryptocurrencies_dataset2])"
      ],
      "execution_count": 315,
      "outputs": [
        {
          "output_type": "execute_result",
          "data": {
            "text/html": [
              "<div>\n",
              "<style scoped>\n",
              "    .dataframe tbody tr th:only-of-type {\n",
              "        vertical-align: middle;\n",
              "    }\n",
              "\n",
              "    .dataframe tbody tr th {\n",
              "        vertical-align: top;\n",
              "    }\n",
              "\n",
              "    .dataframe thead th {\n",
              "        text-align: right;\n",
              "    }\n",
              "</style>\n",
              "<table border=\"1\" class=\"dataframe\">\n",
              "  <thead>\n",
              "    <tr style=\"text-align: right;\">\n",
              "      <th></th>\n",
              "      <th>SNo</th>\n",
              "      <th>Date</th>\n",
              "      <th>Price</th>\n",
              "      <th>Open</th>\n",
              "      <th>High</th>\n",
              "      <th>Low</th>\n",
              "      <th>Vol.</th>\n",
              "      <th>Change %</th>\n",
              "    </tr>\n",
              "  </thead>\n",
              "  <tbody>\n",
              "    <tr>\n",
              "      <th>0</th>\n",
              "      <td>1</td>\n",
              "      <td>2018-01-30</td>\n",
              "      <td>-66.268486</td>\n",
              "      <td>0.17</td>\n",
              "      <td>0.45</td>\n",
              "      <td>0.14</td>\n",
              "      <td>530470.0</td>\n",
              "      <td>-7.95</td>\n",
              "    </tr>\n",
              "    <tr>\n",
              "      <th>1</th>\n",
              "      <td>4</td>\n",
              "      <td>2018-02-02</td>\n",
              "      <td>-66.268486</td>\n",
              "      <td>0.11</td>\n",
              "      <td>0.45</td>\n",
              "      <td>0.08</td>\n",
              "      <td>1810000.0</td>\n",
              "      <td>-8.32</td>\n",
              "    </tr>\n",
              "    <tr>\n",
              "      <th>2</th>\n",
              "      <td>3</td>\n",
              "      <td>2018-02-01</td>\n",
              "      <td>-66.268486</td>\n",
              "      <td>0.14</td>\n",
              "      <td>0.45</td>\n",
              "      <td>0.11</td>\n",
              "      <td>987260.0</td>\n",
              "      <td>-17.46</td>\n",
              "    </tr>\n",
              "    <tr>\n",
              "      <th>3</th>\n",
              "      <td>4</td>\n",
              "      <td>2018-02-02</td>\n",
              "      <td>-66.268486</td>\n",
              "      <td>0.11</td>\n",
              "      <td>0.45</td>\n",
              "      <td>0.08</td>\n",
              "      <td>1810000.0</td>\n",
              "      <td>-8.32</td>\n",
              "    </tr>\n",
              "    <tr>\n",
              "      <th>4</th>\n",
              "      <td>5</td>\n",
              "      <td>2018-02-03</td>\n",
              "      <td>-66.268486</td>\n",
              "      <td>0.10</td>\n",
              "      <td>0.45</td>\n",
              "      <td>0.09</td>\n",
              "      <td>1200000.0</td>\n",
              "      <td>6.85</td>\n",
              "    </tr>\n",
              "    <tr>\n",
              "      <th>...</th>\n",
              "      <td>...</td>\n",
              "      <td>...</td>\n",
              "      <td>...</td>\n",
              "      <td>...</td>\n",
              "      <td>...</td>\n",
              "      <td>...</td>\n",
              "      <td>...</td>\n",
              "      <td>...</td>\n",
              "    </tr>\n",
              "    <tr>\n",
              "      <th>1270</th>\n",
              "      <td>1271</td>\n",
              "      <td>2021-08-20</td>\n",
              "      <td>409.190000</td>\n",
              "      <td>405.27</td>\n",
              "      <td>420.72</td>\n",
              "      <td>403.54</td>\n",
              "      <td>155020.0</td>\n",
              "      <td>0.99</td>\n",
              "    </tr>\n",
              "    <tr>\n",
              "      <th>1271</th>\n",
              "      <td>1272</td>\n",
              "      <td>2021-08-21</td>\n",
              "      <td>399.840000</td>\n",
              "      <td>409.19</td>\n",
              "      <td>415.39</td>\n",
              "      <td>393.43</td>\n",
              "      <td>145060.0</td>\n",
              "      <td>-2.28</td>\n",
              "    </tr>\n",
              "    <tr>\n",
              "      <th>1272</th>\n",
              "      <td>1273</td>\n",
              "      <td>2021-08-22</td>\n",
              "      <td>400.960000</td>\n",
              "      <td>399.84</td>\n",
              "      <td>408.44</td>\n",
              "      <td>386.63</td>\n",
              "      <td>88070.0</td>\n",
              "      <td>0.28</td>\n",
              "    </tr>\n",
              "    <tr>\n",
              "      <th>1273</th>\n",
              "      <td>1274</td>\n",
              "      <td>2021-08-23</td>\n",
              "      <td>408.310000</td>\n",
              "      <td>400.96</td>\n",
              "      <td>415.14</td>\n",
              "      <td>399.45</td>\n",
              "      <td>139750.0</td>\n",
              "      <td>1.84</td>\n",
              "    </tr>\n",
              "    <tr>\n",
              "      <th>1274</th>\n",
              "      <td>1275</td>\n",
              "      <td>2021-08-24</td>\n",
              "      <td>401.020000</td>\n",
              "      <td>408.33</td>\n",
              "      <td>413.91</td>\n",
              "      <td>398.49</td>\n",
              "      <td>116250.0</td>\n",
              "      <td>-1.79</td>\n",
              "    </tr>\n",
              "  </tbody>\n",
              "</table>\n",
              "<p>2550 rows × 8 columns</p>\n",
              "</div>"
            ],
            "text/plain": [
              "       SNo        Date       Price    Open    High     Low       Vol.  Change %\n",
              "0        1  2018-01-30  -66.268486    0.17    0.45    0.14   530470.0     -7.95\n",
              "1        4  2018-02-02  -66.268486    0.11    0.45    0.08  1810000.0     -8.32\n",
              "2        3  2018-02-01  -66.268486    0.14    0.45    0.11   987260.0    -17.46\n",
              "3        4  2018-02-02  -66.268486    0.11    0.45    0.08  1810000.0     -8.32\n",
              "4        5  2018-02-03  -66.268486    0.10    0.45    0.09  1200000.0      6.85\n",
              "...    ...         ...         ...     ...     ...     ...        ...       ...\n",
              "1270  1271  2021-08-20  409.190000  405.27  420.72  403.54   155020.0      0.99\n",
              "1271  1272  2021-08-21  399.840000  409.19  415.39  393.43   145060.0     -2.28\n",
              "1272  1273  2021-08-22  400.960000  399.84  408.44  386.63    88070.0      0.28\n",
              "1273  1274  2021-08-23  408.310000  400.96  415.14  399.45   139750.0      1.84\n",
              "1274  1275  2021-08-24  401.020000  408.33  413.91  398.49   116250.0     -1.79\n",
              "\n",
              "[2550 rows x 8 columns]"
            ]
          },
          "metadata": {},
          "execution_count": 315
        }
      ]
    }
  ]
}