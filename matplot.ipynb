{
  "nbformat": 4,
  "nbformat_minor": 0,
  "metadata": {
    "colab": {
      "name": "matplot.ipynb",
      "provenance": [],
      "authorship_tag": "ABX9TyOgkrf64phxeeAiuLmQQYHN",
      "include_colab_link": true
    },
    "kernelspec": {
      "name": "python3",
      "display_name": "Python 3"
    },
    "language_info": {
      "name": "python"
    }
  },
  "cells": [
    {
      "cell_type": "markdown",
      "metadata": {
        "id": "view-in-github",
        "colab_type": "text"
      },
      "source": [
        "<a href=\"https://colab.research.google.com/github/NadithM/pythonII/blob/master/matplot.ipynb\" target=\"_parent\"><img src=\"https://colab.research.google.com/assets/colab-badge.svg\" alt=\"Open In Colab\"/></a>"
      ]
    },
    {
      "cell_type": "code",
      "metadata": {
        "colab": {
          "base_uri": "https://localhost:8080/",
          "height": 204
        },
        "id": "_URQKf79WMaM",
        "outputId": "ec67cf91-4458-44f4-c593-3e7bd44dd3a2"
      },
      "source": [
        "import numpy as np # linear algebra\n",
        "import pandas as pd # data processing, CSV file I/O (e.g. pd.read_csv)\n",
        "\n",
        "df = pd.read_csv('/content/sample_data/olympic_hosts.csv')\n",
        "df.head()"
      ],
      "execution_count": null,
      "outputs": [
        {
          "output_type": "execute_result",
          "data": {
            "text/html": [
              "<div>\n",
              "<style scoped>\n",
              "    .dataframe tbody tr th:only-of-type {\n",
              "        vertical-align: middle;\n",
              "    }\n",
              "\n",
              "    .dataframe tbody tr th {\n",
              "        vertical-align: top;\n",
              "    }\n",
              "\n",
              "    .dataframe thead th {\n",
              "        text-align: right;\n",
              "    }\n",
              "</style>\n",
              "<table border=\"1\" class=\"dataframe\">\n",
              "  <thead>\n",
              "    <tr style=\"text-align: right;\">\n",
              "      <th></th>\n",
              "      <th>game_slug</th>\n",
              "      <th>game_end_date</th>\n",
              "      <th>game_start_date</th>\n",
              "      <th>game_location</th>\n",
              "      <th>game_name</th>\n",
              "      <th>game_season</th>\n",
              "      <th>game_year</th>\n",
              "    </tr>\n",
              "  </thead>\n",
              "  <tbody>\n",
              "    <tr>\n",
              "      <th>0</th>\n",
              "      <td>pyeongchang-2018</td>\n",
              "      <td>2018-02-25T08:00:00Z</td>\n",
              "      <td>2018-02-08T23:00:00Z</td>\n",
              "      <td>Republic of Korea</td>\n",
              "      <td>PyeongChang 2018</td>\n",
              "      <td>Winter</td>\n",
              "      <td>2018</td>\n",
              "    </tr>\n",
              "    <tr>\n",
              "      <th>1</th>\n",
              "      <td>rio-2016</td>\n",
              "      <td>2016-08-21T21:00:00Z</td>\n",
              "      <td>2016-08-05T12:00:00Z</td>\n",
              "      <td>Brazil</td>\n",
              "      <td>Rio 2016</td>\n",
              "      <td>Summer</td>\n",
              "      <td>2016</td>\n",
              "    </tr>\n",
              "    <tr>\n",
              "      <th>2</th>\n",
              "      <td>sochi-2014</td>\n",
              "      <td>2014-02-23T16:00:00Z</td>\n",
              "      <td>2014-02-07T04:00:00Z</td>\n",
              "      <td>Russian Federation</td>\n",
              "      <td>Sochi 2014</td>\n",
              "      <td>Winter</td>\n",
              "      <td>2014</td>\n",
              "    </tr>\n",
              "    <tr>\n",
              "      <th>3</th>\n",
              "      <td>london-2012</td>\n",
              "      <td>2012-08-12T19:00:00Z</td>\n",
              "      <td>2012-07-27T07:00:00Z</td>\n",
              "      <td>Great Britain</td>\n",
              "      <td>London 2012</td>\n",
              "      <td>Summer</td>\n",
              "      <td>2012</td>\n",
              "    </tr>\n",
              "    <tr>\n",
              "      <th>4</th>\n",
              "      <td>vancouver-2010</td>\n",
              "      <td>2010-02-28T04:00:00Z</td>\n",
              "      <td>2010-02-12T16:00:00Z</td>\n",
              "      <td>Canada</td>\n",
              "      <td>Vancouver 2010</td>\n",
              "      <td>Winter</td>\n",
              "      <td>2010</td>\n",
              "    </tr>\n",
              "  </tbody>\n",
              "</table>\n",
              "</div>"
            ],
            "text/plain": [
              "          game_slug         game_end_date  ... game_season game_year\n",
              "0  pyeongchang-2018  2018-02-25T08:00:00Z  ...      Winter      2018\n",
              "1          rio-2016  2016-08-21T21:00:00Z  ...      Summer      2016\n",
              "2        sochi-2014  2014-02-23T16:00:00Z  ...      Winter      2014\n",
              "3       london-2012  2012-08-12T19:00:00Z  ...      Summer      2012\n",
              "4    vancouver-2010  2010-02-28T04:00:00Z  ...      Winter      2010\n",
              "\n",
              "[5 rows x 7 columns]"
            ]
          },
          "metadata": {},
          "execution_count": 4
        }
      ]
    }
  ]
}