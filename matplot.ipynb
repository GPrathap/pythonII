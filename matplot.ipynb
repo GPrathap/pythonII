{
  "nbformat": 4,
  "nbformat_minor": 0,
  "metadata": {
    "colab": {
      "name": "matplot.ipynb",
      "provenance": [],
      "authorship_tag": "ABX9TyMXtzQi7dE71L/vzDeAprFd",
      "include_colab_link": true
    },
    "kernelspec": {
      "name": "python3",
      "display_name": "Python 3"
    },
    "language_info": {
      "name": "python"
    }
  },
  "cells": [
    {
      "cell_type": "markdown",
      "metadata": {
        "id": "view-in-github",
        "colab_type": "text"
      },
      "source": [
        "<a href=\"https://colab.research.google.com/github/NadithM/pythonII/blob/master/matplot.ipynb\" target=\"_parent\"><img src=\"https://colab.research.google.com/assets/colab-badge.svg\" alt=\"Open In Colab\"/></a>"
      ]
    },
    {
      "cell_type": "markdown",
      "metadata": {
        "id": "sEirt_AtesB5"
      },
      "source": [
        "#Demo Hello World\n",
        "\n"
      ]
    },
    {
      "cell_type": "code",
      "metadata": {
        "colab": {
          "base_uri": "https://localhost:8080/",
          "height": 289
        },
        "id": "_URQKf79WMaM",
        "outputId": "e4ae9b87-53a8-4e5e-8e9d-de17eeb75ab8"
      },
      "source": [
        "import numpy as np # linear algebra\n",
        "import pandas as pd # data processing, CSV file I/O (e.g. pd.read_csv)\n",
        "\n",
        "hosts = pd.read_csv('/content/sample_data/olympic_hosts.csv')\n",
        "hosts.head()"
      ],
      "execution_count": 4,
      "outputs": [
        {
          "output_type": "execute_result",
          "data": {
            "text/html": [
              "<div>\n",
              "<style scoped>\n",
              "    .dataframe tbody tr th:only-of-type {\n",
              "        vertical-align: middle;\n",
              "    }\n",
              "\n",
              "    .dataframe tbody tr th {\n",
              "        vertical-align: top;\n",
              "    }\n",
              "\n",
              "    .dataframe thead th {\n",
              "        text-align: right;\n",
              "    }\n",
              "</style>\n",
              "<table border=\"1\" class=\"dataframe\">\n",
              "  <thead>\n",
              "    <tr style=\"text-align: right;\">\n",
              "      <th></th>\n",
              "      <th>game_slug</th>\n",
              "      <th>game_end_date</th>\n",
              "      <th>game_start_date</th>\n",
              "      <th>game_location</th>\n",
              "      <th>game_name</th>\n",
              "      <th>game_season</th>\n",
              "      <th>game_year</th>\n",
              "    </tr>\n",
              "  </thead>\n",
              "  <tbody>\n",
              "    <tr>\n",
              "      <th>0</th>\n",
              "      <td>pyeongchang-2018</td>\n",
              "      <td>2018-02-25T08:00:00Z</td>\n",
              "      <td>2018-02-08T23:00:00Z</td>\n",
              "      <td>Republic of Korea</td>\n",
              "      <td>PyeongChang 2018</td>\n",
              "      <td>Winter</td>\n",
              "      <td>2018</td>\n",
              "    </tr>\n",
              "    <tr>\n",
              "      <th>1</th>\n",
              "      <td>rio-2016</td>\n",
              "      <td>2016-08-21T21:00:00Z</td>\n",
              "      <td>2016-08-05T12:00:00Z</td>\n",
              "      <td>Brazil</td>\n",
              "      <td>Rio 2016</td>\n",
              "      <td>Summer</td>\n",
              "      <td>2016</td>\n",
              "    </tr>\n",
              "    <tr>\n",
              "      <th>2</th>\n",
              "      <td>sochi-2014</td>\n",
              "      <td>2014-02-23T16:00:00Z</td>\n",
              "      <td>2014-02-07T04:00:00Z</td>\n",
              "      <td>Russian Federation</td>\n",
              "      <td>Sochi 2014</td>\n",
              "      <td>Winter</td>\n",
              "      <td>2014</td>\n",
              "    </tr>\n",
              "    <tr>\n",
              "      <th>3</th>\n",
              "      <td>london-2012</td>\n",
              "      <td>2012-08-12T19:00:00Z</td>\n",
              "      <td>2012-07-27T07:00:00Z</td>\n",
              "      <td>Great Britain</td>\n",
              "      <td>London 2012</td>\n",
              "      <td>Summer</td>\n",
              "      <td>2012</td>\n",
              "    </tr>\n",
              "    <tr>\n",
              "      <th>4</th>\n",
              "      <td>vancouver-2010</td>\n",
              "      <td>2010-02-28T04:00:00Z</td>\n",
              "      <td>2010-02-12T16:00:00Z</td>\n",
              "      <td>Canada</td>\n",
              "      <td>Vancouver 2010</td>\n",
              "      <td>Winter</td>\n",
              "      <td>2010</td>\n",
              "    </tr>\n",
              "  </tbody>\n",
              "</table>\n",
              "</div>"
            ],
            "text/plain": [
              "          game_slug         game_end_date  ... game_season game_year\n",
              "0  pyeongchang-2018  2018-02-25T08:00:00Z  ...      Winter      2018\n",
              "1          rio-2016  2016-08-21T21:00:00Z  ...      Summer      2016\n",
              "2        sochi-2014  2014-02-23T16:00:00Z  ...      Winter      2014\n",
              "3       london-2012  2012-08-12T19:00:00Z  ...      Summer      2012\n",
              "4    vancouver-2010  2010-02-28T04:00:00Z  ...      Winter      2010\n",
              "\n",
              "[5 rows x 7 columns]"
            ]
          },
          "metadata": {},
          "execution_count": 4
        }
      ]
    },
    {
      "cell_type": "markdown",
      "metadata": {
        "id": "41YnIvi8e7gV"
      },
      "source": [
        "#Creating And Customizing First Plot"
      ]
    },
    {
      "cell_type": "markdown",
      "metadata": {
        "id": "0_MZSYrklsIR"
      },
      "source": [
        "##(01). Creating simple 2D Graph"
      ]
    },
    {
      "cell_type": "code",
      "metadata": {
        "colab": {
          "base_uri": "https://localhost:8080/",
          "height": 295
        },
        "id": "iQP1ekdYfnwo",
        "outputId": "3c1deca7-b55e-4d87-c9fe-dd4ce53f2cc2"
      },
      "source": [
        "from matplotlib import pyplot as plt\n",
        "ages_x = [25,26,27,28,29,30,31,32,33,34,35]\n",
        "dev_y = [38496,42000,46752,49320,53200,56000,62316,64928,67317,68748,73752]\n",
        "\n",
        "plt.plot(ages_x, dev_y)\n",
        "\n",
        "plt.xlabel('Ages')\n",
        "plt.ylabel('Median Salary (USD)')\n",
        "plt.title('Median Salary (USD) by Age')\n",
        "\n",
        "plt.show()"
      ],
      "execution_count": 25,
      "outputs": [
        {
          "output_type": "display_data",
          "data": {
            "image/png": "[encoded data removed]",
            "text/plain": [
              "<Figure size 432x288 with 1 Axes>"
            ]
          },
          "metadata": {
            "needs_background": "light"
          }
        }
      ]
    },
    {
      "cell_type": "markdown",
      "metadata": {
        "id": "UMMMyU3jl6QG"
      },
      "source": [
        "##(02) "
      ]
    },
    {
      "cell_type": "code",
      "metadata": {
        "colab": {
          "base_uri": "https://localhost:8080/",
          "height": 295
        },
        "id": "IHlSmF16mO5C",
        "outputId": "4f5925b2-83c2-44e4-dedc-e0f8d9cf0a81"
      },
      "source": [
        "from matplotlib import pyplot as plt\n",
        "ages_x = [25,26,27,28,29,30,31,32,33,34,35]\n",
        "dev_y = [38496,42000,46752,49320,53200,56000,62316,64928,67317,68748,73752]\n",
        "\n",
        "plt.plot(ages_x, dev_y, color='#444444', linestyle='--',marker='.', label=\"All Devs\")\n",
        "\n",
        "py_dev_y = [45372,48876,53850,57287,63016,65998,70003,70000,71496,75370,83640]\n",
        "\n",
        "plt.plot(ages_x, py_dev_y, color='#5a7d9a', marker='o', label='Python Devs')\n",
        "\n",
        "plt.xlabel('Ages')\n",
        "plt.ylabel('Median Salary (USD)')\n",
        "plt.title('Median Salary (USD) by Age')\n",
        "\n",
        "plt.legend(['All Devs', 'Python Devs'])\n",
        "\n",
        "plt.show()"
      ],
      "execution_count": 24,
      "outputs": [
        {
          "output_type": "display_data",
          "data": {
            "image/png": "[encoded data removed]",
            "text/plain": [
              "<Figure size 432x288 with 1 Axes>"
            ]
          },
          "metadata": {
            "needs_background": "light"
          }
        }
      ]
    }
  ]
}