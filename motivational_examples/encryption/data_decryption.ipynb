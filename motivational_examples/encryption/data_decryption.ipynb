{
  "nbformat": 4,
  "nbformat_minor": 0,
  "metadata": {
    "colab": {
      "name": "data_encryption.ipynb",
      "provenance": []
    },
    "kernelspec": {
      "display_name": "Python 3",
      "name": "python3"
    },
    "language_info": {
      "name": "python"
    }
  },
  "cells": [
    {
      "cell_type": "code",
      "metadata": {
        "colab": {
          "base_uri": "https://localhost:8080/"
        },
        "id": "Mgf0theuhubR",
        "outputId": "71a6e66b-1834-4d36-f976-655a64fde665"
      },
      "source": [
        "\n",
        "\n",
        "message = input(\"Please Enter your message to be decrypted: \")\n",
        "pin = int(input(\"Please Enter your PIN: \"))\n",
        "\n",
        "message_len = len(message)\n",
        "\n",
        "reversed_message = \"\"\n",
        "decrypted_message = \"\"\n",
        "\n",
        "# reverse the message\n",
        "index = message_len\n",
        "while index > 0:\n",
        "    reversed_message += message[index-1] # save the value of str[index-1] in reversed_message\n",
        "    index =  index -1 # decrement index\n",
        "\n",
        "#add the value of the password to the reversed message\n",
        "for i in range(0, message_len):\n",
        "    if(reversed_message[i].isalpha()):\n",
        "        if(reversed_message[i].isupper()):\n",
        "            decrypted_message += chr((ord(reversed_message[i]) - ord('A') - pin ) % 26 + ord('A'))\n",
        "        else:\n",
        "            decrypted_message += chr((ord(reversed_message[i]) - ord('a') - pin ) % 26 + ord('a'))\n",
        "    else:\n",
        "        decrypted_message += reversed_message[i]\n",
        "\n",
        "print(\"Decrypted message: \", decrypted_message)\n"
      ],
      "execution_count": 3,
      "outputs": [
        {
          "output_type": "stream",
          "name": "stdout",
          "text": [
            "Please Enter your message to be decrypted: qszgD ym U\n",
            "Please Enter your PIN: 12\n",
            "Decrypted message:  I am Runge\n"
          ]
        }
      ]
    },
    {
      "cell_type": "code",
      "metadata": {
        "id": "4_1tyt4vCUa9"
      },
      "source": [
        ""
      ],
      "execution_count": null,
      "outputs": []
    },
    {
      "cell_type": "markdown",
      "metadata": {
        "id": "pJ-D95AtCLfg"
      },
      "source": [
        "Please Enter your message to be encrypted: I am Runge\n",
        "Please Enter your password: 12\n",
        "Encrypted message: qszgD ym U"
      ]
    }
  ]
}