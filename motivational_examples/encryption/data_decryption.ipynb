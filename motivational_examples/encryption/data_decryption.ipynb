{
  "nbformat": 4,
  "nbformat_minor": 0,
  "metadata": {
    "colab": {
      "name": "data_decryption.ipynb",
      "provenance": []
    },
    "kernelspec": {
      "name": "python3",
      "display_name": "Python 3"
    },
    "language_info": {
      "name": "python"
    }
  },
  "cells": [
    {
      "cell_type": "markdown",
      "metadata": {
        "id": "s6XKKLj06XTz"
      },
      "source": [
        "# **Motivational Example 2: Decryption**\n",
        "\n",
        "Let's look at an example code which decrypts an encrypted  message using a key given by the user."
      ]
    },
    {
      "cell_type": "markdown",
      "metadata": {
        "id": "kqniklEl7KFl"
      },
      "source": [
        "Let's first ask the user to input the message to be decrypted and the key."
      ]
    },
    {
      "cell_type": "code",
      "metadata": {
        "colab": {
          "base_uri": "https://localhost:8080/"
        },
        "id": "P1IsIVYt6cgs",
        "outputId": "5313d634-f6ab-4dfd-aabc-8a6d5d6620ed"
      },
      "source": [
        "message = input(\"Please Enter your message to be decrypted: \")\n",
        "pin = int(input(\"Please Enter your key: \"))"
      ],
      "execution_count": 1,
      "outputs": [
        {
          "name": "stdout",
          "output_type": "stream",
          "text": [
            "Please Enter your message to be decrypted: nmxl wxrcyhalwn cbnc\n",
            "Please Enter your key: 35\n"
          ]
        }
      ]
    },
    {
      "cell_type": "markdown",
      "metadata": {
        "id": "L_XfFSnYe7Tc"
      },
      "source": [
        ""
      ]
    },
    {
      "cell_type": "markdown",
      "metadata": {
        "id": "myER_Rnv8cR5"
      },
      "source": [
        "In this example, we encrypt a message using two steps.\n",
        "\n",
        "\n",
        "1.   Reverse the message\n",
        "2.   Shift each character in the message to the left by *n* given *n = key % 26*."
      ]
    },
    {
      "cell_type": "markdown",
      "metadata": {
        "id": "r1aZozzX-HV3"
      },
      "source": [
        "Let's reverse the message first."
      ]
    },
    {
      "cell_type": "code",
      "metadata": {
        "id": "Gr88IOmD-O64"
      },
      "source": [
        "# find length of the message\n",
        "message_len = len(message)\n",
        "\n",
        "reversed_message = \"\"\n",
        "\n",
        "# reverse the message\n",
        "index = message_len\n",
        "while index > 0:\n",
        "    reversed_message += message[index-1] # save the value of str[index-1] in reversed_message\n",
        "    index =  index -1 # decrement index"
      ],
      "execution_count": 2,
      "outputs": []
    },
    {
      "cell_type": "markdown",
      "metadata": {
        "id": "3v1z6zhy-qx2"
      },
      "source": [
        "Next, let's shift each character of the reversed message to the left by *n* (*n = key%26*)."
      ]
    },
    {
      "cell_type": "code",
      "metadata": {
        "colab": {
          "base_uri": "https://localhost:8080/"
        },
        "id": "Y_pHjtWZ8dg_",
        "outputId": "482c6d57-7027-4880-946b-9b7b6b062b24"
      },
      "source": [
        "decrypted_message = \"\"\n",
        "\n",
        "#substract the value of the password to the reversed message\n",
        "for i in range(0, message_len):\n",
        "    if(reversed_message[i].isalpha()):\n",
        "        if(reversed_message[i].isupper()):\n",
        "            decrypted_message += chr((ord(reversed_message[i]) - ord('A') - pin ) % 26 + ord('A'))\n",
        "        else:\n",
        "            decrypted_message += chr((ord(reversed_message[i]) - ord('a') - pin ) % 26 + ord('a'))\n",
        "    else:\n",
        "        decrypted_message += reversed_message[i]\n",
        "\n",
        "print(\"Decrypted message: \", decrypted_message)"
      ],
      "execution_count": 3,
      "outputs": [
        {
          "output_type": "stream",
          "name": "stdout",
          "text": [
            "Decrypted message:  test encryption code\n"
          ]
        }
      ]
    }
  ]
}
