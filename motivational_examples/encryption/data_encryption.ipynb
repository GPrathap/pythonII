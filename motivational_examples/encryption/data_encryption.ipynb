{
  "nbformat": 4,
  "nbformat_minor": 0,
  "metadata": {
    "colab": {
      "name": "data_encryption.ipynb",
      "provenance": [],
      "authorship_tag": "ABX9TyMXNXQ6Y9yQZ6cDMOVqTigb",
      "include_colab_link": true
    },
    "kernelspec": {
      "name": "python3",
      "display_name": "Python 3"
    },
    "language_info": {
      "name": "python"
    }
  },
  "cells": [
    {
      "cell_type": "markdown",
      "metadata": {
        "id": "view-in-github",
        "colab_type": "text"
      },
      "source": [
        "<a href=\"https://colab.research.google.com/github/GPrathap/pythonII/blob/master/motivational_examples/encryption/data_encryption.ipynb\" target=\"_parent\"><img src=\"https://colab.research.google.com/assets/colab-badge.svg\" alt=\"Open In Colab\"/></a>"
      ]
    },
    {
      "cell_type": "code",
      "metadata": {
        "colab": {
          "base_uri": "https://localhost:8080/"
        },
        "id": "Mgf0theuhubR",
        "outputId": "71aca016-32bf-492c-8123-4eb5320cf575"
      },
      "source": [
        "message = input(\"Please Enter your message to be encrypted:\")\n",
        "password = input(\"Please Enter your password:\")\n",
        "\n",
        "message_len = len(message)\n",
        "password_len = len(password)\n",
        "\n",
        "reversed_message = []\n",
        "encrypted_message = []\n",
        "\n",
        "# reverse the message\n",
        "index = message_len\n",
        "while index > 0:\n",
        "    reversed_message += message[index-1] # save the value of str[index-1] in reversed_message\n",
        "    index =  index -1 # decrement index\n",
        "\n",
        "#add the value of the password to the reversed message\n",
        "j = 0\n",
        "for i in range(0, message_len):\n",
        "    if(reversed_message[i].isalpha()):\n",
        "        encrypted_message += chr(ord(reversed_message[i]) + ord(password[j]) - ord('a'))\n",
        "    j = j + 1\n",
        "    if (j == password_len):\n",
        "        j = 0\n",
        "\n",
        "encrypted_message = ''.join(map(str, encrypted_message))\n",
        "print(\"Encrypted message:\", encrypted_message)"
      ],
      "execution_count": 1,
      "outputs": [
        {
          "output_type": "stream",
          "name": "stdout",
          "text": [
            "Please Enter your message to be encrypted:Gamaya\n",
            "Please Enter your password:12345\n",
            "Encrypted message: 1J3@5\u0017\n"
          ]
        }
      ]
    }
  ]
}