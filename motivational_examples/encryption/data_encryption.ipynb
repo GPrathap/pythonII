{
  "nbformat": 4,
  "nbformat_minor": 0,
  "metadata": {
    "colab": {
      "name": "data_encryption.ipynb",
      "provenance": []
    },
    "kernelspec": {
      "name": "python3",
      "display_name": "Python 3"
    },
    "language_info": {
      "name": "python"
    }
  },
  "cells": [
    {
      "cell_type": "markdown",
      "metadata": {
        "id": "s6XKKLj06XTz"
      },
      "source": [
        "# **Motivational Example 1: Encryption**\n",
        "\n",
        "Let's look at an example code which ecncrypts a message using a key given by the user."
      ]
    },
    {
      "cell_type": "markdown",
      "metadata": {
        "id": "kqniklEl7KFl"
      },
      "source": [
        "Let's first ask the user to input the message to be encrypted and the key."
      ]
    },
    {
      "cell_type": "code",
      "metadata": {
        "colab": {
          "base_uri": "https://localhost:8080/"
        },
        "id": "P1IsIVYt6cgs",
        "outputId": "2e5ad943-8933-4881-c40d-26a5892733b8"
      },
      "source": [
        "message = input(\"Please Enter your message to be encrypted: \")\n",
        "pin = int(input(\"Please Enter your key: \"))"
      ],
      "execution_count": 4,
      "outputs": [
        {
          "name": "stdout",
          "output_type": "stream",
          "text": [
            "Please Enter your message to be encrypted: abcd pqrs\n",
            "Please Enter your key: 35\n"
          ]
        }
      ]
    },
    {
      "cell_type": "markdown",
      "metadata": {
        "id": "myER_Rnv8cR5"
      },
      "source": [
        "In this example, we encrypt a message using two steps.\n",
        "\n",
        "\n",
        "1.   Reverse the message\n",
        "2.   Shift each character in the message to the right by *n* given *n = key % 26*."
      ]
    },
    {
      "cell_type": "markdown",
      "metadata": {
        "id": "r1aZozzX-HV3"
      },
      "source": [
        "Let's reverse the message first."
      ]
    },
    {
      "cell_type": "code",
      "metadata": {
        "id": "Gr88IOmD-O64"
      },
      "source": [
        "# find length of the message\n",
        "message_len = len(message)\n",
        "\n",
        "reversed_message = \"\"\n",
        "\n",
        "# reverse the message\n",
        "index = message_len\n",
        "while index > 0:\n",
        "    reversed_message += message[index-1] # save the value of str[index-1] in reversed_message\n",
        "    index =  index -1 # decrement index"
      ],
      "execution_count": 5,
      "outputs": []
    },
    {
      "cell_type": "markdown",
      "metadata": {
        "id": "3v1z6zhy-qx2"
      },
      "source": [
        "Next, let's shift each character of the reversed message to the right by *n* (*n = key%26*)."
      ]
    },
    {
      "cell_type": "code",
      "metadata": {
        "colab": {
          "base_uri": "https://localhost:8080/"
        },
        "id": "Y_pHjtWZ8dg_",
        "outputId": "06192cfd-fec5-4e1f-a106-e5f0883b2989"
      },
      "source": [
        "encrypted_message = \"\"\n",
        "\n",
        "# reverse the message\n",
        "index = message_len\n",
        "while index > 0:\n",
        "    reversed_message += message[index-1] # save the value of str[index-1] in reversed_message\n",
        "    index =  index -1 # decrement index\n",
        "\n",
        "#add the value of the password to the reversed message\n",
        "for i in range(0, message_len):\n",
        "    if(reversed_message[i].isalpha()):\n",
        "        if(reversed_message[i].isupper()):\n",
        "            encrypted_message += chr((ord(reversed_message[i]) - ord('A') + pin ) % 26 + ord('A'))\n",
        "        else:\n",
        "            encrypted_message += chr((ord(reversed_message[i]) - ord('a') + pin ) % 26 + ord('a'))\n",
        "    else:\n",
        "        encrypted_message += reversed_message[i]\n",
        "\n",
        "print(\"Encrypted message: \", encrypted_message)"
      ],
      "execution_count": 6,
      "outputs": [
        {
          "output_type": "stream",
          "name": "stdout",
          "text": [
            "Encrypted message:  bazy mlkj\n"
          ]
        }
      ]
    }
  ]
}
