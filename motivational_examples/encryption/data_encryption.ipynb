{
  "cells": [
    {
      "cell_type": "markdown",
      "metadata": {
        "colab_type": "text",
        "id": "view-in-github"
      },
      "source": [
        "<a href=\"https://colab.research.google.com/github/GPrathap/pythonII/blob/master/motivational_examples/encryption/data_encryption.ipynb\" target=\"_parent\"><img src=\"https://colab.research.google.com/assets/colab-badge.svg\" alt=\"Open In Colab\"/></a>"
      ]
    },
    {
      "cell_type": "code",
      "execution_count": null,
      "metadata": {
        "colab": {
          "base_uri": "https://localhost:8080/"
        },
        "id": "Mgf0theuhubR",
        "outputId": "71aca016-32bf-492c-8123-4eb5320cf575"
      },
      "outputs": [],
      "source": [
        "\n",
        "\n",
        "message = input(\"Please Enter your message to be encrypted: \")\n",
        "pin = int(input(\"Please Enter your PIN: \"))\n",
        "\n",
        "message_len = len(message)\n",
        "\n",
        "reversed_message = \"\"\n",
        "encrypted_message = \"\"\n",
        "\n",
        "# reverse the message\n",
        "index = message_len\n",
        "while index > 0:\n",
        "    reversed_message += message[index-1] # save the value of str[index-1] in reversed_message\n",
        "    index =  index -1 # decrement index\n",
        "\n",
        "#add the value of the password to the reversed message\n",
        "for i in range(0, message_len):\n",
        "    if(reversed_message[i].isalpha()):\n",
        "        if(reversed_message[i].isupper()):\n",
        "            encrypted_message += chr((ord(reversed_message[i]) - ord('A') + pin ) % 26 + ord('A'))\n",
        "        else:\n",
        "            encrypted_message += chr((ord(reversed_message[i]) - ord('a') + pin ) % 26 + ord('a'))\n",
        "    else:\n",
        "        encrypted_message += reversed_message[i]\n",
        "\n",
        "print(\"Encrypted message: \", encrypted_message)\n"
      ]
    },
    {
      "cell_type": "markdown",
      "metadata": {},
      "source": [
        "Please Enter your message to be encrypted: I am Runge\n",
        "Please Enter your password: 12\n",
        "Encrypted message: qszgD ym U"
      ]
    }
  ],
  "metadata": {
    "colab": {
      "authorship_tag": "ABX9TyMXNXQ6Y9yQZ6cDMOVqTigb",
      "include_colab_link": true,
      "name": "data_encryption.ipynb",
      "provenance": []
    },
    "kernelspec": {
      "display_name": "Python 3",
      "name": "python3"
    },
    "language_info": {
      "name": "python"
    }
  },
  "nbformat": 4,
  "nbformat_minor": 0
}
