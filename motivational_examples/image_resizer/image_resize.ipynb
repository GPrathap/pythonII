{
  "nbformat": 4,
  "nbformat_minor": 0,
  "metadata": {
    "colab": {
      "name": "image_resize.ipynb",
      "provenance": [],
      "authorship_tag": "ABX9TyOTmdVEzuBga8lt7xBFWuYB",
      "include_colab_link": true
    },
    "kernelspec": {
      "name": "python3",
      "display_name": "Python 3"
    },
    "language_info": {
      "name": "python"
    }
  },
  "cells": [
    {
      "cell_type": "markdown",
      "metadata": {
        "id": "view-in-github",
        "colab_type": "text"
      },
      "source": [
        "<a href=\"https://colab.research.google.com/github/GPrathap/pythonII/blob/master/motivation_examples/image_resizer/image_resize.ipynb\" target=\"_parent\"><img src=\"https://colab.research.google.com/assets/colab-badge.svg\" alt=\"Open In Colab\"/></a>"
      ]
    },
    {
      "cell_type": "markdown",
      "metadata": {
        "id": "vtjMc15D-iiD"
      },
      "source": [
        "Lists all jpg files in /content/sample_data/ and resize them to 500x500 and write to resized/\n"
      ]
    },
    {
      "cell_type": "code",
      "metadata": {
        "colab": {
          "base_uri": "https://localhost:8080/"
        },
        "id": "nwT5VgTHloK6",
        "outputId": "b0e7ee82-cddc-4266-c6d8-8c84819d9ac6"
      },
      "source": [
        "from PIL import Image\n",
        "import os\n",
        "import requests \n",
        "\n",
        "\n",
        "\n",
        "def resize_image(input_filename, output_filename):\n",
        "    img = Image.open(input_filename)\n",
        "    new_img = img.resize((500,500))\n",
        "    new_img.save(output_filename)\n",
        "\n",
        "\n",
        "images_list = ['00000001_000.jpg', '00000001_005.jpg', '00000001_008.jpg', '00000001_016.jpg']\n",
        "for img_name in images_list:\n",
        "  response = requests.get(\"https://github.com/GPrathap/pythonII/raw/master/dataset/cats/cat_00/\" + img_name)\n",
        "  file = open(\"/content/sample_data/\" + img_name, \"wb\")\n",
        "  file.write(response.content)\n",
        "  file.close()\n",
        "\n",
        "file_list = os.listdir('/content/sample_data/')\n",
        "file_list_n = len(file_list)\n",
        "for i in range(0,file_list_n):\n",
        "    file_name = file_list[i]\n",
        "    input_file_path = os.path.join('/content/sample_data/', file_name)\n",
        "    output_file_path = os.path.join('/content/sample_data/', 'resized'+file_name)\n",
        "    if file_name.endswith(\".jpg\"):\n",
        "        resize_image(input_file_path, output_file_path)"
      ],
      "execution_count": 12,
      "outputs": [
        {
          "output_type": "stream",
          "name": "stdout",
          "text": [
            "/content/sample_data/00000001_000.jpg\n",
            "/content/sample_data/00000001_008.jpg\n",
            "/content/sample_data/00000001_005.jpg\n",
            "/content/sample_data/00000001_016.jpg\n"
          ]
        }
      ]
    }
  ]
}