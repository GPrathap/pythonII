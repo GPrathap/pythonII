{
  "nbformat": 4,
  "nbformat_minor": 0,
  "metadata": {
    "colab": {
      "name": "password_breaker.ipynb",
      "provenance": [],
      "include_colab_link": true
    },
    "kernelspec": {
      "name": "python3",
      "display_name": "Python 3"
    },
    "language_info": {
      "name": "python"
    }
  },
  "cells": [
    {
      "cell_type": "markdown",
      "metadata": {
        "id": "view-in-github",
        "colab_type": "text"
      },
      "source": [
        "<a href=\"https://colab.research.google.com/github/GPrathap/pythonII/blob/master/motivational_examples/password_breaker/password_breaker.ipynb\" target=\"_parent\"><img src=\"https://colab.research.google.com/assets/colab-badge.svg\" alt=\"Open In Colab\"/></a>"
      ]
    },
    {
      "cell_type": "markdown",
      "source": [
        "# Password Breaker\n",
        "\n",
        "This program is to find the password of an AES encrypted zip file. \n",
        "\n"
      ],
      "metadata": {
        "id": "nP2-c42gAGDm"
      }
    },
    {
      "cell_type": "markdown",
      "metadata": {
        "id": "pxzw9Bc2kC_r"
      },
      "source": [
        "### Install required libraries"
      ]
    },
    {
      "cell_type": "code",
      "metadata": {
        "id": "UECelJDxkBs1"
      },
      "source": [
        "!pip install pyzipper"
      ],
      "execution_count": null,
      "outputs": []
    },
    {
      "cell_type": "code",
      "metadata": {
        "id": "Eg99gSEjna8y"
      },
      "source": [
        "from urllib.request import urlopen   \n",
        "\n",
        "URL = 'https://github.com/GPrathap/pythonII/blob/master/dataset/password_breaker/secret_img1.zip?raw=true'\n",
        "url = urlopen(URL)\n",
        "output = open('/content/sample_data/secret_img1.zip', 'wb')    # note the flag:  \"wb\"        \n",
        "output.write(url.read())\n",
        "output.close()"
      ],
      "execution_count": 6,
      "outputs": []
    },
    {
      "cell_type": "markdown",
      "metadata": {
        "id": "ghiELCPnoxXy"
      },
      "source": [
        "###Break passsword of an AES encrypted zip file"
      ]
    },
    {
      "cell_type": "markdown",
      "source": [
        "The password of the encrypted file is a 4 character word. The following python code that will run through every possible combination of alphabetical four characher passwords and output the correct password."
      ],
      "metadata": {
        "id": "iXou00qYqsTC"
      }
    },
    {
      "cell_type": "code",
      "source": [
        "import pyzipper\n",
        "\n",
        "zip_file = pyzipper.AESZipFile('/content/sample_data/secret_img1.zip')"
      ],
      "metadata": {
        "id": "-VEoEYvYcN8E"
      },
      "execution_count": 7,
      "outputs": []
    },
    {
      "cell_type": "markdown",
      "source": [
        "####Approach 1\n",
        "\n",
        "In this code, we use four nested **for loops** to generate the all possible combinations. When it finds the correct password, it breaks all the four loops and print the password. Inside every for loop, we check the value of the flag variable called *foundPwd_flag* (whether it is true or false). If the flag variable *foundPwd_flag* is true then the for loops are breaked one by one (from inner loop to outer loop)."
      ],
      "metadata": {
        "id": "uhfYpqgtrPll"
      }
    },
    {
      "cell_type": "code",
      "metadata": {
        "id": "sBsf88utjkoA"
      },
      "source": [
        "start_ascii=ord('a')\n",
        "end_ascii=ord('z')\n",
        "foundPwd_flag=False\n",
        "\n",
        "for i in range (start_ascii, end_ascii):\n",
        "    for j in range (start_ascii, end_ascii):\n",
        "        for k in range (start_ascii, end_ascii):\n",
        "            for l in range (start_ascii, end_ascii):\n",
        "                password_binary=bytes([i,j,k,l])\n",
        "                zip_file.setpassword(password_binary)\n",
        "                print('Trying ', password_binary.decode())\n",
        "                try:\n",
        "                    zip_file.testzip()\n",
        "                except:\n",
        "                   continue\n",
        "                else:\n",
        "                    print(\"password is: \",password_binary.decode())\n",
        "                    foundPwd_flag=True\n",
        "                    break\n",
        "            if foundPwd_flag:\n",
        "              break\n",
        "        if foundPwd_flag:\n",
        "          break\n",
        "    if foundPwd_flag:\n",
        "      break\n",
        "\n",
        "if foundPwd_flag==False:\n",
        "  print(\"Could not find password\")\n"
      ],
      "execution_count": null,
      "outputs": []
    },
    {
      "cell_type": "markdown",
      "source": [
        "####Approach 2\n",
        "\n",
        "The above approach can be implemented in a different way using **else** conditional statement with **for loop**.\n",
        "\n",
        "Unlike the programming languages such as C/C++, Java, etc, Python allows us to use the **else** condition with **for loops**. \n",
        "\n",
        "The **else** block just after **for** is executed only when the loop is **NOT** terminated by a **break** statement.\n",
        "\n",
        "Let's look at some examples before apply this to the password breaker."
      ],
      "metadata": {
        "id": "EZ5a3ib_WJ7N"
      }
    },
    {
      "cell_type": "code",
      "source": [
        "#example 1\n",
        "for i in range(1, 6):\n",
        "    print(i)\n",
        "else:  # Executed because no break in for loop\n",
        "    print(\"No Break\")"
      ],
      "metadata": {
        "colab": {
          "base_uri": "https://localhost:8080/"
        },
        "id": "VyoNLHnlXzTJ",
        "outputId": "49177d4c-7de9-4020-f706-26ad9449a06c"
      },
      "execution_count": null,
      "outputs": [
        {
          "output_type": "stream",
          "name": "stdout",
          "text": [
            "1\n",
            "2\n",
            "3\n",
            "4\n",
            "5\n",
            "No Break\n"
          ]
        }
      ]
    },
    {
      "cell_type": "code",
      "source": [
        "#example 2\n",
        "for i in range(1, 6):\n",
        "    print(i)\n",
        "    break\n",
        "else:  # Not executed because there is a break in for loop\n",
        "    print(\"No Break\")"
      ],
      "metadata": {
        "colab": {
          "base_uri": "https://localhost:8080/"
        },
        "id": "9B-SjXqWYE2P",
        "outputId": "c07b0c49-9853-463c-da4a-39d291de1645"
      },
      "execution_count": null,
      "outputs": [
        {
          "output_type": "stream",
          "name": "stdout",
          "text": [
            "1\n"
          ]
        }
      ]
    },
    {
      "cell_type": "markdown",
      "source": [
        "In first example, numbers from 1 to 5 are printed and then else block was executed since there is no **break** in the loop. However, in the second example there is a **break** in the for loop after the print command. When for looop starts, the value of i variable is 1. Then it starts to execute the commands inside the for loop. First, 1 is printed (print(i)). Then break statement is executed terminating the current for loop. The **else** clause is not executed since the loop gets terminated by the break statement (**No Break** is not printed)."
      ],
      "metadata": {
        "id": "O2lrTEGiXtjP"
      }
    },
    {
      "cell_type": "markdown",
      "source": [
        "**Note:**\n",
        "*   The **else** clause will not be executed if the loop gets terminated by a **break** statement.\n",
        "*   If a loop does not hit a **break** statement, then the **else** clause will be executed **once** after the loop has completed all its iterations (meaning, after the loop has completed **normally**).\n",
        "\n",
        "<img src='https://drive.google.com/uc?id=1U6rGcbDaB-PtTexmcutN4AvvngVipkd8' width=\"400\" height=\"200\">\n",
        "\n",
        "Source: <a href=\"https://towardsdatascience.com/python-for-else-and-while-else-clearly-explained-with-4-real-world-examples-2b23ca6f6a51\">towardsdatascience.com</a>\n",
        "\n",
        "\n"
      ],
      "metadata": {
        "id": "lScE0vX7ajtU"
      }
    },
    {
      "cell_type": "markdown",
      "source": [
        "Let's apply this to our password breaker program."
      ],
      "metadata": {
        "id": "w24vaINllUNs"
      }
    },
    {
      "cell_type": "code",
      "source": [
        "start_ascii=ord('a')\n",
        "end_ascii=ord('z')\n",
        "\n",
        "for i in range (start_ascii, end_ascii):\n",
        "    for j in range (start_ascii, end_ascii):\n",
        "        for k in range (start_ascii, end_ascii):\n",
        "            for l in range (start_ascii, end_ascii):\n",
        "                password_binary=bytes([i,j,k,l])\n",
        "                zip_file.setpassword(password_binary)\n",
        "                print('Trying ', password_binary.decode())\n",
        "                try:\n",
        "                    zip_file.testzip()\n",
        "                except:\n",
        "                   continue\n",
        "                else:\n",
        "                    print(\"password is: \",password_binary.decode())\n",
        "                    break\n",
        "            else:\n",
        "              continue\n",
        "\n",
        "            break\n",
        "        else:\n",
        "          continue\n",
        "\n",
        "        break\n",
        "    else:\n",
        "        continue\n",
        "\n",
        "    break\n",
        "else:\n",
        "  print(\"Could not find password\")\n"
      ],
      "metadata": {
        "id": "A46v2QS0KzoB"
      },
      "execution_count": null,
      "outputs": []
    },
    {
      "cell_type": "markdown",
      "source": [
        "Approach 1 uses a flag variable (foundPwd_flag) to check if it finds the correct password (traditional way). As in the Approach 2, we can easily write the same program using use **break** statement and the loop’s **else** clause.\n",
        "\n",
        "\n"
      ],
      "metadata": {
        "id": "MURX15Racd8r"
      }
    },
    {
      "cell_type": "markdown",
      "source": [
        "####Approach 3\n",
        "\n",
        "\n",
        "\n"
      ],
      "metadata": {
        "id": "_-Jd09Mlkiex"
      }
    },
    {
      "cell_type": "markdown",
      "source": [
        "We can use Python's **itertool.permutations()** method to generate a list of all possible alphabetical four characher arrangements instead of using four **for** loops.\n",
        "\n",
        "Let’s take a look at how the **permutations()** function works:\n",
        "\n",
        "**itertools.permutations(iterable, r)**\n",
        "\n",
        "*   **iterable** refers to the iterable for which you want to find permutations\n",
        "*   **r** refers to the length of permutation needed\n",
        "\n"
      ],
      "metadata": {
        "id": "GuVReULJlcY3"
      }
    },
    {
      "cell_type": "code",
      "source": [
        "#Example\n",
        "from itertools import permutations\n",
        "char_list = ['a', 'b', 'c']\n",
        "r=2\n",
        "permutations_list = list(permutations(char_list, r))\n",
        "print(permutations_list)"
      ],
      "metadata": {
        "colab": {
          "base_uri": "https://localhost:8080/"
        },
        "id": "dxuhVPXAmCc_",
        "outputId": "3bdc4b62-4418-4b23-9223-e498f5ee5c1c"
      },
      "execution_count": 18,
      "outputs": [
        {
          "output_type": "stream",
          "name": "stdout",
          "text": [
            "[('a', 'b'), ('a', 'c'), ('b', 'a'), ('b', 'c'), ('c', 'a'), ('c', 'b')]\n"
          ]
        }
      ]
    },
    {
      "cell_type": "markdown",
      "source": [
        "Let's rewrite the password breaker program using  **itertool.permutations().** "
      ],
      "metadata": {
        "id": "Ie97HuFbmhyP"
      }
    },
    {
      "cell_type": "code",
      "source": [
        "from itertools import permutations\n",
        "import string\n",
        "\n",
        "#get list of the alphabet \n",
        "alphabet_list=list(string.ascii_lowercase)\n",
        "#since the password is a four character word \n",
        "r=4\n",
        "#generate all possible arrangements\n",
        "permutations_list = list(permutations(alphabet_list, r))\n",
        "\n",
        "#iterate over the permutation list to find the correct password\n",
        "for permutation in permutations_list:\n",
        "  permutation_str = ''.join(permutation)\n",
        "  print('Trying ', permutation_str)\n",
        "  zip_file.setpassword(bytes(permutation_str, 'utf-8'))\n",
        "  try:\n",
        "      zip_file.testzip()\n",
        "  except:\n",
        "      continue\n",
        "  else:\n",
        "      print(\"password is: \",permutation_str)\n",
        "      break\n"
      ],
      "metadata": {
        "id": "O6fwFxcXmwvK"
      },
      "execution_count": null,
      "outputs": []
    }
  ]
}