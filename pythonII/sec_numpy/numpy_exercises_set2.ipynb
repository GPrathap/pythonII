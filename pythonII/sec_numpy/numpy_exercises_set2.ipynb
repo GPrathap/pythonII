{
  "nbformat": 4,
  "nbformat_minor": 0,
  "metadata": {
    "colab": {
      "name": "numpy_exercises_set2.ipynb",
      "provenance": [],
      "authorship_tag": "ABX9TyOmRcJZ9lno0VdMcYzROrW0",
      "include_colab_link": true
    },
    "kernelspec": {
      "name": "python3",
      "display_name": "Python 3"
    },
    "language_info": {
      "name": "python"
    }
  },
  "cells": [
    {
      "cell_type": "markdown",
      "metadata": {
        "id": "view-in-github",
        "colab_type": "text"
      },
      "source": [
        "<a href=\"https://colab.research.google.com/github/GPrathap/pythonII/blob/master/pythonII/sec_numpy/numpy_exercises_set2.ipynb\" target=\"_parent\"><img src=\"https://colab.research.google.com/assets/colab-badge.svg\" alt=\"Open In Colab\"/></a>"
      ]
    },
    {
      "cell_type": "markdown",
      "source": [
        "# Exercise 2 - Image processing with NumPy"
      ],
      "metadata": {
        "id": "w3Ozr64XY517"
      }
    },
    {
      "cell_type": "markdown",
      "source": [
        "Various image processing can be performed using NumPy functions by reading the image as a NumPy array.\n",
        "\n",
        "රූපය (image), NumPy array ලෙස ගැනීමෙන් විවිධ රූප සැකසුම් සිදුකිරීමට NumPy library භාවිත කල හැකිය."
      ],
      "metadata": {
        "id": "d4CZZK6XdbEj"
      }
    },
    {
      "cell_type": "markdown",
      "source": [
        "## Following information will be useful to understand the applciation of NumPy in image processing"
      ],
      "metadata": {
        "id": "2EZcNcKhZLIK"
      }
    },
    {
      "cell_type": "markdown",
      "source": [
        "Images are compiled using pixels, or tiny dots, containing unique colour and tonal information that come together to create the image.\n",
        "\n",
        "පින්තුර සැදී ඇත්තේ පික්සල (pixel) හෙවත් කුඩා තිත් වලිනි. මෙම pixel වල රූපය නිර්මාණය කිරීම අවශ්‍ය වන වර්ණ සහ tone (එලිය, අඳුර, වර්ණ විචලනය) පිලිබඳ තොරතුරු අඩංගු වේ.\n",
        "\n",
        "Look at the following example.\n",
        "පහත උදාහරණය බලන්න."
      ],
      "metadata": {
        "id": "GPROafkjLqUd"
      }
    },
    {
      "cell_type": "markdown",
      "source": [
        "This is a 6x4 pixel RGB image.\n",
        "\n",
        "පහත දැක්වෙන්නේ 6 x 4 pixel පින්තුරයකි.\n",
        "\n",
        "<img src='https://drive.google.com/uc?id=1a4THRiwHXIPsgaGMRzDp-xiClwCeA5F4' width=\"300\" height=\"200\">\n",
        "\n",
        "*   This image contains 4 lines of pixels. \n",
        "    \n",
        "    මෙම රූපය pixel පේලි 4කින් සමන්විතය.\n",
        "\n",
        "<img src='https://drive.google.com/uc?id=1aWt9_KnRpKHnntpFYoxJQmv9TcR66zzo' width=\"300\" height=\"200\">\n",
        "\n",
        "*   Each line of pixels contains 6 pixels.\n",
        "\n",
        "    සෑම pixel පේලියක්ම pixels 6කින් සමන්විතය. \n",
        "\n",
        "<img src='https://drive.google.com/uc?id=1kc7shJwjLpBHkza4_JblWBcKO2cGwAFH' width=\"300\" height=\"80\">\n",
        "\n",
        "*   Each pixel contains 3 bytes (representing the red, green and blue values of the pixel colour).\n",
        "\n",
        "    සෑම pixel එකකම bytes 3ක් ඇත. ඒවායින් pixel එකෙහි වර්ණයේ රතු, කොළ, සහ නිල් වර්ණ සංයුතීන් නිරුපණය වේ.\n",
        "\n",
        "<img src='https://drive.google.com/uc?id=17IVXNvdd3kapiNc-ciEtPsqOIEG29leq' width=\"120\" height=\"60\">\n",
        "\n",
        "Therefore, RGB images are usually stored as 3-dimensional arrays and the shape of the array **height x width x 3**.\n",
        "\n",
        "එමනිසා RGB පින්තුර මාන 3ක arrays වල ගබඩා කරනු ලැබේ. එම arrays වල හැඩය **උස x පළල x 3** වේ.\n",
        "\n",
        "Here is how we create an array to represent a 6x4 pixel RGB image.\n",
        "\n",
        "පහතින් දැක්වෙන්නේ 6x4 pixel RGB පින්තුරයක් නිරුපණය කිරීමට array එකක් නිර්මාණය කරන ආකාරයයි.\n",
        "\n",
        "\n",
        "\n",
        "\n",
        "\n",
        "\n"
      ],
      "metadata": {
        "id": "aBOIa-5DOYIC"
      }
    },
    {
      "cell_type": "code",
      "source": [
        "import numpy as np\n",
        "\n",
        "width = 5\n",
        "height = 4\n",
        "\n",
        "array = np.zeros([height, width, 3], dtype=np.uint8)\n"
      ],
      "metadata": {
        "id": "defiB1RRNUC0"
      },
      "execution_count": null,
      "outputs": []
    },
    {
      "cell_type": "markdown",
      "source": [
        " \n",
        "**Note:**\n",
        "\n",
        "The data is ordered by lines, pixels for each line, and then 3-byte values for RGB (pixel details). Therefore, the first dimension is the height, and the second dimension is the width. \n",
        "\n",
        "array එක නිර්මාණයේදී මුලින් පින්තුරයේ ඇති pixel පේලි ගණනද දෙවනුව එක පේළියක ඇති pixels ගණනද අවසානයේ RGB සංයුතීන් නිරුපණයට byte 3ක් ද ලබා දිය යුතුය.\n"
      ],
      "metadata": {
        "id": "x059WnYHXjgb"
      }
    },
    {
      "cell_type": "markdown",
      "source": [
        "##Import required libraries"
      ],
      "metadata": {
        "id": "uayl4IPahRGs"
      }
    },
    {
      "cell_type": "code",
      "source": [
        "from PIL import Image #Python Imaging Library\n",
        "import numpy as np"
      ],
      "metadata": {
        "id": "sbrj3oNlhQFL"
      },
      "execution_count": 3,
      "outputs": []
    },
    {
      "cell_type": "markdown",
      "source": [
        "## Download the dataset"
      ],
      "metadata": {
        "id": "6Ca-6hliZoUS"
      }
    },
    {
      "cell_type": "markdown",
      "source": [
        "Let's download the necessary datasets to your working environment.\n",
        "\n",
        "අවශ්‍ය දත්ත කට්ටල බාගත කරමු."
      ],
      "metadata": {
        "id": "9KX_v2h5GqZE"
      }
    },
    {
      "cell_type": "code",
      "source": [
        "from urllib.request import urlopen   \n",
        "\n",
        "URL = 'https://raw.githubusercontent.com/GPrathap/pythonII/master/dataset/cats/cat_00/00000002_001.jpg?raw=true'\n",
        "url = urlopen(URL)\n",
        "output_img = open('/content/sample_data/cat.jpg', 'wb')    # note the flag:  \"wb\"        \n",
        "output_img.write(url.read())\n",
        "output_img.close()"
      ],
      "metadata": {
        "id": "RVbBbXQki0fL"
      },
      "execution_count": 11,
      "outputs": []
    },
    {
      "cell_type": "markdown",
      "source": [
        "##Let's start the exercise"
      ],
      "metadata": {
        "id": "fuz6R4ZVjrW9"
      }
    },
    {
      "cell_type": "markdown",
      "source": [
        "###Read the image file as NumPy array"
      ],
      "metadata": {
        "id": "sVwIKijhkZJL"
      }
    },
    {
      "cell_type": "markdown",
      "source": [
        "Original image:\n",
        "\n",
        "<img src='https://drive.google.com/uc?id=18k1JMNFypRODuEgeqpMX_M1jhh0_zP2R' width=\"300\" height=\"250\">"
      ],
      "metadata": {
        "id": "oiCOYgXv3Us_"
      }
    },
    {
      "cell_type": "code",
      "source": [
        "image_file='/content/sample_data/cat.jpg'\n",
        "img_array = np.array(Image.open(image_file))"
      ],
      "metadata": {
        "id": "PGuP4uBthGpq"
      },
      "execution_count": 17,
      "outputs": []
    },
    {
      "cell_type": "markdown",
      "source": [
        "Let's look at the data type and the shape of the array.\n",
        "\n",
        "We used **dtype** and **shape** attributes to find the data type and the shape of the array respectively.\n"
      ],
      "metadata": {
        "id": "1pL8f645kv0Q"
      }
    },
    {
      "cell_type": "code",
      "source": [
        "print(img_array.dtype)\n",
        "print(img_array.shape)"
      ],
      "metadata": {
        "colab": {
          "base_uri": "https://localhost:8080/"
        },
        "id": "LV81fusYjLII",
        "outputId": "e85a3c79-1c2d-41af-e07a-93bea4bd08a1"
      },
      "execution_count": 18,
      "outputs": [
        {
          "output_type": "stream",
          "name": "stdout",
          "text": [
            "uint8\n",
            "(768, 1024, 3)\n"
          ]
        }
      ]
    },
    {
      "cell_type": "markdown",
      "source": [
        "According to the above results, this array is a **3-dimentional** array with **uint8** data type. The array has 768 rows and 1024 columns. This implies that the image has 768 pixel lines and 1024 pixels for each line.\n",
        "\n",
        "**Note:**\n",
        "uint8 is an 8-bit unsigned integer (range: 0 through 255 decimal)."
      ],
      "metadata": {
        "id": "X2cBXlXHodpk"
      }
    },
    {
      "cell_type": "markdown",
      "source": [
        "###Get and set (change) pixel values"
      ],
      "metadata": {
        "id": "fxarM0bDnnQT"
      }
    },
    {
      "cell_type": "markdown",
      "source": [
        "You can get the value of a pixel by specifying the coordinates at the index [row, column] of array."
      ],
      "metadata": {
        "id": "WzaEOiZPnonC"
      }
    },
    {
      "cell_type": "code",
      "source": [
        "print(img_array[100, 200])"
      ],
      "metadata": {
        "colab": {
          "base_uri": "https://localhost:8080/"
        },
        "id": "CEBPQ0OxmuE7",
        "outputId": "9893f944-582b-4490-ec49-e5fc1943ca26"
      },
      "execution_count": 20,
      "outputs": [
        {
          "output_type": "stream",
          "name": "stdout",
          "text": [
            "[68 58 57]\n"
          ]
        }
      ]
    },
    {
      "cell_type": "markdown",
      "source": [
        "The 200th pixel in the 100th line has intensity values of 68, 58 and 57 for red, green, and blue respectively."
      ],
      "metadata": {
        "id": "l-eCNBrvoR25"
      }
    },
    {
      "cell_type": "markdown",
      "source": [
        "You can also assign RGB values of a specific pixel to separate variables."
      ],
      "metadata": {
        "id": "UhUdNpMFpgqA"
      }
    },
    {
      "cell_type": "code",
      "source": [
        "red, green, blue = img_array[100, 200]\n",
        "\n",
        "print(\"Red intensity: \",red)\n",
        "print(\"Green intensity: \",green)\n",
        "print(\"Blue intensity: \",blue)"
      ],
      "metadata": {
        "colab": {
          "base_uri": "https://localhost:8080/"
        },
        "id": "71IqUJfJpkC7",
        "outputId": "e0469bbe-3b46-4216-cb6f-e08505296e42"
      },
      "execution_count": 21,
      "outputs": [
        {
          "output_type": "stream",
          "name": "stdout",
          "text": [
            "Red intensity:  68\n",
            "Green intensity:  58\n",
            "Blue intensity:  57\n"
          ]
        }
      ]
    },
    {
      "cell_type": "markdown",
      "source": [
        "It is also possible to get the value by specifying the color."
      ],
      "metadata": {
        "id": "jEQRt-DwqOTp"
      }
    },
    {
      "cell_type": "code",
      "source": [
        "print(\"Red intensity: \",img_array[100, 200, 0])\n",
        "print(\"Green intensity: \",img_array[100, 200, 1])\n",
        "print(\"Blue intensity: \",img_array[100, 200, 2])"
      ],
      "metadata": {
        "colab": {
          "base_uri": "https://localhost:8080/"
        },
        "id": "3lcEGjMCqQIh",
        "outputId": "8c9b9471-226a-4e98-a6d3-95c4f277ae3d"
      },
      "execution_count": 22,
      "outputs": [
        {
          "output_type": "stream",
          "name": "stdout",
          "text": [
            "Red intensity:  68\n",
            "Green intensity:  58\n",
            "Blue intensity:  57\n"
          ]
        }
      ]
    },
    {
      "cell_type": "markdown",
      "source": [
        "You can also change pixel value to a new value. \n",
        "\n",
        "You can change RGB all at once or change a single color you want to change."
      ],
      "metadata": {
        "id": "0SxRYPk0qkCC"
      }
    },
    {
      "cell_type": "code",
      "source": [
        "#change the entire pixel value\n",
        "img_array[100, 200] = (0, 50, 100)\n",
        "print(img_array[100, 200])\n"
      ],
      "metadata": {
        "colab": {
          "base_uri": "https://localhost:8080/"
        },
        "id": "kQ37E8e-qjCr",
        "outputId": "d8639ac2-9409-4c4f-e1e9-e21d35333ce4"
      },
      "execution_count": 23,
      "outputs": [
        {
          "output_type": "stream",
          "name": "stdout",
          "text": [
            "[  0  50 100]\n"
          ]
        }
      ]
    },
    {
      "cell_type": "markdown",
      "source": [
        "Now the value of the pixel is not [68 58 57]. It is [  0  50 100]."
      ],
      "metadata": {
        "id": "jYo2O1c5rpmd"
      }
    },
    {
      "cell_type": "code",
      "source": [
        "#change only the red intensity\n",
        "img_array[100, 200,0] = 120\n",
        "print(img_array[100, 200])\n"
      ],
      "metadata": {
        "colab": {
          "base_uri": "https://localhost:8080/"
        },
        "id": "hAP6yVXXrHbl",
        "outputId": "0f7ea3e7-f393-4a5f-ebc6-2c61f8048191"
      },
      "execution_count": 25,
      "outputs": [
        {
          "output_type": "stream",
          "name": "stdout",
          "text": [
            "[120  50 100]\n"
          ]
        }
      ]
    },
    {
      "cell_type": "markdown",
      "source": [
        "Since we changed the red intensity, the new value of the pixel is [120  50 100]"
      ],
      "metadata": {
        "id": "oGNOVfvosJ5D"
      }
    },
    {
      "cell_type": "markdown",
      "source": [
        "###Let's change the image to single color image"
      ],
      "metadata": {
        "id": "QfYqvHkdseVu"
      }
    },
    {
      "cell_type": "markdown",
      "source": [
        "You can generate single-color images by setting other color values to 0, and concatenate them horizontally with **np.concatenate()** to create a single image.\n",
        "\n",
        "eg.: To convert the image into red color image, we set green and blue intensity values of each pixel to 0."
      ],
      "metadata": {
        "id": "QPfYDq1Et7Uk"
      }
    },
    {
      "cell_type": "markdown",
      "source": [
        "**Note:**\n",
        "\n",
        "*   **np.concatenate()** a function from the NumPy package which combines NumPy arrays together.\n",
        "\n",
        "<img src='https://drive.google.com/uc?id=1w1aCI4R15pdhpkyBuuWc6TO58xgKCjBQ' width=\"300\" height=\"200\">\n",
        "\n",
        "*   We used **copy()** function to make a copy of a orginal array since we should not change the original numpy array.\n",
        "\n",
        "*   Let's look at the **img_R[:, :, (1, 2)] = 0**\n",
        "\n",
        "  Since we change the image to red color image, we want to set the green and blue intensity values of **each pixel** to 0. In Numpy, you can use **colon (:)** which means **fetch everything**. \n",
        "  \n",
        "  img_R[:, :] means every pixel in the image or every rows and columns in the numpy array. \n",
        "  \n",
        "  Then, we have to add the index of the color we want to change. If we use **img_R[:, :, 1] = 0** , this only changes the green intensity of all the pixels to 0. We will need another **img_R[:, :, 2] = 0** to change the blue intesities. When you use **(1, 2)**, you can change both green and blue intensity values at once.\n",
        "\n"
      ],
      "metadata": {
        "id": "aczcB5vKxkSC"
      }
    },
    {
      "cell_type": "code",
      "source": [
        "#red color image \n",
        "img_R = img_array.copy()\n",
        "#set green and blue intensity values of each pixel to 0.\n",
        "img_R[:, :, (1, 2)] = 0\n",
        "\n",
        "#green color image \n",
        "img_G = img_array.copy()\n",
        "#set red and blue intensity values of each pixel to 0.\n",
        "img_G[:, :, (0, 2)] = 0\n",
        "\n",
        "#blue color image\n",
        "img_B = img_array.copy()\n",
        "#set red and green intensity values of each pixel to 0.\n",
        "img_B[:, :, (0, 1)] = 0\n",
        "\n",
        "concatenated_imgArray = np.concatenate((img_R, img_G, img_B), axis=1)\n",
        "\n",
        "#save NumPy array as image file\n",
        "pil_img = Image.fromarray(concatenated_imgArray)\n",
        "pil_img.save('/content/sample_data/single_color_images.jpg')"
      ],
      "metadata": {
        "id": "wZ4K4qBRsmFo"
      },
      "execution_count": 31,
      "outputs": []
    },
    {
      "cell_type": "markdown",
      "source": [
        "Output:\n",
        "\n",
        "<img src='https://drive.google.com/uc?id=1pSRnMgHoMmcwN6JJvlWAVcmHr-_tuYAn' width=\"600\" height=\"160\">"
      ],
      "metadata": {
        "id": "q_RADFdJ04X5"
      }
    },
    {
      "cell_type": "markdown",
      "source": [
        "###Generate negative-positive inverted images (invert pixel value)"
      ],
      "metadata": {
        "id": "xbfRxb8b1UO5"
      }
    },
    {
      "cell_type": "markdown",
      "source": [
        "You can generate negative-positive inverted image by subtracting the pixel value from the maximum value.\n",
        "\n",
        "As mentioned above, the data type of the array is uint8 and the maximum value of uint8 data type is 255. Therefore, we have to the pixel values from 255."
      ],
      "metadata": {
        "id": "_K422--L1nNi"
      }
    },
    {
      "cell_type": "code",
      "source": [
        "img_inverted = 255 - img_array\n",
        "\n",
        "#save NumPy array as image file\n",
        "pil_img = Image.fromarray(img_inverted)\n",
        "pil_img.save('/content/sample_data/inverted_image.jpg')"
      ],
      "metadata": {
        "id": "L2GuB_u12kz0"
      },
      "execution_count": 33,
      "outputs": []
    },
    {
      "cell_type": "markdown",
      "source": [
        "Output:\n",
        "\n",
        "<img src='https://drive.google.com/uc?id=1g1Jde_UGSfIBKCDCV9nY0whVVD-ezs0n' width=\"300\" height=\"250\">"
      ],
      "metadata": {
        "id": "lNlIueX227_X"
      }
    },
    {
      "cell_type": "markdown",
      "source": [
        "###Trim the image using array slicing"
      ],
      "metadata": {
        "id": "izRcxQJT30oC"
      }
    },
    {
      "cell_type": "markdown",
      "source": [
        "You can use **array slicing** to trim the image to a rectangle. \n",
        "\n",
        "You need to specify an area with slice."
      ],
      "metadata": {
        "id": "jDbVsbBI3-VX"
      }
    },
    {
      "cell_type": "code",
      "source": [
        "img_trimmed = img_array[400:660, 330:650]\n",
        "print(\"Shape of the orginial image\", img_array.shape)\n",
        "print(\"Shape of the trimmed image\",img_trimmed.shape)\n",
        "\n",
        "#save NumPy array as image file\n",
        "pil_img = Image.fromarray(img_trimmed)\n",
        "pil_img.save('/content/sample_data/trimmed_image.jpg')"
      ],
      "metadata": {
        "colab": {
          "base_uri": "https://localhost:8080/"
        },
        "id": "OYejqGEu355t",
        "outputId": "5da2e0bc-5a27-4a83-f024-a7be7d1a0d58"
      },
      "execution_count": 47,
      "outputs": [
        {
          "output_type": "stream",
          "name": "stdout",
          "text": [
            "Shape of the orginial image (768, 1024, 3)\n",
            "Shape of the trimmed image (260, 320, 3)\n"
          ]
        }
      ]
    },
    {
      "cell_type": "markdown",
      "source": [
        "Output:\n",
        "\n",
        "<img src='https://drive.google.com/uc?id=1LtuXPOJ60X4h3wPsmpwpGUBqKL9Up-Jh' width=\"300\" height=\"250\">"
      ],
      "metadata": {
        "id": "FBdgWO5p6Fhe"
      }
    }
  ]
}