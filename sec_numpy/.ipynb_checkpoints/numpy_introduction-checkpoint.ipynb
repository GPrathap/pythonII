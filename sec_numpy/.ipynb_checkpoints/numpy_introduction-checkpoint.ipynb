{
 "cells": [
  {
   "cell_type": "code",
   "execution_count": null,
   "id": "a7ae5e8c",
   "metadata": {},
   "outputs": [],
   "source": []
  },
  {
   "cell_type": "markdown",
   "id": "71864325",
   "metadata": {},
   "source": [
    "Python has been universally used as the go to language in scientific computing, machine learning application due to the facts that Python is free, easy to learn, easy syntax, intrepreted nature of execution and large number of support libraries. However, python is considered a slow language. This means, for a given task it might take more time to do the same workload compared to another language such as C or Java. For applications like AI, deep learning and data processing this leads to a massive disadvantage. "
   ]
  }
 ],
 "metadata": {
  "kernelspec": {
   "display_name": "Python 3 (ipykernel)",
   "language": "python",
   "name": "python3"
  },
  "language_info": {
   "codemirror_mode": {
    "name": "ipython",
    "version": 3
   },
   "file_extension": ".py",
   "mimetype": "text/x-python",
   "name": "python",
   "nbconvert_exporter": "python",
   "pygments_lexer": "ipython3",
   "version": "3.8.10"
  }
 },
 "nbformat": 4,
 "nbformat_minor": 5
}
