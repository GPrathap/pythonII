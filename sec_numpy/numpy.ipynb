{
  "nbformat": 4,
  "nbformat_minor": 0,
  "metadata": {
    "colab": {
      "name": "Numpy Basics",
      "provenance": [],
      "collapsed_sections": [
        "70pYkR9LiOV0",
        "zuMEVG4UBcPc"
      ],
      "include_colab_link": true
    },
    "kernelspec": {
      "display_name": "Python 3",
      "name": "python3"
    }
  },
  "cells": [
    {
      "cell_type": "markdown",
      "metadata": {
        "id": "view-in-github",
        "colab_type": "text"
      },
      "source": [
        "<a href=\"https://colab.research.google.com/github/titusnkumara/pythonII/blob/master/sec_numpy/numpy.ipynb\" target=\"_parent\"><img src=\"https://colab.research.google.com/assets/colab-badge.svg\" alt=\"Open In Colab\"/></a>"
      ]
    },
    {
      "cell_type": "markdown",
      "metadata": {
        "id": "70pYkR9LiOV0"
      },
      "source": [
        "#Section 1: Using the library\n",
        "\n",
        "To use the numpy library, we need to import it into python environment. I Google colab, its already available so to import the numpy library use import statement. We can rename the imported library to a shorter name for our convenience"
      ]
    },
    {
      "cell_type": "code",
      "metadata": {
        "id": "pSpbsyiaARvs"
      },
      "source": [
        "import numpy as np"
      ],
      "execution_count": 2,
      "outputs": []
    },
    {
      "cell_type": "markdown",
      "metadata": {
        "id": "VIGIBJI0Absb"
      },
      "source": [
        "## Why use numpy?\n",
        "\n",
        "*   Numpy arrays are faster and efficient than python arrays\n",
        "*   Numpy has built in functions useful for faster calculations\n",
        "*   Many libraries use numpy arrays to improve the performance"
      ]
    },
    {
      "cell_type": "markdown",
      "metadata": {
        "id": "hVmryYy1BFfs"
      },
      "source": [
        "#Section 2: Basics with numpy\n",
        "\n",
        "First we can go through some basic operations with numpy library. In numpy, we work with arrays. In python, you use lists. They looks the same, but internally the implementation is very different.\n",
        "\n",
        "## Create an array\n",
        "The simplest way to create a numpy array is to type the values on the python scritp, however this is rarely used in practice"
      ]
    },
    {
      "cell_type": "code",
      "metadata": {
        "colab": {
          "base_uri": "https://localhost:8080/"
        },
        "id": "1dwpl39dAuzT",
        "outputId": "9af0ea95-3af4-4b1d-abbf-86a019ba79a5"
      },
      "source": [
        "myNPArray = np.array([1, 2, 3, 4, 5, 6])\n",
        "print(myNPArray)"
      ],
      "execution_count": null,
      "outputs": [
        {
          "output_type": "stream",
          "name": "stdout",
          "text": [
            "[1 2 3 4 5 6]\n"
          ]
        }
      ]
    },
    {
      "cell_type": "markdown",
      "metadata": {
        "id": "zuMEVG4UBcPc"
      },
      "source": [
        "## Other ways to create numpy arrays\n",
        "You can use already established python list and convert it to a numpy array\n"
      ]
    },
    {
      "cell_type": "code",
      "metadata": {
        "colab": {
          "base_uri": "https://localhost:8080/"
        },
        "id": "ssQ54N2HBwUb",
        "outputId": "0c8b81a1-bb52-459f-f8dd-14e4802338d7"
      },
      "source": [
        "pythonList = [1,2,3,4,5,6,7,8,9,10]\n",
        "convertedNPArray = np.array(pythonList)\n",
        "print(convertedNPArray)"
      ],
      "execution_count": null,
      "outputs": [
        {
          "output_type": "stream",
          "name": "stdout",
          "text": [
            "[ 1  2  3  4  5  6  7  8  9 10]\n"
          ]
        }
      ]
    },
    {
      "cell_type": "markdown",
      "metadata": {
        "id": "IBB6z81JCeCb"
      },
      "source": [
        "#Section 3: Operations and performance\n",
        "Now we know how to create a numpy array. There are other methods to create numpy arrays, but we will work with these methods first. \n",
        "\n",
        "To prove if numpy gives us a performance benifit, lets do a simple test with numpy. Lets assume we have a large dataset, and we want to multiply value by some number. This is useful in many applications, for example if you have an black and white (grayscale) image and you want to increase/decreas the brightness, we can read the pixel values of the image into numpy array and multiply the pixel values by a number to increase/decrease the pixel value. Since pixel values directly proportional to the bridgtness in a grayscale images we can change the brightness using a simple operation.\n",
        "\n",
        "If you have audio data, the loudness is proportianal to the audio sample values. You can increase the loudness by multiplyig the audio sample values by a factor.\n",
        "\n",
        "If you want to do lot of these kind of processing, numpy can be a real benificial library. For example, if you want to process a large number of audio/image files.\n",
        "\n",
        "Lets do a simple test. Since reading audio, image require special functions out of our scope, lets create a simple array to fill our data and do the operation on this example array.\n",
        "\n",
        "We can create an array with numpy and python and do a speed comparison\n",
        "\n"
      ]
    },
    {
      "cell_type": "markdown",
      "metadata": {
        "id": "2vaJa9W56fgW"
      },
      "source": [
        "Lets creat an array with 100 million elements"
      ]
    },
    {
      "cell_type": "code",
      "metadata": {
        "colab": {
          "base_uri": "https://localhost:8080/"
        },
        "id": "dP4uw5DODmMU",
        "outputId": "7486f347-0601-4e7e-e063-b5c9fb037368"
      },
      "source": [
        "import time #time library to measure execution time\n",
        "\n",
        "#make two data storage variables for numpy and python \n",
        "pythonList100000000 = list(range(1,100000001))\n",
        "print(len(pythonList100000000))\n",
        "\n",
        "numpyArray100000000 = np.arange(1,100000001)\n",
        "print(len(numpyArray100000000))\n",
        "\n",
        "multiplyNumber = 3\n",
        "\n",
        "#measure the time it takes to multiply each value\n",
        "\n",
        "#we use time.time() to capture system time and measure the time difference to calculate elapsed time\n",
        "t1 = time.time()\n",
        "out1 = [multiplyNumber*x for x in pythonList100000000]\n",
        "t2 = time.time()\n",
        "timediffPython = t2-t1\n",
        "print(timediffPython)\n",
        "\n",
        "#now measure how much time it takes for numpy to do the same task\n",
        "t1 = time.time()\n",
        "out2 = numpyArray100000000 * multiplyNumber\n",
        "t2 = time.time()\n",
        "timediffNumpy = t2-t1\n",
        "print(timediffNumpy)\n",
        "\n",
        "#Lets take the ratio between these two times\n",
        "print(\"Numpy is {} times faster than a python list\".format(timediffPython/timediffNumpy ))\n"
      ],
      "execution_count": null,
      "outputs": [
        {
          "output_type": "stream",
          "name": "stdout",
          "text": [
            "100000000\n",
            "100000000\n",
            "12.417309999465942\n",
            "0.23836803436279297\n",
            "Numpy is 52.09301671954454 times faster than a python list\n"
          ]
        }
      ]
    },
    {
      "cell_type": "markdown",
      "metadata": {
        "id": "EX_n8btnHoXb"
      },
      "source": [
        "Now, since we have firsthand know numpy has a big performance advantage over standard python lists, we will learn more operations we can do with numpy"
      ]
    },
    {
      "cell_type": "markdown",
      "metadata": {
        "id": "WoRH1cIn7zIX"
      },
      "source": [
        "#Section 4: Basic operations with numpy\n"
      ]
    },
    {
      "cell_type": "markdown",
      "metadata": {
        "id": "aKR339atVd-Y"
      },
      "source": [
        "## Loading a text file as numpy array\n",
        "Lets assume we have two classes, 11 A and 11 B. At the end of the term test, we have final marks for a subject for both classes. There are 50 students in the class and the marks are stored in a CSV file.\n"
      ]
    },
    {
      "cell_type": "code",
      "metadata": {
        "id": "AuazwQC6E0N3"
      },
      "source": [
        "#These are the paths to data files of class list\n",
        "\n",
        "class1_data_path = \"https://raw.githubusercontent.com/GPrathap/pythonII/master/dataset/class_list/class1_marks.csv\"\n",
        "class2_data_path = \"https://raw.githubusercontent.com/GPrathap/pythonII/master/dataset/class_list/class2_marks.csv\""
      ],
      "execution_count": null,
      "outputs": []
    },
    {
      "cell_type": "markdown",
      "metadata": {
        "id": "JLeO05oe7_b2"
      },
      "source": [
        "## Read data\n",
        "Numpy has the builtin feature to read data from a csv (or text) file. Lets use numpy loadtxt function to read the data as numpy arrays.\n",
        "We want to make sure we load data as floating point numbers and we skip the first row because firs row is dedicated to the column header.\n",
        "\n",
        "After reading, we can print the length of class data to make sure we have read all the available data points"
      ]
    },
    {
      "cell_type": "code",
      "metadata": {
        "colab": {
          "base_uri": "https://localhost:8080/"
        },
        "id": "N9qcuCHp74Et",
        "outputId": "9d148e82-26f5-4ed1-97e6-7057d0d9a002"
      },
      "source": [
        "#read an array from a file\n",
        "class1data = np.loadtxt(class1_data_path, dtype=float,skiprows=1)\n",
        "class2data = np.loadtxt(class2_data_path, dtype=float,skiprows=1)\n",
        "print(len(class1data))\n",
        "print(len(class2data))\n",
        "\n",
        "\n",
        "print(max(class1data))\n",
        "print(max(class2data))"
      ],
      "execution_count": null,
      "outputs": [
        {
          "output_type": "stream",
          "name": "stdout",
          "text": [
            "50\n",
            "50\n",
            "100.0\n",
            "99.0\n"
          ]
        }
      ]
    },
    {
      "cell_type": "markdown",
      "metadata": {
        "id": "BE5rBvZKFjDv"
      },
      "source": [
        "## Sorting\n",
        "Lets see if we can sort the class 1 results. Numpy has sort() function to efficiently sort data\n"
      ]
    },
    {
      "cell_type": "code",
      "metadata": {
        "colab": {
          "base_uri": "https://localhost:8080/"
        },
        "id": "VdX0vOrCF0mH",
        "outputId": "44c3d965-69e4-475a-99e3-a85e704e8434"
      },
      "source": [
        "sortedClass1 = np.sort(class1data);\n",
        "print(sortedClass1)\n"
      ],
      "execution_count": null,
      "outputs": [
        {
          "output_type": "stream",
          "name": "stdout",
          "text": [
            "[  3.   8.  13.  14.  15.  18.  21.  22.  24.  27.  30.  33.  35.  37.\n",
            "  39.  40.  40.  40.  40.  43.  44.  48.  50.  52.  56.  57.  58.  59.\n",
            "  60.  60.  62.  63.  65.  72.  72.  73.  74.  79.  81.  82.  82.  82.\n",
            "  83.  84.  91.  93.  94.  97.  98. 100.]\n"
          ]
        }
      ]
    },
    {
      "cell_type": "markdown",
      "metadata": {
        "id": "OFBNztwYGdvH"
      },
      "source": [
        "We can do the same for the class 2 results\n"
      ]
    },
    {
      "cell_type": "code",
      "metadata": {
        "colab": {
          "base_uri": "https://localhost:8080/"
        },
        "id": "imGj-GCxGi0V",
        "outputId": "066ea424-b795-4cff-8968-9e548aa86a4a"
      },
      "source": [
        "sortedClass2 = np.sort(class2data);\n",
        "print(sortedClass2)"
      ],
      "execution_count": null,
      "outputs": [
        {
          "output_type": "stream",
          "name": "stdout",
          "text": [
            "[ 0.  0.  1.  3.  3.  4.  6.  7.  9. 13. 15. 16. 16. 19. 19. 21. 26. 29.\n",
            " 30. 30. 32. 35. 36. 37. 37. 40. 40. 46. 48. 49. 55. 57. 58. 58. 59. 64.\n",
            " 67. 71. 72. 74. 75. 76. 78. 84. 92. 95. 97. 98. 99. 99.]\n"
          ]
        }
      ]
    },
    {
      "cell_type": "markdown",
      "metadata": {
        "id": "acMUhSv-GvKX"
      },
      "source": [
        "## Logic operations\n",
        "With this sorted array, we can do some interesting comparisons. Lets say our pass mark is 50. Can we find how many students have passed?\n",
        "\n",
        "Numpy gives us an easy way to do the comparison. We can compare the full array against a number and numpy will give us an array containing true/false values for each and every element of the comparing array. \n"
      ]
    },
    {
      "cell_type": "code",
      "metadata": {
        "colab": {
          "base_uri": "https://localhost:8080/"
        },
        "id": "ooy-LDUTG6BD",
        "outputId": "991f9ba8-409a-41d4-b2c1-63bbd1ecb4e1"
      },
      "source": [
        "Cl1Passed = sortedClass1 >= 50 # this will give us an true false array\n",
        "print(Cl1Passed)\n",
        "Cl1PassedSum = Cl1Passed.sum(); # find total pass students\n",
        "Cl1FailedSum = sortedClass1.size - Cl1PassedSum\n",
        "print(\"Passed: \",Cl1PassedSum)\n",
        "print(\"Failed: \",Cl1FailedSum)\n"
      ],
      "execution_count": null,
      "outputs": [
        {
          "output_type": "stream",
          "name": "stdout",
          "text": [
            "[False False False False False False False False False False False False\n",
            " False False False False False False False False False False  True  True\n",
            "  True  True  True  True  True  True  True  True  True  True  True  True\n",
            "  True  True  True  True  True  True  True  True  True  True  True  True\n",
            "  True  True]\n",
            "Passed:  28\n",
            "Failed:  22\n"
          ]
        }
      ]
    },
    {
      "cell_type": "markdown",
      "metadata": {
        "id": "T44NE8kMIkYn"
      },
      "source": [
        "##Array slicing\n",
        "\n",
        "Array slicing is similar to normal python list convention. You can use startindex:endindex convention\n",
        "\n",
        "Let's say you want to display all failed students, you can achieve the same with a sorted array or non-sorted array\n",
        "For sorted array, its easy because we just want to cut the class in two sections\n",
        "\n",
        " "
      ]
    },
    {
      "cell_type": "code",
      "metadata": {
        "colab": {
          "base_uri": "https://localhost:8080/"
        },
        "id": "XTE-EprfIyOm",
        "outputId": "75db9995-379f-4cee-acac-fc17bea997a0"
      },
      "source": [
        "failedCl1Array = sortedClass1[0:Cl1FailedSum]\n",
        "print(failedCl1Array)"
      ],
      "execution_count": null,
      "outputs": [
        {
          "output_type": "stream",
          "name": "stdout",
          "text": [
            "[ 3.  8. 13. 14. 15. 18. 21. 22. 24. 27. 30. 33. 35. 37. 39. 40. 40. 40.\n",
            " 40. 43. 44. 48.]\n"
          ]
        }
      ]
    },
    {
      "cell_type": "markdown",
      "metadata": {
        "id": "AgNwaFsuDdMp"
      },
      "source": [
        "The other way of finding out students satisfying a codition doesn't require a sorted array.\n",
        "\n",
        "For example, from the original unsorted array, lests find out students who scored 50 or more. We can do this by doing a comparison that will generate true/false values array."
      ]
    },
    {
      "cell_type": "code",
      "metadata": {
        "colab": {
          "base_uri": "https://localhost:8080/"
        },
        "id": "IyHsEqIpDufR",
        "outputId": "02fa2410-691e-4a64-fb34-5494ec036fe1"
      },
      "source": [
        "passedindexes1 = class1data>=50 # this will compare the condition elementwise and give us an array \n",
        "print(passedindexes1)"
      ],
      "execution_count": null,
      "outputs": [
        {
          "output_type": "stream",
          "name": "stdout",
          "text": [
            "[ True  True  True  True  True  True  True False  True  True False False\n",
            " False False False False False  True False  True  True  True False False\n",
            "  True  True False False False  True  True False  True  True False  True\n",
            " False False  True  True  True False False False  True  True  True  True\n",
            " False  True]\n"
          ]
        }
      ]
    },
    {
      "cell_type": "markdown",
      "metadata": {
        "id": "5WExaxztEAmh"
      },
      "source": [
        "Then, we can use this true/false index array to select the elements from the original array"
      ]
    },
    {
      "cell_type": "code",
      "metadata": {
        "colab": {
          "base_uri": "https://localhost:8080/"
        },
        "id": "Uy2WST_2D-Yf",
        "outputId": "4506d268-af03-41e3-8ea6-41e4e50c334e"
      },
      "source": [
        "print(class1data) #original array\n",
        "print(passedindexes1)\n",
        "print(class1data[passedindexes1])\n"
      ],
      "execution_count": null,
      "outputs": [
        {
          "output_type": "stream",
          "name": "stdout",
          "text": [
            "[ 82.  98.  84.  97.  83.  72.  91.   3.  62.  60.  48.  35.  30.  40.\n",
            "  15.  22.  40.  72.  13.  73.  60. 100.   8.  21.  65.  94.  44.  24.\n",
            "  27.  63.  82.  33.  56.  81.  18.  79.  40.  14.  50.  82.  74.  40.\n",
            "  43.  37.  59.  52.  93.  58.  39.  57.]\n",
            "[ True  True  True  True  True  True  True False  True  True False False\n",
            " False False False False False  True False  True  True  True False False\n",
            "  True  True False False False  True  True False  True  True False  True\n",
            " False False  True  True  True False False False  True  True  True  True\n",
            " False  True]\n",
            "[ 82.  98.  84.  97.  83.  72.  91.  62.  60.  72.  73.  60. 100.  65.\n",
            "  94.  63.  82.  56.  81.  79.  50.  82.  74.  59.  52.  93.  58.  57.]\n"
          ]
        }
      ]
    },
    {
      "cell_type": "markdown",
      "metadata": {
        "id": "F2NXQxSoEklf"
      },
      "source": [
        "As you can see above, the true, false array work as indexes and we can easily select elements satisfying a condition\n",
        "This could be extended in many ways\n"
      ]
    },
    {
      "cell_type": "markdown",
      "metadata": {
        "id": "7t3J75wVoCUS"
      },
      "source": [
        "## Numpy logical operations\n",
        "In the next example, lets find out the students who scored more than 90. Instead of saving the true/false array, we can use the result in shorter format as bellow\n",
        "\n",
        "Also, we can use two conditions and use numpy logical operations to match the two scenarios. For example, we can check if students are above 45 and below 55 mark by combining two comparisons and do logical_and operation"
      ]
    },
    {
      "cell_type": "code",
      "metadata": {
        "colab": {
          "base_uri": "https://localhost:8080/"
        },
        "id": "xhC4t3T2Eu4C",
        "outputId": "6fb82f46-0187-46a1-dfa2-a56f3e73c75a"
      },
      "source": [
        "print(\">90 students \",class1data[class1data>90])#print students who got more than 90\n",
        "print(\"45-55 students \",class1data[np.logical_and((class1data>45),(class1data<55))])#print students marks between 45-55, take two arrays and take the logical and\n"
      ],
      "execution_count": null,
      "outputs": [
        {
          "output_type": "stream",
          "name": "stdout",
          "text": [
            ">90 students  [ 98.  97.  91. 100.  94.  93.]\n",
            "45-55 students  [48. 50. 52.]\n"
          ]
        }
      ]
    },
    {
      "cell_type": "markdown",
      "metadata": {
        "id": "dtAiZPZsGHUu"
      },
      "source": [
        "## Simple scripts and more logical operations\n",
        "Now lets write a quick loop to group students with different mark regions\n"
      ]
    },
    {
      "cell_type": "code",
      "metadata": {
        "colab": {
          "base_uri": "https://localhost:8080/"
        },
        "id": "QIfPMsKhGVqH",
        "outputId": "1358bae0-a81a-431a-d81d-2e0b04e50fe9"
      },
      "source": [
        "markCutoffs = [35,50,65,75,85,100] #these are our cutoff marks\n",
        "tmpClass1Data = np.array(class1data, copy=True)  \n",
        "for cutoff in markCutoffs:\n",
        "  indexes = tmpClass1Data>=cutoff\n",
        "  aboveCutoff = tmpClass1Data[indexes]\n",
        "  belowCutoff = tmpClass1Data[np.logical_not(indexes)]\n",
        "  print(\"<\",cutoff,\" \",np.sort(belowCutoff),\" sum = \",len(belowCutoff))\n",
        "  tmpClass1Data = aboveCutoff"
      ],
      "execution_count": null,
      "outputs": [
        {
          "output_type": "stream",
          "name": "stdout",
          "text": [
            "< 35   [ 3.  8. 13. 14. 15. 18. 21. 22. 24. 27. 30. 33.]  sum =  12\n",
            "< 50   [35. 37. 39. 40. 40. 40. 40. 43. 44. 48.]  sum =  10\n",
            "< 65   [50. 52. 56. 57. 58. 59. 60. 60. 62. 63.]  sum =  10\n",
            "< 75   [65. 72. 72. 73. 74.]  sum =  5\n",
            "< 85   [79. 81. 82. 82. 82. 83. 84.]  sum =  7\n",
            "< 100   [91. 93. 94. 97. 98.]  sum =  5\n"
          ]
        }
      ]
    },
    {
      "cell_type": "markdown",
      "metadata": {
        "id": "fZjzH-6hN3ak"
      },
      "source": [
        "#Section 5: Currupted or not available data\n",
        "\n",
        "Lets say, class2 data is tentative for three student, we can mark these students as np.nan which is a way to tell numpy thate these are not a numbers. "
      ]
    },
    {
      "cell_type": "code",
      "metadata": {
        "colab": {
          "base_uri": "https://localhost:8080/"
        },
        "id": "1vJHeCRlOQaO",
        "outputId": "e971cf81-e1be-466d-a134-32334346231e"
      },
      "source": [
        "class2data[[5,8,20]] = np.nan #we are using multiple indexes to assign a value\n",
        "#now 5th, 8th, and 20th student doesn't have valid numbers\n",
        "print(class2data)"
      ],
      "execution_count": null,
      "outputs": [
        {
          "output_type": "stream",
          "name": "stdout",
          "text": [
            "[ 0. 99. 98. 97.  3. nan 40. 37. nan  1. 40. 58. 13. 57. 92. 19. 71.  3.\n",
            "  4. 78. nan 36. 84. 15. 49. 75.  6. 37. 99. 67. 19. 46. 59. 35. 30. 74.\n",
            " 55. 30. 95. 29.  7. 26. 72. 16.  9. 76. 21. 32. 16. 64.]\n"
          ]
        }
      ]
    },
    {
      "cell_type": "markdown",
      "metadata": {
        "id": "2SFKx1ybPh8q"
      },
      "source": [
        "Now lets see what happen if we get the class average\n"
      ]
    },
    {
      "cell_type": "code",
      "metadata": {
        "colab": {
          "base_uri": "https://localhost:8080/"
        },
        "id": "WtIaij8LPm7g",
        "outputId": "249055a5-2ab4-46d9-a937-b9a782527e0d"
      },
      "source": [
        "np.average(class2data) #the output is also a not-a-number because we try to do mathematical operations with nan"
      ],
      "execution_count": null,
      "outputs": [
        {
          "output_type": "execute_result",
          "data": {
            "text/plain": [
              "nan"
            ]
          },
          "metadata": {},
          "execution_count": 17
        }
      ]
    },
    {
      "cell_type": "markdown",
      "metadata": {
        "id": "ibaEKGA3Pze2"
      },
      "source": [
        "## Numpy masks\n",
        "To deal with this kind of situations, we can use numpy mask\n"
      ]
    },
    {
      "cell_type": "code",
      "metadata": {
        "colab": {
          "base_uri": "https://localhost:8080/"
        },
        "id": "gCEMyp5bP3XL",
        "outputId": "898ef150-f627-4b0f-c89e-e489091aaaed"
      },
      "source": [
        "maskedCl2 = np.ma.masked_invalid(class2data)\n",
        "print(class2data)\n",
        "print(maskedCl2)\n",
        "print(np.average(maskedCl2)) #the size of the array doesn't change, but with masked arrays we can avoid invalid data causing problems"
      ],
      "execution_count": null,
      "outputs": [
        {
          "output_type": "stream",
          "name": "stdout",
          "text": [
            "[ 0. 99. 98. 97.  3. nan 40. 37. nan  1. 40. 58. 13. 57. 92. 19. 71.  3.\n",
            "  4. 78. nan 36. 84. 15. 49. 75.  6. 37. 99. 67. 19. 46. 59. 35. 30. 74.\n",
            " 55. 30. 95. 29.  7. 26. 72. 16.  9. 76. 21. 32. 16. 64.]\n",
            "[0.0 99.0 98.0 97.0 3.0 -- 40.0 37.0 -- 1.0 40.0 58.0 13.0 57.0 92.0 19.0\n",
            " 71.0 3.0 4.0 78.0 -- 36.0 84.0 15.0 49.0 75.0 6.0 37.0 99.0 67.0 19.0\n",
            " 46.0 59.0 35.0 30.0 74.0 55.0 30.0 95.0 29.0 7.0 26.0 72.0 16.0 9.0 76.0\n",
            " 21.0 32.0 16.0 64.0]\n",
            "44.4468085106383\n"
          ]
        }
      ]
    },
    {
      "cell_type": "code",
      "metadata": {
        "colab": {
          "base_uri": "https://localhost:8080/"
        },
        "id": "BYmZfbtaQ4nQ",
        "outputId": "86d2c054-511c-4ebc-906a-df49abd1681e"
      },
      "source": [
        "#we can get more details for masked array\n",
        "\n",
        "print(\"masked array indexes \",np.flatnonzero(maskedCl2.mask))"
      ],
      "execution_count": null,
      "outputs": [
        {
          "output_type": "stream",
          "name": "stdout",
          "text": [
            "masked array indexes  [ 5  8 20]\n"
          ]
        }
      ]
    },
    {
      "cell_type": "markdown",
      "metadata": {
        "id": "XOKQJNOBUp45"
      },
      "source": [
        "This shows that we have non-zero values on the masked array at these points, indicating we have 3 nan values, and places"
      ]
    },
    {
      "cell_type": "markdown",
      "metadata": {
        "id": "Vb2e4_1iU7ny"
      },
      "source": [
        "#Exercise 1: Simple array creation\n",
        "\n",
        "Create an array contains numbers in ascending order 1 to 10 and descending order 10:1\n",
        "The array should look like [1...10...1]\n",
        "There are many ways to achieve this task. Using np.arange() and np.concatenate() is a good way to do this\n"
      ]
    },
    {
      "cell_type": "code",
      "metadata": {
        "colab": {
          "base_uri": "https://localhost:8080/"
        },
        "id": "NJ7O7DsUViM5",
        "outputId": "f7f6ddf7-523f-4279-a190-8d3a401d03d2"
      },
      "source": [
        "ar1 = np.arange(1,10);\n",
        "ar2 = np.arange(10,0,-1)\n",
        "arFinal = np.concatenate((ar1,ar2),axis=0)\n",
        "print(ar1)\n",
        "print(ar2)\n",
        "print(arFinal)"
      ],
      "execution_count": 10,
      "outputs": [
        {
          "output_type": "stream",
          "name": "stdout",
          "text": [
            "[1 2 3 4 5 6 7 8 9]\n",
            "[10  9  8  7  6  5  4  3  2  1]\n",
            "[ 1  2  3  4  5  6  7  8  9 10  9  8  7  6  5  4  3  2  1]\n"
          ]
        }
      ]
    }
  ]
}