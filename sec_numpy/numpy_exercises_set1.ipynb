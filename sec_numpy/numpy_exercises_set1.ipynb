{
  "nbformat": 4,
  "nbformat_minor": 0,
  "metadata": {
    "colab": {
      "name": "numpy_exercises_set1.ipynb",
      "provenance": [],
      "authorship_tag": "ABX9TyN3UGHFSCfTZfFVwEcJumHM",
      "include_colab_link": true
    },
    "kernelspec": {
      "name": "python3",
      "display_name": "Python 3"
    },
    "language_info": {
      "name": "python"
    }
  },
  "cells": [
    {
      "cell_type": "markdown",
      "metadata": {
        "id": "view-in-github",
        "colab_type": "text"
      },
      "source": [
        "<a href=\"https://colab.research.google.com/github/kts-desilva/pythonII/blob/master/sec_numpy/numpy_exercises_set1.ipynb\" target=\"_parent\"><img src=\"https://colab.research.google.com/assets/colab-badge.svg\" alt=\"Open In Colab\"/></a>"
      ]
    },
    {
      "cell_type": "markdown",
      "metadata": {
        "id": "50WQlWKkK_cK"
      },
      "source": [
        "# **Section 01: Creating, Reading and Writing නිර්මාණය කිරීම, කියවීම සහ ලිවීම**"
      ]
    },
    {
      "cell_type": "markdown",
      "metadata": {
        "id": "DXdW0mDcK0Yd"
      },
      "source": [
        "#Exercise 1: Simple array creation\n",
        "\n",
        "**Question 01**\n",
        "\n",
        "Create an array contains numbers in ascending order 1 to 10 and descending order 10:1\n",
        "The array should look like [1...10...1]\n",
        "\n",
        "There are many ways to achieve this task. Using np.arange() and np.concatenate() is a good way to do this\n"
      ]
    },
    {
      "cell_type": "markdown",
      "metadata": {
        "id": "zgm3PSLOLg6d"
      },
      "source": [
        "**Answer**"
      ]
    },
    {
      "cell_type": "code",
      "metadata": {
        "id": "dKuawDawKksM"
      },
      "source": [
        "ar1 = np.arange(1,10);\n",
        "ar2 = np.arange(10,0,-1)\n",
        "arFinal = np.concatenate((ar1,ar2),axis=0)\n",
        "print(ar1)\n",
        "print(ar2)\n",
        "print(arFinal)"
      ],
      "execution_count": null,
      "outputs": []
    }
  ]
}