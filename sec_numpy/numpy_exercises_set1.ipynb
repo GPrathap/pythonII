{
  "nbformat": 4,
  "nbformat_minor": 0,
  "metadata": {
    "colab": {
      "name": "numpy_exercises_set1.ipynb",
      "provenance": [],
      "collapsed_sections": [],
      "include_colab_link": true
    },
    "kernelspec": {
      "name": "python3",
      "display_name": "Python 3"
    },
    "language_info": {
      "name": "python"
    }
  },
  "cells": [
    {
      "cell_type": "markdown",
      "metadata": {
        "id": "view-in-github",
        "colab_type": "text"
      },
      "source": [
        "<a href=\"https://colab.research.google.com/github/kts-desilva/pythonII/blob/master/sec_numpy/numpy_exercises_set1.ipynb\" target=\"_parent\"><img src=\"https://colab.research.google.com/assets/colab-badge.svg\" alt=\"Open In Colab\"/></a>"
      ]
    },
    {
      "cell_type": "markdown",
      "metadata": {
        "id": "50WQlWKkK_cK"
      },
      "source": [
        "# **Section 01: Creating, Reading and Writing නිර්මාණය කිරීම, කියවීම සහ ලිවීම**"
      ]
    },
    {
      "cell_type": "markdown",
      "metadata": {
        "id": "0MzO05LJayAy"
      },
      "source": [
        "Let's import Numpy library."
      ]
    },
    {
      "cell_type": "code",
      "metadata": {
        "id": "8i3bb0U_a1dG"
      },
      "source": [
        "import numpy as np"
      ],
      "execution_count": null,
      "outputs": []
    },
    {
      "cell_type": "markdown",
      "metadata": {
        "id": "nuX-0MNped2P"
      },
      "source": [
        "Let's load the necessary datasets"
      ]
    },
    {
      "cell_type": "code",
      "metadata": {
        "id": "w6lj5T4Ueg0N"
      },
      "source": [
        "class1_data_path = \"https://raw.githubusercontent.com/GPrathap/pythonII/master/dataset/class_list/class1_marks.csv\"\n",
        "class2_data_path = \"https://raw.githubusercontent.com/GPrathap/pythonII/master/dataset/class_list/class2_marks.csv\""
      ],
      "execution_count": null,
      "outputs": []
    },
    {
      "cell_type": "code",
      "metadata": {
        "id": "yPkPOpnfe4RH"
      },
      "source": [
        "#read an array from a file\n",
        "class1_data = np.loadtxt(class1_data_path, dtype=float, skiprows=1)\n",
        "class2_data = np.loadtxt(class2_data_path, dtype=float, skiprows=1)"
      ],
      "execution_count": null,
      "outputs": []
    },
    {
      "cell_type": "markdown",
      "metadata": {
        "id": "DXdW0mDcK0Yd"
      },
      "source": [
        "#Exercise 1: Simple array creation\n",
        "\n",
        "**Question 01**\n",
        "\n",
        "Create an array contains numbers in ascending order 1 to 10 and descending order 10:1\n",
        "The array should look like [1...10...1]\n",
        "\n",
        "There are many ways to achieve this task. Using np.arange() and np.concatenate() is a good way to do this\n"
      ]
    },
    {
      "cell_type": "markdown",
      "metadata": {
        "id": "zgm3PSLOLg6d"
      },
      "source": [
        "**Answer**"
      ]
    },
    {
      "cell_type": "code",
      "metadata": {
        "id": "dKuawDawKksM",
        "colab": {
          "base_uri": "https://localhost:8080/"
        },
        "outputId": "302a52a3-96c6-460f-e354-0127439a0b37"
      },
      "source": [
        "ar1 = np.arange(1,10);\n",
        "ar2 = np.arange(10,0,-1)\n",
        "ar_final = np.concatenate((ar1,ar2),axis=0)\n",
        "print(ar1)\n",
        "print(ar2)\n",
        "print(ar_final)"
      ],
      "execution_count": null,
      "outputs": [
        {
          "output_type": "stream",
          "name": "stdout",
          "text": [
            "[1 2 3 4 5 6 7 8 9]\n",
            "[10  9  8  7  6  5  4  3  2  1]\n",
            "[ 1  2  3  4  5  6  7  8  9 10  9  8  7  6  5  4  3  2  1]\n"
          ]
        }
      ]
    },
    {
      "cell_type": "markdown",
      "source": [
        "**Question 02**\n",
        "\n",
        "Create an array with 10 zeros as its elements and determine its memory size."
      ],
      "metadata": {
        "id": "aw4BwxplyDuW"
      }
    },
    {
      "cell_type": "markdown",
      "source": [
        "**Answer**"
      ],
      "metadata": {
        "id": "uGszYQWHy3RC"
      }
    },
    {
      "cell_type": "code",
      "source": [
        "ar = np.zeros(10)\n",
        "print(ar)\n",
        "print(\"%d bytes\" % (ar.size * ar.itemsize))"
      ],
      "metadata": {
        "colab": {
          "base_uri": "https://localhost:8080/"
        },
        "id": "wdjg6DQCyDFf",
        "outputId": "788209c3-7d5e-4ed8-e32c-216a8a954ae6"
      },
      "execution_count": null,
      "outputs": [
        {
          "output_type": "stream",
          "name": "stdout",
          "text": [
            "[0. 0. 0. 0. 0. 0. 0. 0. 0. 0.]\n",
            "80 bytes\n"
          ]
        }
      ]
    },
    {
      "cell_type": "markdown",
      "source": [
        "**Question 03**\n",
        "\n",
        "Create an array with 20 random values and find the maximum, minium, and mean values of the array."
      ],
      "metadata": {
        "id": "Z2Q-gWj5zgoY"
      }
    },
    {
      "cell_type": "markdown",
      "source": [
        "**Answer**"
      ],
      "metadata": {
        "id": "gb1IdUnp0aT7"
      }
    },
    {
      "cell_type": "code",
      "source": [
        "ar = np.random.random((20))\n",
        "\n",
        "print('Max: ' , ar.max())\n",
        "print('Min: ' , ar.min())\n",
        "print('Mean: ' , ar.mean())"
      ],
      "metadata": {
        "colab": {
          "base_uri": "https://localhost:8080/"
        },
        "id": "kuDSPfw6zql8",
        "outputId": "2ec53bc6-1d9b-4413-8481-d9854b337bb2"
      },
      "execution_count": null,
      "outputs": [
        {
          "output_type": "stream",
          "name": "stdout",
          "text": [
            "Max:  0.9668011762109312\n",
            "Min:  0.02062162844139115\n",
            "Mean:  0.525745633287577\n"
          ]
        }
      ]
    },
    {
      "cell_type": "markdown",
      "source": [
        "**Question 04**\n",
        "\n",
        "Create an array with evenly spaced with o.5 over a the interval (2,6)"
      ],
      "metadata": {
        "id": "BY7mtudYEc5x"
      }
    },
    {
      "cell_type": "code",
      "source": [
        "ar = np.linspace(2,6,9)\n",
        "print(ar)"
      ],
      "metadata": {
        "colab": {
          "base_uri": "https://localhost:8080/"
        },
        "id": "goIZnS-UEzlb",
        "outputId": "c9f9d575-aa0c-40ea-eaac-6defb2b85644"
      },
      "execution_count": null,
      "outputs": [
        {
          "output_type": "stream",
          "name": "stdout",
          "text": [
            "[2.  2.5 3.  3.5 4.  4.5 5.  5.5 6. ]\n"
          ]
        }
      ]
    },
    {
      "cell_type": "markdown",
      "source": [
        "**Question 05**\n",
        "\n",
        "Create a checkborad representation of an array 5 x 5 as shown in the following image using a single function.\n",
        "\n",
        "*Hint:* Use tile function\n",
        "![checkboard.png](data:image/png;base64,iVBORw0KGgoAAAANSUhEUgAAA4cAAAGACAYAAAAedxcHAAA5i0lEQVR4Xu3dC7jOZbr48df5GMKgVLsmFCmVHDONUdKoKY09mrQTiRRRjYhxGKW2SNLs2WOKUNJhl1Em7UJSKWIUlSiHmUIZZ3I+3P/1PP9Z67/W8/CfSz2/3/N2r+/nuu5r9P7eWb/1vsvqur+9p0wmk5HCMF27dpUDBw5IYdCyZUspVqyYdx9om/POO0+2bNni3nyVBgwYIOXLl/fuA42TY6V7+7WZMmXK4xkAAIAs5C1nGoc41DfEoc4R4hAAACAabznTOMShviEOdY4QhwAAANF4y5nGIQ71DXGoc4Q4BAAAiMZbzjQOcahviEOdI8QhAABANN5ypnGIQ31DHOocIQ4BAACi8ZYzjUMc6hviUOcIcQgAABCNt5xpHOJQ3xCHOkeIQwAAgGi85UzjEIf6hjjUOUIcAgAAROMtZxqHONQ3xKHOEeIQAAAgGm850zjEob4hDnWOEIcAAADReMuZxiEO9Q1xqHOEOAQAAIjGW840DnGob4hDnSPEIQAAQDTecqZxiEN9QxzqHCEOAQAAovGWM41DHOob4lDnCHEIAAAQjbecaRziUN8QhzpHiEMAAIBovOVM4xCH+oY41DlCHAIAAETjLWcahzjUN8ShzhHiEAAAIBpvOdM4xKG+IQ51jhCHAAAA0XjLmcYhDvUNcahzhDgEAACIxlvONA5xqG+IQ50jxCEAAEA03nKmcZKIwxdffFG6d+8unTt3llGjRsn27dvdq0SRdhx26dJFevfu7V2e9KQdh7t27ZIxY8bYn/fNN98szz//vBw5csS9WiKSjkNze+644w7v8hgjKcbhCy+8IN26dbM/04cfflh27NjhXiURxCEAAMhW3nIWeooXL26X25o1a3rH0prQcWiWafN1TaBceumlUqpUKfnxj38sX3/9tXvV1KUZh61bt5Z9+/bJ9OnTvWNJT5pxaM5Tt25dKVmypLRq1UrOP/98+z106NAhlUBMMg4vv/xy2b9/v0ybNs07FmMkpTjs1KmTPZ/5WZqfqfnZ1qpVSzZu3OheNTjiEAAAZCtvOQs9I0aMsAtR48aNvWNpTcg4zA2hgQMH5l22aNEiKVu2rFx//fX5rhlHWnFoHjHcs2ePPaf2ODSPLpn79O233867bOTIkfb7yFn0810zGUnFofm9yP0ZFqY4NI/6m3MNHTo077IFCxZI6dKl5cYbb/x/V0wIcQgAALKVt5yFGrNMm6db5tISh23btpUKFSrI3r17C1x+++2320dJN23aVODytCUdh9WqVZM5c+bYc82cOVO+/fZb1XG4e/duKVOmjFx77bUFLj98+LCcfvrp0qJFiwKXJyF0HFavXl3efPNN+7X/8pe/2EAsTHFoHi098cQT7SOm+Zn/CGAeQdy2bVuBy0MjDgEAQLbylrMQ07RpU1m4cKFdhJYvX27/V0scmjBs06aNe7F9DZo5l3lUIqak49D8bDds2GDvU/PP5nVamuNw3rx59ny///3v3UP2qYnmvjaBnKTQcdi8eXP7M8x9erR5PWVhiUMT9eXKlZOrrrrKPWQfBTbfw8svv+weCoo4BAAA2cpbzkLMK6+8ImvXrpWrr75aevXqZRciDXFoHhU0X++2225zD9mnpZljDz30kHsoVUnHoVmszWssc/9ZexxOmjTJns88wuYaNGiQPfbpp5+6h4IKHYfma5lHyHL/uTDFoXldsDmPeQMe1zvvvGOPPfLII+6hoIhDAACQrbzlLMSYR5dyl09Ncbhq1Sr79fr16+cekk8++cQe++1vf+seSlXSceiO9jgcO3asPZ95BNFlXk9rjr333nvuoaBCx6E7hSkOV6xYYc9ztN/TDz/80B7L/1rEJBCH4eXcrWflzJnu5QAA4Ph4y1no0RSHq1evtl/PLOsu8/RZcyz/G9XEQByGlRuH7777rnso701p5s+f7x4KijgMJzcOBw8e7B6SpUuX2mPE4Q9Lzl16es5szZnR7jEAAHB8vOUs9GiKQ/M29+br9enTxz0kixcvtsceeOAB91CqiMOwJkyYYM83a9Ys95AMGzbMHjNRkSTiMJx169bZ8/Tt29c9JO+//749ZqI/ScRhODl359k5s+afdy1xCADA9+QtZ6FHUxyaN7MwH1lhPt/OZV5nac41efJk91CqiMOwZs+ebc93tJ/rrbfeao9t3rzZPRQUcRjOoUOH7GtmO3bs6B7Kuw+mTp3qHgqKOPz+cu7GEjlzZ87sypncX0DiEACA78lbzkKPpjg0Lr74YvuB964hQ4bYcyX95iT/CnEYlgk/c38e7Q1MGjZsKGeccYZ7cXDEYVjm30VnnWVeolaQeUq4+R4+//xz91BQxOH3l3M33vDPu3Nazpz7zz8ThwAAfE/echZ6tMWh+UgD8zXNMp1r69atUrNmTTn//PPzXTMO4jA889ElVapUse90mct81qP5Psw7liaNOAzLvBupOZd5tD+X+Y8ANWrUkEaNGuW7ZjKIw+8v5268MGd+8s8/V/vnXUscAgDwPXnLWejRFofmg7NNBJYuXVp69+5tX59Up04d+1Q181b4sRGH4S1btszGmfnQe/Oa0nvuucf+c+3atWX79u3u1YMjDsPau3ev1K9fX8qUKSN33nmn/fiZWrVq2d9p87rDpBGHYQlxCABAMN5yFnq0xaFhHins2bOnXShPOukkueyyy476bpYxpB2Hr776qgwfPty7POlJMw4N8zEH5oPTTz75ZPtUUvMB8vkfSUxS0nE4c+ZMue+++7zLY4ykEIeGeaTQfF5p7u9w69atUwlDgzgMS4hDAACC8Zaz0HPTTTfJ2rVrpUGDBt6xtCZ0HGaztOMw1qQdhzElHYfZNJJSHMZEHIYlxCEAAMF4y5nGIQ71DXGoc4Q4xHES4hAAgGC85UzjEIf6hjjUOUIc4jgJcQgAQDDecqZxiEN9QxzqHCEOcZyEOAQAIBhvOdM4xKG+IQ51jhCHOE5CHAIAEIy3nGkc4lDfEIc6R4hDHCchDgEACMZbzjQOcahviEOdI8QhjlPOXVo0Z07PmRPdYwAA4Ph4y5nGIQ71DXGoc4Q4BAAAiMZbzjQOcahviEOdI8QhAABANN5ypnGIQ31DHOocIQ4BAACi8ZYzjUMc6hviUOcIcQgAABCNt5xpHOJQ3xCHOkeIQwAAgGi85UzjEIf6hjjUOUIcAgAAROMtZxqHONQ3xKHOEeIQAAAgGm850zjEob4hDnWOEIcAAADReMuZxiEO9Q1xqHOEOAQAAIjGW840DnGob4hDnSPEIQAAQDTecqZxiEN9QxzqHCEOAQAAovGWM41DHOob4lDnCHEIAAAQjbecaRziUN8QhzpHiEMAAIBovOVM4xCH+oY41DlCHAIAAETjLWcahzjUN8ShzhHiEAAAIBpvOdM4xKG+IQ51jhCHAAAAcdx4441SGKZ///4yadIkeeqpp9RP7969pVOnTt59oG1uv/12mTBhgnf7Nc7gwYOlS5cu3n2gcXJu70r39mubhx56iDgEAADZZ8eOHVIY5k9/+pNUrlxZKlSooH7+93//V7Zu3erdB9pmwYIFctppp3m3X+M8+OCDsmHDBu8+0Dg5t3ele/u1TadOnYhDAACQfdynO2k1fvx4KVGihPcUNo0zd+5cOXTokHsXqLN06VIb/O7t1zgmDnft2uXeBSrl3N6V7u3XNjfccANxCAAAso+7mGlFHOpDHOqUIQ4BAADicBczrYhDfYhDnTLEIQAAQBzuYqYVcagPcahThjgEAACIw13MtCIO9SEOdcoQhwAAAHG4i5lWxKE+xKFOGeIQAAAgDncx04o41Ic41ClDHAIAAMThLmZaEYf6EIc6ZYhDAACAONzFTCviUB/iUKcMcQgAABCHu5hpRRzqQxzqlCEOAQAA4nAXM62IQ32IQ50yxCEAAEAc7mKmFXGoD3GoU4Y4BAAAiMNdzLQiDvUhDnXKEIcAAABxuIuZVsShPsShThniEAAAIA53MdOKONSHONQpQxwCAADE4S5mWhGH+hCHOmWIQwAAgDjcxUwr4lAf4lCnDHEIAAAQh7uYaUUc6kMcfj9vvfWWXHzxxVK8eHGpUqWKCRZZv369e7XUZYhDAACAONzFTCviUB/i8LubP3++lCxZUho0aCB//OMfZfjw4VKxYkWpXbu27Ny50716qjLEIQAAQBzuYqYVcagPcfjdNW3aVKpXry7bt2/Pu2zevHn2XCYUY8oQhwAAAHG4i5lWxKE+xOF387e//c1+zbvvvts9JBdccIHUq1fPvThVGeIQAAAgDncx04o41Ic4/G6mTZtmv+bUqVPdQ9K1a1cpUqRIgUcU05YhDgEAAOJwF7OQduzYIf/zP/8jTz75pLz++utRgyXJOKxWrZoMHTrULtXusRiTZhyuWLFCJk6caGflypXu4UTFjMMWLVpIx44dvcuTmpBx+Pvf/95+TfM0Utdvf/tbe+zTTz91D6UmEyEOTzrpJBkyZIh3eVJDHAIAgKzkLmahvPPOO/YdEM0pypYta//3/PPPlw0bNrhXTUVScVisWDGZMWOGPUfRokW94zEmrTi85557bBCbNzYx9635c//+/d2rJSZWHJ566qn2XT1fffVV71hSEzIOR4wYYb/mokWL3EP29YbHOpaWTMpxaN6t9bXXXrO/M+6xpIY4BAAAWcldzEIwT0kzj6bVrVtXVq9ebS9744035IQTTpA2bdo4105HEnFobo95il6uwhSH5imJ5lx9+vSRffv2yd69e6V37972sueee869eiJixOE555wjX3zxhT3/DzUOH3nkEfs1FyxY4B6SYcOG2WNLlixxD6Umk2IcVqhQQV5++WV7XuIQAAAUes5eFkTu09bMU0nzMwuuufyjjz4qcHkaQsdhu3btZNWqVXLgwAFZs2aNPUdhisMLL7xQ/u3f/k0OHjyYd9nhw4flrLPOssfSkGYclipVSgYNGiTffvutfPXVV7Jnz54fbBxOmDDBfs1Zs2a5h6Rv3772WO7f6RgyKcVh+/bt7e3cv3+/rF27ljgEAABwF7MQrr76ailfvnyBcDCWLVtmF6MYb5UfOg6//vpr++hKo0aNZNKkSfYchSUON23aZJ9C2qNHD/eQ3HXXXfZ7SOPD1NOMw4YNG8qRI0dkypQp8qMf/Ug2b978g43Dt99+235N8zvhMsFkQtj8R49YMinFofkZLl682P5sn3nmGeIQAADAXcxCMI8enXfeee7F9tEWc8qcxcg9lLjQcdi6deu8N6ApbHFoPkDdnGfMmDHuIfnDH/5gj82ePds9FFyacWg+E9B8YHzuP/+Q43D37t1Srlw5+4Y6+ZkgNLezZcuWBS5PWyalOLz88svzfoeJQwAAgBzuYhZC1apVj7lgmkclfv7zn7sXJy50HOafwhaHr7zyij1P7u3OzyzZ5tjzzz/vHgouzTh054cch4Z51Nf8PuR/6rd5gyFzrhdeeCHfNdOXSSkO8w9xCAAAkMNdzEKoVKmSfWTtaMzTTY91LEnEYTj/v8/JM2FhjpllO2nE4Xe3ZcsW++i+eeSsSZMmUqdOHXueW265xb1q6jLEIQAAQBzuYhZCzZo15ZJLLnEvtkyg/eIXv3AvThxxGI55tMmcZ+LEie4hefrpp+2x/O/imhTi8Psx7zL7xBNPSLdu3aRnz555H8kSW4Y4BAAAiMNdzEIw71ZpPsbCtXXrVrsYmWU0bcRhOCbKzHlGjhzpHpLRo0fbY+Z1iUkjDnXKEIcAAABxuItZCJ07d7avLTRvQJNf7rskPvbYYwUuTwNxGI75TEPz873pppvcQ3LzzTdLsWLF7GddJo041ClDHAIAAMThLmYh5L4mzX3DEvOIoQmoGJ+hRhyGZZ4abMJs27ZteZeZIKxSpYq0atUq3zWTQxzqlCEOAQAA4nAXsxDMh6Gbzw4zbz7zpz/9SRYuXCgDBgw45mfjpYE4DGvRokVSvHhx+2Ym5sPUzUdXNGvWzD5qmMZTSg3iUKcMcQgAABCHu5iFYj4k/oorrshbhkyY3XrrrbJ//373qqkgDsMzH2lxyimn5J23Ro0aqbwRTS7iUKcMcQgAABCHu5iFtmnTJvs00p07d7qHUpVkHGbbpBWHudauXWvnyJEj7qFExYzDtIc41DXEIQAAyEruYqYVcagPcahThjgEAACIw13MtCIO9SEOdcoQhwAAAHG4i5lWxKE+xKFOGeIQAAAgDncx04o41Ic41ClDHAIAAMThLmZaEYf6EIc6ZYhDAACAONzFTCviUB/iUKcMcQgAABCHu5hpRRzqQxzqlCEOAQAA4nAXM62IQ32IQ50yxCEAAEAc7mKmFXGoD3GoU4Y4BAAAiMNdzLQiDvUhDnXKEIcAAABxuIuZVsShPsShThniEAAAIA53MdOKONSHONQpQxwCAADE4S5mWhGH+hCHOmWIQwAAgDjcxUwr4lAf4lCnDHEIAAAQh7uYaUUc6kMc6pQhDgEAAOJwFzOtiEN9iEOdMsQhAABAHO5iphVxqA9xqFOGOAQAAIjDXcy0Ig71IQ51yhCHAAAAcbiLmVbEoT7EoU4Z4hAAACAOdzHTijjUhzjUKUMcAgAAxHHddddJYZh+/frJs88+K88995z66dmzp/z617/27gNt0717d3nqqae8269xBg8ebILCuw80Ts7tXenefm0zatQo4hAAAGSfMmXKSGGYbt26yc6dO2XPnj3q57LLLpPy5ct794G2ueiii2T9+vXe7dc4AwYMkKpVq3r3gcbJub0r3duvbSZPnkwcAgCArOQ95UnjdO3aVQ4cOOA+g02lli1bSrFixbz7QNucd955smXLFvfmq2Ti0AS/ex9onBwr3duvzZQpU4hDAACQlbzlTOMQh/qGONQ5QhwCAABE4y1nGoc41DfEoc4R4hAAACAabznTOMShviEOdY4QhwAAANF4y5nGIQ71DXGoc4Q4BAAAiMZbzjQOcahviEOdI8QhAABANN5ypnGIQ31DHOocIQ4BAACi8ZYzjUMc6hviUOcIcQgAABCNt5xpHOJQ3xCHOkeIQwAAgGi85UzjEIf6hjjUOUIcAgAAROMtZxqHONQ3xKHOEeIQAAAgGm850zjEob4hDnWOEIcAAADReMuZxiEO9Q1xqHOEOAQAAIjGW840DnGob4hDnSPEIQAAQDTecqZxiEN9QxzqHCEOAQAAovGWM41DHOob4lDnCHEIAAAQjbecaRziUN8QhzpHiEMAAIBovOVM4xCH+oY41DlCHAIAAETjLWcahzjUN8ShzhHiEAAAIBpvOdM4xKG+IQ51jhCHAAAA0XjLmcYhDvUNcahzhDgEAACIxlvONA5xqG+IQ50jxCEAAEA03nKmcYhDfUMc6hwhDgEAAKLxljONk0QcfvPNN/Lcc8/JpEmTZOnSpe7haNKOwwsuuEBatWrlXZ70xIjDTz75xP68n3nmGfn666/dw4lJOg4vvPBC+dnPfuZdHmMkxTg0P8Nnn33W/kw//vhj93BiiEMAAJCtvOUsiWnWrJmccMIJ3uVpTeg4nDx5spQuXbrAOTp06CAHDx50r5q6NOPwlFNOkQ0bNsj06dO9Y0lPmnF4+PBh6dKlS4HzlyxZUsaNG+deNRFJxuGpp55qI2natGnesRgjKcXhk08+KaVKlSpw7o4dO8qhQ4fcqwZHHAIAgGzlLWeh55e//KVdiBo3buwdS2tCxuGyZcukRIkS0qZNG9m0aZP9uqNHj5YiRYrI0KFD3aunLq04rFu3rnz++ef2nNrjcNSoUfac999/v+zfv182b94s7dq1k6JFi8qCBQvcqweXVBzWq1dPvvjiC3uOwhSHS5YskeLFi0vbtm3tz9L8Do8cOdKef/jw4e7VgyMOAQBAtvKWs5BzxRVXyO7du+1CpCUOzSNIJg7Xr19f4PJrrrlGKlasKPv27StwedqSjkPzaMu9994ru3btknXr1tlY0hyH5lHDGjVqSJMmTQpcbm5/pUqVpH379gUuT0LoODSPepuvaW7DV199ZX+GhSkO/+M//sP+PTZPDc/vyiuvlMqVKwf7d8WxEIcAACBbectZiDFPIR0xYoR9ipa2OKxZs6Y0b97cvVjGjx9vz/XGG2+4h1KVdBw2bdrUnse83rJatWqyY8cO1XH44Ycf2vM98MAD7iG59tprpVy5cok/nTh0HOb+/Z06dar9GZpILExxaG7zT3/6U/di+zRh8z3MnTvXPRQUcQgAALKVt5yFmJdeesk+4vLYY49J37597UKkIQ537txpv97NN9/sHpJ58+bZY48++qh7KFVJx6GJY/MGJrn/rD0OzRuWmPOZv9Oufv362WOrVq1yDwUVOg7dn2FhikPzd8acp3v37u4hmT17tj32hz/8wT0UFHEIAACylbechZjbbrtNzj33XPvnXr162YVIQxyuXbvWfr3c4M3PvBbRHBs8eLB7KFVJx6E72uPwv/7rv+z5jvZo0oMPPmiPJf26w9Bx6E5hikPzOllzHvPUaNdf//pXe+y+++5zDwVFHAIAgGzlLWehR1McmjfvMF9v4MCB7iH57LPP7DGzyMdEHIZlHgk255s/f757KO+Nat599133UFDEYTjLly+35xkyZIh7KO8/8BztWEjEIQAAyFbechZ6NMWheRMa8/V+85vfuIfko48+sseGDRvmHkoVcRjW448/bs/35ptvuofsO1uaY4sXL3YPBUUchvP3v//dnqd///7uIVm0aJE9drTXl4ZEHAIAgGzlLWehR1Mcmnd1NG+B36lTJ/eQzJo1y54rrc++OxbiMKyXX37Znu/55593D0mfPn3sMfOOn0kiDsPZs2eP/QgS8+8E18yZM+33YN5cKknEIQAAyFbechZ6NMWhYT4b7qKLLnIvljFjxthzJf0Uw3+FOAxrzZo19nxH+wzL1q1b248+OHLkiHsoKOIwrNq1a0uzZs3ci/OeJrxw4UL3UFDEIQAAyFbechZ6tMWheTqaiS/z2qVc5p1Zze0zn4eX9Mca/CvEYXj169eXunXrFvjZmqcnms/KO9qjyKERh2GZp4WbZwCYN6fJZX6HzTu4mndyNR/BkyTiEAAAZCtvOQs92uLQfHC2+fDzWrVqyauvvmpfa9ixY0d7nthPKTWIw/BefPFFe85rrrnGvi7NfOSBCcayZcvKypWJtwxxGNi6deukQoUKUqdOHXnttdfsZ1led9119vxJP6XUIA4BAEC28paz0KMtDg3z0QVnn3123tcvU6aM/ViDbEAcJuO///u/pWLFinnnP+2002TOnDnu1RJBHIb33nvv2TjMPa8J/ZEjR7pXSwRxCAAAspW3nIUejXGYy7wezXw22u7du91D0aQdh7Em7Tg09u3bJx9//LF9SnHSrzPML+k4zKaRlOIw1+rVq2XJkiWp/g4ThwAAIFt5y1noMa/hMcFywgkneMfSmqTiMBsRh/oQh7oQhwAAIFt5y5nGIQ71DXGoc4Q4BAAAiMZbzjQOcahviEOdI8QhAABANN5ypnGIQ31DHOocIQ4BAACi8ZYzjUMc6hviUOcIcQgAABCNt5xpHOJQ3xCHOkeIQwAAgGi85UzjEIf6hjjUOUIcAgAAROMtZxqHONQ3xKHOEeIQAAAgGm850zjEob4hDnWOEIcAAADReMuZxiEO9Q1xqHOEOAQAAIjGW840DnGob4hDnSPEIQAAQDTecqZxiEN9QxzqHCEOAQAAovGWM41DHOob4lDnCHEIAAAQjbecaRziUN8QhzpHiEMAAIBovOVM4xCH+oY41DlCHAIAAETjLWcahzjUN8ShzhHiEAAAIBpvOdM4xKG+IQ51jhCHAAAA0XjLmcYhDvUNcahzhDgEAACIo06dOlIYpmfPnrJ8+XJZuXKl+mnfvr2cffbZ3n2gbdq0aSOLFy/2br/GGThwoDRo0MC7DzTOyv/Luw80zbhx44hDAACQfT744AMpDPPoo49K06ZNpVGjRurnmWeekQULFnj3gbb585//bB8ldW+/xhk+fLi8/fbb3n2gcXJu70r39mubXr16EYcAACD7uE930mr8+PFSokQJ7ylsGmfu3Lly6NAh9y5QZ+nSpVK5cmXv9mucBx98UHbt2uXeBSrl3N6V7u3XNjfccANxCAAAso+7mGlFHOpDHOqUIQ4BAADicBczrYhDfYhDnTLEIQAAQBzuYqYVcagPcahThjgEAACIw13MtCIO9SEOdcoQhwAAAHG4i5lWxKE+xKFOGeIQAAAgDncx04o41Ic41ClDHAIAAMThLmZaEYf6EIc6ZYhDAACAONzFTCviUB/iUKcMcQgAABCHu5hpRRzqQxzqlCEOAQAA4nAXM62IQ32IQ50yxCEAAEAc7mKmFXGoD3GoU4Y4BAAAiMNdzLQiDvUhDnXKEIcAAABxuIuZVsShPsShThniEAAAIA53MdOKONSHONQpQxwCAADE4S5mWhGH+hCHOmWIQwAAgDjcxUwr4lAf4lCnDHEIAAAQh7uYaUUc6kMc6pQhDgEAAOJwFzOtiEN9iEOdMsQhAABAHO5iphVxqA9xmIyNGzfK2rVrZf/+/e6hVGSIQwAAgDjcxUwr4lAf4jCsFStWSNOmTfPOeeKJJ8rIkSPdqyUuQxwCAADE4S5mWhGH+hCH4ezYsUNOPfVUOfnkk+XZZ5+VOXPmmICx5/7jH//oXj1RGeIQAAAgDncx04o41Ic4DGfEiBH2PCYKcx05ckRatmwp1apVkwMHDuS7drIyxCEAAEAc7mKmFXGoD3EYTrNmzeSUU05xL5Ynn3zSnn/WrFnuocRkiEMAAIA43MVMK+JQH+IwnHLlyknbtm3di+WDDz6w5zePLKYlQxwCAADE4S5mSTLL7bhx46Rbt24yaNAgWbhwoXuVxKQZh0WKFLHL9CWXXOIdS2NixuHy5ctlyJAh0r17dxk7dqz84x//cK8STDbF4UknnSQTJ06UihUresdCTJJxuHPnTnuOLl26uIfsu5aaY3fddZd7KDGZLIhD8zts3ozn4osv9o6FGOIQAABkJXcxS8qGDRukdu3aUrx4cfsUtpo1a9oFzCy9aUgzDgcOHGjP2bVrV+9YGhMrDqdOnWrv4x/96EfSokULKVWqlP3zsmXL3KsGkS1xWLp06bzX6tWoUcM7HmKSjEMT8OYct99+u3vI/t6aY7fddpt7KDGZLIjDoUOH2u+lU6dO3rEQQxwCAICsVHAtS84vf/lLKVOmTN6jhQcPHpSbbrrJBuKiRYuca4eXRhya8H3ooYfyzlmY4tBEhHlq4k9/+lP59ttv7WWrV6+2r2Nr0KCBfXOT0LIhDk0MvvXWW3nf0w8xDnMfOTSP6Lu+/PJLe6x3797uocRkIsah+R0ePXp03vdCHAIAgEIl306WmPXr10vRokWlR48eBS7fvn27DcbOnTsXuDwJScdh48aNbawYs2fPtv9bmOLQxIs594IFCwpcbp5GbC7PH1ChxI5D89TZzZs322jLvd0/xDg8fPiwfZT3V7/6lXvIPuprzj9s2DD3UGIykeLQfMbjJ598Yr+H3N9h4hAAABQq+ZeypJjPTTOneumll9xD8pOf/MR+tlrSko7DBx54wH6IeJs2beyjZ0ZhisPLL79cKlWq5D1C+MUXX9jvKfeptiHFjsOPPvpIXnnlFTnjjDPyPiz+hxiHxrnnnisXXnihe7H9nTXnN7/DaclEikPzqL95zexll10ml156qf1eiEMAAFCoOHtZIoYPH24XIrNMu2688UZ7LPepiElJOg7N0yeLFStm/1wY47BWrVpywQUXuBfbz8czjxp36NDBPfS9xY7D0047Le/PP/Q4NG84Y/7+fvXVVwUuv/nmm+1TLb/55psClycpEykOze+w+btq/kwcAgCAQsnZyxLRt29fuxCtWbPGPWTfBMMcW7dunXsoqKTjMP8UxjisUqWK/cD0oylbtqx9ZDG02HGYf37ocfj555/bp5b+7Gc/k02bNtnLpkyZYsMwjad955eJFIf5hzgEAACFkrOXJeI3v/mNXYjMm1u47rjjjmMeC4k4TJaJNPN0vKMpX778MY99H8RhWE8//bR9DbB5BNHEvjmvedr3jh073KsmKkMcAgAAxOHsZYkwbwtvTrVy5Ur3kNxyyy322JYtW9xDQRGHyTJPsTSfCXc05tGna665xr34eyMOwzNvHmUi8eGHH5ZZs2bZN6tJW4Y4BAAAiMPZyxLxxBNP2IVo3rx57iG56qqr7NMO3TcyCY04TJYJwzPPPNO9OO8z9JL4nDziUKcMcQgAABCHs5clYvHixXYhevTRR91DUrNmTWnevLl7cXDEYbJ69uxpn464bdu2Ape//vrr9nsy/4EgNOJQpwxxCAAAEIezlyXCPCr44x//WOrXry/79u3Luzz3bfKPFo2hEYfJMp9jaM5tPtIjP/PIcOnSpWXjxo0FLg+BONQpQxwCAADE4exliZk+fbp9m3jzKKF5FOl3v/udlCtXzn6+2t69e92rB0ccJq9du3b20cPevXvLpEmT7OsMzffjBmMoxKFOGeIQAAAgDmcvS9Sf//xnadCggV2OzDtYduzYMZFHlI4mzTg0t9EEWtu2bb1jaUysONyzZ4/cfffdUrVqVft9nH766TJ27Fj3asFkUxz26NHD3u9JfT/EYbrTsGFD+/Ns06aNdyzEEIcAACAruYuZVmnGYeyJFYdpy6Y4THqIQ11DHAIAgKzkLmZaEYf6EIc6ZYhDAACAONzFTCviUB/iUKcMcQgAABCHu5hpRRzqQxzqlCEOAQAA4nAXM62IQ32IQ50yxCEAAEAc7mKmFXGoD3GoU4Y4BAAAiMNdzLQiDvUhDnXKEIcAAABxuIuZVsShPsShThniEAAAIA53MdOKONSHONQpQxwCAADE4S5mWhGH+hCHOmWIQwAAgDjcxUwr4lAf4lCnDHEIAAAQh7uYaUUc6kMc6pQhDgEAAOJwFzOtiEN9iEOdMsQhAABAHO5iphVxqA9xqFOGOAQAAIjDXcy0Ig71IQ51yhCHAAAAcbiLmVbEoT7EoU4Z4hAAACAOdzHTijjUhzjUKUMcAgAAxOEuZloRh/oQhzpliEMAAIA4nnjiCSkM88ADD0i3bt3klltuUT+jR4+Wxx9/3LsPtM3YsWOlR48e3u3XOMOGDZNx48Z594HGybm9K93br2369+9PHAIAgOxz5plnSmGYnj17yooVK2TVqlXq59prr5U6dep494G2ad26tSxZssS7/Rpn4MCBUr9+fe8+0Dg5t3ele/u1TU7oE4cAACAreU950jhdu3aVAwcOuM9gU6lly5ZSrFgx7z7QNuedd55s2bLFvfkqDRgwQMqXL+/dBxonx0r39mszZcoU4hAAAGQlbznTOMShviEOdY4QhwAAANF4y5nGIQ71DXGoc4Q4BAAAiMZbzjQOcahviEOdI8QhAABANN5ypnGIQ31DHOocIQ4BAACi8ZYzjUMc6hviUOcIcQgAABCNt5xpHOJQ3xCHOkeIQwAAgGi85UzjEIf6hjjUOUIcAgAAROMtZxqHONQ3xKHOEeIQAAAgGm850zjEob4hDnWOEIcAAADReMuZxiEO9Q1xqHOEOAQAAIjGW840DnGob4hDnSPEIQAAQDTecqZxiEN9QxzqHCEOAQAAovGWM41DHOob4lDnCHEIAAAQjbecaRziUN8QhzpHiEMAAIBovOVM4xCH+oY41DlCHAIAAETjLWcahzjUN8ShzhHiEAAAIBpvOdM4xKG+IQ51jhCHAAAA0XjLmcYhDvUNcahzhDgEAACIxlvONE4ScbhgwQK5//77pV+/fjJ16tTgX/+7SjsOO3ToIL179/YuT3rSjsODBw/KCy+8IP3795ff/e53Mn/+fPcqiUk6Dq+77jq54447vMtjjKQYh++9957cd9999mf63HPPpfY7TBwCAIBs5S1noadIkSLSsWNHqVq1qncsrQkdh4MHD7Zft3r16nLOOefYP1900UWyY8cO96qpSzMOL7zwQtm5c6dMnz7dO5b0pBmHu3fvlhYtWtjz1qtXT2rUqGH/fOedd7pXTUSScdiwYUPZtWuXTJs2zTsWYySlOLz33nvt+czP0vxMzZ+bNGli74ukEYcAACBbectZ6Ln77rvtQtS4cWPvWFoTMg7nzp1rv2a3bt3k0KFD9rKZM2dKiRIl5NZbb3Wunb604vCKK67IizPtcdi3b1/7HzlefPFF+8+HDx+2f6/N9zFjxgzn2uElFYc///nPZevWrfYchSkO33jjDXuu2267zf4sjVdeeUWKFy8uvXr1cq4dHnEIAACylbechRzzyEru8qUlDtu3by9ly5b1HiXs3LmzlCpVyrs8bUnHYaVKlWTy5Mn257po0SLZs2eP6jjcv3+/VKhQQdq0aVPgcvP36aSTTpLWrVsXuDwJoePwxBNPlKeeesr+DD/44APZu3dvoYrDq6++2t6f7qOEN9xwg/3d/vbbbwtcHhpxCAAAspW3nIWY2rVr2/8Sb6xfv97+r5Y4rFKlirRq1cq92Cx89lwvv/yyeyhVScdh06ZN7fI8dOhQKVmypI1hzXFoXpdmzvfII4+4h+T666+394GJqySFjsPmzZvbn+GQIUPsI96F7WmlFStW9GLfmDhxov0ezDMBkkQcAgCAbOUtZyHGhOG2bdvs07Zyn6alIQ7NU/DM1+vevbt7yL5BiTn28MMPu4dSlXQcmked8r9+VHscPv300/Z8R4v+gQMH2mOfffaZeyio0HFofobmP3Lk/nNhisONGzfa8/Ts2dM9JG+99ZY9NnbsWPdQUMQhAADIVt5yFmKuvPJKqVy5sv2zpjhcvXq1/Xr33HOPe0g+/vhje2zQoEHuoVQlHYfuaI/Dxx57zJ7PhIPrP//zP+2x999/3z0UVOg4dKcwxeHKlSvteUzYu5YsWWKPmXejTRJxCAAAspW3nIUeTXG4atUq+/XMsu5avnz5MY+liTgMyzyKZM737rvvuodk1KhR9ljSH2tBHIZjHuU15zFPqXUtXbr0mMdCIg4BAEC28paz0KMpDr/++mv79e666y73UN6jDuazD2MiDsMaP368Pd/s2bPdQ/Yz8syxDz/80D0UFHEYzpdffmnPYz6f1LVw4UJ7bMSIEe6hoIhDAACQrbzlLPRoikPz0RXmHUnNG5G4zJtYmHNNmDDBPZQq4jCs1157zZ7PvOGQy7xuzRwzr2NLEnEYjnn3WfMmPJ06dXIP2deVmu/BvJNrkohDAACQrbzlLPRoikPDfNi9+dBs14MPPmjPZR5BjIk4DGvDhg32Mw6P9jpT866fJ598sntxcMRhWA0aNLB/f1zDhg2z34N5/XCSiEMAAJCtvOUs9GiLw9w3IZk7d27eZeaz/szHd5g5cuTI/7tyBMRheC1atJCaNWsW+AzLv/71r1K0aFHp06dPvmsmgzgMyzwd2AR//teR7t69W84444yj/oef0IhDAACQrbzlLPRoi0OzSJsl0nwcgHlDkkmTJkmzZs1sKMyYMcO9euqIw/BMRJinIl5wwQX2acNjxoyR6tWrS40aNeSbb75xrx4ccRiW+Tt72mmn2Y/zMB89Yz7fsEmTJvZ32DyNOGnEIQAAyFbechZ6tMWh8fe//13atWtnPwDdfP26devKSy+95F4tirTj0DwF7/HHH/cuT3rSjENj1qxZNg7NuYsXLy6tW7e2H4uQhqTj8JNPPpFx48Z5l8cYSSEOjbVr18ovfvGLvN/hc845x/5HjjQQhwAAIFt5y1no0RiH2SztOIw1acdhTEnHYTaNpBSHMRGHAAAgW3nLmcYhDvUNcahzhDgEAACIxlvONA5xqG+IQ50jxCEAAEA03nKmcYhDfUMc6hwhDgEAAKLxljONQxzqG+JQ5whxCAAAEI23nGkc4lDfEIc6R4hDAACAaLzlTOMQh/qGONQ5QhwCAABE4y1nGoc41DfEoc4R4hAAACAabznTOMShviEOdY4QhwAAANF4y5nGIQ71DXGoc4Q4BAAAiMZbzjQOcahviEOdI8QhAABANN5ypnGIQ31DHOocIQ4BAACi8ZYzjUMc6hviUOcIcQgAABCNt5xpHOJQ3xCHOkeIQwAAgGi85UzjEIf6hjjUOUIcAgAAROMtZxqHONQ3xKHOEeIQAAAgGm850zjEob4hDnWOEIcAAADReMuZxiEO9Q1xqHOEOAQAAIjGW840DnGob4hDnSPEIQAAQDTecqZxiEN9QxzqHCEOAQAAovGWM41DHOob4lDnCHEIAAAQjbecaRziUN8QhzpHiEMAAIBovOVM4xCH+oY41DlCHAIAAETjLWcahzjUN8ShzhHiEAAAAElp1KhRh4YNG07UPu3bt59oLF68WP08+uijEy+99FLvPtA2rVq1mjhixAjv9mucZ555ZuJ1113n3QcaJ+ffSZ3df08BAAAgHSMzR3mEQttcdNFF8pe//MV9kEKl8ePHy8knn+zdB9qmevXqMmbMGPfmq/Tmm2/KxRdf7N0HSodHDgEAQPbJ2cnWap/Ro0e/bm6q9iEO9Q1xqHaIQwAAkH3cBU2jJ554Yq65qdqHONQ3xKHaIQ4BAED2cRc0jYhDfYhDfYhDAACAyNwFTSPiUB/iUB/iEAAAIDJ3QdOIONSHONSHOAQAAIjMXdA0Ig71IQ71IQ4BAAAicxc0jYhDfYhDfYhDAACAyNwFTSPiUB/iUB/iEAAAIDJ3QdOIONSHONSHOAQAAIjMXdA0Ig71IQ71IQ4BAAAicxc0jYhDfYhDfYhDAACAyNwFTSPiUB/iUB/iEAAAIDJ3QdOIONSHONSHOAQAAIjMXdA0Ig71IQ71IQ4BAAAicxc0jYhDfYhDfYhDAACAyNwFTSPiUB/iUB/iEAAAIDJ3QdOIONSHONSHOAQAAIjMXdA0Ig71IQ71IQ4BAAAicxc0jYjD7+7IkSMyd+5cmTRpkkyfPl327NnjXiWKtOOwZMmSctNNN0mFChW8Y0lOjDjcuXOnvPTSS/Zn/s4777iHE5N0HJYqVcr+DE844QTvWIQhDgEAQPZxFzSN0orDU045RerVq+ddntaEjsN//OMf0qhRowLnqFGjhrz33nvuVVOXdhyOHj3anrdOnTresSQn7Th86623pEqVKgW+BxNsW7duda8aXNJxmHs/1qpVyzsWYYhDAACQfZz9TKU04rBs2bKybNkyeeGFF7xjaU3oOLzqqqukTJkyMmPGDPvPn376qZx11lk2EHft2uVcO11pxWGxYsVk1KhReefVHIdbtmyxYVi/fn1ZtWqVvez555+X0qVLS4cOHZxrh5dUHJqf4cMPP5x3HuIQAADgGPLtZmolHYfmqYazZs2y59ISh8uXL7dfs1+/fgUuN08zNJc/9thjBS5PWxpx2KRJk7xHSdesWWP/V3Mcjhw50p5z3rx5BS6/9957pUiRIrJ69eoCl4eWRBw2bdpU3n//ffv1c3+GxCEAAMAx5F/OtEoyDi+99FL5/PPPZe/evXL48GE1cWiCxHzNd999t8Dl5jWI5tGlyy+/vMDlaUsjDk0If/XVV3LttdfKoEGD7Hk1x+Fll10mlStXtj/j/ObPn2+/l7Fjxxa4PLQk4tB8719++aVcc801MmTIEHse4hAAAOAYnP0sGLNgjhs3zi57tWvXtgv2nDlz3KulIqk4bN68uf36n332mTRu3NgGopY47NGjh/2amzdvdg/Z22peXxlTGnFoAtg8pdL8uTDEofmZmkfaXOa1p+Z7ufXWW91DQSURh23atLFvRGP+TBwCAAD8C85+Fkzv3r3tEmRetzZ48GD7Oibz1DQTT2lLKg7POeccuzCXKFHC/rOmOPz3f/93+/NyH0UyTDSZ1yLGlEYc5p/CEIfmZ3rllVe6F8vBgwft92L+TiQpiTjMP8QhAADAv+DsZ0EsWbLEhsXtt9+ed9n+/fvtoxJm2U374xCSikN3NMVhu3btbPQejQn+Yx1LC3EYnvmZmkf4j8b8Ppu/E0kiDgEAACJz9rMg7rrrLrsA/e1vfytw+bRp0+zl5jPU0kQcHr+OHTvaIDCvo3S1bt1aypcv716cKuIwvIoVK0rbtm3di+1/2DHfy69//Wv3UFDEIQAAQGTOfhaEeS1ezZo13Ytl3bp1djG688473UOJIg6PX27gb9y40T0k559/vpx55pnuxakiDsMzt818rqUr9/e2T58+7qGgiEMAAIDInP0siFNPPfWob2xhHoUynzl2rKeuJYU4PH5PPvmk/Zpz584tcPmBAwekXLlyiT/F8F8hDsNr3769/ViWQ4cOFbj89ddft99Lzu9RgctDIw4BAAAic/azICpVqmTfFv9oTFiYpyWmiTg8ft98840UL15cbrnllgKXmw9FN+eaMGFCgcvTRhyGN2nSJHvO6dOnF7i8U6dO9u/C+vXrC1weGnEIAAAQmbOfBVG1alX7+X9HU7ZsWfv28mkiDr+bXr162dcdmjAyH9cxefJkOfHEE6Vu3br2dWgxEYfhmZ/pWWedZT/H8umnn5bly5fLgAED7Pdh3n04acQhAABAZM5+FsQZZ5xx1KeVmqerFS1aVH71q1+5hxJFHH43Jha6d+9uHzXKPYd5Pan7RkMxEIfJWLNmTYFAMz9783Et5unESSMOAQAAInP2syDMU0qP9oY0JirMKfv27eseShRx+P1s375dPvjgA/vGJNki7TiMNWnHYa4NGzbIggULZNu2be6hxCQdh1k2xCEAAMg+7oIWgnmUxXzptWvXFrjcPFXNXG4+0iJNacXhJZdcIvXq1fMuT2uSisNsRBzqQxwCAABE5i5oIaxYscI+He3666/P+5w88+iTCSez0O/bt8/5fyQrrTiMPcShviEO1Q5xCAAAso+7oIVy//332yXIfCZe586d7dNMS5QoITNnznSvmjjiUB/iUB/iEAAAIDJ3QQtpxowZ0qFDB2nZsqV06dJFlixZ4l4lFcShPsShPsQhAABAZO6CphFxqA9xqA9xCAAAEJm7oGlEHOpDHOpDHAIAAETmLmgaEYf6EIf6EIcAAACRuQuaRsShPsShPsQhAABAZO6CphFxqA9xqA9xCAAAEJm7oGlEHOpDHOpDHAIAAETmLmgaEYf6EIf6EIcAAACRuQuaRsShPsShPsQhAABAZO6CphFxqA9xqA9xCAAAEJm7oGlEHOpDHOpDHAIAAETmLmgaEYf6EIf6EIcAAACRuQuaRsShPsShPsQhAABAZO6CphFxqA9xqA9xCAAAEJm7oGlEHOpDHOpDHAIAAETmLmgaEYf6EIf6EIcAAACRuQuaRsShPsShPsQhAABAZO6CphFxqA9xqA9xCAAAEFnOTrZW+4wePfp1c1O1D3Gob4hDtUMcAgAARDIy4y9n6oY41DfEodohDgEAACLpkDMTtU/Dhg0n5sThxJw9W/3kxOHEnDj07gNtU61atYk5cejdfo0zZ86ciTlx6N0HSqdzBgAAAAAAAAAAAAAAAAAAAAAAAAAAAAAAAAAAAAAAAAAAAAAAAAAAAAAAAAAAAAAAAAAAAAAAAAAAAAAAAAAAAAAAAAAAAAAAAAAAAAAAAAAAAAAAAAAAAAAAAAAAAAAAAAAAAAAAAAAAAAAAAAAAAAAAAAAAAAAAAAAAAAAAAAAAAAAAAAAAAAAAAAAAAAAAAAAAAAAAAAAAAAAAAAAAAAAAAAAAAAAAAAAA4Afm/wB/LU85oUAJ+AAAAABJRU5ErkJggg==)"
      ],
      "metadata": {
        "id": "JXpAvVDZ40x1"
      }
    },
    {
      "cell_type": "code",
      "source": [
        "ar = np.tile(np.array([[1,0],[0,1]]),(3,3))\n",
        "print(ar)"
      ],
      "metadata": {
        "colab": {
          "base_uri": "https://localhost:8080/"
        },
        "id": "vdZeRbfP_Hzd",
        "outputId": "5e76ad9b-9d75-4f4d-8ea2-00430e2320af"
      },
      "execution_count": null,
      "outputs": [
        {
          "output_type": "stream",
          "name": "stdout",
          "text": [
            "[[1 0 1 0 1 0]\n",
            " [0 1 0 1 0 1]\n",
            " [1 0 1 0 1 0]\n",
            " [0 1 0 1 0 1]\n",
            " [1 0 1 0 1 0]\n",
            " [0 1 0 1 0 1]]\n"
          ]
        }
      ]
    },
    {
      "cell_type": "markdown",
      "metadata": {
        "id": "SO5ES8tlaBX0"
      },
      "source": [
        "# Exercise 2: Array shape and dimension\n",
        "\n",
        "**Quesion 01**\n",
        "\n",
        "Convert the following 1-D array with 12 elements into a 3-D array.\n",
        "\n",
        "**Hint:** *The new array should contain 3 rows*"
      ]
    },
    {
      "cell_type": "code",
      "metadata": {
        "id": "0uSEs_a0aa3j"
      },
      "source": [
        "ar = np.array([1, 2, 3, 4, 5, 6, 7, 8, 9, 10, 11, 12])"
      ],
      "execution_count": null,
      "outputs": []
    },
    {
      "cell_type": "markdown",
      "metadata": {
        "id": "lS2lSaBua9bq"
      },
      "source": [
        "**Answer**"
      ]
    },
    {
      "cell_type": "code",
      "metadata": {
        "colab": {
          "base_uri": "https://localhost:8080/"
        },
        "id": "ZNULe9uka_y4",
        "outputId": "d2c0f5b0-95e6-48ab-8ad6-5db7f3c34f8a"
      },
      "source": [
        "ar_final = ar.reshape(3,4)\n",
        "print(ar_final)"
      ],
      "execution_count": null,
      "outputs": [
        {
          "output_type": "stream",
          "name": "stdout",
          "text": [
            "[[ 1  2  3  4]\n",
            " [ 5  6  7  8]\n",
            " [ 9 10 11 12]]\n"
          ]
        }
      ]
    },
    {
      "cell_type": "markdown",
      "metadata": {
        "id": "VKbrOW2IcTgw"
      },
      "source": [
        "**Question 02**\n",
        "\n",
        "Reshape the following array which has the shape (6,) to (6,1)\n",
        "\n",
        "**Hint:** *Try to use Numpy newaxis function*"
      ]
    },
    {
      "cell_type": "code",
      "metadata": {
        "colab": {
          "base_uri": "https://localhost:8080/"
        },
        "id": "IxpMEMjAcTG4",
        "outputId": "8cae1d8d-38e8-4de3-90ef-fa5eb39eecdc"
      },
      "source": [
        "ar = np.array([10, 50, 15, 59, 5, 42])\n",
        "print(ar.shape)"
      ],
      "execution_count": null,
      "outputs": [
        {
          "output_type": "stream",
          "name": "stdout",
          "text": [
            "(6,)\n"
          ]
        }
      ]
    },
    {
      "cell_type": "markdown",
      "metadata": {
        "id": "1SJjPZrQdMxt"
      },
      "source": [
        "**Answer**"
      ]
    },
    {
      "cell_type": "code",
      "metadata": {
        "colab": {
          "base_uri": "https://localhost:8080/"
        },
        "id": "OyOPH0djdMUC",
        "outputId": "9b43a9c4-2ad0-4316-c09e-9e3a7d1801c4"
      },
      "source": [
        "ar_final = ar[:, np.newaxis]\n",
        "print(ar_final.shape)"
      ],
      "execution_count": null,
      "outputs": [
        {
          "output_type": "stream",
          "name": "stdout",
          "text": [
            "(6, 1)\n"
          ]
        }
      ]
    },
    {
      "cell_type": "markdown",
      "source": [
        "**Question 03**\n",
        "\n",
        "Consider a (6,8,10) shaped array and find the inidies in (x,y,z) format of the 100th element."
      ],
      "metadata": {
        "id": "bIP9SF2K3ODp"
      }
    },
    {
      "cell_type": "markdown",
      "source": [
        "**Answer**"
      ],
      "metadata": {
        "id": "AGCv2SNF3QE3"
      }
    },
    {
      "cell_type": "code",
      "source": [
        "index =np.unravel_index(100, (6,8,9))\n",
        "\n",
        "print('Index: ', index)"
      ],
      "metadata": {
        "colab": {
          "base_uri": "https://localhost:8080/"
        },
        "id": "Tl9aniu93SZa",
        "outputId": "4b7e1fb6-5c17-4dad-a42c-52fdea807f78"
      },
      "execution_count": null,
      "outputs": [
        {
          "output_type": "stream",
          "name": "stdout",
          "text": [
            "Index:  (1, 3, 1)\n"
          ]
        }
      ]
    },
    {
      "cell_type": "markdown",
      "source": [
        "**Question 04**\n",
        "\n",
        "Consider an array of shape (5,5,3) where each array element equals to 1. Show how to multiply this array with a array of shape (5,5) where each array element equals to 5."
      ],
      "metadata": {
        "id": "03WkT63jA2IP"
      }
    },
    {
      "cell_type": "markdown",
      "source": [
        "**Answer**"
      ],
      "metadata": {
        "id": "nw0opqpGBsAT"
      }
    },
    {
      "cell_type": "code",
      "source": [
        "ar1 = np.ones((5,5,3))\n",
        "ar2 = 5 * np.ones((5,5))\n",
        "ar3= ar1 * ar2[:,:,None]\n",
        "\n",
        "print(ar3)"
      ],
      "metadata": {
        "colab": {
          "base_uri": "https://localhost:8080/"
        },
        "id": "hW_i5unMBQ4N",
        "outputId": "62d5fb79-1ab8-4efb-fe1f-29bd2986b946"
      },
      "execution_count": null,
      "outputs": [
        {
          "output_type": "stream",
          "name": "stdout",
          "text": [
            "[[[5. 5. 5.]\n",
            "  [5. 5. 5.]\n",
            "  [5. 5. 5.]\n",
            "  [5. 5. 5.]\n",
            "  [5. 5. 5.]]\n",
            "\n",
            " [[5. 5. 5.]\n",
            "  [5. 5. 5.]\n",
            "  [5. 5. 5.]\n",
            "  [5. 5. 5.]\n",
            "  [5. 5. 5.]]\n",
            "\n",
            " [[5. 5. 5.]\n",
            "  [5. 5. 5.]\n",
            "  [5. 5. 5.]\n",
            "  [5. 5. 5.]\n",
            "  [5. 5. 5.]]\n",
            "\n",
            " [[5. 5. 5.]\n",
            "  [5. 5. 5.]\n",
            "  [5. 5. 5.]\n",
            "  [5. 5. 5.]\n",
            "  [5. 5. 5.]]\n",
            "\n",
            " [[5. 5. 5.]\n",
            "  [5. 5. 5.]\n",
            "  [5. 5. 5.]\n",
            "  [5. 5. 5.]\n",
            "  [5. 5. 5.]]]\n"
          ]
        }
      ]
    },
    {
      "cell_type": "markdown",
      "source": [
        "**Question 05**\n",
        "\n",
        "Consider the following four dimensions array, compute the total over the last two axis.\n",
        "\n",
        "```\n",
        "ar = np.random.randint(0,10,(3,4,3,4))\n",
        "```\n",
        "\n"
      ],
      "metadata": {
        "id": "UGbVjLh1Bwah"
      }
    },
    {
      "cell_type": "markdown",
      "source": [
        "**Answer**"
      ],
      "metadata": {
        "id": "rJsfGSWoDh9q"
      }
    },
    {
      "cell_type": "code",
      "source": [
        "ar = np.random.randint(0,10,(3,4,3,4))\n",
        "total = ar.reshape(ar.shape[:-2] + (-1,)).sum(axis=-1)\n",
        "\n",
        "print(\"Array:\\n\", ar)\n",
        "print(\"Total over the last two axis:\\n\", total)"
      ],
      "metadata": {
        "colab": {
          "base_uri": "https://localhost:8080/"
        },
        "id": "rcJ09nkZDj5Y",
        "outputId": "bbf587f2-3d50-40f5-928f-13c22638f4b4"
      },
      "execution_count": null,
      "outputs": [
        {
          "output_type": "stream",
          "name": "stdout",
          "text": [
            "Array:\n",
            " [[[[2 5 8 6]\n",
            "   [4 4 0 7]\n",
            "   [2 5 8 2]]\n",
            "\n",
            "  [[3 5 5 7]\n",
            "   [2 6 4 0]\n",
            "   [9 7 6 6]]\n",
            "\n",
            "  [[6 6 7 4]\n",
            "   [7 3 0 4]\n",
            "   [2 1 2 1]]\n",
            "\n",
            "  [[0 5 0 4]\n",
            "   [3 1 7 6]\n",
            "   [6 2 0 7]]]\n",
            "\n",
            "\n",
            " [[[1 6 7 2]\n",
            "   [5 8 5 8]\n",
            "   [4 1 8 1]]\n",
            "\n",
            "  [[2 3 2 4]\n",
            "   [4 9 4 0]\n",
            "   [9 2 3 2]]\n",
            "\n",
            "  [[5 5 7 8]\n",
            "   [4 4 9 4]\n",
            "   [9 6 8 8]]\n",
            "\n",
            "  [[1 3 9 7]\n",
            "   [0 2 2 9]\n",
            "   [8 1 6 2]]]\n",
            "\n",
            "\n",
            " [[[2 2 8 9]\n",
            "   [2 5 8 3]\n",
            "   [2 7 5 4]]\n",
            "\n",
            "  [[0 3 2 9]\n",
            "   [7 0 4 1]\n",
            "   [4 3 5 8]]\n",
            "\n",
            "  [[0 5 4 6]\n",
            "   [7 1 3 5]\n",
            "   [7 9 7 8]]\n",
            "\n",
            "  [[9 3 8 2]\n",
            "   [9 2 8 9]\n",
            "   [6 7 1 6]]]]\n",
            "Total over the last two axis:\n",
            " [[53 60 43 41]\n",
            " [56 44 77 50]\n",
            " [57 46 62 70]]\n"
          ]
        }
      ]
    },
    {
      "cell_type": "markdown",
      "metadata": {
        "id": "amlEqbNQeDKU"
      },
      "source": [
        "# Exercise 3: Array splicing and staking\n",
        "\n",
        "**Question 1:**\n",
        "\n",
        "**Part 1**\n",
        "\n",
        "Calculate the z-score for the class 1 marks.\n",
        "\n",
        "z score = (student mark - mean of the marks) / standard diviation"
      ]
    },
    {
      "cell_type": "markdown",
      "source": [
        "**Answer**"
      ],
      "metadata": {
        "id": "1TdlOZyaGfTy"
      }
    },
    {
      "cell_type": "code",
      "metadata": {
        "colab": {
          "base_uri": "https://localhost:8080/"
        },
        "id": "8RDyRR5ue_P_",
        "outputId": "4a67d5b8-9082-4150-c7b6-06ec4b9b922a"
      },
      "source": [
        "class1_mean = np.mean(class1_data)\n",
        "class1_standard_diviation = np.std(class1_data)\n",
        "\n",
        "class1_zscore = (class1_data - class1_mean) / class1_standard_diviation\n",
        "class1_zscore = class1_zscore.round(2)\n",
        "\n",
        "print(class1_zscore)"
      ],
      "execution_count": null,
      "outputs": [
        {
          "output_type": "stream",
          "name": "stdout",
          "text": [
            "[ 1.05  1.65  1.12  1.61  1.08  0.67  1.39 -1.93  0.29  0.22 -0.24 -0.73\n",
            " -0.92 -0.54 -1.48 -1.22 -0.54  0.67 -1.56  0.71  0.22  1.73 -1.74 -1.25\n",
            "  0.41  1.5  -0.39 -1.14 -1.03  0.33  1.05 -0.8   0.07  1.01 -1.37  0.93\n",
            " -0.54 -1.52 -0.16  1.05  0.74 -0.54 -0.42 -0.65  0.18 -0.09  1.46  0.14\n",
            " -0.58  0.1 ]\n"
          ]
        }
      ]
    },
    {
      "cell_type": "markdown",
      "metadata": {
        "id": "wFG04qQ_gVok"
      },
      "source": [
        "Merge the two arrays of the student marks to a single array which should show the student marks as follows.\n"
      ]
    },
    {
      "cell_type": "markdown",
      "source": [
        "**Answer**"
      ],
      "metadata": {
        "id": "jDShPGwRGhLx"
      }
    },
    {
      "cell_type": "code",
      "metadata": {
        "colab": {
          "base_uri": "https://localhost:8080/"
        },
        "id": "_WrD22oSiB-Z",
        "outputId": "b6bc521a-872c-4440-d0d1-28a63f6d8653"
      },
      "source": [
        "arr1 = ['student_mark', 'student_zscore']\n",
        "print(arr1)"
      ],
      "execution_count": null,
      "outputs": [
        {
          "output_type": "stream",
          "name": "stdout",
          "text": [
            "['student_mark', 'student_zscore']\n"
          ]
        }
      ]
    },
    {
      "cell_type": "markdown",
      "metadata": {
        "id": "KjKhiqqliBbt"
      },
      "source": [
        "**Answer**"
      ]
    },
    {
      "cell_type": "code",
      "metadata": {
        "colab": {
          "base_uri": "https://localhost:8080/"
        },
        "id": "ZPKw_9CfiqEA",
        "outputId": "33b39571-6ea3-434a-b722-3408d9e91b00"
      },
      "source": [
        "class1_completed_data = np.column_stack((class1_data, class1_zscore))\n",
        "print(class1_completed_data)"
      ],
      "execution_count": null,
      "outputs": [
        {
          "output_type": "stream",
          "name": "stdout",
          "text": [
            "[[ 8.20e+01  1.05e+00]\n",
            " [ 9.80e+01  1.65e+00]\n",
            " [ 8.40e+01  1.12e+00]\n",
            " [ 9.70e+01  1.61e+00]\n",
            " [ 8.30e+01  1.08e+00]\n",
            " [ 7.20e+01  6.70e-01]\n",
            " [ 9.10e+01  1.39e+00]\n",
            " [ 3.00e+00 -1.93e+00]\n",
            " [ 6.20e+01  2.90e-01]\n",
            " [ 6.00e+01  2.20e-01]\n",
            " [ 4.80e+01 -2.40e-01]\n",
            " [ 3.50e+01 -7.30e-01]\n",
            " [ 3.00e+01 -9.20e-01]\n",
            " [ 4.00e+01 -5.40e-01]\n",
            " [ 1.50e+01 -1.48e+00]\n",
            " [ 2.20e+01 -1.22e+00]\n",
            " [ 4.00e+01 -5.40e-01]\n",
            " [ 7.20e+01  6.70e-01]\n",
            " [ 1.30e+01 -1.56e+00]\n",
            " [ 7.30e+01  7.10e-01]\n",
            " [ 6.00e+01  2.20e-01]\n",
            " [ 1.00e+02  1.73e+00]\n",
            " [ 8.00e+00 -1.74e+00]\n",
            " [ 2.10e+01 -1.25e+00]\n",
            " [ 6.50e+01  4.10e-01]\n",
            " [ 9.40e+01  1.50e+00]\n",
            " [ 4.40e+01 -3.90e-01]\n",
            " [ 2.40e+01 -1.14e+00]\n",
            " [ 2.70e+01 -1.03e+00]\n",
            " [ 6.30e+01  3.30e-01]\n",
            " [ 8.20e+01  1.05e+00]\n",
            " [ 3.30e+01 -8.00e-01]\n",
            " [ 5.60e+01  7.00e-02]\n",
            " [ 8.10e+01  1.01e+00]\n",
            " [ 1.80e+01 -1.37e+00]\n",
            " [ 7.90e+01  9.30e-01]\n",
            " [ 4.00e+01 -5.40e-01]\n",
            " [ 1.40e+01 -1.52e+00]\n",
            " [ 5.00e+01 -1.60e-01]\n",
            " [ 8.20e+01  1.05e+00]\n",
            " [ 7.40e+01  7.40e-01]\n",
            " [ 4.00e+01 -5.40e-01]\n",
            " [ 4.30e+01 -4.20e-01]\n",
            " [ 3.70e+01 -6.50e-01]\n",
            " [ 5.90e+01  1.80e-01]\n",
            " [ 5.20e+01 -9.00e-02]\n",
            " [ 9.30e+01  1.46e+00]\n",
            " [ 5.80e+01  1.40e-01]\n",
            " [ 3.90e+01 -5.80e-01]\n",
            " [ 5.70e+01  1.00e-01]]\n"
          ]
        }
      ]
    },
    {
      "cell_type": "markdown",
      "source": [
        "# Exercise 4: Numpy Operations\n",
        "\n",
        "**Question 1:**\n",
        "\n",
        "Create an integer array contianing numbers from 0 to 10. Negate all elements which are between 5 and 8."
      ],
      "metadata": {
        "id": "zZ7sy_s4DDvV"
      }
    },
    {
      "cell_type": "markdown",
      "source": [
        "**Answer**"
      ],
      "metadata": {
        "id": "GYDDWVcCGZnZ"
      }
    },
    {
      "cell_type": "code",
      "source": [
        "ar = np.arange(11)\n",
        "print (\"Before negation: \", ar)\n",
        "ar[(ar > 5) & (ar <= 8)] *= -1\n",
        "\n",
        "print (\"After negation elements between 5 and 8: \",ar)"
      ],
      "metadata": {
        "colab": {
          "base_uri": "https://localhost:8080/"
        },
        "id": "yf6148m1DDax",
        "outputId": "29f2f5a9-b949-4757-98c1-4e82cfb6cb92"
      },
      "execution_count": null,
      "outputs": [
        {
          "output_type": "stream",
          "name": "stdout",
          "text": [
            "Before negation:  [ 0  1  2  3  4  5  6  7  8  9 10]\n",
            "After negation elements between 5 and 8:  [ 0  1  2  3  4  5 -6 -7 -8  9 10]\n"
          ]
        }
      ]
    },
    {
      "cell_type": "markdown",
      "source": [
        "**Question 2:**\n",
        "\n",
        "Consider a list which contains (name, height, age) in order as follows.\n",
        "\n",
        "```\n",
        "values = [('Nimal', 1.8, 17), ('Sunil', 1.9, 20), ('Kamal', 1.5, 14)]\n",
        "```\n",
        "\n",
        "Sort the array by,\n",
        "1.   Age\n",
        "2.   Height\n",
        "3.   Name"
      ],
      "metadata": {
        "id": "X7RQNDCt4aka"
      }
    },
    {
      "cell_type": "markdown",
      "source": [
        "**Answer**"
      ],
      "metadata": {
        "id": "57yuSQfpGU4j"
      }
    },
    {
      "cell_type": "code",
      "source": [
        "values = [('Nimal', 1.8, 15), ('Bimal', 1.9, 20), ('Kamal', 1.5, 16)]\n",
        "data_type = [('name', 'S10'), ('height', float), ('age', int)]\n",
        "\n",
        "ar = np.array(values, dtype=data_type)\n",
        "\n",
        "print(\"Sorted by Age: \", np.sort(ar, order='age'))\n",
        "print(\"Sorted by Height: \", np.sort(ar, order='height'))\n",
        "print(\"Sorted by Name: \", np.sort(ar, order='name'))"
      ],
      "metadata": {
        "colab": {
          "base_uri": "https://localhost:8080/"
        },
        "id": "rgDaiPpm5acQ",
        "outputId": "6bf5a978-aa73-48f6-88ea-ac3b1d8a45ca"
      },
      "execution_count": null,
      "outputs": [
        {
          "output_type": "stream",
          "name": "stdout",
          "text": [
            "Sorted by Age:  [(b'Nimal', 1.8, 15) (b'Kamal', 1.5, 16) (b'Bimal', 1.9, 20)]\n",
            "Sorted by Height:  [(b'Kamal', 1.5, 16) (b'Nimal', 1.8, 15) (b'Bimal', 1.9, 20)]\n",
            "Sorted by Name:  [(b'Bimal', 1.9, 20) (b'Kamal', 1.5, 16) (b'Nimal', 1.8, 15)]\n"
          ]
        }
      ]
    },
    {
      "cell_type": "markdown",
      "source": [
        "**Question 03**\n",
        "\n",
        "Create two matrices of 5 x 5 with random values and find the diagonal of the dot product of the two matrices."
      ],
      "metadata": {
        "id": "Ccepzonb7NmG"
      }
    },
    {
      "cell_type": "markdown",
      "source": [
        "**Answer**"
      ],
      "metadata": {
        "id": "sBm64jY_GR7X"
      }
    },
    {
      "cell_type": "code",
      "source": [
        "ar1 = np.random.uniform(0,1,(5,5))\n",
        "ar2 = np.random.uniform(0,1,(5,5))\n",
        " \n",
        "np.diag(np.dot(ar1, ar2))"
      ],
      "metadata": {
        "colab": {
          "base_uri": "https://localhost:8080/"
        },
        "id": "tLPYCDUHASnT",
        "outputId": "e0ba508b-71c9-4b38-f17e-707218240e35"
      },
      "execution_count": null,
      "outputs": [
        {
          "output_type": "execute_result",
          "data": {
            "text/plain": [
              "array([1.07823497, 1.83638609, 1.2854461 , 1.87389773, 1.05407054])"
            ]
          },
          "metadata": {},
          "execution_count": 10
        }
      ]
    },
    {
      "cell_type": "markdown",
      "source": [
        "**Question 04**\n",
        "\n",
        "Convert the following numpy array of numbers(in the integer format) into a matrix binary representation."
      ],
      "metadata": {
        "id": "TP-ddSNeEVCp"
      }
    },
    {
      "cell_type": "markdown",
      "source": [
        "**Answer**"
      ],
      "metadata": {
        "id": "OY8PdPLAGPfM"
      }
    },
    {
      "cell_type": "code",
      "source": [
        "ar = np.array([0, 1, 2, 3, 15, 16, 32, 64, 128])\n",
        "ar_binary = ((ar.reshape(-1,1) & (2**np.arange(8))) != 0).astype(int)\n",
        "print(ar_binary[:,::-1])"
      ],
      "metadata": {
        "colab": {
          "base_uri": "https://localhost:8080/"
        },
        "id": "HzMMRF7eE-D_",
        "outputId": "79c42306-89ae-41ff-839d-9cc076747d4c"
      },
      "execution_count": null,
      "outputs": [
        {
          "output_type": "stream",
          "name": "stdout",
          "text": [
            "[[0 0 0 0 0 0 0 0]\n",
            " [0 0 0 0 0 0 0 1]\n",
            " [0 0 0 0 0 0 1 0]\n",
            " [0 0 0 0 0 0 1 1]\n",
            " [0 0 0 0 1 1 1 1]\n",
            " [0 0 0 1 0 0 0 0]\n",
            " [0 0 1 0 0 0 0 0]\n",
            " [0 1 0 0 0 0 0 0]\n",
            " [1 0 0 0 0 0 0 0]]\n"
          ]
        }
      ]
    },
    {
      "cell_type": "markdown",
      "source": [
        "**Question 05**\n",
        "\n"
      ],
      "metadata": {
        "id": "U5D6AwvkGOrq"
      }
    },
    {
      "cell_type": "markdown",
      "source": [
        "Consider a set lines represented by **P0**, another lines by **P1** and set of points p. Calculate the distance from a point **p** to the lines deferred by P1[i],P2[i].\n",
        "\n",
        "```\n",
        "P1 = [[-6.65234822  7.29407315]\n",
        " [-0.39227634  7.46389674]\n",
        " [ 5.3972054   3.70579674]\n",
        " [-7.71451791  6.72104954]\n",
        " [ 3.51601057 -2.89371416]\n",
        " [ 4.25237431  4.66922892]\n",
        " [ 8.65118668  3.16739356]\n",
        " [ 4.8544455  -1.67275607]\n",
        " [ 7.49377183 -2.27592545]\n",
        " [ 0.39570436  1.18569584]]\n",
        "```\n",
        "\n",
        "```\n",
        "P2 = [[ 9.5042512  -3.29633941]\n",
        " [ 2.80450518  5.33171717]\n",
        " [-4.77061428  8.75163711]\n",
        " [-8.70106348  5.39617521]\n",
        " [ 3.06280994  6.88184573]\n",
        " [ 9.21677584 -0.06165679]\n",
        " [ 2.35533685 -3.0089765 ]\n",
        " [-5.08348815  7.6611443 ]\n",
        " [ 0.03453605 -2.52238159]\n",
        " [ 8.30787282 -0.88402002]]\n",
        "```\n",
        "\n",
        "```\n",
        "P = [[6.67872642 7.88836618]]\n",
        "```\n",
        "\n",
        "**Hint:**\n",
        "\n",
        "The equation of a line defined through two points P1 (x1,y1) and P2 (x2,y2) is\n",
        "\n",
        "P = P1 + u (P2 - P1)\n",
        "\n",
        "![distance (1).png](data:image/png;base64,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)\n",
        "\n"
      ],
      "metadata": {
        "id": "LqyUDRv9Vbsy"
      }
    },
    {
      "cell_type": "markdown",
      "source": [
        "**Answer**\n",
        "\n",
        "The point P3 (x3,y3) is closest to the line at the tangent to the line which passes through P3, that is, the dot product of the tangent and line is 0, thus\n",
        "\n",
        "(P3 - P) dot (P2 - P1) = 0\n",
        "\n",
        "Substituting the equation of the line gives\n",
        "\n",
        "[P3 - P1 - u(P2 - P1)] dot (P2 - P1) = 0\n",
        "\n",
        "Solving this gives the value of u\n",
        "\n",
        "![pointline2.gif](data:image/gif;base64,R0lGODlhLwEiAIAAAP///wAAACH5BAEAAAAALAAAAAAvASIAAAL/hI+py+0Po5y02ouz3rz7D4biSJbmeQSopSbtOr2dDEs0cNdP/vFI4Ou5fjsgihakJA3G4zAFAS5nz1GyNc00oVzGK4vZMj1L7EmMIzq+ZyTpa5RWtXHxzcysuzdyefcflqKnANbQh3Y3lqfip6ZxuOcIIsMm+QiYmNaVyYdJuBPlyNmpaKlJCVh6qcqqGeKGVAg6qgj7SeaaehW66SJrqHuL2vrrFTwnhJzqi7aQk0mba9gIfGsqSG09xnOV/fksPBTt7C3urJ0MxU0Vjad+fdkOOv9uzMF4/mQLryVN/NYL3YVKngKeWsaiIEJ+loIUy4dumMKHEJFR5AVJYIWM/4skYRkkpRmLQR0XblTGUAk5idJilQtEyI4JHwRXjNNR8d4xfzB5ibJpAyczoUSLxlxJ5mKeI0pxfDQKNaoVoDqdUGlVJKTWrVy7ev0KNqzYsWTLmj2LNq3atWy91cQmUqrcuXTrvjJpN28tvQedNuUr4u2iuICFurNrRnBho4oXI8b6g/AkNZEcR+1jGfBha3/XDGOZObRonIlD2ntkWpu7zqNbu563OmfPUXhYv76Ne2+uyqtYfXZlO7fwzLU9Rkh9uiVlv5KHO3/eV6Jt0L+hW7+e7ylwvDY274aMPbzw4naQx7uzxbv49biLWz0Onr380O7PxIg/Pz/95vf46xD/D2CAAg5IYIEGHoggBQUAADs=)\n",
        "\n",
        "Substituting this into the equation of the line gives the point of intersection (x,y) of the tangent as\n",
        "\n",
        "x = x1 + u (x2 - x1)\n",
        "y = y1 + u (y2 - y1)\n",
        "\n",
        "The distance therefore between the point P3 and the line is the distance between (x,y) above and P3."
      ],
      "metadata": {
        "id": "8nwY3yH1Z9H4"
      }
    },
    {
      "cell_type": "code",
      "source": [
        "P1 = np.stack([[-6.65234822 , 7.29407315],[-0.39227634 , 7.46389674],[ 5.3972054  , 3.70579674],[-7.71451791,  6.72104954],[ 3.51601057, -2.89371416],\n",
        "      [ 4.25237431 , 4.66922892], [ 8.65118668 , 3.16739356], [ 4.8544455 , -1.67275607], [ 7.49377183, -2.27592545], [ 0.39570436,  1.18569584]])\n",
        "\n",
        "P2 = np.stack([[ 9.5042512 , -3.29633941],[ 2.80450518 , 5.33171717],[-4.77061428 , 8.75163711],[-8.70106348,  5.39617521],[ 3.06280994,  6.88184573],\n",
        "      [ 9.21677584 ,-0.06165679], [ 2.35533685 ,-3.0089765 ], [-5.08348815, 7.6611443 ], [ 0.03453605, -2.52238159], [ 8.30787282, -0.88402002]])\n",
        "\n",
        "p = np.array([[6.67872642 ,7.88836618]])\n",
        "\n",
        "point_distance = P2 - P1\n",
        "norm = (point_distance**2).sum(axis=1)\n",
        "\n",
        "u =  -((P1[:,0] - p[...,0]) * point_distance[:,0] + (P1[:,1] - p[...,1]) * point_distance[:,1] ) / norm\n",
        "\n",
        "u = u.reshape(len(u),1)\n",
        "distance = P1 + u*point_distance - p\n",
        "distance = np.sqrt((distance**2).sum(axis=1))\n",
        "\n",
        "print(distance)"
      ],
      "metadata": {
        "colab": {
          "base_uri": "https://localhost:8080/"
        },
        "id": "BJWNMoj5GOMu",
        "outputId": "7a83c16c-e2f2-4809-a6a4-7c92c3be9da8"
      },
      "execution_count": null,
      "outputs": [
        {
          "output_type": "stream",
          "name": "stdout",
          "text": [
            "[ 7.80525085  4.2766795   4.31627071 10.84709522  3.65864969  4.00430445\n",
            "  4.75137178  8.21812951 10.18566289  8.07453453]\n"
          ]
        }
      ]
    }
  ]
}