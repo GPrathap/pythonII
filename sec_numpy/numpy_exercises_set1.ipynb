{
  "nbformat": 4,
  "nbformat_minor": 0,
  "metadata": {
    "colab": {
      "name": "numpy_exercises_set1.ipynb",
      "provenance": [],
      "include_colab_link": true
    },
    "kernelspec": {
      "name": "python3",
      "display_name": "Python 3"
    },
    "language_info": {
      "name": "python"
    }
  },
  "cells": [
    {
      "cell_type": "markdown",
      "metadata": {
        "id": "view-in-github",
        "colab_type": "text"
      },
      "source": [
        "<a href=\"https://colab.research.google.com/github/kts-desilva/pythonII/blob/master/sec_numpy/numpy_exercises_set1.ipynb\" target=\"_parent\"><img src=\"https://colab.research.google.com/assets/colab-badge.svg\" alt=\"Open In Colab\"/></a>"
      ]
    },
    {
      "cell_type": "markdown",
      "metadata": {
        "id": "50WQlWKkK_cK"
      },
      "source": [
        "# **Section 01: Creating, Reading and Writing නිර්මාණය කිරීම, කියවීම සහ ලිවීම**"
      ]
    },
    {
      "cell_type": "markdown",
      "metadata": {
        "id": "0MzO05LJayAy"
      },
      "source": [
        "Let's import Numpy library."
      ]
    },
    {
      "cell_type": "code",
      "metadata": {
        "id": "8i3bb0U_a1dG"
      },
      "source": [
        "import numpy as np"
      ],
      "execution_count": 1,
      "outputs": []
    },
    {
      "cell_type": "markdown",
      "metadata": {
        "id": "nuX-0MNped2P"
      },
      "source": [
        "Let's load the necessary datasets"
      ]
    },
    {
      "cell_type": "code",
      "metadata": {
        "id": "w6lj5T4Ueg0N"
      },
      "source": [
        "class1_data_path = \"https://raw.githubusercontent.com/GPrathap/pythonII/master/dataset/class_list/class1_marks.csv\"\n",
        "class2_data_path = \"https://raw.githubusercontent.com/GPrathap/pythonII/master/dataset/class_list/class2_marks.csv\""
      ],
      "execution_count": 20,
      "outputs": []
    },
    {
      "cell_type": "code",
      "metadata": {
        "id": "yPkPOpnfe4RH"
      },
      "source": [
        "#read an array from a file\n",
        "class1_data = np.loadtxt(class1_data_path, dtype=float, skiprows=1)\n",
        "class2_data = np.loadtxt(class2_data_path, dtype=float, skiprows=1)"
      ],
      "execution_count": 21,
      "outputs": []
    },
    {
      "cell_type": "markdown",
      "metadata": {
        "id": "DXdW0mDcK0Yd"
      },
      "source": [
        "#Exercise 1: Simple array creation\n",
        "\n",
        "**Question 01**\n",
        "\n",
        "Create an array contains numbers in ascending order 1 to 10 and descending order 10:1\n",
        "The array should look like [1...10...1]\n",
        "\n",
        "There are many ways to achieve this task. Using np.arange() and np.concatenate() is a good way to do this\n"
      ]
    },
    {
      "cell_type": "markdown",
      "metadata": {
        "id": "zgm3PSLOLg6d"
      },
      "source": [
        "**Answer**"
      ]
    },
    {
      "cell_type": "code",
      "metadata": {
        "id": "dKuawDawKksM",
        "colab": {
          "base_uri": "https://localhost:8080/"
        },
        "outputId": "dbfaa282-ce33-4134-d48f-0a2cf42dbb99"
      },
      "source": [
        "ar1 = np.arange(1,10);\n",
        "ar2 = np.arange(10,0,-1)\n",
        "ar_final = np.concatenate((ar1,ar2),axis=0)\n",
        "print(ar1)\n",
        "print(ar2)\n",
        "print(ar_final)"
      ],
      "execution_count": 8,
      "outputs": [
        {
          "output_type": "stream",
          "name": "stdout",
          "text": [
            "[1 2 3 4 5 6 7 8 9]\n",
            "[10  9  8  7  6  5  4  3  2  1]\n",
            "[ 1  2  3  4  5  6  7  8  9 10  9  8  7  6  5  4  3  2  1]\n"
          ]
        }
      ]
    },
    {
      "cell_type": "markdown",
      "metadata": {
        "id": "SO5ES8tlaBX0"
      },
      "source": [
        "# Exercise 2: Array shape and dimension\n",
        "\n",
        "**Quesion 01**\n",
        "\n",
        "Convert the following 1-D array with 12 elements into a 3-D array.\n",
        "\n",
        "**Hint:** *The new array should contain 3 rows*"
      ]
    },
    {
      "cell_type": "code",
      "metadata": {
        "id": "0uSEs_a0aa3j"
      },
      "source": [
        "ar = np.array([1, 2, 3, 4, 5, 6, 7, 8, 9, 10, 11, 12])"
      ],
      "execution_count": 9,
      "outputs": []
    },
    {
      "cell_type": "markdown",
      "metadata": {
        "id": "lS2lSaBua9bq"
      },
      "source": [
        "**Answer**"
      ]
    },
    {
      "cell_type": "code",
      "metadata": {
        "colab": {
          "base_uri": "https://localhost:8080/"
        },
        "id": "ZNULe9uka_y4",
        "outputId": "d2c0f5b0-95e6-48ab-8ad6-5db7f3c34f8a"
      },
      "source": [
        "ar_final = ar.reshape(3,4)\n",
        "print(ar_final)"
      ],
      "execution_count": 10,
      "outputs": [
        {
          "output_type": "stream",
          "name": "stdout",
          "text": [
            "[[ 1  2  3  4]\n",
            " [ 5  6  7  8]\n",
            " [ 9 10 11 12]]\n"
          ]
        }
      ]
    },
    {
      "cell_type": "markdown",
      "metadata": {
        "id": "VKbrOW2IcTgw"
      },
      "source": [
        "**Question 02**\n",
        "\n",
        "Reshape the following array which has the shape (6,) to (6,1)\n",
        "\n",
        "**Hint:** *Try to use Numpy newaxis function*"
      ]
    },
    {
      "cell_type": "code",
      "metadata": {
        "colab": {
          "base_uri": "https://localhost:8080/"
        },
        "id": "IxpMEMjAcTG4",
        "outputId": "8cae1d8d-38e8-4de3-90ef-fa5eb39eecdc"
      },
      "source": [
        "ar = np.array([10, 50, 15, 59, 5, 42])\n",
        "print(ar.shape)"
      ],
      "execution_count": 17,
      "outputs": [
        {
          "output_type": "stream",
          "name": "stdout",
          "text": [
            "(6,)\n"
          ]
        }
      ]
    },
    {
      "cell_type": "markdown",
      "metadata": {
        "id": "1SJjPZrQdMxt"
      },
      "source": [
        "**Answer**"
      ]
    },
    {
      "cell_type": "code",
      "metadata": {
        "colab": {
          "base_uri": "https://localhost:8080/"
        },
        "id": "OyOPH0djdMUC",
        "outputId": "9b43a9c4-2ad0-4316-c09e-9e3a7d1801c4"
      },
      "source": [
        "ar_final = ar[:, np.newaxis]\n",
        "print(ar_final.shape)"
      ],
      "execution_count": 19,
      "outputs": [
        {
          "output_type": "stream",
          "name": "stdout",
          "text": [
            "(6, 1)\n"
          ]
        }
      ]
    },
    {
      "cell_type": "markdown",
      "metadata": {
        "id": "amlEqbNQeDKU"
      },
      "source": [
        "# Exercise 3: Array splicing and staking\n",
        "\n",
        "**Question 1:**\n",
        "\n",
        "**Part 1**\n",
        "\n",
        "Calculate the z-score for the class 1 marks.\n",
        "\n",
        "z score = (student mark - mean of the marks) / standard diviation"
      ]
    },
    {
      "cell_type": "code",
      "metadata": {
        "colab": {
          "base_uri": "https://localhost:8080/"
        },
        "id": "8RDyRR5ue_P_",
        "outputId": "4a67d5b8-9082-4150-c7b6-06ec4b9b922a"
      },
      "source": [
        "class1_mean = np.mean(class1_data)\n",
        "class1_standard_diviation = np.std(class1_data)\n",
        "\n",
        "class1_zscore = (class1_data - class1_mean) / class1_standard_diviation\n",
        "class1_zscore = class1_zscore.round(2)\n",
        "\n",
        "print(class1_zscore)"
      ],
      "execution_count": 34,
      "outputs": [
        {
          "output_type": "stream",
          "name": "stdout",
          "text": [
            "[ 1.05  1.65  1.12  1.61  1.08  0.67  1.39 -1.93  0.29  0.22 -0.24 -0.73\n",
            " -0.92 -0.54 -1.48 -1.22 -0.54  0.67 -1.56  0.71  0.22  1.73 -1.74 -1.25\n",
            "  0.41  1.5  -0.39 -1.14 -1.03  0.33  1.05 -0.8   0.07  1.01 -1.37  0.93\n",
            " -0.54 -1.52 -0.16  1.05  0.74 -0.54 -0.42 -0.65  0.18 -0.09  1.46  0.14\n",
            " -0.58  0.1 ]\n"
          ]
        }
      ]
    },
    {
      "cell_type": "markdown",
      "metadata": {
        "id": "wFG04qQ_gVok"
      },
      "source": [
        "Merge the two arrays of the student marks to a single array which should show the student marks as follows.\n"
      ]
    },
    {
      "cell_type": "code",
      "metadata": {
        "colab": {
          "base_uri": "https://localhost:8080/"
        },
        "id": "_WrD22oSiB-Z",
        "outputId": "b6bc521a-872c-4440-d0d1-28a63f6d8653"
      },
      "source": [
        "arr1 = ['student_mark', 'student_zscore']\n",
        "print(arr1)"
      ],
      "execution_count": 28,
      "outputs": [
        {
          "output_type": "stream",
          "name": "stdout",
          "text": [
            "['student_mark', 'student_zscore']\n"
          ]
        }
      ]
    },
    {
      "cell_type": "markdown",
      "metadata": {
        "id": "KjKhiqqliBbt"
      },
      "source": [
        "**Answer**"
      ]
    },
    {
      "cell_type": "code",
      "metadata": {
        "colab": {
          "base_uri": "https://localhost:8080/"
        },
        "id": "ZPKw_9CfiqEA",
        "outputId": "33b39571-6ea3-434a-b722-3408d9e91b00"
      },
      "source": [
        "class1_completed_data = np.column_stack((class1_data, class1_zscore))\n",
        "print(class1_completed_data)"
      ],
      "execution_count": 45,
      "outputs": [
        {
          "output_type": "stream",
          "name": "stdout",
          "text": [
            "[[ 8.20e+01  1.05e+00]\n",
            " [ 9.80e+01  1.65e+00]\n",
            " [ 8.40e+01  1.12e+00]\n",
            " [ 9.70e+01  1.61e+00]\n",
            " [ 8.30e+01  1.08e+00]\n",
            " [ 7.20e+01  6.70e-01]\n",
            " [ 9.10e+01  1.39e+00]\n",
            " [ 3.00e+00 -1.93e+00]\n",
            " [ 6.20e+01  2.90e-01]\n",
            " [ 6.00e+01  2.20e-01]\n",
            " [ 4.80e+01 -2.40e-01]\n",
            " [ 3.50e+01 -7.30e-01]\n",
            " [ 3.00e+01 -9.20e-01]\n",
            " [ 4.00e+01 -5.40e-01]\n",
            " [ 1.50e+01 -1.48e+00]\n",
            " [ 2.20e+01 -1.22e+00]\n",
            " [ 4.00e+01 -5.40e-01]\n",
            " [ 7.20e+01  6.70e-01]\n",
            " [ 1.30e+01 -1.56e+00]\n",
            " [ 7.30e+01  7.10e-01]\n",
            " [ 6.00e+01  2.20e-01]\n",
            " [ 1.00e+02  1.73e+00]\n",
            " [ 8.00e+00 -1.74e+00]\n",
            " [ 2.10e+01 -1.25e+00]\n",
            " [ 6.50e+01  4.10e-01]\n",
            " [ 9.40e+01  1.50e+00]\n",
            " [ 4.40e+01 -3.90e-01]\n",
            " [ 2.40e+01 -1.14e+00]\n",
            " [ 2.70e+01 -1.03e+00]\n",
            " [ 6.30e+01  3.30e-01]\n",
            " [ 8.20e+01  1.05e+00]\n",
            " [ 3.30e+01 -8.00e-01]\n",
            " [ 5.60e+01  7.00e-02]\n",
            " [ 8.10e+01  1.01e+00]\n",
            " [ 1.80e+01 -1.37e+00]\n",
            " [ 7.90e+01  9.30e-01]\n",
            " [ 4.00e+01 -5.40e-01]\n",
            " [ 1.40e+01 -1.52e+00]\n",
            " [ 5.00e+01 -1.60e-01]\n",
            " [ 8.20e+01  1.05e+00]\n",
            " [ 7.40e+01  7.40e-01]\n",
            " [ 4.00e+01 -5.40e-01]\n",
            " [ 4.30e+01 -4.20e-01]\n",
            " [ 3.70e+01 -6.50e-01]\n",
            " [ 5.90e+01  1.80e-01]\n",
            " [ 5.20e+01 -9.00e-02]\n",
            " [ 9.30e+01  1.46e+00]\n",
            " [ 5.80e+01  1.40e-01]\n",
            " [ 3.90e+01 -5.80e-01]\n",
            " [ 5.70e+01  1.00e-01]]\n"
          ]
        }
      ]
    }
  ]
}