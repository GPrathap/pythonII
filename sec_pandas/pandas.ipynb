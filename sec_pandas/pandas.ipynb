{
  "nbformat": 4,
  "nbformat_minor": 0,
  "metadata": {
    "colab": {
      "name": "Pandas.ipynb",
      "provenance": [],
      "authorship_tag": "ABX9TyOeL9WmOc4wY3zG0VAXq3+L",
      "include_colab_link": true
    },
    "kernelspec": {
      "name": "python3",
      "display_name": "Python 3.6.9 64-bit"
    },
    "language_info": {
      "mimetype": "text/x-python",
      "nbconvert_exporter": "python",
      "name": "python",
      "pygments_lexer": "ipython3",
      "version": "3.6.9",
      "file_extension": ".py",
      "codemirror_mode": {
        "version": 3,
        "name": "ipython"
      }
    },
    "interpreter": {
      "hash": "31f2aee4e71d21fbe5cf8b01ff0e069b9275f58929596ceb00d14d90e3e16cd6"
    }
  },
  "cells": [
    {
      "cell_type": "markdown",
      "metadata": {
        "id": "view-in-github",
        "colab_type": "text"
      },
      "source": [
        "<a href=\"https://colab.research.google.com/github/GPrathap/pythonII/blob/master/master/lesson3/pandas.ipynb\" target=\"_parent\"><img src=\"https://colab.research.google.com/assets/colab-badge.svg\" alt=\"Open In Colab\"/></a>"
      ]
    },
    {
      "cell_type": "markdown",
      "metadata": {
        "id": "Vszqwm_sJFeW"
      },
      "source": [
        "# **Section 00**: Introduction හැඳින්වීම"
      ]
    },
    {
      "cell_type": "code",
      "metadata": {
        "id": "lFab6HlqgPet"
      },
      "source": [
        "import pandas as pd"
      ],
      "execution_count": 2,
      "outputs": []
    },
    {
      "cell_type": "markdown",
      "metadata": {
        "id": "QpuTN2ZigxSQ"
      },
      "source": [
        "**DataFrame** and **Series** are the main objects in pandas \n",
        "\n",
        "**දත්ත රාමුව** සහ **ශ්‍රේණිය** පැන්ඩා වල ප්‍රධාන වස්තු වේ\n",
        "\n",
        "**DataFrame** can be considered as a table. A table is an arrangement of information or data, typically in rows and columns form. In pandas, each column represents an array, namely entry, each of which has a certain value.\n",
        "\n",
        "**දත්ත රාමුව** වගුවක් ලෙස සැලකිය හැකිය. වගුවක් යනු තොරතුරු හෝ දත්ත සැකසීමකි, සාමාන්‍යයෙන් පේළි සහ තීරු ආකාරයෙන්. පැන්ඩා වල, සෑම තීරුවක්ම නියෝජනය කරන්නේ අරාවකි, එනම් ඇතුළත් කිරීම, ඒ සෑම එකකටම යම් වටිනාකමක් ඇත.\n"
      ]
    },
    {
      "cell_type": "markdown",
      "metadata": {
        "id": "j86EZnIXga9V"
      },
      "source": [
        "To use the pandas, the first step is to import the library as follows:\n",
        "\n",
        "පැන්ඩා භාවිතා කිරීම සඳහා, පළමු පියවර නම් **library** පහත පරිදි **import** කිරීමයි:"
      ]
    },
    {
      "cell_type": "markdown",
      "metadata": {
        "id": "ojTjsiWvF-vj"
      },
      "source": [
        "# **Section 01:** Creating, Reading, and Writing නිර්මාණය කිරීම, කියවීම සහ ලිවීම"
      ]
    },
    {
      "cell_type": "markdown",
      "metadata": {
        "id": "KORCvubR8LwV"
      },
      "source": [
        "**Creating data** දත්ත නිර්මාණය කිරීම\n",
        "\n",
        "Consider the following example:\n",
        "\n",
        "පහත උදාහරණය සලකා බලන්න:\n"
      ]
    },
    {
      "cell_type": "code",
      "metadata": {
        "colab": {
          "base_uri": "https://localhost:8080/",
          "height": 0
        },
        "id": "M9hwyIZHiyNK",
        "outputId": "55f38fcb-2961-452d-f8bf-6841fe968e66"
      },
      "source": [
        "\n",
        "pd.DataFrame({\"Age\":[15, 16], \"Height\":[140, 155]})\n"
      ],
      "execution_count": 3,
      "outputs": [
        {
          "output_type": "execute_result",
          "data": {
            "text/html": [
              "<div>\n",
              "<style scoped>\n",
              "    .dataframe tbody tr th:only-of-type {\n",
              "        vertical-align: middle;\n",
              "    }\n",
              "\n",
              "    .dataframe tbody tr th {\n",
              "        vertical-align: top;\n",
              "    }\n",
              "\n",
              "    .dataframe thead th {\n",
              "        text-align: right;\n",
              "    }\n",
              "</style>\n",
              "<table border=\"1\" class=\"dataframe\">\n",
              "  <thead>\n",
              "    <tr style=\"text-align: right;\">\n",
              "      <th></th>\n",
              "      <th>Age</th>\n",
              "      <th>Height</th>\n",
              "    </tr>\n",
              "  </thead>\n",
              "  <tbody>\n",
              "    <tr>\n",
              "      <th>0</th>\n",
              "      <td>15</td>\n",
              "      <td>140</td>\n",
              "    </tr>\n",
              "    <tr>\n",
              "      <th>1</th>\n",
              "      <td>16</td>\n",
              "      <td>155</td>\n",
              "    </tr>\n",
              "  </tbody>\n",
              "</table>\n",
              "</div>"
            ],
            "text/plain": [
              "   Age  Height\n",
              "0   15     140\n",
              "1   16     155"
            ]
          },
          "metadata": {},
          "execution_count": 3
        }
      ]
    },
    {
      "cell_type": "markdown",
      "metadata": {
        "id": "jHm1F4Dyi9ru"
      },
      "source": [
        "In this example, **\"0, Age\"** entry has the value of 15. Similarly, 155 belongs to **\"1,Height\"** entry. Here, 0 and 1 are the indices.  Instead of 0 and 1, if there is a way to give proper labels for indices, it would be better for several reasons. Let's talk about those reasons bits later. Let's have a look at how to add indices \n",
        "\n",
        "මෙම උදාහරණයෙන් \"0, වයස\" ඇතුළත් වීමේ අගය 15 ක් වන අතර ඒ හා සමානව 155 \"1, උස\" ඇතුළත් වීමට අයත් වේ. මෙහි 0 සහ 1 යනු දර්ශක වේ. 0 සහ 1 වෙනුවට, දර්ශක සඳහා නිවැරදි ලේබල් ලබා දීමට ක්‍රමයක් තිබේ නම්, හේතු කිහිපයක් නිසා එය වඩා හොඳය. අපි ඒ හේතු ගැන පසුව කතා කරමු. අපි බලමු දර්ශක එකතු කරන්නේ කෙසේද කියා\n"
      ]
    },
    {
      "cell_type": "code",
      "metadata": {
        "colab": {
          "base_uri": "https://localhost:8080/",
          "height": 0
        },
        "id": "FDSHy7Te6KV3",
        "outputId": "fc48be22-b604-4405-fda2-da335cdf315c"
      },
      "source": [
        "pd.DataFrame({\"Age\":[15,16], \"Height\":[140, 155]}, index=[\"student1\", \"student2\"])"
      ],
      "execution_count": 4,
      "outputs": [
        {
          "output_type": "execute_result",
          "data": {
            "text/html": [
              "<div>\n",
              "<style scoped>\n",
              "    .dataframe tbody tr th:only-of-type {\n",
              "        vertical-align: middle;\n",
              "    }\n",
              "\n",
              "    .dataframe tbody tr th {\n",
              "        vertical-align: top;\n",
              "    }\n",
              "\n",
              "    .dataframe thead th {\n",
              "        text-align: right;\n",
              "    }\n",
              "</style>\n",
              "<table border=\"1\" class=\"dataframe\">\n",
              "  <thead>\n",
              "    <tr style=\"text-align: right;\">\n",
              "      <th></th>\n",
              "      <th>Age</th>\n",
              "      <th>Height</th>\n",
              "    </tr>\n",
              "  </thead>\n",
              "  <tbody>\n",
              "    <tr>\n",
              "      <th>student1</th>\n",
              "      <td>15</td>\n",
              "      <td>140</td>\n",
              "    </tr>\n",
              "    <tr>\n",
              "      <th>student2</th>\n",
              "      <td>16</td>\n",
              "      <td>155</td>\n",
              "    </tr>\n",
              "  </tbody>\n",
              "</table>\n",
              "</div>"
            ],
            "text/plain": [
              "          Age  Height\n",
              "student1   15     140\n",
              "student2   16     155"
            ]
          },
          "metadata": {},
          "execution_count": 4
        }
      ]
    },
    {
      "cell_type": "markdown",
      "metadata": {
        "id": "1bzQR7sI3yxT"
      },
      "source": [
        "Let's say we want to add person names as well. Can we include the name in the same DataFrame we created? Yes, it does. DataFrame is not limited to the same data type, e.g., integer it supports multiple datatypes\n",
        "\n",
        "අපි පුද්ගල නාම ද එක් කිරීමට අවශ්‍ය යැයි සිතමු. අප විසින් සාදන ලද එකම දත්ත රාමුවට නම ඇතුළත් කළ හැකිද? ඔව්, එය කරයි. ඩේටා ෆ්‍රේම් එකම දත්ත වර්ගයකට පමණක් සීමා නොවේ, උදාහරණයක් ලෙස, එය බහු දත්ත වර්ග වලට සහය දක්වයි"
      ]
    },
    {
      "cell_type": "code",
      "metadata": {
        "colab": {
          "base_uri": "https://localhost:8080/",
          "height": 0
        },
        "id": "2QBwA1IK4UNK",
        "outputId": "dec184fa-bce4-4e14-9913-861e749cd30d"
      },
      "source": [
        "pd.DataFrame({\"Age\":[15, 16], \"Height\":[140, 155], \"Name\":[\"Tom Lul\", \"Tim Dima\"]}, index=[\"student1\", \"student2\"])\n"
      ],
      "execution_count": 5,
      "outputs": [
        {
          "output_type": "execute_result",
          "data": {
            "text/html": [
              "<div>\n",
              "<style scoped>\n",
              "    .dataframe tbody tr th:only-of-type {\n",
              "        vertical-align: middle;\n",
              "    }\n",
              "\n",
              "    .dataframe tbody tr th {\n",
              "        vertical-align: top;\n",
              "    }\n",
              "\n",
              "    .dataframe thead th {\n",
              "        text-align: right;\n",
              "    }\n",
              "</style>\n",
              "<table border=\"1\" class=\"dataframe\">\n",
              "  <thead>\n",
              "    <tr style=\"text-align: right;\">\n",
              "      <th></th>\n",
              "      <th>Age</th>\n",
              "      <th>Height</th>\n",
              "      <th>Name</th>\n",
              "    </tr>\n",
              "  </thead>\n",
              "  <tbody>\n",
              "    <tr>\n",
              "      <th>student1</th>\n",
              "      <td>15</td>\n",
              "      <td>140</td>\n",
              "      <td>Tom Lul</td>\n",
              "    </tr>\n",
              "    <tr>\n",
              "      <th>student2</th>\n",
              "      <td>16</td>\n",
              "      <td>155</td>\n",
              "      <td>Tim Dima</td>\n",
              "    </tr>\n",
              "  </tbody>\n",
              "</table>\n",
              "</div>"
            ],
            "text/plain": [
              "          Age  Height      Name\n",
              "student1   15     140   Tom Lul\n",
              "student2   16     155  Tim Dima"
            ]
          },
          "metadata": {},
          "execution_count": 5
        }
      ]
    },
    {
      "cell_type": "markdown",
      "metadata": {
        "id": "PYmZMWsC41fA"
      },
      "source": [
        "**Series** \n",
        "\n",
        "A **Series**, by contrast, is a sequence of data values. Since **DataFrame** is a table, **Series** is a column of a DataFrame. In other words, DataFrame is a collection of Series. Let's try to construct the above DataFrame using Series object   \n",
        "\n",
        "A **ශ්‍රේණිය**, ඊට වෙනස්ව, දත්ත අගයන් අනුපිළිවෙලකි. **දත්ත රාමුව** වගුවක් බැවින්, **ශ්‍රේණිය** යනු දත්ත රාමුවක තීරුවකි. වෙනත් වචන වලින් කිවහොත්, දත්ත රාමුව යනු මාලාවක එකතුවකි. ශ්‍රේණි වස්තුවක් භාවිතා කර ඉහත දත්ත රාමුව තැනීමට උත්සාහ කරමු"
      ]
    },
    {
      "cell_type": "code",
      "metadata": {
        "colab": {
          "base_uri": "https://localhost:8080/",
          "height": 0
        },
        "id": "jz1k-gNo8VVW",
        "outputId": "8423f057-6eea-4656-b11e-1576ebe0130d"
      },
      "source": [
        "age = pd.Series([15,16], index=[\"student1\", \"student2\"], name=\"age\")\n",
        "height = pd.Series([140, 155], index=[\"student1\", \"student2\"], name=\"height\")\n",
        "name = pd.Series([\"Tom Lul\", \"Tim Dima\"], index=[\"student1\", \"student2\"], name=\"name\")\n",
        "\n",
        "df = pd.DataFrame({\"Age\": age, \"Height\":height, \"Name\":name})\n",
        "df"
      ],
      "execution_count": 6,
      "outputs": [
        {
          "output_type": "execute_result",
          "data": {
            "text/html": [
              "<div>\n",
              "<style scoped>\n",
              "    .dataframe tbody tr th:only-of-type {\n",
              "        vertical-align: middle;\n",
              "    }\n",
              "\n",
              "    .dataframe tbody tr th {\n",
              "        vertical-align: top;\n",
              "    }\n",
              "\n",
              "    .dataframe thead th {\n",
              "        text-align: right;\n",
              "    }\n",
              "</style>\n",
              "<table border=\"1\" class=\"dataframe\">\n",
              "  <thead>\n",
              "    <tr style=\"text-align: right;\">\n",
              "      <th></th>\n",
              "      <th>Age</th>\n",
              "      <th>Height</th>\n",
              "      <th>Name</th>\n",
              "    </tr>\n",
              "  </thead>\n",
              "  <tbody>\n",
              "    <tr>\n",
              "      <th>student1</th>\n",
              "      <td>15</td>\n",
              "      <td>140</td>\n",
              "      <td>Tom Lul</td>\n",
              "    </tr>\n",
              "    <tr>\n",
              "      <th>student2</th>\n",
              "      <td>16</td>\n",
              "      <td>155</td>\n",
              "      <td>Tim Dima</td>\n",
              "    </tr>\n",
              "  </tbody>\n",
              "</table>\n",
              "</div>"
            ],
            "text/plain": [
              "          Age  Height      Name\n",
              "student1   15     140   Tom Lul\n",
              "student2   16     155  Tim Dima"
            ]
          },
          "metadata": {},
          "execution_count": 6
        }
      ]
    },
    {
      "cell_type": "markdown",
      "metadata": {
        "id": "Ygs_rsUR-lrI"
      },
      "source": [
        "**Reading and Writing Files** ලිපිගොනු කියවීම සහ ලිවීම\n",
        "\n",
        "If you want to save the student information\n",
        "\n",
        "ඔබට ශිෂ්‍ය තොරතුරු සුරැකීමට අවශ්‍ය නම්\n"
      ]
    },
    {
      "cell_type": "code",
      "metadata": {
        "id": "hZeWNaoU-uSB"
      },
      "source": [
        "df.to_csv(\"/content/sample_data/student_info.csv\", index=\"true\", header=\"true\")"
      ],
      "execution_count": 7,
      "outputs": []
    },
    {
      "cell_type": "markdown",
      "metadata": {
        "id": "7PTBKiRcAioi"
      },
      "source": [
        "How can we read the data from a file?\n",
        "\n",
        "ගොනුවකින් දත්ත කියවන්නේ කෙසේද?"
      ]
    },
    {
      "cell_type": "code",
      "metadata": {
        "colab": {
          "base_uri": "https://localhost:8080/",
          "height": 0
        },
        "id": "VfKUAzKnAo4c",
        "outputId": "ee8cb2d5-b81b-411d-a065-f0ed246ecec4"
      },
      "source": [
        "df_mod = pd.read_csv(\"/content/sample_data/student_info.csv\")\n",
        "df_mod "
      ],
      "execution_count": 8,
      "outputs": [
        {
          "output_type": "execute_result",
          "data": {
            "text/html": [
              "<div>\n",
              "<style scoped>\n",
              "    .dataframe tbody tr th:only-of-type {\n",
              "        vertical-align: middle;\n",
              "    }\n",
              "\n",
              "    .dataframe tbody tr th {\n",
              "        vertical-align: top;\n",
              "    }\n",
              "\n",
              "    .dataframe thead th {\n",
              "        text-align: right;\n",
              "    }\n",
              "</style>\n",
              "<table border=\"1\" class=\"dataframe\">\n",
              "  <thead>\n",
              "    <tr style=\"text-align: right;\">\n",
              "      <th></th>\n",
              "      <th>Unnamed: 0</th>\n",
              "      <th>Age</th>\n",
              "      <th>Height</th>\n",
              "      <th>Name</th>\n",
              "    </tr>\n",
              "  </thead>\n",
              "  <tbody>\n",
              "    <tr>\n",
              "      <th>0</th>\n",
              "      <td>student1</td>\n",
              "      <td>15</td>\n",
              "      <td>140</td>\n",
              "      <td>Tom Lul</td>\n",
              "    </tr>\n",
              "    <tr>\n",
              "      <th>1</th>\n",
              "      <td>student2</td>\n",
              "      <td>16</td>\n",
              "      <td>155</td>\n",
              "      <td>Tim Dima</td>\n",
              "    </tr>\n",
              "  </tbody>\n",
              "</table>\n",
              "</div>"
            ],
            "text/plain": [
              "  Unnamed: 0  Age  Height      Name\n",
              "0   student1   15     140   Tom Lul\n",
              "1   student2   16     155  Tim Dima"
            ]
          },
          "metadata": {},
          "execution_count": 8
        }
      ]
    },
    {
      "cell_type": "code",
      "metadata": {
        "colab": {
          "base_uri": "https://localhost:8080/",
          "height": 0
        },
        "id": "9ZDyaSQEBBTP",
        "outputId": "bebc06a2-d086-438f-f8b7-7b9af69882c8"
      },
      "source": [
        "df_mod = pd.read_csv(\"/content/sample_data/student_info.csv\", index_col=0)\n",
        "df_mod"
      ],
      "execution_count": 9,
      "outputs": [
        {
          "output_type": "execute_result",
          "data": {
            "text/html": [
              "<div>\n",
              "<style scoped>\n",
              "    .dataframe tbody tr th:only-of-type {\n",
              "        vertical-align: middle;\n",
              "    }\n",
              "\n",
              "    .dataframe tbody tr th {\n",
              "        vertical-align: top;\n",
              "    }\n",
              "\n",
              "    .dataframe thead th {\n",
              "        text-align: right;\n",
              "    }\n",
              "</style>\n",
              "<table border=\"1\" class=\"dataframe\">\n",
              "  <thead>\n",
              "    <tr style=\"text-align: right;\">\n",
              "      <th></th>\n",
              "      <th>Age</th>\n",
              "      <th>Height</th>\n",
              "      <th>Name</th>\n",
              "    </tr>\n",
              "  </thead>\n",
              "  <tbody>\n",
              "    <tr>\n",
              "      <th>student1</th>\n",
              "      <td>15</td>\n",
              "      <td>140</td>\n",
              "      <td>Tom Lul</td>\n",
              "    </tr>\n",
              "    <tr>\n",
              "      <th>student2</th>\n",
              "      <td>16</td>\n",
              "      <td>155</td>\n",
              "      <td>Tim Dima</td>\n",
              "    </tr>\n",
              "  </tbody>\n",
              "</table>\n",
              "</div>"
            ],
            "text/plain": [
              "          Age  Height      Name\n",
              "student1   15     140   Tom Lul\n",
              "student2   16     155  Tim Dima"
            ]
          },
          "metadata": {},
          "execution_count": 9
        }
      ]
    },
    {
      "cell_type": "code",
      "metadata": {
        "colab": {
          "base_uri": "https://localhost:8080/",
          "height": 0
        },
        "id": "rMdJAnk4L3QB",
        "outputId": "2db8e361-0d9e-4c3c-eed1-3c37b917cd10"
      },
      "source": [
        "df_mod.head()"
      ],
      "execution_count": 10,
      "outputs": [
        {
          "output_type": "execute_result",
          "data": {
            "text/html": [
              "<div>\n",
              "<style scoped>\n",
              "    .dataframe tbody tr th:only-of-type {\n",
              "        vertical-align: middle;\n",
              "    }\n",
              "\n",
              "    .dataframe tbody tr th {\n",
              "        vertical-align: top;\n",
              "    }\n",
              "\n",
              "    .dataframe thead th {\n",
              "        text-align: right;\n",
              "    }\n",
              "</style>\n",
              "<table border=\"1\" class=\"dataframe\">\n",
              "  <thead>\n",
              "    <tr style=\"text-align: right;\">\n",
              "      <th></th>\n",
              "      <th>Age</th>\n",
              "      <th>Height</th>\n",
              "      <th>Name</th>\n",
              "    </tr>\n",
              "  </thead>\n",
              "  <tbody>\n",
              "    <tr>\n",
              "      <th>student1</th>\n",
              "      <td>15</td>\n",
              "      <td>140</td>\n",
              "      <td>Tom Lul</td>\n",
              "    </tr>\n",
              "    <tr>\n",
              "      <th>student2</th>\n",
              "      <td>16</td>\n",
              "      <td>155</td>\n",
              "      <td>Tim Dima</td>\n",
              "    </tr>\n",
              "  </tbody>\n",
              "</table>\n",
              "</div>"
            ],
            "text/plain": [
              "          Age  Height      Name\n",
              "student1   15     140   Tom Lul\n",
              "student2   16     155  Tim Dima"
            ]
          },
          "metadata": {},
          "execution_count": 10
        }
      ]
    },
    {
      "cell_type": "markdown",
      "metadata": {
        "id": "6sA3AhroGRgP"
      },
      "source": [
        "# **Section 02**: Accessing, Indexing, Selecting, and Assigning ප්‍රවේශ වීම, සුචිගත කිරීම, තෝරා ගැනීම සහ පැවරීම"
      ]
    },
    {
      "cell_type": "markdown",
      "metadata": {
        "id": "Zgfbj4HjMwYJ"
      },
      "source": [
        "**Accessing the data** දත්ත වලට ප්‍රවේශ වීම\n",
        "\n",
        "In Python, the properties of an object can be accessed by those attributes. DataFrame works in much as the same way  \n",
        "\n",
        "**Python** වලදී වස්තුවක ගුණාංග වලට එම ලක්‍ෂණ මඟින් ප්‍රවේශ විය හැකිය. දත්ත රාමුව බොහෝ දුරට එකම ආකාරයකින් ක්‍රියා කරයි"
      ]
    },
    {
      "cell_type": "code",
      "metadata": {
        "colab": {
          "base_uri": "https://localhost:8080/"
        },
        "id": "AIFymF4nBfHK",
        "outputId": "cf8254b8-db2b-40e6-b1bb-14c358255256"
      },
      "source": [
        "df_mod.Age"
      ],
      "execution_count": 11,
      "outputs": [
        {
          "output_type": "execute_result",
          "data": {
            "text/plain": [
              "student1    15\n",
              "student2    16\n",
              "Name: Age, dtype: int64"
            ]
          },
          "metadata": {},
          "execution_count": 11
        }
      ]
    },
    {
      "cell_type": "code",
      "metadata": {
        "colab": {
          "base_uri": "https://localhost:8080/"
        },
        "id": "JymOLkfzNvt6",
        "outputId": "ba324705-54ce-4cae-c286-e6232e380e7f"
      },
      "source": [
        "df_mod['Age']"
      ],
      "execution_count": 12,
      "outputs": [
        {
          "output_type": "execute_result",
          "data": {
            "text/plain": [
              "student1    15\n",
              "student2    16\n",
              "Name: Age, dtype: int64"
            ]
          },
          "metadata": {},
          "execution_count": 12
        }
      ]
    },
    {
      "cell_type": "code",
      "metadata": {
        "colab": {
          "base_uri": "https://localhost:8080/"
        },
        "id": "ifMQebNJN4tv",
        "outputId": "a813364b-5c41-4d58-c0f5-f12a4a7fa782"
      },
      "source": [
        "df_mod['Age']['student1']"
      ],
      "execution_count": 13,
      "outputs": [
        {
          "output_type": "execute_result",
          "data": {
            "text/plain": [
              "15"
            ]
          },
          "metadata": {},
          "execution_count": 13
        }
      ]
    },
    {
      "cell_type": "code",
      "metadata": {
        "colab": {
          "base_uri": "https://localhost:8080/"
        },
        "id": "nxCXXvBTOEVG",
        "outputId": "85993e3f-53d3-440a-ef94-8b5b463fcce0"
      },
      "source": [
        "df_mod['Age'][0]"
      ],
      "execution_count": 14,
      "outputs": [
        {
          "output_type": "execute_result",
          "data": {
            "text/plain": [
              "15"
            ]
          },
          "metadata": {},
          "execution_count": 14
        }
      ]
    },
    {
      "cell_type": "markdown",
      "metadata": {
        "id": "ZQMGn_zON4cg"
      },
      "source": [
        "**Indexing** සුචිගත කිරීම \n",
        "\n",
        "As shown in the latter example, the indexing operator in Pandas works in much the same way. Yet, for advance operations Panda offers two accessor operations:\n",
        "\n",
        "පෙර උදාහරණයේ දැක්වෙන පරිදි, පැන්ඩස් හි සුචිගත කිරීමේ ක්‍රියාකරු බොහෝ දුරට එකම ආකාරයකින් ක්‍රියා කරයි. කෙසේ වෙතත්, අත්තිකාරම් මෙහෙයුම් සඳහා පැන්ඩා ප්‍රවේශක මෙහෙයුම් දෙකක් ඉදිරිපත් කරයි:\n",
        "\n",
        "**loc**: index-based selection (selecting based on its numerical position) දර්ශකය පදනම් කරගත් තේරීම (එහි සංඛ්‍යාත්මක පිහිටීම මත පදනම්ව තෝරා ගැනීම)\n",
        "\n",
        "**iloc**: label-based selection (selecting based on its index value not the position) ලේබලය පදනම් කරගත් තේරීම (එහි දර්ශක අගය මත පදනම්ව තෝරා ගැනීම නොව ස්ථානය මත පදනම්ව තෝරා ගැනීම)"
      ]
    },
    {
      "cell_type": "code",
      "metadata": {
        "colab": {
          "base_uri": "https://localhost:8080/"
        },
        "id": "wmB_GWoVP1Ig",
        "outputId": "01b80f35-9fc3-464f-810a-96f88fdd2ce4"
      },
      "source": [
        "df_mod.loc['student1']"
      ],
      "execution_count": 15,
      "outputs": [
        {
          "output_type": "execute_result",
          "data": {
            "text/plain": [
              "Age            15\n",
              "Height        140\n",
              "Name      Tom Lul\n",
              "Name: student1, dtype: object"
            ]
          },
          "metadata": {},
          "execution_count": 15
        }
      ]
    },
    {
      "cell_type": "code",
      "metadata": {
        "colab": {
          "base_uri": "https://localhost:8080/"
        },
        "id": "35-d087-Pq4a",
        "outputId": "df931698-9298-489d-d911-8292bf49c4d4"
      },
      "source": [
        "df_mod.iloc[0]"
      ],
      "execution_count": 16,
      "outputs": [
        {
          "output_type": "execute_result",
          "data": {
            "text/plain": [
              "Age            15\n",
              "Height        140\n",
              "Name      Tom Lul\n",
              "Name: student1, dtype: object"
            ]
          },
          "metadata": {},
          "execution_count": 16
        }
      ]
    },
    {
      "cell_type": "code",
      "metadata": {
        "colab": {
          "base_uri": "https://localhost:8080/"
        },
        "id": "BdnPtUoQQHjM",
        "outputId": "062945fb-87a2-4ad2-c36a-70dd9029adf8"
      },
      "source": [
        "df_mod.loc['student1', 'Age']"
      ],
      "execution_count": 17,
      "outputs": [
        {
          "output_type": "execute_result",
          "data": {
            "text/plain": [
              "15"
            ]
          },
          "metadata": {},
          "execution_count": 17
        }
      ]
    },
    {
      "cell_type": "code",
      "metadata": {
        "colab": {
          "base_uri": "https://localhost:8080/"
        },
        "id": "bE0wSjotSDJh",
        "outputId": "83763416-c436-40af-c664-ba28c433ef3b"
      },
      "source": [
        "df_mod.iloc[0,0]"
      ],
      "execution_count": 18,
      "outputs": [
        {
          "output_type": "execute_result",
          "data": {
            "text/plain": [
              "15"
            ]
          },
          "metadata": {},
          "execution_count": 18
        }
      ]
    },
    {
      "cell_type": "code",
      "metadata": {
        "colab": {
          "base_uri": "https://localhost:8080/"
        },
        "id": "J99sM9GcQT7y",
        "outputId": "ca3851b9-d417-40b1-b799-83fcc225b342"
      },
      "source": [
        "df_mod.loc['student1', ['Age', 'Height']]"
      ],
      "execution_count": 19,
      "outputs": [
        {
          "output_type": "execute_result",
          "data": {
            "text/plain": [
              "Age        15\n",
              "Height    140\n",
              "Name: student1, dtype: object"
            ]
          },
          "metadata": {},
          "execution_count": 19
        }
      ]
    },
    {
      "cell_type": "code",
      "metadata": {
        "colab": {
          "base_uri": "https://localhost:8080/"
        },
        "id": "gpZT6S0cRWim",
        "outputId": "e0c1abca-5ec0-40bd-b319-0ead0e279548"
      },
      "source": [
        "df_mod.iloc[0, [0,1]]"
      ],
      "execution_count": 20,
      "outputs": [
        {
          "output_type": "execute_result",
          "data": {
            "text/plain": [
              "Age        15\n",
              "Height    140\n",
              "Name: student1, dtype: object"
            ]
          },
          "metadata": {},
          "execution_count": 20
        }
      ]
    },
    {
      "cell_type": "code",
      "metadata": {
        "colab": {
          "base_uri": "https://localhost:8080/"
        },
        "id": "B1LpNRhyRbp1",
        "outputId": "2d997f80-54db-41c8-9e71-69c02230b929"
      },
      "source": [
        "df_mod.iloc[0,:]"
      ],
      "execution_count": 21,
      "outputs": [
        {
          "output_type": "execute_result",
          "data": {
            "text/plain": [
              "Age            15\n",
              "Height        140\n",
              "Name      Tom Lul\n",
              "Name: student1, dtype: object"
            ]
          },
          "metadata": {},
          "execution_count": 21
        }
      ]
    },
    {
      "cell_type": "code",
      "metadata": {
        "colab": {
          "base_uri": "https://localhost:8080/"
        },
        "id": "t-lky5rVQkpo",
        "outputId": "3ac1418a-bf42-42d4-ef92-55eaf8c76371"
      },
      "source": [
        "df_mod.loc[['student1', 'student2'], 'Age']"
      ],
      "execution_count": 22,
      "outputs": [
        {
          "output_type": "execute_result",
          "data": {
            "text/plain": [
              "student1    15\n",
              "student2    16\n",
              "Name: Age, dtype: int64"
            ]
          },
          "metadata": {},
          "execution_count": 22
        }
      ]
    },
    {
      "cell_type": "code",
      "metadata": {
        "colab": {
          "base_uri": "https://localhost:8080/"
        },
        "id": "6JlXrKYxRN4o",
        "outputId": "3c2b807f-61ff-4272-b4da-6d3c6d9738b7"
      },
      "source": [
        "df_mod.iloc[[0,1], 0]"
      ],
      "execution_count": 23,
      "outputs": [
        {
          "output_type": "execute_result",
          "data": {
            "text/plain": [
              "student1    15\n",
              "student2    16\n",
              "Name: Age, dtype: int64"
            ]
          },
          "metadata": {},
          "execution_count": 23
        }
      ]
    },
    {
      "cell_type": "code",
      "metadata": {
        "colab": {
          "base_uri": "https://localhost:8080/"
        },
        "id": "IsLtJcd0Qs6V",
        "outputId": "72d5cf31-e573-4543-999d-9f56974c57b4"
      },
      "source": [
        "df_mod.loc[:, \"Age\"]"
      ],
      "execution_count": 24,
      "outputs": [
        {
          "output_type": "execute_result",
          "data": {
            "text/plain": [
              "student1    15\n",
              "student2    16\n",
              "Name: Age, dtype: int64"
            ]
          },
          "metadata": {},
          "execution_count": 24
        }
      ]
    },
    {
      "cell_type": "code",
      "metadata": {
        "colab": {
          "base_uri": "https://localhost:8080/"
        },
        "id": "_zWkKxjYQ4eE",
        "outputId": "1230837d-91cc-465d-cb8b-9fc4fe088e99"
      },
      "source": [
        "df_mod.iloc[:, 0]"
      ],
      "execution_count": 25,
      "outputs": [
        {
          "output_type": "execute_result",
          "data": {
            "text/plain": [
              "student1    15\n",
              "student2    16\n",
              "Name: Age, dtype: int64"
            ]
          },
          "metadata": {},
          "execution_count": 25
        }
      ]
    },
    {
      "cell_type": "code",
      "metadata": {
        "colab": {
          "base_uri": "https://localhost:8080/"
        },
        "id": "zvXuwBbNSToT",
        "outputId": "a9f419d6-f8b4-478b-b484-ec3c8c285afa"
      },
      "source": [
        "df_mod.iloc[-1]"
      ],
      "execution_count": 26,
      "outputs": [
        {
          "output_type": "execute_result",
          "data": {
            "text/plain": [
              "Age             16\n",
              "Height         155\n",
              "Name      Tim Dima\n",
              "Name: student2, dtype: object"
            ]
          },
          "metadata": {},
          "execution_count": 26
        }
      ]
    },
    {
      "cell_type": "markdown",
      "metadata": {
        "id": "5_NwAQSL18hb"
      },
      "source": [
        "**Manipulating the index** දර්ශකය හැසිරවීම\n",
        "\n",
        "In Pandas, an index is not immutable. Hence, we have the freedom to modify the index in the way we want. Let's say we want to index based on the names of students\n",
        "\n",
        "පාණ්ඩවල දර්ශකයක් නොවෙනස්ව පවතී. එම නිසා අපට අවශ්‍ය පරිදි දර්ශකය වෙනස් කිරීමේ නිදහස අපට ඇත. සිසුන්ගේ නම් පදනම් කරගෙන අපට සුචිගත කිරීමට අවශ්‍ය යැයි සිතමු\n"
      ]
    },
    {
      "cell_type": "code",
      "metadata": {
        "colab": {
          "base_uri": "https://localhost:8080/",
          "height": 0
        },
        "id": "gmvgt53Q6LR0",
        "outputId": "50c82bcc-e591-43ea-a4c8-2cd0c6f8182b"
      },
      "source": [
        "df_mod"
      ],
      "execution_count": 27,
      "outputs": [
        {
          "output_type": "execute_result",
          "data": {
            "text/html": [
              "<div>\n",
              "<style scoped>\n",
              "    .dataframe tbody tr th:only-of-type {\n",
              "        vertical-align: middle;\n",
              "    }\n",
              "\n",
              "    .dataframe tbody tr th {\n",
              "        vertical-align: top;\n",
              "    }\n",
              "\n",
              "    .dataframe thead th {\n",
              "        text-align: right;\n",
              "    }\n",
              "</style>\n",
              "<table border=\"1\" class=\"dataframe\">\n",
              "  <thead>\n",
              "    <tr style=\"text-align: right;\">\n",
              "      <th></th>\n",
              "      <th>Age</th>\n",
              "      <th>Height</th>\n",
              "      <th>Name</th>\n",
              "    </tr>\n",
              "  </thead>\n",
              "  <tbody>\n",
              "    <tr>\n",
              "      <th>student1</th>\n",
              "      <td>15</td>\n",
              "      <td>140</td>\n",
              "      <td>Tom Lul</td>\n",
              "    </tr>\n",
              "    <tr>\n",
              "      <th>student2</th>\n",
              "      <td>16</td>\n",
              "      <td>155</td>\n",
              "      <td>Tim Dima</td>\n",
              "    </tr>\n",
              "  </tbody>\n",
              "</table>\n",
              "</div>"
            ],
            "text/plain": [
              "          Age  Height      Name\n",
              "student1   15     140   Tom Lul\n",
              "student2   16     155  Tim Dima"
            ]
          },
          "metadata": {},
          "execution_count": 27
        }
      ]
    },
    {
      "cell_type": "code",
      "metadata": {
        "colab": {
          "base_uri": "https://localhost:8080/",
          "height": 0
        },
        "id": "63ukK5ca2xKZ",
        "outputId": "9ebb68e9-97a5-4fc4-e51e-bd691874b498"
      },
      "source": [
        "df_mod.set_index(\"Name\")\n"
      ],
      "execution_count": 28,
      "outputs": [
        {
          "output_type": "execute_result",
          "data": {
            "text/html": [
              "<div>\n",
              "<style scoped>\n",
              "    .dataframe tbody tr th:only-of-type {\n",
              "        vertical-align: middle;\n",
              "    }\n",
              "\n",
              "    .dataframe tbody tr th {\n",
              "        vertical-align: top;\n",
              "    }\n",
              "\n",
              "    .dataframe thead th {\n",
              "        text-align: right;\n",
              "    }\n",
              "</style>\n",
              "<table border=\"1\" class=\"dataframe\">\n",
              "  <thead>\n",
              "    <tr style=\"text-align: right;\">\n",
              "      <th></th>\n",
              "      <th>Age</th>\n",
              "      <th>Height</th>\n",
              "    </tr>\n",
              "    <tr>\n",
              "      <th>Name</th>\n",
              "      <th></th>\n",
              "      <th></th>\n",
              "    </tr>\n",
              "  </thead>\n",
              "  <tbody>\n",
              "    <tr>\n",
              "      <th>Tom Lul</th>\n",
              "      <td>15</td>\n",
              "      <td>140</td>\n",
              "    </tr>\n",
              "    <tr>\n",
              "      <th>Tim Dima</th>\n",
              "      <td>16</td>\n",
              "      <td>155</td>\n",
              "    </tr>\n",
              "  </tbody>\n",
              "</table>\n",
              "</div>"
            ],
            "text/plain": [
              "          Age  Height\n",
              "Name                 \n",
              "Tom Lul    15     140\n",
              "Tim Dima   16     155"
            ]
          },
          "metadata": {},
          "execution_count": 28
        }
      ]
    },
    {
      "cell_type": "markdown",
      "metadata": {
        "id": "Il0lZldh7FML"
      },
      "source": [
        "Or how can we rename the index completely? you can use `set_aixs` to replace any *axis*\n",
        "\n",
        "නැත්නම් අපි දර්ශකය සම්පූර්ණයෙන්ම නැවත නම් කරන්නේ කෙසේද? ඕනෑම *අක්ෂයක් *වෙනුවට ඔබට `axis` භාවිතා කළ හැකිය."
      ]
    },
    {
      "cell_type": "code",
      "metadata": {
        "colab": {
          "base_uri": "https://localhost:8080/",
          "height": 0
        },
        "id": "3KmGzWAN7Ylq",
        "outputId": "47737f2f-646d-4923-d981-f4bb99f632dd"
      },
      "source": [
        "df_mod.set_axis(['s1', 's2'], axis='index')"
      ],
      "execution_count": 29,
      "outputs": [
        {
          "output_type": "execute_result",
          "data": {
            "text/html": [
              "<div>\n",
              "<style scoped>\n",
              "    .dataframe tbody tr th:only-of-type {\n",
              "        vertical-align: middle;\n",
              "    }\n",
              "\n",
              "    .dataframe tbody tr th {\n",
              "        vertical-align: top;\n",
              "    }\n",
              "\n",
              "    .dataframe thead th {\n",
              "        text-align: right;\n",
              "    }\n",
              "</style>\n",
              "<table border=\"1\" class=\"dataframe\">\n",
              "  <thead>\n",
              "    <tr style=\"text-align: right;\">\n",
              "      <th></th>\n",
              "      <th>Age</th>\n",
              "      <th>Height</th>\n",
              "      <th>Name</th>\n",
              "    </tr>\n",
              "  </thead>\n",
              "  <tbody>\n",
              "    <tr>\n",
              "      <th>s1</th>\n",
              "      <td>15</td>\n",
              "      <td>140</td>\n",
              "      <td>Tom Lul</td>\n",
              "    </tr>\n",
              "    <tr>\n",
              "      <th>s2</th>\n",
              "      <td>16</td>\n",
              "      <td>155</td>\n",
              "      <td>Tim Dima</td>\n",
              "    </tr>\n",
              "  </tbody>\n",
              "</table>\n",
              "</div>"
            ],
            "text/plain": [
              "    Age  Height      Name\n",
              "s1   15     140   Tom Lul\n",
              "s2   16     155  Tim Dima"
            ]
          },
          "metadata": {},
          "execution_count": 29
        }
      ]
    },
    {
      "cell_type": "code",
      "metadata": {
        "colab": {
          "base_uri": "https://localhost:8080/",
          "height": 0
        },
        "id": "_Z4aDlOO7ZWa",
        "outputId": "fee6ef7c-8bfb-428b-db5c-45a61e6012fa"
      },
      "source": [
        "df_mod.set_axis(['s1', 's2'], axis=0)"
      ],
      "execution_count": 30,
      "outputs": [
        {
          "output_type": "execute_result",
          "data": {
            "text/html": [
              "<div>\n",
              "<style scoped>\n",
              "    .dataframe tbody tr th:only-of-type {\n",
              "        vertical-align: middle;\n",
              "    }\n",
              "\n",
              "    .dataframe tbody tr th {\n",
              "        vertical-align: top;\n",
              "    }\n",
              "\n",
              "    .dataframe thead th {\n",
              "        text-align: right;\n",
              "    }\n",
              "</style>\n",
              "<table border=\"1\" class=\"dataframe\">\n",
              "  <thead>\n",
              "    <tr style=\"text-align: right;\">\n",
              "      <th></th>\n",
              "      <th>Age</th>\n",
              "      <th>Height</th>\n",
              "      <th>Name</th>\n",
              "    </tr>\n",
              "  </thead>\n",
              "  <tbody>\n",
              "    <tr>\n",
              "      <th>s1</th>\n",
              "      <td>15</td>\n",
              "      <td>140</td>\n",
              "      <td>Tom Lul</td>\n",
              "    </tr>\n",
              "    <tr>\n",
              "      <th>s2</th>\n",
              "      <td>16</td>\n",
              "      <td>155</td>\n",
              "      <td>Tim Dima</td>\n",
              "    </tr>\n",
              "  </tbody>\n",
              "</table>\n",
              "</div>"
            ],
            "text/plain": [
              "    Age  Height      Name\n",
              "s1   15     140   Tom Lul\n",
              "s2   16     155  Tim Dima"
            ]
          },
          "metadata": {},
          "execution_count": 30
        }
      ]
    },
    {
      "cell_type": "markdown",
      "metadata": {
        "id": "Td3hOfRX7ZCA"
      },
      "source": [
        "Can you guess `df_mod.set_axis(['age', 'height', 'name'], axis=1)` result of this? \n",
        "\n",
        "ඔයාට අනුමාන කරන්න පුලුවන්ද `df_mod.set_axis(['age', 'height', 'name'], axis=1)` මෙහි ප්‍රතිඵලය?"
      ]
    },
    {
      "cell_type": "markdown",
      "metadata": {
        "id": "peCDgZW293JC"
      },
      "source": [
        "**Different ways of selections** තෝරා ගැනීමේ විවිධ ක්‍රම\n",
        "\n",
        "Let's say, in the class, we have a few more people, but still, there are some information is missing \n",
        "\n",
        "අපි කියමු, පන්තියේදී, අපට තවත් පුද්ගලයින් කිහිප දෙනෙක් සිටියත්, තවමත් සමහර තොරතුරු නැති වී තිබේ\n"
      ]
    },
    {
      "cell_type": "code",
      "metadata": {
        "colab": {
          "base_uri": "https://localhost:8080/",
          "height": 0
        },
        "id": "fX4vyqLkFNxW",
        "outputId": "7e6e6707-cc03-4cb0-d296-935d4e397fed"
      },
      "source": [
        "import numpy as np \n",
        "\n",
        "df_new = pd.DataFrame({\"Age\":[15, 16, np.nan, 18], \"Height\":[140, 155, 167, np.nan]\n",
        "                       , \"Name\":[\"Tom Lul\", \"Tim Dima\", \"Bulad Max\", \"Savira Lavix\"]}\n",
        "                      , index=[\"student1\", \"student2\", \"student3\", \"student4\"])\n",
        "df_new"
      ],
      "execution_count": 31,
      "outputs": [
        {
          "output_type": "execute_result",
          "data": {
            "text/html": [
              "<div>\n",
              "<style scoped>\n",
              "    .dataframe tbody tr th:only-of-type {\n",
              "        vertical-align: middle;\n",
              "    }\n",
              "\n",
              "    .dataframe tbody tr th {\n",
              "        vertical-align: top;\n",
              "    }\n",
              "\n",
              "    .dataframe thead th {\n",
              "        text-align: right;\n",
              "    }\n",
              "</style>\n",
              "<table border=\"1\" class=\"dataframe\">\n",
              "  <thead>\n",
              "    <tr style=\"text-align: right;\">\n",
              "      <th></th>\n",
              "      <th>Age</th>\n",
              "      <th>Height</th>\n",
              "      <th>Name</th>\n",
              "    </tr>\n",
              "  </thead>\n",
              "  <tbody>\n",
              "    <tr>\n",
              "      <th>student1</th>\n",
              "      <td>15.0</td>\n",
              "      <td>140.0</td>\n",
              "      <td>Tom Lul</td>\n",
              "    </tr>\n",
              "    <tr>\n",
              "      <th>student2</th>\n",
              "      <td>16.0</td>\n",
              "      <td>155.0</td>\n",
              "      <td>Tim Dima</td>\n",
              "    </tr>\n",
              "    <tr>\n",
              "      <th>student3</th>\n",
              "      <td>NaN</td>\n",
              "      <td>167.0</td>\n",
              "      <td>Bulad Max</td>\n",
              "    </tr>\n",
              "    <tr>\n",
              "      <th>student4</th>\n",
              "      <td>18.0</td>\n",
              "      <td>NaN</td>\n",
              "      <td>Savira Lavix</td>\n",
              "    </tr>\n",
              "  </tbody>\n",
              "</table>\n",
              "</div>"
            ],
            "text/plain": [
              "           Age  Height          Name\n",
              "student1  15.0   140.0       Tom Lul\n",
              "student2  16.0   155.0      Tim Dima\n",
              "student3   NaN   167.0     Bulad Max\n",
              "student4  18.0     NaN  Savira Lavix"
            ]
          },
          "metadata": {},
          "execution_count": 31
        }
      ]
    },
    {
      "cell_type": "markdown",
      "metadata": {
        "id": "6nKqmxYwGRO5"
      },
      "source": [
        "How can we know all the students' names who are higher than 150 cm?\n",
        "\n",
        "සෙන්ටිමීටර 150 ට වැඩි සියලුම සිසුන්ගේ නම් අපි දැන ගන්නේ කෙසේද?\n"
      ]
    },
    {
      "cell_type": "markdown",
      "metadata": {
        "id": "3-cdvwqbHfso"
      },
      "source": [
        "Let's go through step by step \n",
        "\n",
        "අපි පියවරෙන් පියවර ඉදිරියට යමු"
      ]
    },
    {
      "cell_type": "code",
      "metadata": {
        "colab": {
          "base_uri": "https://localhost:8080/"
        },
        "id": "tmVS9yKQKogv",
        "outputId": "d97f9374-97a7-4659-c175-9498e5e4ff3d"
      },
      "source": [
        "df_new.Height>=150 #selecting students who are higher than 150cm. In the result "
      ],
      "execution_count": 32,
      "outputs": [
        {
          "output_type": "execute_result",
          "data": {
            "text/plain": [
              "student1    False\n",
              "student2     True\n",
              "student3     True\n",
              "student4    False\n",
              "Name: Height, dtype: bool"
            ]
          },
          "metadata": {},
          "execution_count": 32
        }
      ]
    },
    {
      "cell_type": "code",
      "metadata": {
        "colab": {
          "base_uri": "https://localhost:8080/",
          "height": 0
        },
        "id": "rYnVOrszK9A7",
        "outputId": "63efb8ec-7087-4a67-fb3f-e58bcc0c504b"
      },
      "source": [
        "df_new.loc[df_new.Height >= 150]  # this gives the part of the DataFrame we are interested in "
      ],
      "execution_count": 33,
      "outputs": [
        {
          "output_type": "execute_result",
          "data": {
            "text/html": [
              "<div>\n",
              "<style scoped>\n",
              "    .dataframe tbody tr th:only-of-type {\n",
              "        vertical-align: middle;\n",
              "    }\n",
              "\n",
              "    .dataframe tbody tr th {\n",
              "        vertical-align: top;\n",
              "    }\n",
              "\n",
              "    .dataframe thead th {\n",
              "        text-align: right;\n",
              "    }\n",
              "</style>\n",
              "<table border=\"1\" class=\"dataframe\">\n",
              "  <thead>\n",
              "    <tr style=\"text-align: right;\">\n",
              "      <th></th>\n",
              "      <th>Age</th>\n",
              "      <th>Height</th>\n",
              "      <th>Name</th>\n",
              "    </tr>\n",
              "  </thead>\n",
              "  <tbody>\n",
              "    <tr>\n",
              "      <th>student2</th>\n",
              "      <td>16.0</td>\n",
              "      <td>155.0</td>\n",
              "      <td>Tim Dima</td>\n",
              "    </tr>\n",
              "    <tr>\n",
              "      <th>student3</th>\n",
              "      <td>NaN</td>\n",
              "      <td>167.0</td>\n",
              "      <td>Bulad Max</td>\n",
              "    </tr>\n",
              "  </tbody>\n",
              "</table>\n",
              "</div>"
            ],
            "text/plain": [
              "           Age  Height       Name\n",
              "student2  16.0   155.0   Tim Dima\n",
              "student3   NaN   167.0  Bulad Max"
            ]
          },
          "metadata": {},
          "execution_count": 33
        }
      ]
    },
    {
      "cell_type": "markdown",
      "metadata": {
        "id": "TKRhMM9NLRBn"
      },
      "source": [
        "`df_new.loc[df_new.Height >= 150]` same work can be done incorporating `np.where` API as well \n",
        "\n",
        "`df_new.loc[df_new.Height >= 150]` ඇතුළත් කිරීම මඟින් එම කාර්යයම කළ හැකිය `np.where` ඒපීඅයි ද"
      ]
    },
    {
      "cell_type": "code",
      "metadata": {
        "colab": {
          "base_uri": "https://localhost:8080/"
        },
        "id": "ijLri93sH8Ud",
        "outputId": "447cbf0d-7bc5-4bc9-8e45-85583719e6ac"
      },
      "source": [
        "np.where(df_new.Height>=150)[0] # this gives indices of those students මෙය එම සිසුන්ගේ දර්ශක ලබා දෙයි"
      ],
      "execution_count": 34,
      "outputs": [
        {
          "output_type": "execute_result",
          "data": {
            "text/plain": [
              "array([1, 2])"
            ]
          },
          "metadata": {},
          "execution_count": 34
        }
      ]
    },
    {
      "cell_type": "code",
      "metadata": {
        "colab": {
          "base_uri": "https://localhost:8080/",
          "height": 0
        },
        "id": "uhPTNwEiIPbK",
        "outputId": "a001057c-ae8e-4611-b075-3d56ba4f7850"
      },
      "source": [
        "df_new.iloc[np.where(df_new.Height>=150)[0]] # this gives the part of the DataFrame we are interested in මෙය අපි උනන්දුවක් දක්වන දත්ත රාමුවේ කොටසක් ලබා දේ"
      ],
      "execution_count": 35,
      "outputs": [
        {
          "output_type": "execute_result",
          "data": {
            "text/html": [
              "<div>\n",
              "<style scoped>\n",
              "    .dataframe tbody tr th:only-of-type {\n",
              "        vertical-align: middle;\n",
              "    }\n",
              "\n",
              "    .dataframe tbody tr th {\n",
              "        vertical-align: top;\n",
              "    }\n",
              "\n",
              "    .dataframe thead th {\n",
              "        text-align: right;\n",
              "    }\n",
              "</style>\n",
              "<table border=\"1\" class=\"dataframe\">\n",
              "  <thead>\n",
              "    <tr style=\"text-align: right;\">\n",
              "      <th></th>\n",
              "      <th>Age</th>\n",
              "      <th>Height</th>\n",
              "      <th>Name</th>\n",
              "    </tr>\n",
              "  </thead>\n",
              "  <tbody>\n",
              "    <tr>\n",
              "      <th>student2</th>\n",
              "      <td>16.0</td>\n",
              "      <td>155.0</td>\n",
              "      <td>Tim Dima</td>\n",
              "    </tr>\n",
              "    <tr>\n",
              "      <th>student3</th>\n",
              "      <td>NaN</td>\n",
              "      <td>167.0</td>\n",
              "      <td>Bulad Max</td>\n",
              "    </tr>\n",
              "  </tbody>\n",
              "</table>\n",
              "</div>"
            ],
            "text/plain": [
              "           Age  Height       Name\n",
              "student2  16.0   155.0   Tim Dima\n",
              "student3   NaN   167.0  Bulad Max"
            ]
          },
          "metadata": {},
          "execution_count": 35
        }
      ]
    },
    {
      "cell_type": "code",
      "metadata": {
        "colab": {
          "base_uri": "https://localhost:8080/"
        },
        "id": "SMtlQl_OLswr",
        "outputId": "1d7280da-4631-4127-c35a-87b00dd0191c"
      },
      "source": [
        "df_new.loc[df_new.Height >= 150].Name # since names of those students what we need. Retrieving only the names ඒ සිසුන්ගේ නම් වලින් අපට අවශ්‍ය දේ. නම් පමණක් ලබා ගැනීම"
      ],
      "execution_count": 36,
      "outputs": [
        {
          "output_type": "execute_result",
          "data": {
            "text/plain": [
              "student2     Tim Dima\n",
              "student3    Bulad Max\n",
              "Name: Name, dtype: object"
            ]
          },
          "metadata": {},
          "execution_count": 36
        }
      ]
    },
    {
      "cell_type": "code",
      "metadata": {
        "colab": {
          "base_uri": "https://localhost:8080/"
        },
        "id": "zTz3YloiIbN3",
        "outputId": "7f4756fc-c0e1-4bc8-9dfa-53434f8c1fa9"
      },
      "source": [
        "df_new.iloc[np.where(df_new.Height>=150)[0]].Name "
      ],
      "execution_count": 37,
      "outputs": [
        {
          "output_type": "execute_result",
          "data": {
            "text/plain": [
              "student2     Tim Dima\n",
              "student3    Bulad Max\n",
              "Name: Name, dtype: object"
            ]
          },
          "metadata": {},
          "execution_count": 37
        }
      ]
    },
    {
      "cell_type": "markdown",
      "metadata": {
        "id": "joVt5eiaL7w_"
      },
      "source": [
        "Now let's say, we need students who are higher than 150 and whose age higher than 16 \n",
        "\n",
        "දැන් අපි කියමු, අපට අවශ්‍ය වන්නේ 150 ට වඩා වැඩි සහ 16 ට වැඩි වයසේ සිටින සිසුන් ය\n"
      ]
    },
    {
      "cell_type": "code",
      "metadata": {
        "colab": {
          "base_uri": "https://localhost:8080/",
          "height": 0
        },
        "id": "VKYu6CEtMSYj",
        "outputId": "874df70f-19cb-437e-c184-8c382d1870e8"
      },
      "source": [
        "df_new.loc[ (df_new.Height > 150) & (df_new.Age >= 16)]"
      ],
      "execution_count": 38,
      "outputs": [
        {
          "output_type": "execute_result",
          "data": {
            "text/html": [
              "<div>\n",
              "<style scoped>\n",
              "    .dataframe tbody tr th:only-of-type {\n",
              "        vertical-align: middle;\n",
              "    }\n",
              "\n",
              "    .dataframe tbody tr th {\n",
              "        vertical-align: top;\n",
              "    }\n",
              "\n",
              "    .dataframe thead th {\n",
              "        text-align: right;\n",
              "    }\n",
              "</style>\n",
              "<table border=\"1\" class=\"dataframe\">\n",
              "  <thead>\n",
              "    <tr style=\"text-align: right;\">\n",
              "      <th></th>\n",
              "      <th>Age</th>\n",
              "      <th>Height</th>\n",
              "      <th>Name</th>\n",
              "    </tr>\n",
              "  </thead>\n",
              "  <tbody>\n",
              "    <tr>\n",
              "      <th>student2</th>\n",
              "      <td>16.0</td>\n",
              "      <td>155.0</td>\n",
              "      <td>Tim Dima</td>\n",
              "    </tr>\n",
              "  </tbody>\n",
              "</table>\n",
              "</div>"
            ],
            "text/plain": [
              "           Age  Height      Name\n",
              "student2  16.0   155.0  Tim Dima"
            ]
          },
          "metadata": {},
          "execution_count": 38
        }
      ]
    },
    {
      "cell_type": "markdown",
      "metadata": {
        "id": "eDtvmgVcMmiP"
      },
      "source": [
        "How about students who are higher than 150 or age higher than 16\n",
        "\n",
        "150 ට වඩා වැඩි හෝ 16 ට වැඩි වයසේ පසුවන සිසුන් ගැන කෙසේ කිව හැකිද?"
      ]
    },
    {
      "cell_type": "code",
      "metadata": {
        "colab": {
          "base_uri": "https://localhost:8080/",
          "height": 0
        },
        "id": "cjydLevVMwFY",
        "outputId": "6a698475-aa21-4563-d998-1d628e7294fa"
      },
      "source": [
        "df_new.loc[ (df_new.Height > 150) | (df_new.Age >= 16)]"
      ],
      "execution_count": 39,
      "outputs": [
        {
          "output_type": "execute_result",
          "data": {
            "text/html": [
              "<div>\n",
              "<style scoped>\n",
              "    .dataframe tbody tr th:only-of-type {\n",
              "        vertical-align: middle;\n",
              "    }\n",
              "\n",
              "    .dataframe tbody tr th {\n",
              "        vertical-align: top;\n",
              "    }\n",
              "\n",
              "    .dataframe thead th {\n",
              "        text-align: right;\n",
              "    }\n",
              "</style>\n",
              "<table border=\"1\" class=\"dataframe\">\n",
              "  <thead>\n",
              "    <tr style=\"text-align: right;\">\n",
              "      <th></th>\n",
              "      <th>Age</th>\n",
              "      <th>Height</th>\n",
              "      <th>Name</th>\n",
              "    </tr>\n",
              "  </thead>\n",
              "  <tbody>\n",
              "    <tr>\n",
              "      <th>student2</th>\n",
              "      <td>16.0</td>\n",
              "      <td>155.0</td>\n",
              "      <td>Tim Dima</td>\n",
              "    </tr>\n",
              "    <tr>\n",
              "      <th>student3</th>\n",
              "      <td>NaN</td>\n",
              "      <td>167.0</td>\n",
              "      <td>Bulad Max</td>\n",
              "    </tr>\n",
              "    <tr>\n",
              "      <th>student4</th>\n",
              "      <td>18.0</td>\n",
              "      <td>NaN</td>\n",
              "      <td>Savira Lavix</td>\n",
              "    </tr>\n",
              "  </tbody>\n",
              "</table>\n",
              "</div>"
            ],
            "text/plain": [
              "           Age  Height          Name\n",
              "student2  16.0   155.0      Tim Dima\n",
              "student3   NaN   167.0     Bulad Max\n",
              "student4  18.0     NaN  Savira Lavix"
            ]
          },
          "metadata": {},
          "execution_count": 39
        }
      ]
    },
    {
      "cell_type": "markdown",
      "metadata": {
        "id": "5L_P9NWLM-5a"
      },
      "source": [
        "As you can see, here for some information are missing, i.e., the information provided with NaN\n",
        "\n",
        "ඔබට දැකිය හැකි පරිදි, මෙහි සමහර තොරතුරු නැති වී ඇත, එනම් NaN සමඟ ලබා දුන් තොරතුරු\n"
      ]
    },
    {
      "cell_type": "markdown",
      "metadata": {
        "id": "yQVjWITQNTeQ"
      },
      "source": [
        "How to retrieve students who have missing information\n",
        "\n",
        "අතුරුදහන් වූ තොරතුරු ඇති සිසුන් නැවත ලබා ගන්නේ කෙසේද?"
      ]
    },
    {
      "cell_type": "code",
      "metadata": {
        "colab": {
          "base_uri": "https://localhost:8080/",
          "height": 0
        },
        "id": "AhmS1apRNhGg",
        "outputId": "47f9313e-6dcf-4ff2-886d-e94de1e923c7"
      },
      "source": [
        "df_new.loc[df_new.Age.isin([np.nan]) | df_new.Height.isin([np.nan]) | df_new.Name.isin([np.nan])]"
      ],
      "execution_count": 40,
      "outputs": [
        {
          "output_type": "execute_result",
          "data": {
            "text/html": [
              "<div>\n",
              "<style scoped>\n",
              "    .dataframe tbody tr th:only-of-type {\n",
              "        vertical-align: middle;\n",
              "    }\n",
              "\n",
              "    .dataframe tbody tr th {\n",
              "        vertical-align: top;\n",
              "    }\n",
              "\n",
              "    .dataframe thead th {\n",
              "        text-align: right;\n",
              "    }\n",
              "</style>\n",
              "<table border=\"1\" class=\"dataframe\">\n",
              "  <thead>\n",
              "    <tr style=\"text-align: right;\">\n",
              "      <th></th>\n",
              "      <th>Age</th>\n",
              "      <th>Height</th>\n",
              "      <th>Name</th>\n",
              "    </tr>\n",
              "  </thead>\n",
              "  <tbody>\n",
              "    <tr>\n",
              "      <th>student3</th>\n",
              "      <td>NaN</td>\n",
              "      <td>167.0</td>\n",
              "      <td>Bulad Max</td>\n",
              "    </tr>\n",
              "    <tr>\n",
              "      <th>student4</th>\n",
              "      <td>18.0</td>\n",
              "      <td>NaN</td>\n",
              "      <td>Savira Lavix</td>\n",
              "    </tr>\n",
              "  </tbody>\n",
              "</table>\n",
              "</div>"
            ],
            "text/plain": [
              "           Age  Height          Name\n",
              "student3   NaN   167.0     Bulad Max\n",
              "student4  18.0     NaN  Savira Lavix"
            ]
          },
          "metadata": {},
          "execution_count": 40
        }
      ]
    },
    {
      "cell_type": "markdown",
      "metadata": {
        "id": "B4RJxU_EPIjD"
      },
      "source": [
        "How to retrieve students who have provided their height \n",
        "\n",
        "තම උස සපයා ඇති සිසුන් නැවත ලබා ගන්නේ කෙසේද?"
      ]
    },
    {
      "cell_type": "code",
      "metadata": {
        "colab": {
          "base_uri": "https://localhost:8080/",
          "height": 0
        },
        "id": "U2bxQUHzO1q5",
        "outputId": "4ad186b7-3b90-441c-ed30-17bcc173224d"
      },
      "source": [
        "df_new.loc[ df_new.Height.notnull()]"
      ],
      "execution_count": 41,
      "outputs": [
        {
          "output_type": "execute_result",
          "data": {
            "text/html": [
              "<div>\n",
              "<style scoped>\n",
              "    .dataframe tbody tr th:only-of-type {\n",
              "        vertical-align: middle;\n",
              "    }\n",
              "\n",
              "    .dataframe tbody tr th {\n",
              "        vertical-align: top;\n",
              "    }\n",
              "\n",
              "    .dataframe thead th {\n",
              "        text-align: right;\n",
              "    }\n",
              "</style>\n",
              "<table border=\"1\" class=\"dataframe\">\n",
              "  <thead>\n",
              "    <tr style=\"text-align: right;\">\n",
              "      <th></th>\n",
              "      <th>Age</th>\n",
              "      <th>Height</th>\n",
              "      <th>Name</th>\n",
              "    </tr>\n",
              "  </thead>\n",
              "  <tbody>\n",
              "    <tr>\n",
              "      <th>student1</th>\n",
              "      <td>15.0</td>\n",
              "      <td>140.0</td>\n",
              "      <td>Tom Lul</td>\n",
              "    </tr>\n",
              "    <tr>\n",
              "      <th>student2</th>\n",
              "      <td>16.0</td>\n",
              "      <td>155.0</td>\n",
              "      <td>Tim Dima</td>\n",
              "    </tr>\n",
              "    <tr>\n",
              "      <th>student3</th>\n",
              "      <td>NaN</td>\n",
              "      <td>167.0</td>\n",
              "      <td>Bulad Max</td>\n",
              "    </tr>\n",
              "  </tbody>\n",
              "</table>\n",
              "</div>"
            ],
            "text/plain": [
              "           Age  Height       Name\n",
              "student1  15.0   140.0    Tom Lul\n",
              "student2  16.0   155.0   Tim Dima\n",
              "student3   NaN   167.0  Bulad Max"
            ]
          },
          "metadata": {},
          "execution_count": 41
        }
      ]
    },
    {
      "cell_type": "markdown",
      "metadata": {
        "id": "kNV2SnvUPqNU"
      },
      "source": [
        "**Assigning data** දත්ත පැවරීම\n",
        "\n",
        "Student3 age is 17. How can you update the corresponding entry?\n",
        "\n",
        "ශිෂ්‍යයාගේ වයස අවුරුදු 17 යි. අනුරූප ඇතුළත් කිරීම ඔබ යාවත්කාලීන කරන්නේ කෙසේද?"
      ]
    },
    {
      "cell_type": "code",
      "metadata": {
        "colab": {
          "base_uri": "https://localhost:8080/",
          "height": 0
        },
        "id": "c4IcwZ3cStE_",
        "outputId": "85213811-0c1b-44b0-8326-b8a3e36408c3"
      },
      "source": [
        "df_new['Age'].student3 = 17\n",
        "df_new"
      ],
      "execution_count": 42,
      "outputs": [
        {
          "output_type": "stream",
          "name": "stderr",
          "text": [
            "/usr/local/lib/python3.7/dist-packages/pandas/core/generic.py:5170: SettingWithCopyWarning: \n",
            "A value is trying to be set on a copy of a slice from a DataFrame\n",
            "\n",
            "See the caveats in the documentation: https://pandas.pydata.org/pandas-docs/stable/user_guide/indexing.html#returning-a-view-versus-a-copy\n",
            "  self[name] = value\n"
          ]
        },
        {
          "output_type": "execute_result",
          "data": {
            "text/html": [
              "<div>\n",
              "<style scoped>\n",
              "    .dataframe tbody tr th:only-of-type {\n",
              "        vertical-align: middle;\n",
              "    }\n",
              "\n",
              "    .dataframe tbody tr th {\n",
              "        vertical-align: top;\n",
              "    }\n",
              "\n",
              "    .dataframe thead th {\n",
              "        text-align: right;\n",
              "    }\n",
              "</style>\n",
              "<table border=\"1\" class=\"dataframe\">\n",
              "  <thead>\n",
              "    <tr style=\"text-align: right;\">\n",
              "      <th></th>\n",
              "      <th>Age</th>\n",
              "      <th>Height</th>\n",
              "      <th>Name</th>\n",
              "    </tr>\n",
              "  </thead>\n",
              "  <tbody>\n",
              "    <tr>\n",
              "      <th>student1</th>\n",
              "      <td>15.0</td>\n",
              "      <td>140.0</td>\n",
              "      <td>Tom Lul</td>\n",
              "    </tr>\n",
              "    <tr>\n",
              "      <th>student2</th>\n",
              "      <td>16.0</td>\n",
              "      <td>155.0</td>\n",
              "      <td>Tim Dima</td>\n",
              "    </tr>\n",
              "    <tr>\n",
              "      <th>student3</th>\n",
              "      <td>17.0</td>\n",
              "      <td>167.0</td>\n",
              "      <td>Bulad Max</td>\n",
              "    </tr>\n",
              "    <tr>\n",
              "      <th>student4</th>\n",
              "      <td>18.0</td>\n",
              "      <td>NaN</td>\n",
              "      <td>Savira Lavix</td>\n",
              "    </tr>\n",
              "  </tbody>\n",
              "</table>\n",
              "</div>"
            ],
            "text/plain": [
              "           Age  Height          Name\n",
              "student1  15.0   140.0       Tom Lul\n",
              "student2  16.0   155.0      Tim Dima\n",
              "student3  17.0   167.0     Bulad Max\n",
              "student4  18.0     NaN  Savira Lavix"
            ]
          },
          "metadata": {},
          "execution_count": 42
        }
      ]
    },
    {
      "cell_type": "code",
      "metadata": {
        "colab": {
          "base_uri": "https://localhost:8080/",
          "height": 0
        },
        "id": "v6FpB9eITdff",
        "outputId": "0390fdcb-0842-47c2-e86c-d19d46b51de9"
      },
      "source": [
        "df_new['Age'][2] = 17\n",
        "df_new"
      ],
      "execution_count": 43,
      "outputs": [
        {
          "output_type": "stream",
          "name": "stderr",
          "text": [
            "/usr/local/lib/python3.7/dist-packages/ipykernel_launcher.py:1: SettingWithCopyWarning: \n",
            "A value is trying to be set on a copy of a slice from a DataFrame\n",
            "\n",
            "See the caveats in the documentation: https://pandas.pydata.org/pandas-docs/stable/user_guide/indexing.html#returning-a-view-versus-a-copy\n",
            "  \"\"\"Entry point for launching an IPython kernel.\n"
          ]
        },
        {
          "output_type": "execute_result",
          "data": {
            "text/html": [
              "<div>\n",
              "<style scoped>\n",
              "    .dataframe tbody tr th:only-of-type {\n",
              "        vertical-align: middle;\n",
              "    }\n",
              "\n",
              "    .dataframe tbody tr th {\n",
              "        vertical-align: top;\n",
              "    }\n",
              "\n",
              "    .dataframe thead th {\n",
              "        text-align: right;\n",
              "    }\n",
              "</style>\n",
              "<table border=\"1\" class=\"dataframe\">\n",
              "  <thead>\n",
              "    <tr style=\"text-align: right;\">\n",
              "      <th></th>\n",
              "      <th>Age</th>\n",
              "      <th>Height</th>\n",
              "      <th>Name</th>\n",
              "    </tr>\n",
              "  </thead>\n",
              "  <tbody>\n",
              "    <tr>\n",
              "      <th>student1</th>\n",
              "      <td>15.0</td>\n",
              "      <td>140.0</td>\n",
              "      <td>Tom Lul</td>\n",
              "    </tr>\n",
              "    <tr>\n",
              "      <th>student2</th>\n",
              "      <td>16.0</td>\n",
              "      <td>155.0</td>\n",
              "      <td>Tim Dima</td>\n",
              "    </tr>\n",
              "    <tr>\n",
              "      <th>student3</th>\n",
              "      <td>17.0</td>\n",
              "      <td>167.0</td>\n",
              "      <td>Bulad Max</td>\n",
              "    </tr>\n",
              "    <tr>\n",
              "      <th>student4</th>\n",
              "      <td>18.0</td>\n",
              "      <td>NaN</td>\n",
              "      <td>Savira Lavix</td>\n",
              "    </tr>\n",
              "  </tbody>\n",
              "</table>\n",
              "</div>"
            ],
            "text/plain": [
              "           Age  Height          Name\n",
              "student1  15.0   140.0       Tom Lul\n",
              "student2  16.0   155.0      Tim Dima\n",
              "student3  17.0   167.0     Bulad Max\n",
              "student4  18.0     NaN  Savira Lavix"
            ]
          },
          "metadata": {},
          "execution_count": 43
        }
      ]
    },
    {
      "cell_type": "markdown",
      "metadata": {
        "id": "6IDl1axqG1y-"
      },
      "source": [
        "# **Section 03**: Building Summary Functions and Maps දැනට පවතින සාරාංශ කාර්යයන් සහ සිතියම්"
      ]
    },
    {
      "cell_type": "markdown",
      "metadata": {
        "id": "8B-N5fQ2e_Ps"
      },
      "source": [
        "**Build-in summary functions** දැනට පවතින සාරාංශ කාර්යයන්\n",
        "\n",
        "There are several useful APIs that can be used for describing and visualization properties of data \n",
        "\n",
        "දත්ත වල ගුණාංග විස්තර කිරීම සහ දෘශ්‍යකරණය සඳහා භාවිතා කළ හැකි ප්‍රයෝජනවත් ඒපීඅයි කිහිපයක් තිබේ"
      ]
    },
    {
      "cell_type": "code",
      "metadata": {
        "colab": {
          "base_uri": "https://localhost:8080/",
          "height": 0
        },
        "id": "kT2IFLOLVDlb",
        "outputId": "44f80b19-71b9-4e3a-e84c-616acf52c39f"
      },
      "source": [
        "df_new = pd.DataFrame({\"age\":[15, 16, np.nan, 18], \"height\":[140, 155, 167, np.nan]\n",
        "                       , \"name\":[\"Tom Lul\", \"Tim Maxwell\", \"Tim Dima\", \"Savi Lavix\"], \"mark\":[45, 67, 89, 67]}\n",
        "                      , index=[\"student1\", \"student2\", \"student3\", \"student4\"])\n",
        "df_new"
      ],
      "execution_count": 44,
      "outputs": [
        {
          "output_type": "execute_result",
          "data": {
            "text/html": [
              "<div>\n",
              "<style scoped>\n",
              "    .dataframe tbody tr th:only-of-type {\n",
              "        vertical-align: middle;\n",
              "    }\n",
              "\n",
              "    .dataframe tbody tr th {\n",
              "        vertical-align: top;\n",
              "    }\n",
              "\n",
              "    .dataframe thead th {\n",
              "        text-align: right;\n",
              "    }\n",
              "</style>\n",
              "<table border=\"1\" class=\"dataframe\">\n",
              "  <thead>\n",
              "    <tr style=\"text-align: right;\">\n",
              "      <th></th>\n",
              "      <th>age</th>\n",
              "      <th>height</th>\n",
              "      <th>name</th>\n",
              "      <th>mark</th>\n",
              "    </tr>\n",
              "  </thead>\n",
              "  <tbody>\n",
              "    <tr>\n",
              "      <th>student1</th>\n",
              "      <td>15.0</td>\n",
              "      <td>140.0</td>\n",
              "      <td>Tom Lul</td>\n",
              "      <td>45</td>\n",
              "    </tr>\n",
              "    <tr>\n",
              "      <th>student2</th>\n",
              "      <td>16.0</td>\n",
              "      <td>155.0</td>\n",
              "      <td>Tim Maxwell</td>\n",
              "      <td>67</td>\n",
              "    </tr>\n",
              "    <tr>\n",
              "      <th>student3</th>\n",
              "      <td>NaN</td>\n",
              "      <td>167.0</td>\n",
              "      <td>Tim Dima</td>\n",
              "      <td>89</td>\n",
              "    </tr>\n",
              "    <tr>\n",
              "      <th>student4</th>\n",
              "      <td>18.0</td>\n",
              "      <td>NaN</td>\n",
              "      <td>Savi Lavix</td>\n",
              "      <td>67</td>\n",
              "    </tr>\n",
              "  </tbody>\n",
              "</table>\n",
              "</div>"
            ],
            "text/plain": [
              "           age  height         name  mark\n",
              "student1  15.0   140.0      Tom Lul    45\n",
              "student2  16.0   155.0  Tim Maxwell    67\n",
              "student3   NaN   167.0     Tim Dima    89\n",
              "student4  18.0     NaN   Savi Lavix    67"
            ]
          },
          "metadata": {},
          "execution_count": 44
        }
      ]
    },
    {
      "cell_type": "markdown",
      "metadata": {
        "id": "TAMYDlYWjlkw"
      },
      "source": [
        "Let's see what it describes in default \n",
        "\n",
        "එය පෙරනිමියෙන් විස්තර කරන්නේ කුමක්දැයි බලමු"
      ]
    },
    {
      "cell_type": "code",
      "metadata": {
        "colab": {
          "base_uri": "https://localhost:8080/",
          "height": 0
        },
        "id": "6fGCYQtbgHzu",
        "outputId": "bebe113a-4a42-4d3d-ee60-e882cc8d7507"
      },
      "source": [
        "df_new.describe()"
      ],
      "execution_count": 45,
      "outputs": [
        {
          "output_type": "execute_result",
          "data": {
            "text/html": [
              "<div>\n",
              "<style scoped>\n",
              "    .dataframe tbody tr th:only-of-type {\n",
              "        vertical-align: middle;\n",
              "    }\n",
              "\n",
              "    .dataframe tbody tr th {\n",
              "        vertical-align: top;\n",
              "    }\n",
              "\n",
              "    .dataframe thead th {\n",
              "        text-align: right;\n",
              "    }\n",
              "</style>\n",
              "<table border=\"1\" class=\"dataframe\">\n",
              "  <thead>\n",
              "    <tr style=\"text-align: right;\">\n",
              "      <th></th>\n",
              "      <th>age</th>\n",
              "      <th>height</th>\n",
              "      <th>mark</th>\n",
              "    </tr>\n",
              "  </thead>\n",
              "  <tbody>\n",
              "    <tr>\n",
              "      <th>count</th>\n",
              "      <td>3.000000</td>\n",
              "      <td>3.000000</td>\n",
              "      <td>4.000000</td>\n",
              "    </tr>\n",
              "    <tr>\n",
              "      <th>mean</th>\n",
              "      <td>16.333333</td>\n",
              "      <td>154.000000</td>\n",
              "      <td>67.000000</td>\n",
              "    </tr>\n",
              "    <tr>\n",
              "      <th>std</th>\n",
              "      <td>1.527525</td>\n",
              "      <td>13.527749</td>\n",
              "      <td>17.962925</td>\n",
              "    </tr>\n",
              "    <tr>\n",
              "      <th>min</th>\n",
              "      <td>15.000000</td>\n",
              "      <td>140.000000</td>\n",
              "      <td>45.000000</td>\n",
              "    </tr>\n",
              "    <tr>\n",
              "      <th>25%</th>\n",
              "      <td>15.500000</td>\n",
              "      <td>147.500000</td>\n",
              "      <td>61.500000</td>\n",
              "    </tr>\n",
              "    <tr>\n",
              "      <th>50%</th>\n",
              "      <td>16.000000</td>\n",
              "      <td>155.000000</td>\n",
              "      <td>67.000000</td>\n",
              "    </tr>\n",
              "    <tr>\n",
              "      <th>75%</th>\n",
              "      <td>17.000000</td>\n",
              "      <td>161.000000</td>\n",
              "      <td>72.500000</td>\n",
              "    </tr>\n",
              "    <tr>\n",
              "      <th>max</th>\n",
              "      <td>18.000000</td>\n",
              "      <td>167.000000</td>\n",
              "      <td>89.000000</td>\n",
              "    </tr>\n",
              "  </tbody>\n",
              "</table>\n",
              "</div>"
            ],
            "text/plain": [
              "             age      height       mark\n",
              "count   3.000000    3.000000   4.000000\n",
              "mean   16.333333  154.000000  67.000000\n",
              "std     1.527525   13.527749  17.962925\n",
              "min    15.000000  140.000000  45.000000\n",
              "25%    15.500000  147.500000  61.500000\n",
              "50%    16.000000  155.000000  67.000000\n",
              "75%    17.000000  161.000000  72.500000\n",
              "max    18.000000  167.000000  89.000000"
            ]
          },
          "metadata": {},
          "execution_count": 45
        }
      ]
    },
    {
      "cell_type": "code",
      "metadata": {
        "colab": {
          "base_uri": "https://localhost:8080/",
          "height": 0
        },
        "id": "-KxHswTbgZin",
        "outputId": "3fe21b34-0caf-48a9-fdae-a5e72831b1b3"
      },
      "source": [
        "df_new.describe(include='all')"
      ],
      "execution_count": 46,
      "outputs": [
        {
          "output_type": "execute_result",
          "data": {
            "text/html": [
              "<div>\n",
              "<style scoped>\n",
              "    .dataframe tbody tr th:only-of-type {\n",
              "        vertical-align: middle;\n",
              "    }\n",
              "\n",
              "    .dataframe tbody tr th {\n",
              "        vertical-align: top;\n",
              "    }\n",
              "\n",
              "    .dataframe thead th {\n",
              "        text-align: right;\n",
              "    }\n",
              "</style>\n",
              "<table border=\"1\" class=\"dataframe\">\n",
              "  <thead>\n",
              "    <tr style=\"text-align: right;\">\n",
              "      <th></th>\n",
              "      <th>age</th>\n",
              "      <th>height</th>\n",
              "      <th>name</th>\n",
              "      <th>mark</th>\n",
              "    </tr>\n",
              "  </thead>\n",
              "  <tbody>\n",
              "    <tr>\n",
              "      <th>count</th>\n",
              "      <td>3.000000</td>\n",
              "      <td>3.000000</td>\n",
              "      <td>4</td>\n",
              "      <td>4.000000</td>\n",
              "    </tr>\n",
              "    <tr>\n",
              "      <th>unique</th>\n",
              "      <td>NaN</td>\n",
              "      <td>NaN</td>\n",
              "      <td>4</td>\n",
              "      <td>NaN</td>\n",
              "    </tr>\n",
              "    <tr>\n",
              "      <th>top</th>\n",
              "      <td>NaN</td>\n",
              "      <td>NaN</td>\n",
              "      <td>Tim Dima</td>\n",
              "      <td>NaN</td>\n",
              "    </tr>\n",
              "    <tr>\n",
              "      <th>freq</th>\n",
              "      <td>NaN</td>\n",
              "      <td>NaN</td>\n",
              "      <td>1</td>\n",
              "      <td>NaN</td>\n",
              "    </tr>\n",
              "    <tr>\n",
              "      <th>mean</th>\n",
              "      <td>16.333333</td>\n",
              "      <td>154.000000</td>\n",
              "      <td>NaN</td>\n",
              "      <td>67.000000</td>\n",
              "    </tr>\n",
              "    <tr>\n",
              "      <th>std</th>\n",
              "      <td>1.527525</td>\n",
              "      <td>13.527749</td>\n",
              "      <td>NaN</td>\n",
              "      <td>17.962925</td>\n",
              "    </tr>\n",
              "    <tr>\n",
              "      <th>min</th>\n",
              "      <td>15.000000</td>\n",
              "      <td>140.000000</td>\n",
              "      <td>NaN</td>\n",
              "      <td>45.000000</td>\n",
              "    </tr>\n",
              "    <tr>\n",
              "      <th>25%</th>\n",
              "      <td>15.500000</td>\n",
              "      <td>147.500000</td>\n",
              "      <td>NaN</td>\n",
              "      <td>61.500000</td>\n",
              "    </tr>\n",
              "    <tr>\n",
              "      <th>50%</th>\n",
              "      <td>16.000000</td>\n",
              "      <td>155.000000</td>\n",
              "      <td>NaN</td>\n",
              "      <td>67.000000</td>\n",
              "    </tr>\n",
              "    <tr>\n",
              "      <th>75%</th>\n",
              "      <td>17.000000</td>\n",
              "      <td>161.000000</td>\n",
              "      <td>NaN</td>\n",
              "      <td>72.500000</td>\n",
              "    </tr>\n",
              "    <tr>\n",
              "      <th>max</th>\n",
              "      <td>18.000000</td>\n",
              "      <td>167.000000</td>\n",
              "      <td>NaN</td>\n",
              "      <td>89.000000</td>\n",
              "    </tr>\n",
              "  </tbody>\n",
              "</table>\n",
              "</div>"
            ],
            "text/plain": [
              "              age      height      name       mark\n",
              "count    3.000000    3.000000         4   4.000000\n",
              "unique        NaN         NaN         4        NaN\n",
              "top           NaN         NaN  Tim Dima        NaN\n",
              "freq          NaN         NaN         1        NaN\n",
              "mean    16.333333  154.000000       NaN  67.000000\n",
              "std      1.527525   13.527749       NaN  17.962925\n",
              "min     15.000000  140.000000       NaN  45.000000\n",
              "25%     15.500000  147.500000       NaN  61.500000\n",
              "50%     16.000000  155.000000       NaN  67.000000\n",
              "75%     17.000000  161.000000       NaN  72.500000\n",
              "max     18.000000  167.000000       NaN  89.000000"
            ]
          },
          "metadata": {},
          "execution_count": 46
        }
      ]
    },
    {
      "cell_type": "code",
      "metadata": {
        "colab": {
          "base_uri": "https://localhost:8080/"
        },
        "id": "XfLf1GZmj3Dt",
        "outputId": "024cb884-ed2f-42ba-9f19-cf07e430ee2e"
      },
      "source": [
        "df_new.name.describe()"
      ],
      "execution_count": 47,
      "outputs": [
        {
          "output_type": "execute_result",
          "data": {
            "text/plain": [
              "count            4\n",
              "unique           4\n",
              "top       Tim Dima\n",
              "freq             1\n",
              "Name: name, dtype: object"
            ]
          },
          "metadata": {},
          "execution_count": 47
        }
      ]
    },
    {
      "cell_type": "code",
      "metadata": {
        "colab": {
          "base_uri": "https://localhost:8080/"
        },
        "id": "7ZKGL4NJj757",
        "outputId": "6afaa4f8-c919-4273-ad4f-b42aa03cd529"
      },
      "source": [
        "df_new.mark.describe()"
      ],
      "execution_count": 48,
      "outputs": [
        {
          "output_type": "execute_result",
          "data": {
            "text/plain": [
              "count     4.000000\n",
              "mean     67.000000\n",
              "std      17.962925\n",
              "min      45.000000\n",
              "25%      61.500000\n",
              "50%      67.000000\n",
              "75%      72.500000\n",
              "max      89.000000\n",
              "Name: mark, dtype: float64"
            ]
          },
          "metadata": {},
          "execution_count": 48
        }
      ]
    },
    {
      "cell_type": "code",
      "metadata": {
        "colab": {
          "base_uri": "https://localhost:8080/"
        },
        "id": "7wM-AXqoknCC",
        "outputId": "1eade276-b126-41b2-be0c-a046d54b9a3a"
      },
      "source": [
        "df_new.mark.mean()"
      ],
      "execution_count": 49,
      "outputs": [
        {
          "output_type": "execute_result",
          "data": {
            "text/plain": [
              "67.0"
            ]
          },
          "metadata": {},
          "execution_count": 49
        }
      ]
    },
    {
      "cell_type": "code",
      "metadata": {
        "colab": {
          "base_uri": "https://localhost:8080/"
        },
        "id": "_NBOGm8dk41_",
        "outputId": "513f4600-a455-4a92-9edd-e20314862775"
      },
      "source": [
        "df_new.name.value_counts()"
      ],
      "execution_count": 50,
      "outputs": [
        {
          "output_type": "execute_result",
          "data": {
            "text/plain": [
              "Tim Dima       1\n",
              "Tom Lul        1\n",
              "Tim Maxwell    1\n",
              "Savi Lavix     1\n",
              "Name: name, dtype: int64"
            ]
          },
          "metadata": {},
          "execution_count": 50
        }
      ]
    },
    {
      "cell_type": "markdown",
      "metadata": {
        "id": "lItlffkYlTPx"
      },
      "source": [
        "**Mapping** සිතියම් ගත කිරීම\n",
        "\n",
        "In general, mapping means apply a transformation, e.g., function, a given set of values into another set of values. For example, say we need to understand how marks deviated around its of the mean\n",
        "\n",
        "පොදුවේ ගත් කල, සිතියම් ගත කිරීම යනු යම් අගයන් සමූහයක් වෙනත් අගයන් සමූහයක් බවට පරිවර්තනයක් යෙදීමයි. උදාහරණයක් වශයෙන්, එහි මධ්‍යන්‍යය වටා ලකුණු අපගමනය වී ඇති ආකාරය අප තේරුම් ගත යුතු යැයි කියන්න"
      ]
    },
    {
      "cell_type": "code",
      "metadata": {
        "colab": {
          "base_uri": "https://localhost:8080/"
        },
        "id": "czPshTbUv97n",
        "outputId": "0e7c18c4-ec4a-4aef-ce10-4d0f67711b80"
      },
      "source": [
        "marks_mean = df_new.mark.mean()\n",
        "\n",
        "def centering(row):\n",
        "  return row.mark - marks_mean \n",
        "\n",
        "df_new.apply(centering, axis=\"columns\")"
      ],
      "execution_count": 51,
      "outputs": [
        {
          "output_type": "execute_result",
          "data": {
            "text/plain": [
              "student1   -22.0\n",
              "student2     0.0\n",
              "student3    22.0\n",
              "student4     0.0\n",
              "dtype: float64"
            ]
          },
          "metadata": {},
          "execution_count": 51
        }
      ]
    },
    {
      "cell_type": "markdown",
      "metadata": {
        "id": "DRec6kJoxfiR"
      },
      "source": [
        "the same things can be done in the following:\n",
        "\n",
        "පහත සඳහන් දේ වලින් එකම දේ කළ හැකිය:"
      ]
    },
    {
      "cell_type": "code",
      "metadata": {
        "colab": {
          "base_uri": "https://localhost:8080/"
        },
        "id": "Oqho49n0xmfv",
        "outputId": "82052adc-13fc-4c6f-9bd1-d5d091cb5560"
      },
      "source": [
        "df_new.mark.map(lambda p: p-marks_mean) \n"
      ],
      "execution_count": 52,
      "outputs": [
        {
          "output_type": "execute_result",
          "data": {
            "text/plain": [
              "student1   -22.0\n",
              "student2     0.0\n",
              "student3    22.0\n",
              "student4     0.0\n",
              "Name: mark, dtype: float64"
            ]
          },
          "metadata": {},
          "execution_count": 52
        }
      ]
    },
    {
      "cell_type": "markdown",
      "metadata": {
        "id": "F_CBOekTIHQc"
      },
      "source": [
        "# **Section 04**: Grouping කණ්ඩායම් කිරීම"
      ]
    },
    {
      "cell_type": "markdown",
      "metadata": {
        "id": "mVtMXo76yWRh"
      },
      "source": [
        "**Groupwise Operations** කණ්ඩායම් වශයෙන් මෙහෙයුම්\n",
        "\n"
      ]
    },
    {
      "cell_type": "code",
      "metadata": {
        "colab": {
          "base_uri": "https://localhost:8080/"
        },
        "id": "ChpqsCr4z5od",
        "outputId": "2e7695db-6f24-46dc-f645-82d51ca441dd"
      },
      "source": [
        "df_new.groupby('mark').mark.count()"
      ],
      "execution_count": 53,
      "outputs": [
        {
          "output_type": "execute_result",
          "data": {
            "text/plain": [
              "mark\n",
              "45    1\n",
              "67    2\n",
              "89    1\n",
              "Name: mark, dtype: int64"
            ]
          },
          "metadata": {},
          "execution_count": 53
        }
      ]
    },
    {
      "cell_type": "code",
      "metadata": {
        "colab": {
          "base_uri": "https://localhost:8080/"
        },
        "id": "g2YClSoT144x",
        "outputId": "34de8a3f-26a6-4a43-cd47-a34e56a0edf8"
      },
      "source": [
        "df_new.groupby('mark').apply(lambda df: df.height)"
      ],
      "execution_count": 54,
      "outputs": [
        {
          "output_type": "execute_result",
          "data": {
            "text/plain": [
              "mark          \n",
              "45    student1    140.0\n",
              "67    student2    155.0\n",
              "      student4      NaN\n",
              "89    student3    167.0\n",
              "Name: height, dtype: float64"
            ]
          },
          "metadata": {},
          "execution_count": 54
        }
      ]
    },
    {
      "cell_type": "code",
      "metadata": {
        "colab": {
          "base_uri": "https://localhost:8080/"
        },
        "id": "Nb4sJP82nr1X",
        "outputId": "05f7ccfc-5cf7-48ef-9831-b77fc7066a21"
      },
      "source": [
        "df_new.groupby(['mark', 'age']).apply(lambda df: df.height)"
      ],
      "execution_count": 55,
      "outputs": [
        {
          "output_type": "execute_result",
          "data": {
            "text/plain": [
              "mark  age           \n",
              "45    15.0  student1    140.0\n",
              "67    16.0  student2    155.0\n",
              "      18.0  student4      NaN\n",
              "Name: height, dtype: float64"
            ]
          },
          "metadata": {},
          "execution_count": 55
        }
      ]
    },
    {
      "cell_type": "code",
      "metadata": {
        "colab": {
          "base_uri": "https://localhost:8080/"
        },
        "id": "ia37lFrooFWH",
        "outputId": "0b19f305-2f3b-44c1-aaa2-087d020f72df"
      },
      "source": [
        "df_new.groupby('mark').apply(lambda df: df.mark).agg([len, min, max])"
      ],
      "execution_count": 56,
      "outputs": [
        {
          "output_type": "execute_result",
          "data": {
            "text/plain": [
              "len     4\n",
              "min    45\n",
              "max    89\n",
              "Name: mark, dtype: int64"
            ]
          },
          "metadata": {},
          "execution_count": 56
        }
      ]
    },
    {
      "cell_type": "markdown",
      "metadata": {
        "id": "eNzrIQlaIP3Y"
      },
      "source": [
        "# **Section 05**: Data Types and Missing Values දත්ත වර්ග සහ නැතිවූ අගයන්"
      ]
    },
    {
      "cell_type": "markdown",
      "metadata": {
        "id": "scjiVg23rGsd"
      },
      "source": [
        "**Dealing with missing data** නැතිවූ දත්ත සමඟ කටයුතු කිරීම\n",
        "\n",
        "Data type of each column can be check by accessing **dtype** property\n",
        "\n",
        "**dtype** වෙත ප්‍රවේශ වීමෙන් එක් එක් තීරුවේ දත්ත වර්ගය පරීක්‍ෂා කළ හැකිය"
      ]
    },
    {
      "cell_type": "code",
      "metadata": {
        "colab": {
          "base_uri": "https://localhost:8080/"
        },
        "id": "NzClwgGKrTfH",
        "outputId": "4e94ffe0-5d78-4021-a118-87e135959502"
      },
      "source": [
        "\n",
        "df_new.age.dtype "
      ],
      "execution_count": 57,
      "outputs": [
        {
          "output_type": "execute_result",
          "data": {
            "text/plain": [
              "dtype('float64')"
            ]
          },
          "metadata": {},
          "execution_count": 57
        }
      ]
    },
    {
      "cell_type": "code",
      "metadata": {
        "colab": {
          "base_uri": "https://localhost:8080/"
        },
        "id": "jNAdlUW0rwzD",
        "outputId": "1d51a97c-8c47-41db-8071-7ea6eb47c697"
      },
      "source": [
        "df_new.dtypes "
      ],
      "execution_count": 58,
      "outputs": [
        {
          "output_type": "execute_result",
          "data": {
            "text/plain": [
              "age       float64\n",
              "height    float64\n",
              "name       object\n",
              "mark        int64\n",
              "dtype: object"
            ]
          },
          "metadata": {},
          "execution_count": 58
        }
      ]
    },
    {
      "cell_type": "markdown",
      "metadata": {
        "id": "FrbLvGMwr-Pm"
      },
      "source": [
        "Data type any entry can be changed using **astype(dtype)** function. In general, age is represented in an integer. Can you use change the age column into integer values? Since one value is not defined, NaN, the first step is to remove those undefined values \n",
        "\n",
        "දත්ත වර්ගය ඕනෑම ඇතුළත් කිරීමක් ** astype (dtype) ** ශ්‍රිතය භාවිතයෙන් වෙනස් කළ හැකිය. පොදුවේ ගත් කල, වයස නිරූපණය වන්නේ නිඛිලයකින් ය. ඔබට වයස් තීරුව නිඛිල අගයන් ලෙස වෙනස් කිරීමට භාවිතා කළ හැකිද? එක් අගයක් නිර්වචනය කර නැති හෙයින්, පළමු පියවර නම් එම නිර්වචනය නොකළ අගයන් ඉවත් කිරීමයි"
      ]
    },
    {
      "cell_type": "code",
      "metadata": {
        "id": "PAxKItsSsKG0"
      },
      "source": [
        "#df_new.age.astype(np.int) #You will get an error "
      ],
      "execution_count": 59,
      "outputs": []
    },
    {
      "cell_type": "code",
      "metadata": {
        "colab": {
          "base_uri": "https://localhost:8080/"
        },
        "id": "uhn7DGWhtKt8",
        "outputId": "4dfef5b9-c226-492d-d138-3b0039a50823"
      },
      "source": [
        "pd.isnull(df_new.age)"
      ],
      "execution_count": 60,
      "outputs": [
        {
          "output_type": "execute_result",
          "data": {
            "text/plain": [
              "student1    False\n",
              "student2    False\n",
              "student3     True\n",
              "student4    False\n",
              "Name: age, dtype: bool"
            ]
          },
          "metadata": {},
          "execution_count": 60
        }
      ]
    },
    {
      "cell_type": "code",
      "metadata": {
        "colab": {
          "base_uri": "https://localhost:8080/"
        },
        "id": "j9NXeGx_tSXf",
        "outputId": "9433aaf4-335d-4f39-8631-c63c5e6ae232"
      },
      "source": [
        "df_new.age.isnull()"
      ],
      "execution_count": 61,
      "outputs": [
        {
          "output_type": "execute_result",
          "data": {
            "text/plain": [
              "student1    False\n",
              "student2    False\n",
              "student3     True\n",
              "student4    False\n",
              "Name: age, dtype: bool"
            ]
          },
          "metadata": {},
          "execution_count": 61
        }
      ]
    },
    {
      "cell_type": "code",
      "metadata": {
        "colab": {
          "base_uri": "https://localhost:8080/"
        },
        "id": "PlQSarbrtahv",
        "outputId": "8e39a72c-f16e-4b7f-b141-67a872886604"
      },
      "source": [
        "df_new.age[~df_new.age.isnull()]"
      ],
      "execution_count": 62,
      "outputs": [
        {
          "output_type": "execute_result",
          "data": {
            "text/plain": [
              "student1    15.0\n",
              "student2    16.0\n",
              "student4    18.0\n",
              "Name: age, dtype: float64"
            ]
          },
          "metadata": {},
          "execution_count": 62
        }
      ]
    },
    {
      "cell_type": "code",
      "metadata": {
        "colab": {
          "base_uri": "https://localhost:8080/"
        },
        "id": "eyIGO1xytlvc",
        "outputId": "e75db267-831f-4b1b-d879-aadb390581cb"
      },
      "source": [
        "df_new.age[~df_new.age.isnull()].astype(\"int64\")"
      ],
      "execution_count": 63,
      "outputs": [
        {
          "output_type": "execute_result",
          "data": {
            "text/plain": [
              "student1    15\n",
              "student2    16\n",
              "student4    18\n",
              "Name: age, dtype: int64"
            ]
          },
          "metadata": {},
          "execution_count": 63
        }
      ]
    },
    {
      "cell_type": "code",
      "metadata": {
        "colab": {
          "base_uri": "https://localhost:8080/"
        },
        "id": "B9AO5E3Ct24S",
        "outputId": "f15f10f2-77b9-4a2c-dfcb-27d64b60eb17"
      },
      "source": [
        "df_new.age.fillna(\"Unknown\")"
      ],
      "execution_count": 64,
      "outputs": [
        {
          "output_type": "execute_result",
          "data": {
            "text/plain": [
              "student1         15\n",
              "student2         16\n",
              "student3    Unknown\n",
              "student4         18\n",
              "Name: age, dtype: object"
            ]
          },
          "metadata": {},
          "execution_count": 64
        }
      ]
    },
    {
      "cell_type": "markdown",
      "metadata": {
        "id": "EtAXdUNxuMhR"
      },
      "source": [
        "Now type if age becomes object since datatypes are mixed of integer and string. Moreover, if we know the values to be replaced, we can use the **replace** function \n",
        "\n",
        "දැන් සංඛ්‍යාංකය හා තන්තුව මිශ්‍ර වී ඇති බැවින් වයස් කාලය වස්තුවක් බවට පත් වුවහොත් ටයිප් කරන්න. එපමණක් නොව, ආදේශ කළ යුතු අගයන් අප දන්නේ නම්, අපට ** ප්‍රතිස්ථාපන ** ශ්‍රිතය භාවිතා කළ හැකිය"
      ]
    },
    {
      "cell_type": "code",
      "metadata": {
        "colab": {
          "base_uri": "https://localhost:8080/"
        },
        "id": "3cNpbMN6vEYH",
        "outputId": "9117602d-e3dd-4e0e-a49c-834d5d5e8a1f"
      },
      "source": [
        "df_new.age "
      ],
      "execution_count": 65,
      "outputs": [
        {
          "output_type": "execute_result",
          "data": {
            "text/plain": [
              "student1    15.0\n",
              "student2    16.0\n",
              "student3     NaN\n",
              "student4    18.0\n",
              "Name: age, dtype: float64"
            ]
          },
          "metadata": {},
          "execution_count": 65
        }
      ]
    },
    {
      "cell_type": "code",
      "metadata": {
        "id": "3KJtgnwDual8"
      },
      "source": [
        "df_new.age = df_new.age.replace(np.nan, 45)"
      ],
      "execution_count": 66,
      "outputs": []
    },
    {
      "cell_type": "markdown",
      "metadata": {
        "id": "lHJMEFbXIx6F"
      },
      "source": [
        "# **Section 06**: Renaming and Combining නැවත නම් කිරීම සහ ඒකාබද්ධ කිරීම"
      ]
    },
    {
      "cell_type": "markdown",
      "metadata": {
        "id": "0HcZREyTvRMV"
      },
      "source": [
        "**Renaming** නැවත නම් කිරීම\n",
        "\n",
        "We can rename any column or index using rename() function \n",
        "\n",
        "නැවත නම් කිරීමේ  ශ්‍රිතය භාවිතයෙන් අපට ඕනෑම තීරුවක් හෝ දර්ශකයක් නැවත නම් කළ හැකිය\n"
      ]
    },
    {
      "cell_type": "code",
      "metadata": {
        "colab": {
          "base_uri": "https://localhost:8080/",
          "height": 173
        },
        "id": "3_bbzPv9vkzR",
        "outputId": "59d78dcd-ea6a-49e8-a06b-adf887748192"
      },
      "source": [
        "df_new.rename(columns={'name':\"full_name\"})"
      ],
      "execution_count": 67,
      "outputs": [
        {
          "output_type": "execute_result",
          "data": {
            "text/html": [
              "<div>\n",
              "<style scoped>\n",
              "    .dataframe tbody tr th:only-of-type {\n",
              "        vertical-align: middle;\n",
              "    }\n",
              "\n",
              "    .dataframe tbody tr th {\n",
              "        vertical-align: top;\n",
              "    }\n",
              "\n",
              "    .dataframe thead th {\n",
              "        text-align: right;\n",
              "    }\n",
              "</style>\n",
              "<table border=\"1\" class=\"dataframe\">\n",
              "  <thead>\n",
              "    <tr style=\"text-align: right;\">\n",
              "      <th></th>\n",
              "      <th>age</th>\n",
              "      <th>height</th>\n",
              "      <th>full_name</th>\n",
              "      <th>mark</th>\n",
              "    </tr>\n",
              "  </thead>\n",
              "  <tbody>\n",
              "    <tr>\n",
              "      <th>student1</th>\n",
              "      <td>15.0</td>\n",
              "      <td>140.0</td>\n",
              "      <td>Tom Lul</td>\n",
              "      <td>45</td>\n",
              "    </tr>\n",
              "    <tr>\n",
              "      <th>student2</th>\n",
              "      <td>16.0</td>\n",
              "      <td>155.0</td>\n",
              "      <td>Tim Maxwell</td>\n",
              "      <td>67</td>\n",
              "    </tr>\n",
              "    <tr>\n",
              "      <th>student3</th>\n",
              "      <td>45.0</td>\n",
              "      <td>167.0</td>\n",
              "      <td>Tim Dima</td>\n",
              "      <td>89</td>\n",
              "    </tr>\n",
              "    <tr>\n",
              "      <th>student4</th>\n",
              "      <td>18.0</td>\n",
              "      <td>NaN</td>\n",
              "      <td>Savi Lavix</td>\n",
              "      <td>67</td>\n",
              "    </tr>\n",
              "  </tbody>\n",
              "</table>\n",
              "</div>"
            ],
            "text/plain": [
              "           age  height    full_name  mark\n",
              "student1  15.0   140.0      Tom Lul    45\n",
              "student2  16.0   155.0  Tim Maxwell    67\n",
              "student3  45.0   167.0     Tim Dima    89\n",
              "student4  18.0     NaN   Savi Lavix    67"
            ]
          },
          "metadata": {},
          "execution_count": 67
        }
      ]
    },
    {
      "cell_type": "code",
      "metadata": {
        "colab": {
          "base_uri": "https://localhost:8080/",
          "height": 173
        },
        "id": "o_-5latMwftP",
        "outputId": "466baa66-e0ec-4578-c99c-3c046a874941"
      },
      "source": [
        "df_new.rename(index={'student1':'s1', 'student3':'s3'})"
      ],
      "execution_count": 68,
      "outputs": [
        {
          "output_type": "execute_result",
          "data": {
            "text/html": [
              "<div>\n",
              "<style scoped>\n",
              "    .dataframe tbody tr th:only-of-type {\n",
              "        vertical-align: middle;\n",
              "    }\n",
              "\n",
              "    .dataframe tbody tr th {\n",
              "        vertical-align: top;\n",
              "    }\n",
              "\n",
              "    .dataframe thead th {\n",
              "        text-align: right;\n",
              "    }\n",
              "</style>\n",
              "<table border=\"1\" class=\"dataframe\">\n",
              "  <thead>\n",
              "    <tr style=\"text-align: right;\">\n",
              "      <th></th>\n",
              "      <th>age</th>\n",
              "      <th>height</th>\n",
              "      <th>name</th>\n",
              "      <th>mark</th>\n",
              "    </tr>\n",
              "  </thead>\n",
              "  <tbody>\n",
              "    <tr>\n",
              "      <th>s1</th>\n",
              "      <td>15.0</td>\n",
              "      <td>140.0</td>\n",
              "      <td>Tom Lul</td>\n",
              "      <td>45</td>\n",
              "    </tr>\n",
              "    <tr>\n",
              "      <th>student2</th>\n",
              "      <td>16.0</td>\n",
              "      <td>155.0</td>\n",
              "      <td>Tim Maxwell</td>\n",
              "      <td>67</td>\n",
              "    </tr>\n",
              "    <tr>\n",
              "      <th>s3</th>\n",
              "      <td>45.0</td>\n",
              "      <td>167.0</td>\n",
              "      <td>Tim Dima</td>\n",
              "      <td>89</td>\n",
              "    </tr>\n",
              "    <tr>\n",
              "      <th>student4</th>\n",
              "      <td>18.0</td>\n",
              "      <td>NaN</td>\n",
              "      <td>Savi Lavix</td>\n",
              "      <td>67</td>\n",
              "    </tr>\n",
              "  </tbody>\n",
              "</table>\n",
              "</div>"
            ],
            "text/plain": [
              "           age  height         name  mark\n",
              "s1        15.0   140.0      Tom Lul    45\n",
              "student2  16.0   155.0  Tim Maxwell    67\n",
              "s3        45.0   167.0     Tim Dima    89\n",
              "student4  18.0     NaN   Savi Lavix    67"
            ]
          },
          "metadata": {},
          "execution_count": 68
        }
      ]
    },
    {
      "cell_type": "markdown",
      "metadata": {
        "id": "3pbBV5bZwdo_"
      },
      "source": [
        "In order to to rename or add axis names, we can use **rename_axis()**\n",
        "\n",
        "අක්ෂයේ නම් නැවත නම් කිරීමට හෝ එකතු කිරීමට අපට **rename_axis ()** භාවිතා කළ හැකිය."
      ]
    },
    {
      "cell_type": "code",
      "metadata": {
        "colab": {
          "base_uri": "https://localhost:8080/",
          "height": 204
        },
        "id": "HW9ScqwtxLUJ",
        "outputId": "ff132dec-fb07-4157-ecda-d46eb3d21543"
      },
      "source": [
        "df_new.rename_axis(\"index\", axis=\"rows\").rename_axis(\"information\", axis='columns')"
      ],
      "execution_count": 69,
      "outputs": [
        {
          "output_type": "execute_result",
          "data": {
            "text/html": [
              "<div>\n",
              "<style scoped>\n",
              "    .dataframe tbody tr th:only-of-type {\n",
              "        vertical-align: middle;\n",
              "    }\n",
              "\n",
              "    .dataframe tbody tr th {\n",
              "        vertical-align: top;\n",
              "    }\n",
              "\n",
              "    .dataframe thead th {\n",
              "        text-align: right;\n",
              "    }\n",
              "</style>\n",
              "<table border=\"1\" class=\"dataframe\">\n",
              "  <thead>\n",
              "    <tr style=\"text-align: right;\">\n",
              "      <th>information</th>\n",
              "      <th>age</th>\n",
              "      <th>height</th>\n",
              "      <th>name</th>\n",
              "      <th>mark</th>\n",
              "    </tr>\n",
              "    <tr>\n",
              "      <th>index</th>\n",
              "      <th></th>\n",
              "      <th></th>\n",
              "      <th></th>\n",
              "      <th></th>\n",
              "    </tr>\n",
              "  </thead>\n",
              "  <tbody>\n",
              "    <tr>\n",
              "      <th>student1</th>\n",
              "      <td>15.0</td>\n",
              "      <td>140.0</td>\n",
              "      <td>Tom Lul</td>\n",
              "      <td>45</td>\n",
              "    </tr>\n",
              "    <tr>\n",
              "      <th>student2</th>\n",
              "      <td>16.0</td>\n",
              "      <td>155.0</td>\n",
              "      <td>Tim Maxwell</td>\n",
              "      <td>67</td>\n",
              "    </tr>\n",
              "    <tr>\n",
              "      <th>student3</th>\n",
              "      <td>45.0</td>\n",
              "      <td>167.0</td>\n",
              "      <td>Tim Dima</td>\n",
              "      <td>89</td>\n",
              "    </tr>\n",
              "    <tr>\n",
              "      <th>student4</th>\n",
              "      <td>18.0</td>\n",
              "      <td>NaN</td>\n",
              "      <td>Savi Lavix</td>\n",
              "      <td>67</td>\n",
              "    </tr>\n",
              "  </tbody>\n",
              "</table>\n",
              "</div>"
            ],
            "text/plain": [
              "information   age  height         name  mark\n",
              "index                                       \n",
              "student1     15.0   140.0      Tom Lul    45\n",
              "student2     16.0   155.0  Tim Maxwell    67\n",
              "student3     45.0   167.0     Tim Dima    89\n",
              "student4     18.0     NaN   Savi Lavix    67"
            ]
          },
          "metadata": {},
          "execution_count": 69
        }
      ]
    },
    {
      "cell_type": "markdown",
      "metadata": {
        "id": "twU3K993x-Md"
      },
      "source": [
        "**Combining** ඒකාබද්ධ කිරීම\n",
        "\n",
        "Let's say class A and class B student details are given as follows:\n",
        "\n",
        "A සහ B පන්තියේ සිසුන්ගේ විස්තර පහත පරිදි ලබා දී ඇතැයි කියමු:"
      ]
    },
    {
      "cell_type": "code",
      "metadata": {
        "colab": {
          "base_uri": "https://localhost:8080/",
          "height": 173
        },
        "id": "oaNFnz51yazU",
        "outputId": "cfe70270-9e2d-4108-bd87-b87162afbb54"
      },
      "source": [
        "class_A = pd.DataFrame({\"age\":[15, 16, 23, 18], \"height\":[140, 155, 167, 178]\n",
        "                       , \"name\":[\"Tom Lul\", \"Tim Maxwell\", \"Tim Dima\", \"Savi Lavix\"], \"mark\":[45, 67, 89, 67]}\n",
        "                      , index=[\"a_s1\", \"a_s2\", \"a_s3\", \"a_s4\"])\n",
        "class_A"
      ],
      "execution_count": 70,
      "outputs": [
        {
          "output_type": "execute_result",
          "data": {
            "text/html": [
              "<div>\n",
              "<style scoped>\n",
              "    .dataframe tbody tr th:only-of-type {\n",
              "        vertical-align: middle;\n",
              "    }\n",
              "\n",
              "    .dataframe tbody tr th {\n",
              "        vertical-align: top;\n",
              "    }\n",
              "\n",
              "    .dataframe thead th {\n",
              "        text-align: right;\n",
              "    }\n",
              "</style>\n",
              "<table border=\"1\" class=\"dataframe\">\n",
              "  <thead>\n",
              "    <tr style=\"text-align: right;\">\n",
              "      <th></th>\n",
              "      <th>age</th>\n",
              "      <th>height</th>\n",
              "      <th>name</th>\n",
              "      <th>mark</th>\n",
              "    </tr>\n",
              "  </thead>\n",
              "  <tbody>\n",
              "    <tr>\n",
              "      <th>a_s1</th>\n",
              "      <td>15</td>\n",
              "      <td>140</td>\n",
              "      <td>Tom Lul</td>\n",
              "      <td>45</td>\n",
              "    </tr>\n",
              "    <tr>\n",
              "      <th>a_s2</th>\n",
              "      <td>16</td>\n",
              "      <td>155</td>\n",
              "      <td>Tim Maxwell</td>\n",
              "      <td>67</td>\n",
              "    </tr>\n",
              "    <tr>\n",
              "      <th>a_s3</th>\n",
              "      <td>23</td>\n",
              "      <td>167</td>\n",
              "      <td>Tim Dima</td>\n",
              "      <td>89</td>\n",
              "    </tr>\n",
              "    <tr>\n",
              "      <th>a_s4</th>\n",
              "      <td>18</td>\n",
              "      <td>178</td>\n",
              "      <td>Savi Lavix</td>\n",
              "      <td>67</td>\n",
              "    </tr>\n",
              "  </tbody>\n",
              "</table>\n",
              "</div>"
            ],
            "text/plain": [
              "      age  height         name  mark\n",
              "a_s1   15     140      Tom Lul    45\n",
              "a_s2   16     155  Tim Maxwell    67\n",
              "a_s3   23     167     Tim Dima    89\n",
              "a_s4   18     178   Savi Lavix    67"
            ]
          },
          "metadata": {},
          "execution_count": 70
        }
      ]
    },
    {
      "cell_type": "code",
      "metadata": {
        "colab": {
          "base_uri": "https://localhost:8080/",
          "height": 173
        },
        "id": "-U1kpVj7zGfw",
        "outputId": "de212bf7-d702-4024-e6cc-75a894f8a2a9"
      },
      "source": [
        "\n",
        "class_B = pd.DataFrame({\"age\":[16, 14, 19, 16], \"height\":[120, 175, 187, 146]\n",
        "                       , \"name\":[\"Mina Vox\", \"Luna Bulad\", \"Bulga Martib\", \"Savin Lulax\"], \"mark\":[4,45, 28, 89]}\n",
        "                      , index=[\"b_s1\", \"b_s2\", \"b_s3\", \"b_s4\"])\n",
        "class_B"
      ],
      "execution_count": 71,
      "outputs": [
        {
          "output_type": "execute_result",
          "data": {
            "text/html": [
              "<div>\n",
              "<style scoped>\n",
              "    .dataframe tbody tr th:only-of-type {\n",
              "        vertical-align: middle;\n",
              "    }\n",
              "\n",
              "    .dataframe tbody tr th {\n",
              "        vertical-align: top;\n",
              "    }\n",
              "\n",
              "    .dataframe thead th {\n",
              "        text-align: right;\n",
              "    }\n",
              "</style>\n",
              "<table border=\"1\" class=\"dataframe\">\n",
              "  <thead>\n",
              "    <tr style=\"text-align: right;\">\n",
              "      <th></th>\n",
              "      <th>age</th>\n",
              "      <th>height</th>\n",
              "      <th>name</th>\n",
              "      <th>mark</th>\n",
              "    </tr>\n",
              "  </thead>\n",
              "  <tbody>\n",
              "    <tr>\n",
              "      <th>b_s1</th>\n",
              "      <td>16</td>\n",
              "      <td>120</td>\n",
              "      <td>Mina Vox</td>\n",
              "      <td>4</td>\n",
              "    </tr>\n",
              "    <tr>\n",
              "      <th>b_s2</th>\n",
              "      <td>14</td>\n",
              "      <td>175</td>\n",
              "      <td>Luna Bulad</td>\n",
              "      <td>45</td>\n",
              "    </tr>\n",
              "    <tr>\n",
              "      <th>b_s3</th>\n",
              "      <td>19</td>\n",
              "      <td>187</td>\n",
              "      <td>Bulga Martib</td>\n",
              "      <td>28</td>\n",
              "    </tr>\n",
              "    <tr>\n",
              "      <th>b_s4</th>\n",
              "      <td>16</td>\n",
              "      <td>146</td>\n",
              "      <td>Savin Lulax</td>\n",
              "      <td>89</td>\n",
              "    </tr>\n",
              "  </tbody>\n",
              "</table>\n",
              "</div>"
            ],
            "text/plain": [
              "      age  height          name  mark\n",
              "b_s1   16     120      Mina Vox     4\n",
              "b_s2   14     175    Luna Bulad    45\n",
              "b_s3   19     187  Bulga Martib    28\n",
              "b_s4   16     146   Savin Lulax    89"
            ]
          },
          "metadata": {},
          "execution_count": 71
        }
      ]
    },
    {
      "cell_type": "markdown",
      "metadata": {
        "id": "GzezwAqQzeWD"
      },
      "source": [
        "Now we need to check who scored the maximum mark? How can we do this?\n",
        "\n",
        "දැන් අපි පරීක්‍ෂා කළ යුත්තේ වැඩිම ලකුණු ලබාගත්තේ කවුද? අපට මෙය කළ හැක්කේ කෙසේද?"
      ]
    },
    {
      "cell_type": "code",
      "metadata": {
        "colab": {
          "base_uri": "https://localhost:8080/",
          "height": 297
        },
        "id": "Whum0SVlzkxb",
        "outputId": "bea481c9-662f-45d4-eefb-34c80134efa5"
      },
      "source": [
        "classes = pd.concat([class_A, class_B])\n",
        "classes "
      ],
      "execution_count": 72,
      "outputs": [
        {
          "output_type": "execute_result",
          "data": {
            "text/html": [
              "<div>\n",
              "<style scoped>\n",
              "    .dataframe tbody tr th:only-of-type {\n",
              "        vertical-align: middle;\n",
              "    }\n",
              "\n",
              "    .dataframe tbody tr th {\n",
              "        vertical-align: top;\n",
              "    }\n",
              "\n",
              "    .dataframe thead th {\n",
              "        text-align: right;\n",
              "    }\n",
              "</style>\n",
              "<table border=\"1\" class=\"dataframe\">\n",
              "  <thead>\n",
              "    <tr style=\"text-align: right;\">\n",
              "      <th></th>\n",
              "      <th>age</th>\n",
              "      <th>height</th>\n",
              "      <th>name</th>\n",
              "      <th>mark</th>\n",
              "    </tr>\n",
              "  </thead>\n",
              "  <tbody>\n",
              "    <tr>\n",
              "      <th>a_s1</th>\n",
              "      <td>15</td>\n",
              "      <td>140</td>\n",
              "      <td>Tom Lul</td>\n",
              "      <td>45</td>\n",
              "    </tr>\n",
              "    <tr>\n",
              "      <th>a_s2</th>\n",
              "      <td>16</td>\n",
              "      <td>155</td>\n",
              "      <td>Tim Maxwell</td>\n",
              "      <td>67</td>\n",
              "    </tr>\n",
              "    <tr>\n",
              "      <th>a_s3</th>\n",
              "      <td>23</td>\n",
              "      <td>167</td>\n",
              "      <td>Tim Dima</td>\n",
              "      <td>89</td>\n",
              "    </tr>\n",
              "    <tr>\n",
              "      <th>a_s4</th>\n",
              "      <td>18</td>\n",
              "      <td>178</td>\n",
              "      <td>Savi Lavix</td>\n",
              "      <td>67</td>\n",
              "    </tr>\n",
              "    <tr>\n",
              "      <th>b_s1</th>\n",
              "      <td>16</td>\n",
              "      <td>120</td>\n",
              "      <td>Mina Vox</td>\n",
              "      <td>4</td>\n",
              "    </tr>\n",
              "    <tr>\n",
              "      <th>b_s2</th>\n",
              "      <td>14</td>\n",
              "      <td>175</td>\n",
              "      <td>Luna Bulad</td>\n",
              "      <td>45</td>\n",
              "    </tr>\n",
              "    <tr>\n",
              "      <th>b_s3</th>\n",
              "      <td>19</td>\n",
              "      <td>187</td>\n",
              "      <td>Bulga Martib</td>\n",
              "      <td>28</td>\n",
              "    </tr>\n",
              "    <tr>\n",
              "      <th>b_s4</th>\n",
              "      <td>16</td>\n",
              "      <td>146</td>\n",
              "      <td>Savin Lulax</td>\n",
              "      <td>89</td>\n",
              "    </tr>\n",
              "  </tbody>\n",
              "</table>\n",
              "</div>"
            ],
            "text/plain": [
              "      age  height          name  mark\n",
              "a_s1   15     140       Tom Lul    45\n",
              "a_s2   16     155   Tim Maxwell    67\n",
              "a_s3   23     167      Tim Dima    89\n",
              "a_s4   18     178    Savi Lavix    67\n",
              "b_s1   16     120      Mina Vox     4\n",
              "b_s2   14     175    Luna Bulad    45\n",
              "b_s3   19     187  Bulga Martib    28\n",
              "b_s4   16     146   Savin Lulax    89"
            ]
          },
          "metadata": {},
          "execution_count": 72
        }
      ]
    },
    {
      "cell_type": "code",
      "metadata": {
        "colab": {
          "base_uri": "https://localhost:8080/",
          "height": 35
        },
        "id": "U01apIM13m0g",
        "outputId": "f4f6f3bb-3ffb-4f18-cfb3-ea2e38237726"
      },
      "source": [
        "classes.age.idxmax()"
      ],
      "execution_count": 73,
      "outputs": [
        {
          "output_type": "execute_result",
          "data": {
            "application/vnd.google.colaboratory.intrinsic+json": {
              "type": "string"
            },
            "text/plain": [
              "'a_s3'"
            ]
          },
          "metadata": {},
          "execution_count": 73
        }
      ]
    },
    {
      "cell_type": "markdown",
      "metadata": {
        "id": "9qsoj7Kqz8iO"
      },
      "source": [
        "Let's say we want to find students with same age\n",
        "\n",
        "සම වයසේ දරුවන් සොයා ගැනීමට අවශ්‍ය යැයි සිතමු"
      ]
    },
    {
      "cell_type": "code",
      "metadata": {
        "colab": {
          "base_uri": "https://localhost:8080/"
        },
        "id": "Y6t5h7TH0ABu",
        "outputId": "a10dc773-e66b-4860-8561-1a61fc43a4dd"
      },
      "source": [
        "classes.groupby(\"age\").apply(lambda df: df.age)"
      ],
      "execution_count": 74,
      "outputs": [
        {
          "output_type": "execute_result",
          "data": {
            "text/plain": [
              "age      \n",
              "14   b_s2    14\n",
              "15   a_s1    15\n",
              "16   a_s2    16\n",
              "     b_s1    16\n",
              "     b_s4    16\n",
              "18   a_s4    18\n",
              "19   b_s3    19\n",
              "23   a_s3    23\n",
              "Name: age, dtype: int64"
            ]
          },
          "metadata": {},
          "execution_count": 74
        }
      ]
    }
  ]
}