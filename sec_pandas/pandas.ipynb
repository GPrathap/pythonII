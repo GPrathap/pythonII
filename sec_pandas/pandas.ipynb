{
  "nbformat": 4,
  "nbformat_minor": 0,
  "metadata": {
    "colab": {
      "name": "Copy of Pandas.ipynb",
      "provenance": [],
      "include_colab_link": true
    },
    "kernelspec": {
      "name": "python3",
      "display_name": "Python 3.6.9 64-bit"
    },
    "language_info": {
      "mimetype": "text/x-python",
      "nbconvert_exporter": "python",
      "name": "python",
      "pygments_lexer": "ipython3",
      "version": "3.6.9",
      "file_extension": ".py",
      "codemirror_mode": {
        "version": 3,
        "name": "ipython"
      }
    },
    "interpreter": {
      "hash": "31f2aee4e71d21fbe5cf8b01ff0e069b9275f58929596ceb00d14d90e3e16cd6"
    }
  },
  "cells": [
    {
      "cell_type": "markdown",
      "metadata": {
        "id": "view-in-github",
        "colab_type": "text"
      },
      "source": [
        "<a href=\"https://colab.research.google.com/github/jaymine/pythonII/blob/master/sec_pandas/pandas.ipynb\" target=\"_parent\"><img src=\"https://colab.research.google.com/assets/colab-badge.svg\" alt=\"Open In Colab\"/></a>"
      ]
    },
    {
      "cell_type": "markdown",
      "metadata": {
        "id": "Vszqwm_sJFeW"
      },
      "source": [
        "# **Section 1**: Introduction හැඳින්වීම"
      ]
    },
    {
      "cell_type": "code",
      "metadata": {
        "id": "lFab6HlqgPet"
      },
      "source": [
        "import pandas as pd"
      ],
      "execution_count": 1,
      "outputs": []
    },
    {
      "cell_type": "markdown",
      "metadata": {
        "id": "QpuTN2ZigxSQ"
      },
      "source": [
        "**DataFrame** and **Series** are the main objects in pandas.\n",
        "\n",
        "**දත්ත රාමුව** සහ **ශ්‍රේණිය** Pandasවල ප්‍රධාන අයිතම වේ.\n",
        "\n",
        "**DataFrame** can be considered as a table. A table is an arrangement of information or data, typically in rows and columns form. In pandas, each column is accessible by its name, and each row is accessible by its index or number.\n",
        "\n",
        "**දත්ත රාමුව** වගුවක් ලෙස සැලකිය හැකිය. වගුවක් යනු සාමාන්‍යයෙන් පේළි සහ තීරු ආකාරයෙන් තොරතුරු හෝ දත්ත සැකසීමකි. පැන්ඩා වල, සෑම තීරුවකටම එහි නමෙන් ප්‍රවේශ විය හැකි අතර, සෑම පේළියකටම එහි දර්ශකය හෝ අංකයෙන් ප්‍රවේශ විය හැක."
      ]
    },
    {
      "cell_type": "markdown",
      "metadata": {
        "id": "j86EZnIXga9V"
      },
      "source": [
        "To use the pandas, the first step is to import the library as follows:\n",
        "\n",
        "පැන්ඩා භාවිතා කිරීම සඳහා, පළමු පියවර නම් **library** පහත පරිදි **import** කිරීමයි:"
      ]
    },
    {
      "cell_type": "markdown",
      "metadata": {
        "id": "ojTjsiWvF-vj"
      },
      "source": [
        "# **Section 2:** Creating, Reading, and Writing නිර්මාණය කිරීම, කියවීම සහ ලිවීම"
      ]
    },
    {
      "cell_type": "markdown",
      "metadata": {
        "id": "KORCvubR8LwV"
      },
      "source": [
        "**Creating data** දත්ත නිර්මාණය කිරීම\n",
        "\n",
        "Consider the following example.\n",
        "\n",
        "පහත උදාහරණය සලකා බලන්න.\n"
      ]
    },
    {
      "cell_type": "code",
      "metadata": {
        "colab": {
          "base_uri": "https://localhost:8080/",
          "height": 111
        },
        "id": "M9hwyIZHiyNK",
        "outputId": "7b02253f-b5e6-4585-8724-f9056ceee93d"
      },
      "source": [
        "\n",
        "pd.DataFrame({\"Age\":[15, 16], \"Height\":[140, 155]})\n"
      ],
      "execution_count": 3,
      "outputs": [
        {
          "output_type": "execute_result",
          "data": {
            "text/html": [
              "<div>\n",
              "<style scoped>\n",
              "    .dataframe tbody tr th:only-of-type {\n",
              "        vertical-align: middle;\n",
              "    }\n",
              "\n",
              "    .dataframe tbody tr th {\n",
              "        vertical-align: top;\n",
              "    }\n",
              "\n",
              "    .dataframe thead th {\n",
              "        text-align: right;\n",
              "    }\n",
              "</style>\n",
              "<table border=\"1\" class=\"dataframe\">\n",
              "  <thead>\n",
              "    <tr style=\"text-align: right;\">\n",
              "      <th></th>\n",
              "      <th>Age</th>\n",
              "      <th>Height</th>\n",
              "    </tr>\n",
              "  </thead>\n",
              "  <tbody>\n",
              "    <tr>\n",
              "      <th>0</th>\n",
              "      <td>15</td>\n",
              "      <td>140</td>\n",
              "    </tr>\n",
              "    <tr>\n",
              "      <th>1</th>\n",
              "      <td>16</td>\n",
              "      <td>155</td>\n",
              "    </tr>\n",
              "  </tbody>\n",
              "</table>\n",
              "</div>"
            ],
            "text/plain": [
              "   Age  Height\n",
              "0   15     140\n",
              "1   16     155"
            ]
          },
          "metadata": {},
          "execution_count": 3
        }
      ]
    },
    {
      "cell_type": "markdown",
      "metadata": {
        "id": "jHm1F4Dyi9ru"
      },
      "source": [
        "This table has two columns, \"Age\" and \"Height\", and two rows, 0 and 1. \n",
        "In this example, **\"(Age, 0)\"** entry has the value of 15. Similarly, 155 belongs to **\"(Height, 1)\"** entry.  \n",
        "\n",
        "Note that 0 is the first index, not 1, which you will see in many programming languages.\n",
        "\n",
        "We also can give proper labels for indices instead of 0 and 1. Let's talk about why we should do that a little bit later.\n",
        "\n",
        "Let's have a look at how to add meaningful indices.\n",
        "\n",
        "මෙම වගුවේ \"Age\" සහ \"Height\" යන තීරු දෙකක් සහ \"0\" සහ \"1\" යන පේළි දෙකක් ඇත.\n",
        "මෙම උදාහරණයේ, **\"(Age, 0)\"** ප්‍රවේශයේ අගය 15 වේ. \n",
        "එලෙසම, 155 අයත් වන්නේ **\"(Height, 1)\"** ප්‍රවේශයටය. \n",
        "\n",
        "බොහෝ programming languages වලදී ඔබ දකින පළමු දර්ශකය (පේළි අංකය) 1 නොව 0 බව සලකන්න.\n",
        "\n",
        "0 සහ 1 වෙනුවට දර්ශක සඳහා වෙනත් අර්ථවත් ලේබල්ද ලබා දිය හැකිය. අපි එය කළ යුත්තේ ඇයි දැයි ටිකක් පසුව කතා කරමු.\n",
        "\n",
        "පළමුව, අපි වෙනත් අර්ථවත් ලේබල් එකතු කරන්නේ කෙසේද කියා බලමු."
      ]
    },
    {
      "cell_type": "code",
      "metadata": {
        "colab": {
          "base_uri": "https://localhost:8080/",
          "height": 111
        },
        "id": "FDSHy7Te6KV3",
        "outputId": "0ff881a6-cc03-42a0-9c8c-10624a06ad7f"
      },
      "source": [
        "pd.DataFrame({\"Age\":[15,16], \"Height\":[140, 155]}, index=[\"student1\", \"student2\"])"
      ],
      "execution_count": 4,
      "outputs": [
        {
          "output_type": "execute_result",
          "data": {
            "text/html": [
              "<div>\n",
              "<style scoped>\n",
              "    .dataframe tbody tr th:only-of-type {\n",
              "        vertical-align: middle;\n",
              "    }\n",
              "\n",
              "    .dataframe tbody tr th {\n",
              "        vertical-align: top;\n",
              "    }\n",
              "\n",
              "    .dataframe thead th {\n",
              "        text-align: right;\n",
              "    }\n",
              "</style>\n",
              "<table border=\"1\" class=\"dataframe\">\n",
              "  <thead>\n",
              "    <tr style=\"text-align: right;\">\n",
              "      <th></th>\n",
              "      <th>Age</th>\n",
              "      <th>Height</th>\n",
              "    </tr>\n",
              "  </thead>\n",
              "  <tbody>\n",
              "    <tr>\n",
              "      <th>student1</th>\n",
              "      <td>15</td>\n",
              "      <td>140</td>\n",
              "    </tr>\n",
              "    <tr>\n",
              "      <th>student2</th>\n",
              "      <td>16</td>\n",
              "      <td>155</td>\n",
              "    </tr>\n",
              "  </tbody>\n",
              "</table>\n",
              "</div>"
            ],
            "text/plain": [
              "          Age  Height\n",
              "student1   15     140\n",
              "student2   16     155"
            ]
          },
          "metadata": {},
          "execution_count": 4
        }
      ]
    },
    {
      "cell_type": "markdown",
      "metadata": {
        "id": "1bzQR7sI3yxT"
      },
      "source": [
        "Let's say we want to add person names as well. Can we include the name in the same DataFrame we created? Yes, we can. DataFrame is not limited to the same data type, e.g., integer it supports multiple datatypes.\n",
        "\n",
        "අපි පුද්ගල නාම ද එක් කිරීමට අවශ්‍ය යැයි සිතමු. අප විසින් සාදන ලද එකම දත්ත රාමුවට නම ඇතුළත් කළ හැකිද? ඔව්, එය කළ හැක. ඩේටා ෆ්‍රේම් එකම දත්ත වර්ගයකට පමණක් සීමා නොවේ, උදාහරණයක් ලෙස, එය බහු දත්ත වර්ග වලට සහය දක්වයි."
      ]
    },
    {
      "cell_type": "code",
      "metadata": {
        "colab": {
          "base_uri": "https://localhost:8080/",
          "height": 111
        },
        "id": "2QBwA1IK4UNK",
        "outputId": "c95ad97f-b5ef-4439-ade1-7bea61aa49bc"
      },
      "source": [
        "pd.DataFrame({\"Age\":[15, 16], \"Height\":[140, 155], \"Name\":[\"Tom Lul\", \"Tim Dima\"]}, index=[\"student1\", \"student2\"])\n"
      ],
      "execution_count": 5,
      "outputs": [
        {
          "output_type": "execute_result",
          "data": {
            "text/html": [
              "<div>\n",
              "<style scoped>\n",
              "    .dataframe tbody tr th:only-of-type {\n",
              "        vertical-align: middle;\n",
              "    }\n",
              "\n",
              "    .dataframe tbody tr th {\n",
              "        vertical-align: top;\n",
              "    }\n",
              "\n",
              "    .dataframe thead th {\n",
              "        text-align: right;\n",
              "    }\n",
              "</style>\n",
              "<table border=\"1\" class=\"dataframe\">\n",
              "  <thead>\n",
              "    <tr style=\"text-align: right;\">\n",
              "      <th></th>\n",
              "      <th>Age</th>\n",
              "      <th>Height</th>\n",
              "      <th>Name</th>\n",
              "    </tr>\n",
              "  </thead>\n",
              "  <tbody>\n",
              "    <tr>\n",
              "      <th>student1</th>\n",
              "      <td>15</td>\n",
              "      <td>140</td>\n",
              "      <td>Tom Lul</td>\n",
              "    </tr>\n",
              "    <tr>\n",
              "      <th>student2</th>\n",
              "      <td>16</td>\n",
              "      <td>155</td>\n",
              "      <td>Tim Dima</td>\n",
              "    </tr>\n",
              "  </tbody>\n",
              "</table>\n",
              "</div>"
            ],
            "text/plain": [
              "          Age  Height      Name\n",
              "student1   15     140   Tom Lul\n",
              "student2   16     155  Tim Dima"
            ]
          },
          "metadata": {},
          "execution_count": 5
        }
      ]
    },
    {
      "cell_type": "markdown",
      "metadata": {
        "id": "PYmZMWsC41fA"
      },
      "source": [
        "**Series** \n",
        "\n",
        "A **Series**, by contrast, is a sequence of data values. Since **DataFrame** is a table, **Series** is a column of a DataFrame. In other words, DataFrame is a collection of Series. Let's try to construct the above DataFrame using Series object.  \n",
        "\n",
        "A **ශ්‍රේණිය**, ඊට වෙනස්ව, දත්ත අගයන් අනුපිළිවෙලකි. **දත්ත රාමුව** වගුවක් බැවින්, **ශ්‍රේණිය** යනු දත්ත රාමුවක තීරුවකි. වෙනත් වචන වලින් කිවහොත්, දත්ත රාමුව, මාලාවක එකතුවකි. ශ්‍රේණි වස්තුවක් භාවිතා කර ඉහත දත්ත රාමුව තැනීමට උත්සාහ කරමු"
      ]
    },
    {
      "cell_type": "code",
      "metadata": {
        "colab": {
          "base_uri": "https://localhost:8080/",
          "height": 111
        },
        "id": "jz1k-gNo8VVW",
        "outputId": "48578ac3-b6f1-4274-ff4b-8917cae5e6ca"
      },
      "source": [
        "age = pd.Series([15,16], index=[\"student1\", \"student2\"], name=\"age\")\n",
        "height = pd.Series([140, 155], index=[\"student1\", \"student2\"], name=\"height\")\n",
        "name = pd.Series([\"Tom Lul\", \"Tim Dima\"], index=[\"student1\", \"student2\"], name=\"name\")\n",
        "\n",
        "df = pd.DataFrame({\"Age\": age, \"Height\":height, \"Name\":name})\n",
        "df"
      ],
      "execution_count": 6,
      "outputs": [
        {
          "output_type": "execute_result",
          "data": {
            "text/html": [
              "<div>\n",
              "<style scoped>\n",
              "    .dataframe tbody tr th:only-of-type {\n",
              "        vertical-align: middle;\n",
              "    }\n",
              "\n",
              "    .dataframe tbody tr th {\n",
              "        vertical-align: top;\n",
              "    }\n",
              "\n",
              "    .dataframe thead th {\n",
              "        text-align: right;\n",
              "    }\n",
              "</style>\n",
              "<table border=\"1\" class=\"dataframe\">\n",
              "  <thead>\n",
              "    <tr style=\"text-align: right;\">\n",
              "      <th></th>\n",
              "      <th>Age</th>\n",
              "      <th>Height</th>\n",
              "      <th>Name</th>\n",
              "    </tr>\n",
              "  </thead>\n",
              "  <tbody>\n",
              "    <tr>\n",
              "      <th>student1</th>\n",
              "      <td>15</td>\n",
              "      <td>140</td>\n",
              "      <td>Tom Lul</td>\n",
              "    </tr>\n",
              "    <tr>\n",
              "      <th>student2</th>\n",
              "      <td>16</td>\n",
              "      <td>155</td>\n",
              "      <td>Tim Dima</td>\n",
              "    </tr>\n",
              "  </tbody>\n",
              "</table>\n",
              "</div>"
            ],
            "text/plain": [
              "          Age  Height      Name\n",
              "student1   15     140   Tom Lul\n",
              "student2   16     155  Tim Dima"
            ]
          },
          "metadata": {},
          "execution_count": 6
        }
      ]
    },
    {
      "cell_type": "markdown",
      "metadata": {
        "id": "Ygs_rsUR-lrI"
      },
      "source": [
        "**Reading and Writing Files** ලිපිගොනු කියවීම සහ ලිවීම\n",
        "\n",
        "If you want to save the student information\n",
        "\n",
        "ඔබට ශිෂ්‍ය තොරතුරු සුරැකීමට අවශ්‍ය නම්\n"
      ]
    },
    {
      "cell_type": "code",
      "metadata": {
        "id": "hZeWNaoU-uSB"
      },
      "source": [
        "df.to_csv(\"/content/sample_data/student_info.csv\", index=\"true\", header=\"true\")"
      ],
      "execution_count": 7,
      "outputs": []
    },
    {
      "cell_type": "markdown",
      "metadata": {
        "id": "7PTBKiRcAioi"
      },
      "source": [
        "How can we read the data from a file?\n",
        "\n",
        "ගොනුවකින් දත්ත කියවන්නේ කෙසේද?"
      ]
    },
    {
      "cell_type": "code",
      "metadata": {
        "colab": {
          "base_uri": "https://localhost:8080/",
          "height": 111
        },
        "id": "VfKUAzKnAo4c",
        "outputId": "08904564-2710-486e-beb7-4bfc1ec13708"
      },
      "source": [
        "df_mod = pd.read_csv(\"/content/sample_data/student_info.csv\")\n",
        "df_mod "
      ],
      "execution_count": 8,
      "outputs": [
        {
          "output_type": "execute_result",
          "data": {
            "text/html": [
              "<div>\n",
              "<style scoped>\n",
              "    .dataframe tbody tr th:only-of-type {\n",
              "        vertical-align: middle;\n",
              "    }\n",
              "\n",
              "    .dataframe tbody tr th {\n",
              "        vertical-align: top;\n",
              "    }\n",
              "\n",
              "    .dataframe thead th {\n",
              "        text-align: right;\n",
              "    }\n",
              "</style>\n",
              "<table border=\"1\" class=\"dataframe\">\n",
              "  <thead>\n",
              "    <tr style=\"text-align: right;\">\n",
              "      <th></th>\n",
              "      <th>Unnamed: 0</th>\n",
              "      <th>Age</th>\n",
              "      <th>Height</th>\n",
              "      <th>Name</th>\n",
              "    </tr>\n",
              "  </thead>\n",
              "  <tbody>\n",
              "    <tr>\n",
              "      <th>0</th>\n",
              "      <td>student1</td>\n",
              "      <td>15</td>\n",
              "      <td>140</td>\n",
              "      <td>Tom Lul</td>\n",
              "    </tr>\n",
              "    <tr>\n",
              "      <th>1</th>\n",
              "      <td>student2</td>\n",
              "      <td>16</td>\n",
              "      <td>155</td>\n",
              "      <td>Tim Dima</td>\n",
              "    </tr>\n",
              "  </tbody>\n",
              "</table>\n",
              "</div>"
            ],
            "text/plain": [
              "  Unnamed: 0  Age  Height      Name\n",
              "0   student1   15     140   Tom Lul\n",
              "1   student2   16     155  Tim Dima"
            ]
          },
          "metadata": {},
          "execution_count": 8
        }
      ]
    },
    {
      "cell_type": "code",
      "metadata": {
        "colab": {
          "base_uri": "https://localhost:8080/",
          "height": 111
        },
        "id": "9ZDyaSQEBBTP",
        "outputId": "a9e64314-1abe-4f33-f699-a8d16db23cd1"
      },
      "source": [
        "df_mod = pd.read_csv(\"/content/sample_data/student_info.csv\", index_col=0)\n",
        "df_mod"
      ],
      "execution_count": 9,
      "outputs": [
        {
          "output_type": "execute_result",
          "data": {
            "text/html": [
              "<div>\n",
              "<style scoped>\n",
              "    .dataframe tbody tr th:only-of-type {\n",
              "        vertical-align: middle;\n",
              "    }\n",
              "\n",
              "    .dataframe tbody tr th {\n",
              "        vertical-align: top;\n",
              "    }\n",
              "\n",
              "    .dataframe thead th {\n",
              "        text-align: right;\n",
              "    }\n",
              "</style>\n",
              "<table border=\"1\" class=\"dataframe\">\n",
              "  <thead>\n",
              "    <tr style=\"text-align: right;\">\n",
              "      <th></th>\n",
              "      <th>Age</th>\n",
              "      <th>Height</th>\n",
              "      <th>Name</th>\n",
              "    </tr>\n",
              "  </thead>\n",
              "  <tbody>\n",
              "    <tr>\n",
              "      <th>student1</th>\n",
              "      <td>15</td>\n",
              "      <td>140</td>\n",
              "      <td>Tom Lul</td>\n",
              "    </tr>\n",
              "    <tr>\n",
              "      <th>student2</th>\n",
              "      <td>16</td>\n",
              "      <td>155</td>\n",
              "      <td>Tim Dima</td>\n",
              "    </tr>\n",
              "  </tbody>\n",
              "</table>\n",
              "</div>"
            ],
            "text/plain": [
              "          Age  Height      Name\n",
              "student1   15     140   Tom Lul\n",
              "student2   16     155  Tim Dima"
            ]
          },
          "metadata": {},
          "execution_count": 9
        }
      ]
    },
    {
      "cell_type": "code",
      "metadata": {
        "colab": {
          "base_uri": "https://localhost:8080/",
          "height": 111
        },
        "id": "rMdJAnk4L3QB",
        "outputId": "0278d509-fb8d-4285-8189-fcbc58e08a81"
      },
      "source": [
        "df_mod.head()"
      ],
      "execution_count": 10,
      "outputs": [
        {
          "output_type": "execute_result",
          "data": {
            "text/html": [
              "<div>\n",
              "<style scoped>\n",
              "    .dataframe tbody tr th:only-of-type {\n",
              "        vertical-align: middle;\n",
              "    }\n",
              "\n",
              "    .dataframe tbody tr th {\n",
              "        vertical-align: top;\n",
              "    }\n",
              "\n",
              "    .dataframe thead th {\n",
              "        text-align: right;\n",
              "    }\n",
              "</style>\n",
              "<table border=\"1\" class=\"dataframe\">\n",
              "  <thead>\n",
              "    <tr style=\"text-align: right;\">\n",
              "      <th></th>\n",
              "      <th>Age</th>\n",
              "      <th>Height</th>\n",
              "      <th>Name</th>\n",
              "    </tr>\n",
              "  </thead>\n",
              "  <tbody>\n",
              "    <tr>\n",
              "      <th>student1</th>\n",
              "      <td>15</td>\n",
              "      <td>140</td>\n",
              "      <td>Tom Lul</td>\n",
              "    </tr>\n",
              "    <tr>\n",
              "      <th>student2</th>\n",
              "      <td>16</td>\n",
              "      <td>155</td>\n",
              "      <td>Tim Dima</td>\n",
              "    </tr>\n",
              "  </tbody>\n",
              "</table>\n",
              "</div>"
            ],
            "text/plain": [
              "          Age  Height      Name\n",
              "student1   15     140   Tom Lul\n",
              "student2   16     155  Tim Dima"
            ]
          },
          "metadata": {},
          "execution_count": 10
        }
      ]
    },
    {
      "cell_type": "markdown",
      "metadata": {
        "id": "6sA3AhroGRgP"
      },
      "source": [
        "# **Section 2**: Accessing, Indexing, Selecting, and Assigning ප්‍රවේශ වීම, සුචිගත කිරීම, තෝරා ගැනීම සහ පැවරීම"
      ]
    },
    {
      "cell_type": "markdown",
      "metadata": {
        "id": "Zgfbj4HjMwYJ"
      },
      "source": [
        "**Accessing the data** දත්ත වලට ප්‍රවේශ වීම\n",
        "\n",
        "In Python, the properties of an object can be accessed by those attributes. DataFrame works in much as the same way. \n",
        "\n",
        "**Python** වලදී වස්තුවක ගුණාංග වලට එම ලක්‍ෂණ මඟින් ප්‍රවේශ විය හැකිය. DataFrame බොහෝ දුරට එකම ආකාරයකින් ක්‍රියා කරයි."
      ]
    },
    {
      "cell_type": "code",
      "metadata": {
        "colab": {
          "base_uri": "https://localhost:8080/"
        },
        "id": "AIFymF4nBfHK",
        "outputId": "dbc24a3a-53d0-42e4-fcd4-83619819ad21"
      },
      "source": [
        "df_mod.Age"
      ],
      "execution_count": 11,
      "outputs": [
        {
          "output_type": "execute_result",
          "data": {
            "text/plain": [
              "student1    15\n",
              "student2    16\n",
              "Name: Age, dtype: int64"
            ]
          },
          "metadata": {},
          "execution_count": 11
        }
      ]
    },
    {
      "cell_type": "code",
      "metadata": {
        "id": "JymOLkfzNvt6",
        "outputId": "514e0390-0a76-4491-cbf6-aa2f4bb9ad31",
        "colab": {
          "base_uri": "https://localhost:8080/"
        }
      },
      "source": [
        "df_mod['Age']"
      ],
      "execution_count": 12,
      "outputs": [
        {
          "output_type": "execute_result",
          "data": {
            "text/plain": [
              "student1    15\n",
              "student2    16\n",
              "Name: Age, dtype: int64"
            ]
          },
          "metadata": {},
          "execution_count": 12
        }
      ]
    },
    {
      "cell_type": "code",
      "metadata": {
        "id": "ifMQebNJN4tv",
        "outputId": "6cb75169-bf71-4bd5-cd1e-153385ec6e07",
        "colab": {
          "base_uri": "https://localhost:8080/"
        }
      },
      "source": [
        "df_mod['Age']['student1']"
      ],
      "execution_count": 13,
      "outputs": [
        {
          "output_type": "execute_result",
          "data": {
            "text/plain": [
              "15"
            ]
          },
          "metadata": {},
          "execution_count": 13
        }
      ]
    },
    {
      "cell_type": "code",
      "metadata": {
        "id": "nxCXXvBTOEVG",
        "outputId": "9244477c-e9d4-49a4-9f58-7345d53db24b",
        "colab": {
          "base_uri": "https://localhost:8080/"
        }
      },
      "source": [
        "df_mod['Age'][0]"
      ],
      "execution_count": 14,
      "outputs": [
        {
          "output_type": "execute_result",
          "data": {
            "text/plain": [
              "15"
            ]
          },
          "metadata": {},
          "execution_count": 14
        }
      ]
    },
    {
      "cell_type": "markdown",
      "metadata": {
        "id": "ZQMGn_zON4cg"
      },
      "source": [
        "**Indexing** සුචිගත කිරීම \n",
        "\n",
        "As shown in the latter example, the indexing operator in Pandas works in much the same way. Yet, for advance operations Panda offers two accessor operations:\n",
        "\n",
        "පෙර උදාහරණයේ දැක්වෙන පරිදි, පැන්ඩස් හි සුචිගත කිරීමේ ක්‍රියාකරු බොහෝ දුරට එකම ආකාරයකින් ක්‍රියා කරයි. කෙසේ වෙතත්, අත්තිකාරම් මෙහෙයුම් සඳහා පැන්ඩා ප්‍රවේශක මෙහෙයුම් දෙකක් ඉදිරිපත් කරයි:\n",
        "\n",
        "**loc**: index-based selection (selecting based on its numerical position) දර්ශකය පදනම් කරගත් තේරීම (එහි සංඛ්‍යාත්මක පිහිටීම මත පදනම්ව තෝරා ගැනීම)\n",
        "\n",
        "**iloc**: label-based selection (selecting based on its index value not the position) ලේබලය පදනම් කරගත් තේරීම (එහි ස්ථානය  මත පදනම්ව තෝරා ගැනීම නොව දර්ශක අගය මත පදනම්ව තෝරා ගැනීම)"
      ]
    },
    {
      "cell_type": "code",
      "metadata": {
        "id": "wmB_GWoVP1Ig",
        "outputId": "a9c634d4-7e66-4165-d7be-514a90bc348f",
        "colab": {
          "base_uri": "https://localhost:8080/"
        }
      },
      "source": [
        "df_mod.loc['student1']"
      ],
      "execution_count": 15,
      "outputs": [
        {
          "output_type": "execute_result",
          "data": {
            "text/plain": [
              "Age            15\n",
              "Height        140\n",
              "Name      Tom Lul\n",
              "Name: student1, dtype: object"
            ]
          },
          "metadata": {},
          "execution_count": 15
        }
      ]
    },
    {
      "cell_type": "code",
      "metadata": {
        "id": "35-d087-Pq4a",
        "outputId": "7fb6e6bc-09cd-47d3-d831-fd723e211ebb",
        "colab": {
          "base_uri": "https://localhost:8080/"
        }
      },
      "source": [
        "df_mod.iloc[0]"
      ],
      "execution_count": 16,
      "outputs": [
        {
          "output_type": "execute_result",
          "data": {
            "text/plain": [
              "Age            15\n",
              "Height        140\n",
              "Name      Tom Lul\n",
              "Name: student1, dtype: object"
            ]
          },
          "metadata": {},
          "execution_count": 16
        }
      ]
    },
    {
      "cell_type": "code",
      "metadata": {
        "id": "BdnPtUoQQHjM",
        "outputId": "f6b07ef2-fe8d-4ab5-9730-c5800ac86301",
        "colab": {
          "base_uri": "https://localhost:8080/"
        }
      },
      "source": [
        "df_mod.loc['student1', 'Age']"
      ],
      "execution_count": 17,
      "outputs": [
        {
          "output_type": "execute_result",
          "data": {
            "text/plain": [
              "15"
            ]
          },
          "metadata": {},
          "execution_count": 17
        }
      ]
    },
    {
      "cell_type": "code",
      "metadata": {
        "id": "bE0wSjotSDJh",
        "outputId": "c73b7d22-e50d-445d-f154-a5063c215a64",
        "colab": {
          "base_uri": "https://localhost:8080/"
        }
      },
      "source": [
        "df_mod.iloc[0,0]"
      ],
      "execution_count": 18,
      "outputs": [
        {
          "output_type": "execute_result",
          "data": {
            "text/plain": [
              "15"
            ]
          },
          "metadata": {},
          "execution_count": 18
        }
      ]
    },
    {
      "cell_type": "code",
      "metadata": {
        "id": "J99sM9GcQT7y",
        "outputId": "4b74e18c-b1bb-4df0-e156-6f65c0584928",
        "colab": {
          "base_uri": "https://localhost:8080/"
        }
      },
      "source": [
        "df_mod.loc['student1', ['Age', 'Height']]"
      ],
      "execution_count": 19,
      "outputs": [
        {
          "output_type": "execute_result",
          "data": {
            "text/plain": [
              "Age        15\n",
              "Height    140\n",
              "Name: student1, dtype: object"
            ]
          },
          "metadata": {},
          "execution_count": 19
        }
      ]
    },
    {
      "cell_type": "code",
      "metadata": {
        "id": "gpZT6S0cRWim",
        "outputId": "ce9418bb-fbc8-4de3-c5ac-a50a8267ab16",
        "colab": {
          "base_uri": "https://localhost:8080/"
        }
      },
      "source": [
        "df_mod.iloc[0, [0,1]]"
      ],
      "execution_count": 20,
      "outputs": [
        {
          "output_type": "execute_result",
          "data": {
            "text/plain": [
              "Age        15\n",
              "Height    140\n",
              "Name: student1, dtype: object"
            ]
          },
          "metadata": {},
          "execution_count": 20
        }
      ]
    },
    {
      "cell_type": "code",
      "metadata": {
        "id": "B1LpNRhyRbp1",
        "outputId": "30121e04-5052-4e97-c04c-1c64aeb9df05",
        "colab": {
          "base_uri": "https://localhost:8080/"
        }
      },
      "source": [
        "df_mod.iloc[0,:]"
      ],
      "execution_count": 21,
      "outputs": [
        {
          "output_type": "execute_result",
          "data": {
            "text/plain": [
              "Age            15\n",
              "Height        140\n",
              "Name      Tom Lul\n",
              "Name: student1, dtype: object"
            ]
          },
          "metadata": {},
          "execution_count": 21
        }
      ]
    },
    {
      "cell_type": "code",
      "metadata": {
        "id": "t-lky5rVQkpo",
        "outputId": "24b47d46-9fd2-4df9-fd73-031c6b9fd056",
        "colab": {
          "base_uri": "https://localhost:8080/"
        }
      },
      "source": [
        "df_mod.loc[['student1', 'student2'], 'Age']"
      ],
      "execution_count": 22,
      "outputs": [
        {
          "output_type": "execute_result",
          "data": {
            "text/plain": [
              "student1    15\n",
              "student2    16\n",
              "Name: Age, dtype: int64"
            ]
          },
          "metadata": {},
          "execution_count": 22
        }
      ]
    },
    {
      "cell_type": "code",
      "metadata": {
        "id": "6JlXrKYxRN4o",
        "outputId": "43778e7f-351b-4064-de4f-aa3fc88cfb72",
        "colab": {
          "base_uri": "https://localhost:8080/"
        }
      },
      "source": [
        "df_mod.iloc[[0,1], 0]"
      ],
      "execution_count": 23,
      "outputs": [
        {
          "output_type": "execute_result",
          "data": {
            "text/plain": [
              "student1    15\n",
              "student2    16\n",
              "Name: Age, dtype: int64"
            ]
          },
          "metadata": {},
          "execution_count": 23
        }
      ]
    },
    {
      "cell_type": "code",
      "metadata": {
        "id": "IsLtJcd0Qs6V",
        "outputId": "4da76e31-c63a-442d-8311-f3e9be0bb64c",
        "colab": {
          "base_uri": "https://localhost:8080/"
        }
      },
      "source": [
        "df_mod.loc[:, \"Age\"]"
      ],
      "execution_count": 24,
      "outputs": [
        {
          "output_type": "execute_result",
          "data": {
            "text/plain": [
              "student1    15\n",
              "student2    16\n",
              "Name: Age, dtype: int64"
            ]
          },
          "metadata": {},
          "execution_count": 24
        }
      ]
    },
    {
      "cell_type": "code",
      "metadata": {
        "id": "_zWkKxjYQ4eE",
        "outputId": "cf89fc8b-d30c-485e-e00f-7d1ab5bf0188",
        "colab": {
          "base_uri": "https://localhost:8080/"
        }
      },
      "source": [
        "df_mod.iloc[:, 0]"
      ],
      "execution_count": 25,
      "outputs": [
        {
          "output_type": "execute_result",
          "data": {
            "text/plain": [
              "student1    15\n",
              "student2    16\n",
              "Name: Age, dtype: int64"
            ]
          },
          "metadata": {},
          "execution_count": 25
        }
      ]
    },
    {
      "cell_type": "code",
      "metadata": {
        "id": "zvXuwBbNSToT",
        "outputId": "5eead2d0-ba86-4b29-8177-964c69e97a52",
        "colab": {
          "base_uri": "https://localhost:8080/"
        }
      },
      "source": [
        "df_mod.iloc[-1]"
      ],
      "execution_count": 26,
      "outputs": [
        {
          "output_type": "execute_result",
          "data": {
            "text/plain": [
              "Age             16\n",
              "Height         155\n",
              "Name      Tim Dima\n",
              "Name: student2, dtype: object"
            ]
          },
          "metadata": {},
          "execution_count": 26
        }
      ]
    },
    {
      "cell_type": "markdown",
      "metadata": {
        "id": "5_NwAQSL18hb"
      },
      "source": [
        "**Manipulating the index** දර්ශකය හැසිරවීම\n",
        "\n",
        "In Pandas, an index is not immutable. Hence, we have the freedom to modify the index in the way we want. Let's think we want to index, based on the names of students\n",
        "\n",
        "පැන්ඩා හි දර්ශකයක් වෙනස්කළ නොහැකි නැත. (වෙනස් කල හැක.) එම නිසා අපට අවශ්‍ය පරිදි දර්ශකය වෙනස් කිරීමේ නිදහස අපට ඇත. සිසුන්ගේ නම් පදනම් කරගෙන අපට සුචිගත කිරීමට අවශ්‍ය යැයි සිතමු"
      ]
    },
    {
      "cell_type": "code",
      "metadata": {
        "id": "gmvgt53Q6LR0",
        "outputId": "4eeb8136-5a6c-42c0-b1bc-1ae418bd4f66",
        "colab": {
          "base_uri": "https://localhost:8080/",
          "height": 111
        }
      },
      "source": [
        "df_mod"
      ],
      "execution_count": 27,
      "outputs": [
        {
          "output_type": "execute_result",
          "data": {
            "text/html": [
              "<div>\n",
              "<style scoped>\n",
              "    .dataframe tbody tr th:only-of-type {\n",
              "        vertical-align: middle;\n",
              "    }\n",
              "\n",
              "    .dataframe tbody tr th {\n",
              "        vertical-align: top;\n",
              "    }\n",
              "\n",
              "    .dataframe thead th {\n",
              "        text-align: right;\n",
              "    }\n",
              "</style>\n",
              "<table border=\"1\" class=\"dataframe\">\n",
              "  <thead>\n",
              "    <tr style=\"text-align: right;\">\n",
              "      <th></th>\n",
              "      <th>Age</th>\n",
              "      <th>Height</th>\n",
              "      <th>Name</th>\n",
              "    </tr>\n",
              "  </thead>\n",
              "  <tbody>\n",
              "    <tr>\n",
              "      <th>student1</th>\n",
              "      <td>15</td>\n",
              "      <td>140</td>\n",
              "      <td>Tom Lul</td>\n",
              "    </tr>\n",
              "    <tr>\n",
              "      <th>student2</th>\n",
              "      <td>16</td>\n",
              "      <td>155</td>\n",
              "      <td>Tim Dima</td>\n",
              "    </tr>\n",
              "  </tbody>\n",
              "</table>\n",
              "</div>"
            ],
            "text/plain": [
              "          Age  Height      Name\n",
              "student1   15     140   Tom Lul\n",
              "student2   16     155  Tim Dima"
            ]
          },
          "metadata": {},
          "execution_count": 27
        }
      ]
    },
    {
      "cell_type": "code",
      "metadata": {
        "id": "63ukK5ca2xKZ",
        "outputId": "9a3b321c-443c-4aff-d40a-2e1995cdd9f4",
        "colab": {
          "base_uri": "https://localhost:8080/",
          "height": 142
        }
      },
      "source": [
        "df_mod.set_index(\"Name\")\n"
      ],
      "execution_count": 28,
      "outputs": [
        {
          "output_type": "execute_result",
          "data": {
            "text/html": [
              "<div>\n",
              "<style scoped>\n",
              "    .dataframe tbody tr th:only-of-type {\n",
              "        vertical-align: middle;\n",
              "    }\n",
              "\n",
              "    .dataframe tbody tr th {\n",
              "        vertical-align: top;\n",
              "    }\n",
              "\n",
              "    .dataframe thead th {\n",
              "        text-align: right;\n",
              "    }\n",
              "</style>\n",
              "<table border=\"1\" class=\"dataframe\">\n",
              "  <thead>\n",
              "    <tr style=\"text-align: right;\">\n",
              "      <th></th>\n",
              "      <th>Age</th>\n",
              "      <th>Height</th>\n",
              "    </tr>\n",
              "    <tr>\n",
              "      <th>Name</th>\n",
              "      <th></th>\n",
              "      <th></th>\n",
              "    </tr>\n",
              "  </thead>\n",
              "  <tbody>\n",
              "    <tr>\n",
              "      <th>Tom Lul</th>\n",
              "      <td>15</td>\n",
              "      <td>140</td>\n",
              "    </tr>\n",
              "    <tr>\n",
              "      <th>Tim Dima</th>\n",
              "      <td>16</td>\n",
              "      <td>155</td>\n",
              "    </tr>\n",
              "  </tbody>\n",
              "</table>\n",
              "</div>"
            ],
            "text/plain": [
              "          Age  Height\n",
              "Name                 \n",
              "Tom Lul    15     140\n",
              "Tim Dima   16     155"
            ]
          },
          "metadata": {},
          "execution_count": 28
        }
      ]
    },
    {
      "cell_type": "markdown",
      "metadata": {
        "id": "Il0lZldh7FML"
      },
      "source": [
        "Or how can we rename the index completely? you can use `set_aixs` to replace any *axis*\n",
        "\n",
        "නැත්නම් අපි දර්ශකය සම්පූර්ණයෙන්ම නැවත නම් කරන්නේ කෙසේද? ඕනෑම *අක්ෂයක් *වෙනුවට ඔබට `axis` භාවිතා කළ හැකිය."
      ]
    },
    {
      "cell_type": "code",
      "metadata": {
        "id": "3KmGzWAN7Ylq",
        "outputId": "5a36afb4-d253-4d40-ca65-2d1a50680879",
        "colab": {
          "base_uri": "https://localhost:8080/",
          "height": 111
        }
      },
      "source": [
        "df_mod.set_axis(['s1', 's2'], axis='index')"
      ],
      "execution_count": 29,
      "outputs": [
        {
          "output_type": "execute_result",
          "data": {
            "text/html": [
              "<div>\n",
              "<style scoped>\n",
              "    .dataframe tbody tr th:only-of-type {\n",
              "        vertical-align: middle;\n",
              "    }\n",
              "\n",
              "    .dataframe tbody tr th {\n",
              "        vertical-align: top;\n",
              "    }\n",
              "\n",
              "    .dataframe thead th {\n",
              "        text-align: right;\n",
              "    }\n",
              "</style>\n",
              "<table border=\"1\" class=\"dataframe\">\n",
              "  <thead>\n",
              "    <tr style=\"text-align: right;\">\n",
              "      <th></th>\n",
              "      <th>Age</th>\n",
              "      <th>Height</th>\n",
              "      <th>Name</th>\n",
              "    </tr>\n",
              "  </thead>\n",
              "  <tbody>\n",
              "    <tr>\n",
              "      <th>s1</th>\n",
              "      <td>15</td>\n",
              "      <td>140</td>\n",
              "      <td>Tom Lul</td>\n",
              "    </tr>\n",
              "    <tr>\n",
              "      <th>s2</th>\n",
              "      <td>16</td>\n",
              "      <td>155</td>\n",
              "      <td>Tim Dima</td>\n",
              "    </tr>\n",
              "  </tbody>\n",
              "</table>\n",
              "</div>"
            ],
            "text/plain": [
              "    Age  Height      Name\n",
              "s1   15     140   Tom Lul\n",
              "s2   16     155  Tim Dima"
            ]
          },
          "metadata": {},
          "execution_count": 29
        }
      ]
    },
    {
      "cell_type": "code",
      "metadata": {
        "id": "_Z4aDlOO7ZWa",
        "outputId": "2521548c-8ee3-4d03-ac30-2cebe10ac973",
        "colab": {
          "base_uri": "https://localhost:8080/",
          "height": 111
        }
      },
      "source": [
        "df_mod.set_axis(['s1', 's2'], axis=0)"
      ],
      "execution_count": 30,
      "outputs": [
        {
          "output_type": "execute_result",
          "data": {
            "text/html": [
              "<div>\n",
              "<style scoped>\n",
              "    .dataframe tbody tr th:only-of-type {\n",
              "        vertical-align: middle;\n",
              "    }\n",
              "\n",
              "    .dataframe tbody tr th {\n",
              "        vertical-align: top;\n",
              "    }\n",
              "\n",
              "    .dataframe thead th {\n",
              "        text-align: right;\n",
              "    }\n",
              "</style>\n",
              "<table border=\"1\" class=\"dataframe\">\n",
              "  <thead>\n",
              "    <tr style=\"text-align: right;\">\n",
              "      <th></th>\n",
              "      <th>Age</th>\n",
              "      <th>Height</th>\n",
              "      <th>Name</th>\n",
              "    </tr>\n",
              "  </thead>\n",
              "  <tbody>\n",
              "    <tr>\n",
              "      <th>s1</th>\n",
              "      <td>15</td>\n",
              "      <td>140</td>\n",
              "      <td>Tom Lul</td>\n",
              "    </tr>\n",
              "    <tr>\n",
              "      <th>s2</th>\n",
              "      <td>16</td>\n",
              "      <td>155</td>\n",
              "      <td>Tim Dima</td>\n",
              "    </tr>\n",
              "  </tbody>\n",
              "</table>\n",
              "</div>"
            ],
            "text/plain": [
              "    Age  Height      Name\n",
              "s1   15     140   Tom Lul\n",
              "s2   16     155  Tim Dima"
            ]
          },
          "metadata": {},
          "execution_count": 30
        }
      ]
    },
    {
      "cell_type": "markdown",
      "metadata": {
        "id": "Td3hOfRX7ZCA"
      },
      "source": [
        "Can you guess `df_mod.set_axis(['age', 'height', 'name'], axis=1)` result of this? \n",
        "\n",
        "ඔබට අනුමාන කරන්න පුලුවන්ද `df_mod.set_axis(['age', 'height', 'name'], axis=1)` මෙහි ප්‍රතිඵලය?"
      ]
    },
    {
      "cell_type": "markdown",
      "metadata": {
        "id": "peCDgZW293JC"
      },
      "source": [
        "**Different ways of selections** තෝරා ගැනීමේ විවිධ ක්‍රම\n",
        "\n",
        "Let's say, in the class, we have a few more people, but still, there are some information is missing \n",
        "\n",
        "අපි කියමු, පන්තියේදී, අපට තවත් පුද්ගලයින් කිහිප දෙනෙක් සිටියත්, තවමත් සමහර තොරතුරු නැති වී තිබේ\n"
      ]
    },
    {
      "cell_type": "code",
      "metadata": {
        "id": "fX4vyqLkFNxW",
        "outputId": "9ed40ce2-aaf1-439e-bda4-14902365f5b3",
        "colab": {
          "base_uri": "https://localhost:8080/",
          "height": 173
        }
      },
      "source": [
        "import numpy as np \n",
        "\n",
        "df_new = pd.DataFrame({\"Age\":[15, 16, np.nan, 18], \"Height\":[140, 155, 167, np.nan]\n",
        "                       , \"Name\":[\"Tom Lul\", \"Tim Dima\", \"Bulad Max\", \"Savira Lavix\"]}\n",
        "                      , index=[\"student1\", \"student2\", \"student3\", \"student4\"])\n",
        "df_new"
      ],
      "execution_count": 31,
      "outputs": [
        {
          "output_type": "execute_result",
          "data": {
            "text/html": [
              "<div>\n",
              "<style scoped>\n",
              "    .dataframe tbody tr th:only-of-type {\n",
              "        vertical-align: middle;\n",
              "    }\n",
              "\n",
              "    .dataframe tbody tr th {\n",
              "        vertical-align: top;\n",
              "    }\n",
              "\n",
              "    .dataframe thead th {\n",
              "        text-align: right;\n",
              "    }\n",
              "</style>\n",
              "<table border=\"1\" class=\"dataframe\">\n",
              "  <thead>\n",
              "    <tr style=\"text-align: right;\">\n",
              "      <th></th>\n",
              "      <th>Age</th>\n",
              "      <th>Height</th>\n",
              "      <th>Name</th>\n",
              "    </tr>\n",
              "  </thead>\n",
              "  <tbody>\n",
              "    <tr>\n",
              "      <th>student1</th>\n",
              "      <td>15.0</td>\n",
              "      <td>140.0</td>\n",
              "      <td>Tom Lul</td>\n",
              "    </tr>\n",
              "    <tr>\n",
              "      <th>student2</th>\n",
              "      <td>16.0</td>\n",
              "      <td>155.0</td>\n",
              "      <td>Tim Dima</td>\n",
              "    </tr>\n",
              "    <tr>\n",
              "      <th>student3</th>\n",
              "      <td>NaN</td>\n",
              "      <td>167.0</td>\n",
              "      <td>Bulad Max</td>\n",
              "    </tr>\n",
              "    <tr>\n",
              "      <th>student4</th>\n",
              "      <td>18.0</td>\n",
              "      <td>NaN</td>\n",
              "      <td>Savira Lavix</td>\n",
              "    </tr>\n",
              "  </tbody>\n",
              "</table>\n",
              "</div>"
            ],
            "text/plain": [
              "           Age  Height          Name\n",
              "student1  15.0   140.0       Tom Lul\n",
              "student2  16.0   155.0      Tim Dima\n",
              "student3   NaN   167.0     Bulad Max\n",
              "student4  18.0     NaN  Savira Lavix"
            ]
          },
          "metadata": {},
          "execution_count": 31
        }
      ]
    },
    {
      "cell_type": "markdown",
      "metadata": {
        "id": "6nKqmxYwGRO5"
      },
      "source": [
        "How can we know all the students' names who are higher than 150 cm?\n",
        "\n",
        "සෙන්ටිමීටර 150 ට වැඩි සියලුම සිසුන්ගේ නම් අපි දැන ගන්නේ කෙසේද?\n"
      ]
    },
    {
      "cell_type": "markdown",
      "metadata": {
        "id": "3-cdvwqbHfso"
      },
      "source": [
        "Let's go through step by step \n",
        "\n",
        "අපි පියවරෙන් පියවර ඉදිරියට යමු"
      ]
    },
    {
      "cell_type": "code",
      "metadata": {
        "id": "tmVS9yKQKogv",
        "outputId": "7cb22e23-2b88-4a0b-992a-08fc7f11262e",
        "colab": {
          "base_uri": "https://localhost:8080/"
        }
      },
      "source": [
        "df_new.Height>=150 #selecting students who are higher than 150cm. In the result "
      ],
      "execution_count": 32,
      "outputs": [
        {
          "output_type": "execute_result",
          "data": {
            "text/plain": [
              "student1    False\n",
              "student2     True\n",
              "student3     True\n",
              "student4    False\n",
              "Name: Height, dtype: bool"
            ]
          },
          "metadata": {},
          "execution_count": 32
        }
      ]
    },
    {
      "cell_type": "code",
      "metadata": {
        "id": "rYnVOrszK9A7",
        "outputId": "1cdbe8ee-af0b-4a36-9416-2c91019c2d8c",
        "colab": {
          "base_uri": "https://localhost:8080/",
          "height": 111
        }
      },
      "source": [
        "df_new.loc[df_new.Height >= 150]  # this gives the part of the DataFrame we are interested in"
      ],
      "execution_count": 33,
      "outputs": [
        {
          "output_type": "execute_result",
          "data": {
            "text/html": [
              "<div>\n",
              "<style scoped>\n",
              "    .dataframe tbody tr th:only-of-type {\n",
              "        vertical-align: middle;\n",
              "    }\n",
              "\n",
              "    .dataframe tbody tr th {\n",
              "        vertical-align: top;\n",
              "    }\n",
              "\n",
              "    .dataframe thead th {\n",
              "        text-align: right;\n",
              "    }\n",
              "</style>\n",
              "<table border=\"1\" class=\"dataframe\">\n",
              "  <thead>\n",
              "    <tr style=\"text-align: right;\">\n",
              "      <th></th>\n",
              "      <th>Age</th>\n",
              "      <th>Height</th>\n",
              "      <th>Name</th>\n",
              "    </tr>\n",
              "  </thead>\n",
              "  <tbody>\n",
              "    <tr>\n",
              "      <th>student2</th>\n",
              "      <td>16.0</td>\n",
              "      <td>155.0</td>\n",
              "      <td>Tim Dima</td>\n",
              "    </tr>\n",
              "    <tr>\n",
              "      <th>student3</th>\n",
              "      <td>NaN</td>\n",
              "      <td>167.0</td>\n",
              "      <td>Bulad Max</td>\n",
              "    </tr>\n",
              "  </tbody>\n",
              "</table>\n",
              "</div>"
            ],
            "text/plain": [
              "           Age  Height       Name\n",
              "student2  16.0   155.0   Tim Dima\n",
              "student3   NaN   167.0  Bulad Max"
            ]
          },
          "metadata": {},
          "execution_count": 33
        }
      ]
    },
    {
      "cell_type": "markdown",
      "metadata": {
        "id": "TKRhMM9NLRBn"
      },
      "source": [
        "`df_new.loc[df_new.Height >= 150]` same work can be done incorporating `np.where` API as well \n",
        "\n",
        "`df_new.loc[df_new.Height >= 150]` ඇතුළත් කිරීම මඟින් එම කාර්යයම කළ හැකිය `np.where` ඒපීඅයි මෙන්ම"
      ]
    },
    {
      "cell_type": "code",
      "metadata": {
        "id": "ijLri93sH8Ud",
        "outputId": "6e7f68c0-6d5e-459d-b211-620715756791",
        "colab": {
          "base_uri": "https://localhost:8080/"
        }
      },
      "source": [
        "np.where(df_new.Height>=150)[0] # this gives indices of those students මෙය එම සිසුන්ගේ දර්ශක ලබා දෙයි"
      ],
      "execution_count": 34,
      "outputs": [
        {
          "output_type": "execute_result",
          "data": {
            "text/plain": [
              "array([1, 2])"
            ]
          },
          "metadata": {},
          "execution_count": 34
        }
      ]
    },
    {
      "cell_type": "code",
      "metadata": {
        "id": "uhPTNwEiIPbK",
        "outputId": "be9b912c-0bd2-466b-8d8a-2b2c23e514f5",
        "colab": {
          "base_uri": "https://localhost:8080/",
          "height": 111
        }
      },
      "source": [
        "df_new.iloc[np.where(df_new.Height>=150)[0]] # this gives the part of the DataFrame we are interested in මෙය අපි උනන්දුවක් දක්වන දත්ත රාමුවේ කොටසක් ලබා දේ"
      ],
      "execution_count": 35,
      "outputs": [
        {
          "output_type": "execute_result",
          "data": {
            "text/html": [
              "<div>\n",
              "<style scoped>\n",
              "    .dataframe tbody tr th:only-of-type {\n",
              "        vertical-align: middle;\n",
              "    }\n",
              "\n",
              "    .dataframe tbody tr th {\n",
              "        vertical-align: top;\n",
              "    }\n",
              "\n",
              "    .dataframe thead th {\n",
              "        text-align: right;\n",
              "    }\n",
              "</style>\n",
              "<table border=\"1\" class=\"dataframe\">\n",
              "  <thead>\n",
              "    <tr style=\"text-align: right;\">\n",
              "      <th></th>\n",
              "      <th>Age</th>\n",
              "      <th>Height</th>\n",
              "      <th>Name</th>\n",
              "    </tr>\n",
              "  </thead>\n",
              "  <tbody>\n",
              "    <tr>\n",
              "      <th>student2</th>\n",
              "      <td>16.0</td>\n",
              "      <td>155.0</td>\n",
              "      <td>Tim Dima</td>\n",
              "    </tr>\n",
              "    <tr>\n",
              "      <th>student3</th>\n",
              "      <td>NaN</td>\n",
              "      <td>167.0</td>\n",
              "      <td>Bulad Max</td>\n",
              "    </tr>\n",
              "  </tbody>\n",
              "</table>\n",
              "</div>"
            ],
            "text/plain": [
              "           Age  Height       Name\n",
              "student2  16.0   155.0   Tim Dima\n",
              "student3   NaN   167.0  Bulad Max"
            ]
          },
          "metadata": {},
          "execution_count": 35
        }
      ]
    },
    {
      "cell_type": "code",
      "metadata": {
        "id": "SMtlQl_OLswr",
        "outputId": "86b1125a-dbd3-4a15-aec7-7e29d31250a7",
        "colab": {
          "base_uri": "https://localhost:8080/"
        }
      },
      "source": [
        "df_new.loc[df_new.Height >= 150].Name # since names of those students what we need. Retrieving only the names ඒ සිසුන්ගේ නම් වලින් අපට අවශ්‍ය දේ. නම් පමණක් ලබා ගැනීම"
      ],
      "execution_count": 36,
      "outputs": [
        {
          "output_type": "execute_result",
          "data": {
            "text/plain": [
              "student2     Tim Dima\n",
              "student3    Bulad Max\n",
              "Name: Name, dtype: object"
            ]
          },
          "metadata": {},
          "execution_count": 36
        }
      ]
    },
    {
      "cell_type": "code",
      "metadata": {
        "id": "zTz3YloiIbN3",
        "outputId": "184c1ead-0934-4626-f75c-1bf520e103d2",
        "colab": {
          "base_uri": "https://localhost:8080/"
        }
      },
      "source": [
        "df_new.iloc[np.where(df_new.Height>=150)[0]].Name"
      ],
      "execution_count": 37,
      "outputs": [
        {
          "output_type": "execute_result",
          "data": {
            "text/plain": [
              "student2     Tim Dima\n",
              "student3    Bulad Max\n",
              "Name: Name, dtype: object"
            ]
          },
          "metadata": {},
          "execution_count": 37
        }
      ]
    },
    {
      "cell_type": "markdown",
      "metadata": {
        "id": "joVt5eiaL7w_"
      },
      "source": [
        "Now let's say, we need students who are higher than 150 and whose age higher than 16 \n",
        "\n",
        "දැන් අපි කියමු, අපට අවශ්‍ය වන්නේ 150 ට වඩා වැඩි සහ 16 ට වැඩි වයසේ සිටින සිසුන් ය\n"
      ]
    },
    {
      "cell_type": "code",
      "metadata": {
        "id": "VKYu6CEtMSYj",
        "outputId": "c30a8ee9-413a-41d7-967b-3f61de281d9a",
        "colab": {
          "base_uri": "https://localhost:8080/",
          "height": 80
        }
      },
      "source": [
        "df_new.loc[ (df_new.Height > 150) & (df_new.Age >= 16)]"
      ],
      "execution_count": 38,
      "outputs": [
        {
          "output_type": "execute_result",
          "data": {
            "text/html": [
              "<div>\n",
              "<style scoped>\n",
              "    .dataframe tbody tr th:only-of-type {\n",
              "        vertical-align: middle;\n",
              "    }\n",
              "\n",
              "    .dataframe tbody tr th {\n",
              "        vertical-align: top;\n",
              "    }\n",
              "\n",
              "    .dataframe thead th {\n",
              "        text-align: right;\n",
              "    }\n",
              "</style>\n",
              "<table border=\"1\" class=\"dataframe\">\n",
              "  <thead>\n",
              "    <tr style=\"text-align: right;\">\n",
              "      <th></th>\n",
              "      <th>Age</th>\n",
              "      <th>Height</th>\n",
              "      <th>Name</th>\n",
              "    </tr>\n",
              "  </thead>\n",
              "  <tbody>\n",
              "    <tr>\n",
              "      <th>student2</th>\n",
              "      <td>16.0</td>\n",
              "      <td>155.0</td>\n",
              "      <td>Tim Dima</td>\n",
              "    </tr>\n",
              "  </tbody>\n",
              "</table>\n",
              "</div>"
            ],
            "text/plain": [
              "           Age  Height      Name\n",
              "student2  16.0   155.0  Tim Dima"
            ]
          },
          "metadata": {},
          "execution_count": 38
        }
      ]
    },
    {
      "cell_type": "markdown",
      "metadata": {
        "id": "eDtvmgVcMmiP"
      },
      "source": [
        "How about students who are higher than 150 or age higher than 16\n",
        "\n",
        "150 ට වඩා වැඩි හෝ 16 ට වැඩි වයසේ පසුවන සිසුන් ගැන කෙසේ කිව හැකිද?"
      ]
    },
    {
      "cell_type": "code",
      "metadata": {
        "id": "cjydLevVMwFY",
        "outputId": "275837c4-ee2a-4c7a-98f3-bd6d8fe9c6f2",
        "colab": {
          "base_uri": "https://localhost:8080/",
          "height": 142
        }
      },
      "source": [
        "df_new.loc[ (df_new.Height > 150) | (df_new.Age >= 16)]"
      ],
      "execution_count": 39,
      "outputs": [
        {
          "output_type": "execute_result",
          "data": {
            "text/html": [
              "<div>\n",
              "<style scoped>\n",
              "    .dataframe tbody tr th:only-of-type {\n",
              "        vertical-align: middle;\n",
              "    }\n",
              "\n",
              "    .dataframe tbody tr th {\n",
              "        vertical-align: top;\n",
              "    }\n",
              "\n",
              "    .dataframe thead th {\n",
              "        text-align: right;\n",
              "    }\n",
              "</style>\n",
              "<table border=\"1\" class=\"dataframe\">\n",
              "  <thead>\n",
              "    <tr style=\"text-align: right;\">\n",
              "      <th></th>\n",
              "      <th>Age</th>\n",
              "      <th>Height</th>\n",
              "      <th>Name</th>\n",
              "    </tr>\n",
              "  </thead>\n",
              "  <tbody>\n",
              "    <tr>\n",
              "      <th>student2</th>\n",
              "      <td>16.0</td>\n",
              "      <td>155.0</td>\n",
              "      <td>Tim Dima</td>\n",
              "    </tr>\n",
              "    <tr>\n",
              "      <th>student3</th>\n",
              "      <td>NaN</td>\n",
              "      <td>167.0</td>\n",
              "      <td>Bulad Max</td>\n",
              "    </tr>\n",
              "    <tr>\n",
              "      <th>student4</th>\n",
              "      <td>18.0</td>\n",
              "      <td>NaN</td>\n",
              "      <td>Savira Lavix</td>\n",
              "    </tr>\n",
              "  </tbody>\n",
              "</table>\n",
              "</div>"
            ],
            "text/plain": [
              "           Age  Height          Name\n",
              "student2  16.0   155.0      Tim Dima\n",
              "student3   NaN   167.0     Bulad Max\n",
              "student4  18.0     NaN  Savira Lavix"
            ]
          },
          "metadata": {},
          "execution_count": 39
        }
      ]
    },
    {
      "cell_type": "markdown",
      "metadata": {
        "id": "5L_P9NWLM-5a"
      },
      "source": [
        "As you can see, here  some information are missing, i.e., the information provided with NaN\n",
        "\n",
        "ඔබට දැකිය හැකි පරිදි, මෙහි සමහර තොරතුරු නැති වී ඇත, එනම් NaN සමඟ ලබා දුන් තොරතුරු"
      ]
    },
    {
      "cell_type": "markdown",
      "metadata": {
        "id": "yQVjWITQNTeQ"
      },
      "source": [
        "How to retrieve students who have missing information\n",
        "\n",
        "අතුරුදහන් වූ තොරතුරු ඇති සිසුන් නැවත ලබා ගන්නේ කෙසේද?"
      ]
    },
    {
      "cell_type": "code",
      "metadata": {
        "id": "AhmS1apRNhGg",
        "outputId": "bc61aa8b-fc31-4a15-f66b-634e753df8b5",
        "colab": {
          "base_uri": "https://localhost:8080/",
          "height": 111
        }
      },
      "source": [
        "df_new.loc[df_new.Age.isin([np.nan]) | df_new.Height.isin([np.nan]) | df_new.Name.isin([np.nan])]"
      ],
      "execution_count": 40,
      "outputs": [
        {
          "output_type": "execute_result",
          "data": {
            "text/html": [
              "<div>\n",
              "<style scoped>\n",
              "    .dataframe tbody tr th:only-of-type {\n",
              "        vertical-align: middle;\n",
              "    }\n",
              "\n",
              "    .dataframe tbody tr th {\n",
              "        vertical-align: top;\n",
              "    }\n",
              "\n",
              "    .dataframe thead th {\n",
              "        text-align: right;\n",
              "    }\n",
              "</style>\n",
              "<table border=\"1\" class=\"dataframe\">\n",
              "  <thead>\n",
              "    <tr style=\"text-align: right;\">\n",
              "      <th></th>\n",
              "      <th>Age</th>\n",
              "      <th>Height</th>\n",
              "      <th>Name</th>\n",
              "    </tr>\n",
              "  </thead>\n",
              "  <tbody>\n",
              "    <tr>\n",
              "      <th>student3</th>\n",
              "      <td>NaN</td>\n",
              "      <td>167.0</td>\n",
              "      <td>Bulad Max</td>\n",
              "    </tr>\n",
              "    <tr>\n",
              "      <th>student4</th>\n",
              "      <td>18.0</td>\n",
              "      <td>NaN</td>\n",
              "      <td>Savira Lavix</td>\n",
              "    </tr>\n",
              "  </tbody>\n",
              "</table>\n",
              "</div>"
            ],
            "text/plain": [
              "           Age  Height          Name\n",
              "student3   NaN   167.0     Bulad Max\n",
              "student4  18.0     NaN  Savira Lavix"
            ]
          },
          "metadata": {},
          "execution_count": 40
        }
      ]
    },
    {
      "cell_type": "markdown",
      "metadata": {
        "id": "B4RJxU_EPIjD"
      },
      "source": [
        "How to retrieve students who have provided their height ?\n",
        "\n",
        "තම උස සපයා ඇති සිසුන් නැවත ලබා ගන්නේ කෙසේද?"
      ]
    },
    {
      "cell_type": "code",
      "metadata": {
        "id": "U2bxQUHzO1q5",
        "outputId": "d8c69773-b5b4-404f-860b-a37e65bc3ed2",
        "colab": {
          "base_uri": "https://localhost:8080/",
          "height": 142
        }
      },
      "source": [
        "df_new.loc[ df_new.Height.notnull()]"
      ],
      "execution_count": 41,
      "outputs": [
        {
          "output_type": "execute_result",
          "data": {
            "text/html": [
              "<div>\n",
              "<style scoped>\n",
              "    .dataframe tbody tr th:only-of-type {\n",
              "        vertical-align: middle;\n",
              "    }\n",
              "\n",
              "    .dataframe tbody tr th {\n",
              "        vertical-align: top;\n",
              "    }\n",
              "\n",
              "    .dataframe thead th {\n",
              "        text-align: right;\n",
              "    }\n",
              "</style>\n",
              "<table border=\"1\" class=\"dataframe\">\n",
              "  <thead>\n",
              "    <tr style=\"text-align: right;\">\n",
              "      <th></th>\n",
              "      <th>Age</th>\n",
              "      <th>Height</th>\n",
              "      <th>Name</th>\n",
              "    </tr>\n",
              "  </thead>\n",
              "  <tbody>\n",
              "    <tr>\n",
              "      <th>student1</th>\n",
              "      <td>15.0</td>\n",
              "      <td>140.0</td>\n",
              "      <td>Tom Lul</td>\n",
              "    </tr>\n",
              "    <tr>\n",
              "      <th>student2</th>\n",
              "      <td>16.0</td>\n",
              "      <td>155.0</td>\n",
              "      <td>Tim Dima</td>\n",
              "    </tr>\n",
              "    <tr>\n",
              "      <th>student3</th>\n",
              "      <td>NaN</td>\n",
              "      <td>167.0</td>\n",
              "      <td>Bulad Max</td>\n",
              "    </tr>\n",
              "  </tbody>\n",
              "</table>\n",
              "</div>"
            ],
            "text/plain": [
              "           Age  Height       Name\n",
              "student1  15.0   140.0    Tom Lul\n",
              "student2  16.0   155.0   Tim Dima\n",
              "student3   NaN   167.0  Bulad Max"
            ]
          },
          "metadata": {},
          "execution_count": 41
        }
      ]
    },
    {
      "cell_type": "markdown",
      "metadata": {
        "id": "kNV2SnvUPqNU"
      },
      "source": [
        "**Assigning data** දත්ත පැවරීම\n",
        "\n",
        "Student's  age is 17. How can you update the corresponding entry?\n",
        "\n",
        "ශිෂ්‍යයාගේ වයස අවුරුදු 17 යි. අනුරූප ඇතුළත් කිරීම ඔබ යාවත්කාලීන කරන්නේ කෙසේද?"
      ]
    },
    {
      "cell_type": "code",
      "metadata": {
        "id": "c4IcwZ3cStE_",
        "outputId": "39373c97-a628-47c1-d47a-9e850aa60fa7",
        "colab": {
          "base_uri": "https://localhost:8080/",
          "height": 258
        }
      },
      "source": [
        "df_new['Age'].student3 = 17\n",
        "df_new"
      ],
      "execution_count": 42,
      "outputs": [
        {
          "output_type": "stream",
          "name": "stderr",
          "text": [
            "/usr/local/lib/python3.7/dist-packages/pandas/core/generic.py:5170: SettingWithCopyWarning: \n",
            "A value is trying to be set on a copy of a slice from a DataFrame\n",
            "\n",
            "See the caveats in the documentation: https://pandas.pydata.org/pandas-docs/stable/user_guide/indexing.html#returning-a-view-versus-a-copy\n",
            "  self[name] = value\n"
          ]
        },
        {
          "output_type": "execute_result",
          "data": {
            "text/html": [
              "<div>\n",
              "<style scoped>\n",
              "    .dataframe tbody tr th:only-of-type {\n",
              "        vertical-align: middle;\n",
              "    }\n",
              "\n",
              "    .dataframe tbody tr th {\n",
              "        vertical-align: top;\n",
              "    }\n",
              "\n",
              "    .dataframe thead th {\n",
              "        text-align: right;\n",
              "    }\n",
              "</style>\n",
              "<table border=\"1\" class=\"dataframe\">\n",
              "  <thead>\n",
              "    <tr style=\"text-align: right;\">\n",
              "      <th></th>\n",
              "      <th>Age</th>\n",
              "      <th>Height</th>\n",
              "      <th>Name</th>\n",
              "    </tr>\n",
              "  </thead>\n",
              "  <tbody>\n",
              "    <tr>\n",
              "      <th>student1</th>\n",
              "      <td>15.0</td>\n",
              "      <td>140.0</td>\n",
              "      <td>Tom Lul</td>\n",
              "    </tr>\n",
              "    <tr>\n",
              "      <th>student2</th>\n",
              "      <td>16.0</td>\n",
              "      <td>155.0</td>\n",
              "      <td>Tim Dima</td>\n",
              "    </tr>\n",
              "    <tr>\n",
              "      <th>student3</th>\n",
              "      <td>17.0</td>\n",
              "      <td>167.0</td>\n",
              "      <td>Bulad Max</td>\n",
              "    </tr>\n",
              "    <tr>\n",
              "      <th>student4</th>\n",
              "      <td>18.0</td>\n",
              "      <td>NaN</td>\n",
              "      <td>Savira Lavix</td>\n",
              "    </tr>\n",
              "  </tbody>\n",
              "</table>\n",
              "</div>"
            ],
            "text/plain": [
              "           Age  Height          Name\n",
              "student1  15.0   140.0       Tom Lul\n",
              "student2  16.0   155.0      Tim Dima\n",
              "student3  17.0   167.0     Bulad Max\n",
              "student4  18.0     NaN  Savira Lavix"
            ]
          },
          "metadata": {},
          "execution_count": 42
        }
      ]
    },
    {
      "cell_type": "code",
      "metadata": {
        "id": "v6FpB9eITdff",
        "outputId": "a010a58a-2f8d-4f71-af7a-0b89314d8875",
        "colab": {
          "base_uri": "https://localhost:8080/",
          "height": 258
        }
      },
      "source": [
        "df_new['Age'][2] = 17\n",
        "df_new"
      ],
      "execution_count": 43,
      "outputs": [
        {
          "output_type": "stream",
          "name": "stderr",
          "text": [
            "/usr/local/lib/python3.7/dist-packages/ipykernel_launcher.py:1: SettingWithCopyWarning: \n",
            "A value is trying to be set on a copy of a slice from a DataFrame\n",
            "\n",
            "See the caveats in the documentation: https://pandas.pydata.org/pandas-docs/stable/user_guide/indexing.html#returning-a-view-versus-a-copy\n",
            "  \"\"\"Entry point for launching an IPython kernel.\n"
          ]
        },
        {
          "output_type": "execute_result",
          "data": {
            "text/html": [
              "<div>\n",
              "<style scoped>\n",
              "    .dataframe tbody tr th:only-of-type {\n",
              "        vertical-align: middle;\n",
              "    }\n",
              "\n",
              "    .dataframe tbody tr th {\n",
              "        vertical-align: top;\n",
              "    }\n",
              "\n",
              "    .dataframe thead th {\n",
              "        text-align: right;\n",
              "    }\n",
              "</style>\n",
              "<table border=\"1\" class=\"dataframe\">\n",
              "  <thead>\n",
              "    <tr style=\"text-align: right;\">\n",
              "      <th></th>\n",
              "      <th>Age</th>\n",
              "      <th>Height</th>\n",
              "      <th>Name</th>\n",
              "    </tr>\n",
              "  </thead>\n",
              "  <tbody>\n",
              "    <tr>\n",
              "      <th>student1</th>\n",
              "      <td>15.0</td>\n",
              "      <td>140.0</td>\n",
              "      <td>Tom Lul</td>\n",
              "    </tr>\n",
              "    <tr>\n",
              "      <th>student2</th>\n",
              "      <td>16.0</td>\n",
              "      <td>155.0</td>\n",
              "      <td>Tim Dima</td>\n",
              "    </tr>\n",
              "    <tr>\n",
              "      <th>student3</th>\n",
              "      <td>17.0</td>\n",
              "      <td>167.0</td>\n",
              "      <td>Bulad Max</td>\n",
              "    </tr>\n",
              "    <tr>\n",
              "      <th>student4</th>\n",
              "      <td>18.0</td>\n",
              "      <td>NaN</td>\n",
              "      <td>Savira Lavix</td>\n",
              "    </tr>\n",
              "  </tbody>\n",
              "</table>\n",
              "</div>"
            ],
            "text/plain": [
              "           Age  Height          Name\n",
              "student1  15.0   140.0       Tom Lul\n",
              "student2  16.0   155.0      Tim Dima\n",
              "student3  17.0   167.0     Bulad Max\n",
              "student4  18.0     NaN  Savira Lavix"
            ]
          },
          "metadata": {},
          "execution_count": 43
        }
      ]
    },
    {
      "cell_type": "markdown",
      "metadata": {
        "id": "6IDl1axqG1y-"
      },
      "source": [
        "# **Section 4**: Building Summary Functions and Maps දැනට පවතින සාරාංශ කාර්යයන් සහ සිතියම්"
      ]
    },
    {
      "cell_type": "markdown",
      "metadata": {
        "id": "8B-N5fQ2e_Ps"
      },
      "source": [
        "**Build-in summary functions** දැනට පවතින සාරාංශ කාර්යයන්\n",
        "\n",
        "There are several useful APIs that can be used for describing and visualizing  properties of data \n",
        "\n",
        "දත්ත වල ගුණාංග විස්තර කිරීම සහ දෘශ්‍යකරණය කිරීම  සඳහා භාවිතා කළ හැකි ප්‍රයෝජනවත් ඒපීඅයි කිහිපයක් තිබේ"
      ]
    },
    {
      "cell_type": "code",
      "metadata": {
        "colab": {
          "base_uri": "https://localhost:8080/",
          "height": 0
        },
        "id": "kT2IFLOLVDlb",
        "outputId": "2c73c5d8-dee9-4e81-92ca-bfa4ccebd108"
      },
      "source": [
        "df_new = pd.DataFrame({\"age\":[15, 16, np.nan, 18], \"height\":[140, 155, 167, np.nan]\n",
        "                       , \"name\":[\"Tom Lul\", \"Tim Maxwell\", \"Tim Dima\", \"Savi Lavix\"], \"mark\":[45, 67, 89, 67]}\n",
        "                      , index=[\"student1\", \"student2\", \"student3\", \"student4\"])\n",
        "df_new"
      ],
      "execution_count": 44,
      "outputs": [
        {
          "output_type": "execute_result",
          "data": {
            "text/html": [
              "<div>\n",
              "<style scoped>\n",
              "    .dataframe tbody tr th:only-of-type {\n",
              "        vertical-align: middle;\n",
              "    }\n",
              "\n",
              "    .dataframe tbody tr th {\n",
              "        vertical-align: top;\n",
              "    }\n",
              "\n",
              "    .dataframe thead th {\n",
              "        text-align: right;\n",
              "    }\n",
              "</style>\n",
              "<table border=\"1\" class=\"dataframe\">\n",
              "  <thead>\n",
              "    <tr style=\"text-align: right;\">\n",
              "      <th></th>\n",
              "      <th>age</th>\n",
              "      <th>height</th>\n",
              "      <th>name</th>\n",
              "      <th>mark</th>\n",
              "    </tr>\n",
              "  </thead>\n",
              "  <tbody>\n",
              "    <tr>\n",
              "      <th>student1</th>\n",
              "      <td>15.0</td>\n",
              "      <td>140.0</td>\n",
              "      <td>Tom Lul</td>\n",
              "      <td>45</td>\n",
              "    </tr>\n",
              "    <tr>\n",
              "      <th>student2</th>\n",
              "      <td>16.0</td>\n",
              "      <td>155.0</td>\n",
              "      <td>Tim Maxwell</td>\n",
              "      <td>67</td>\n",
              "    </tr>\n",
              "    <tr>\n",
              "      <th>student3</th>\n",
              "      <td>NaN</td>\n",
              "      <td>167.0</td>\n",
              "      <td>Tim Dima</td>\n",
              "      <td>89</td>\n",
              "    </tr>\n",
              "    <tr>\n",
              "      <th>student4</th>\n",
              "      <td>18.0</td>\n",
              "      <td>NaN</td>\n",
              "      <td>Savi Lavix</td>\n",
              "      <td>67</td>\n",
              "    </tr>\n",
              "  </tbody>\n",
              "</table>\n",
              "</div>"
            ],
            "text/plain": [
              "           age  height         name  mark\n",
              "student1  15.0   140.0      Tom Lul    45\n",
              "student2  16.0   155.0  Tim Maxwell    67\n",
              "student3   NaN   167.0     Tim Dima    89\n",
              "student4  18.0     NaN   Savi Lavix    67"
            ]
          },
          "metadata": {},
          "execution_count": 44
        }
      ]
    },
    {
      "cell_type": "markdown",
      "metadata": {
        "id": "TAMYDlYWjlkw"
      },
      "source": [
        "Let's see what it describes in default \n",
        "\n",
        "එය පෙරනිමියෙන් විස්තර කරන්නේ කුමක්දැයි බලමු"
      ]
    },
    {
      "cell_type": "code",
      "metadata": {
        "colab": {
          "base_uri": "https://localhost:8080/",
          "height": 0
        },
        "id": "6fGCYQtbgHzu",
        "outputId": "5db5ecca-5920-4c73-b3f0-96e8d37a4299"
      },
      "source": [
        "df_new.describe()"
      ],
      "execution_count": 45,
      "outputs": [
        {
          "output_type": "execute_result",
          "data": {
            "text/html": [
              "<div>\n",
              "<style scoped>\n",
              "    .dataframe tbody tr th:only-of-type {\n",
              "        vertical-align: middle;\n",
              "    }\n",
              "\n",
              "    .dataframe tbody tr th {\n",
              "        vertical-align: top;\n",
              "    }\n",
              "\n",
              "    .dataframe thead th {\n",
              "        text-align: right;\n",
              "    }\n",
              "</style>\n",
              "<table border=\"1\" class=\"dataframe\">\n",
              "  <thead>\n",
              "    <tr style=\"text-align: right;\">\n",
              "      <th></th>\n",
              "      <th>age</th>\n",
              "      <th>height</th>\n",
              "      <th>mark</th>\n",
              "    </tr>\n",
              "  </thead>\n",
              "  <tbody>\n",
              "    <tr>\n",
              "      <th>count</th>\n",
              "      <td>3.000000</td>\n",
              "      <td>3.000000</td>\n",
              "      <td>4.000000</td>\n",
              "    </tr>\n",
              "    <tr>\n",
              "      <th>mean</th>\n",
              "      <td>16.333333</td>\n",
              "      <td>154.000000</td>\n",
              "      <td>67.000000</td>\n",
              "    </tr>\n",
              "    <tr>\n",
              "      <th>std</th>\n",
              "      <td>1.527525</td>\n",
              "      <td>13.527749</td>\n",
              "      <td>17.962925</td>\n",
              "    </tr>\n",
              "    <tr>\n",
              "      <th>min</th>\n",
              "      <td>15.000000</td>\n",
              "      <td>140.000000</td>\n",
              "      <td>45.000000</td>\n",
              "    </tr>\n",
              "    <tr>\n",
              "      <th>25%</th>\n",
              "      <td>15.500000</td>\n",
              "      <td>147.500000</td>\n",
              "      <td>61.500000</td>\n",
              "    </tr>\n",
              "    <tr>\n",
              "      <th>50%</th>\n",
              "      <td>16.000000</td>\n",
              "      <td>155.000000</td>\n",
              "      <td>67.000000</td>\n",
              "    </tr>\n",
              "    <tr>\n",
              "      <th>75%</th>\n",
              "      <td>17.000000</td>\n",
              "      <td>161.000000</td>\n",
              "      <td>72.500000</td>\n",
              "    </tr>\n",
              "    <tr>\n",
              "      <th>max</th>\n",
              "      <td>18.000000</td>\n",
              "      <td>167.000000</td>\n",
              "      <td>89.000000</td>\n",
              "    </tr>\n",
              "  </tbody>\n",
              "</table>\n",
              "</div>"
            ],
            "text/plain": [
              "             age      height       mark\n",
              "count   3.000000    3.000000   4.000000\n",
              "mean   16.333333  154.000000  67.000000\n",
              "std     1.527525   13.527749  17.962925\n",
              "min    15.000000  140.000000  45.000000\n",
              "25%    15.500000  147.500000  61.500000\n",
              "50%    16.000000  155.000000  67.000000\n",
              "75%    17.000000  161.000000  72.500000\n",
              "max    18.000000  167.000000  89.000000"
            ]
          },
          "metadata": {},
          "execution_count": 45
        }
      ]
    },
    {
      "cell_type": "code",
      "metadata": {
        "colab": {
          "base_uri": "https://localhost:8080/",
          "height": 0
        },
        "id": "-KxHswTbgZin",
        "outputId": "95b92f44-4b24-431d-bbb7-9f86d636097d"
      },
      "source": [
        "df_new.describe(include='all')"
      ],
      "execution_count": 46,
      "outputs": [
        {
          "output_type": "execute_result",
          "data": {
            "text/html": [
              "<div>\n",
              "<style scoped>\n",
              "    .dataframe tbody tr th:only-of-type {\n",
              "        vertical-align: middle;\n",
              "    }\n",
              "\n",
              "    .dataframe tbody tr th {\n",
              "        vertical-align: top;\n",
              "    }\n",
              "\n",
              "    .dataframe thead th {\n",
              "        text-align: right;\n",
              "    }\n",
              "</style>\n",
              "<table border=\"1\" class=\"dataframe\">\n",
              "  <thead>\n",
              "    <tr style=\"text-align: right;\">\n",
              "      <th></th>\n",
              "      <th>age</th>\n",
              "      <th>height</th>\n",
              "      <th>name</th>\n",
              "      <th>mark</th>\n",
              "    </tr>\n",
              "  </thead>\n",
              "  <tbody>\n",
              "    <tr>\n",
              "      <th>count</th>\n",
              "      <td>3.000000</td>\n",
              "      <td>3.000000</td>\n",
              "      <td>4</td>\n",
              "      <td>4.000000</td>\n",
              "    </tr>\n",
              "    <tr>\n",
              "      <th>unique</th>\n",
              "      <td>NaN</td>\n",
              "      <td>NaN</td>\n",
              "      <td>4</td>\n",
              "      <td>NaN</td>\n",
              "    </tr>\n",
              "    <tr>\n",
              "      <th>top</th>\n",
              "      <td>NaN</td>\n",
              "      <td>NaN</td>\n",
              "      <td>Tim Dima</td>\n",
              "      <td>NaN</td>\n",
              "    </tr>\n",
              "    <tr>\n",
              "      <th>freq</th>\n",
              "      <td>NaN</td>\n",
              "      <td>NaN</td>\n",
              "      <td>1</td>\n",
              "      <td>NaN</td>\n",
              "    </tr>\n",
              "    <tr>\n",
              "      <th>mean</th>\n",
              "      <td>16.333333</td>\n",
              "      <td>154.000000</td>\n",
              "      <td>NaN</td>\n",
              "      <td>67.000000</td>\n",
              "    </tr>\n",
              "    <tr>\n",
              "      <th>std</th>\n",
              "      <td>1.527525</td>\n",
              "      <td>13.527749</td>\n",
              "      <td>NaN</td>\n",
              "      <td>17.962925</td>\n",
              "    </tr>\n",
              "    <tr>\n",
              "      <th>min</th>\n",
              "      <td>15.000000</td>\n",
              "      <td>140.000000</td>\n",
              "      <td>NaN</td>\n",
              "      <td>45.000000</td>\n",
              "    </tr>\n",
              "    <tr>\n",
              "      <th>25%</th>\n",
              "      <td>15.500000</td>\n",
              "      <td>147.500000</td>\n",
              "      <td>NaN</td>\n",
              "      <td>61.500000</td>\n",
              "    </tr>\n",
              "    <tr>\n",
              "      <th>50%</th>\n",
              "      <td>16.000000</td>\n",
              "      <td>155.000000</td>\n",
              "      <td>NaN</td>\n",
              "      <td>67.000000</td>\n",
              "    </tr>\n",
              "    <tr>\n",
              "      <th>75%</th>\n",
              "      <td>17.000000</td>\n",
              "      <td>161.000000</td>\n",
              "      <td>NaN</td>\n",
              "      <td>72.500000</td>\n",
              "    </tr>\n",
              "    <tr>\n",
              "      <th>max</th>\n",
              "      <td>18.000000</td>\n",
              "      <td>167.000000</td>\n",
              "      <td>NaN</td>\n",
              "      <td>89.000000</td>\n",
              "    </tr>\n",
              "  </tbody>\n",
              "</table>\n",
              "</div>"
            ],
            "text/plain": [
              "              age      height      name       mark\n",
              "count    3.000000    3.000000         4   4.000000\n",
              "unique        NaN         NaN         4        NaN\n",
              "top           NaN         NaN  Tim Dima        NaN\n",
              "freq          NaN         NaN         1        NaN\n",
              "mean    16.333333  154.000000       NaN  67.000000\n",
              "std      1.527525   13.527749       NaN  17.962925\n",
              "min     15.000000  140.000000       NaN  45.000000\n",
              "25%     15.500000  147.500000       NaN  61.500000\n",
              "50%     16.000000  155.000000       NaN  67.000000\n",
              "75%     17.000000  161.000000       NaN  72.500000\n",
              "max     18.000000  167.000000       NaN  89.000000"
            ]
          },
          "metadata": {},
          "execution_count": 46
        }
      ]
    },
    {
      "cell_type": "code",
      "metadata": {
        "colab": {
          "base_uri": "https://localhost:8080/"
        },
        "id": "XfLf1GZmj3Dt",
        "outputId": "b3860294-fe19-4bee-c17d-7c768f16b5e7"
      },
      "source": [
        "df_new.name.describe()"
      ],
      "execution_count": 47,
      "outputs": [
        {
          "output_type": "execute_result",
          "data": {
            "text/plain": [
              "count            4\n",
              "unique           4\n",
              "top       Tim Dima\n",
              "freq             1\n",
              "Name: name, dtype: object"
            ]
          },
          "metadata": {},
          "execution_count": 47
        }
      ]
    },
    {
      "cell_type": "code",
      "metadata": {
        "colab": {
          "base_uri": "https://localhost:8080/"
        },
        "id": "7ZKGL4NJj757",
        "outputId": "a50ad7ff-1394-4cfa-8f6d-46d92e5f83dc"
      },
      "source": [
        "df_new.mark.describe()"
      ],
      "execution_count": 48,
      "outputs": [
        {
          "output_type": "execute_result",
          "data": {
            "text/plain": [
              "count     4.000000\n",
              "mean     67.000000\n",
              "std      17.962925\n",
              "min      45.000000\n",
              "25%      61.500000\n",
              "50%      67.000000\n",
              "75%      72.500000\n",
              "max      89.000000\n",
              "Name: mark, dtype: float64"
            ]
          },
          "metadata": {},
          "execution_count": 48
        }
      ]
    },
    {
      "cell_type": "code",
      "metadata": {
        "colab": {
          "base_uri": "https://localhost:8080/"
        },
        "id": "7wM-AXqoknCC",
        "outputId": "d28d21f4-fe5a-44b7-febb-dc01d7bbe57c"
      },
      "source": [
        "df_new.mark.mean()"
      ],
      "execution_count": 49,
      "outputs": [
        {
          "output_type": "execute_result",
          "data": {
            "text/plain": [
              "67.0"
            ]
          },
          "metadata": {},
          "execution_count": 49
        }
      ]
    },
    {
      "cell_type": "code",
      "metadata": {
        "colab": {
          "base_uri": "https://localhost:8080/"
        },
        "id": "_NBOGm8dk41_",
        "outputId": "ed817f04-6992-42e1-d3d1-5e53bf01df39"
      },
      "source": [
        "df_new.name.value_counts()"
      ],
      "execution_count": 50,
      "outputs": [
        {
          "output_type": "execute_result",
          "data": {
            "text/plain": [
              "Tim Dima       1\n",
              "Tim Maxwell    1\n",
              "Savi Lavix     1\n",
              "Tom Lul        1\n",
              "Name: name, dtype: int64"
            ]
          },
          "metadata": {},
          "execution_count": 50
        }
      ]
    },
    {
      "cell_type": "markdown",
      "metadata": {
        "id": "lItlffkYlTPx"
      },
      "source": [
        "**Mapping** සිතියම් ගත කිරීම\n",
        "\n",
        "In general, mapping means applying a transformation, e.g., function, a given set of values into another set of values. For example, think that, we need to understand how marks havebeing deviated around its mean\n",
        "\n",
        "පොදුවේ ගත් කල, සිතියම් ගත කිරීම යනු යම් අගයන් සමූහයක් වෙනත් අගයන් සමූහයක් බවට පරිවර්තනයක් යෙදීමයි. උදාහරණයක් වශයෙන්, එහි මධ්‍යන්‍යය වටා ලකුණු අපගමනය වී ඇති ආකාරය අප තේරුම් ගත යුතු යැයි සිතන්න."
      ]
    },
    {
      "cell_type": "code",
      "metadata": {
        "colab": {
          "base_uri": "https://localhost:8080/"
        },
        "id": "czPshTbUv97n",
        "outputId": "a0d6789a-18a1-4c10-c508-1ee059053a13"
      },
      "source": [
        "marks_mean = df_new.mark.mean()\n",
        "\n",
        "def centering(row):\n",
        "  return row.mark - marks_mean \n",
        "\n",
        "df_new.apply(centering, axis=\"columns\")"
      ],
      "execution_count": 51,
      "outputs": [
        {
          "output_type": "execute_result",
          "data": {
            "text/plain": [
              "student1   -22.0\n",
              "student2     0.0\n",
              "student3    22.0\n",
              "student4     0.0\n",
              "dtype: float64"
            ]
          },
          "metadata": {},
          "execution_count": 51
        }
      ]
    },
    {
      "cell_type": "markdown",
      "metadata": {
        "id": "DRec6kJoxfiR"
      },
      "source": [
        "the same things can be done in the following:\n",
        "\n",
        "පහත සඳහන් දේ වලින් එකම දේ කළ හැකිය:"
      ]
    },
    {
      "cell_type": "code",
      "metadata": {
        "colab": {
          "base_uri": "https://localhost:8080/"
        },
        "id": "Oqho49n0xmfv",
        "outputId": "41f0118b-1098-43b6-d0ec-f926e2b977f3"
      },
      "source": [
        "df_new.mark.map(lambda p: p-marks_mean) \n"
      ],
      "execution_count": 52,
      "outputs": [
        {
          "output_type": "execute_result",
          "data": {
            "text/plain": [
              "student1   -22.0\n",
              "student2     0.0\n",
              "student3    22.0\n",
              "student4     0.0\n",
              "Name: mark, dtype: float64"
            ]
          },
          "metadata": {},
          "execution_count": 52
        }
      ]
    },
    {
      "cell_type": "markdown",
      "metadata": {
        "id": "F_CBOekTIHQc"
      },
      "source": [
        "# **Section 5**: Grouping කණ්ඩායම් කිරීම"
      ]
    },
    {
      "cell_type": "markdown",
      "metadata": {
        "id": "mVtMXo76yWRh"
      },
      "source": [
        "**Groupwise Operations** කණ්ඩායම් වශයෙන් මෙහෙයුම්\n",
        "\n"
      ]
    },
    {
      "cell_type": "code",
      "metadata": {
        "colab": {
          "base_uri": "https://localhost:8080/"
        },
        "id": "ChpqsCr4z5od",
        "outputId": "f4c8e734-15d6-41e4-df04-82a3ead45055"
      },
      "source": [
        "df_new.groupby('mark').mark.count()"
      ],
      "execution_count": 53,
      "outputs": [
        {
          "output_type": "execute_result",
          "data": {
            "text/plain": [
              "mark\n",
              "45    1\n",
              "67    2\n",
              "89    1\n",
              "Name: mark, dtype: int64"
            ]
          },
          "metadata": {},
          "execution_count": 53
        }
      ]
    },
    {
      "cell_type": "code",
      "metadata": {
        "colab": {
          "base_uri": "https://localhost:8080/"
        },
        "id": "g2YClSoT144x",
        "outputId": "2999f691-6b81-4074-cafa-2c0b7b4207b4"
      },
      "source": [
        "df_new.groupby('mark').apply(lambda df: df.height)"
      ],
      "execution_count": 54,
      "outputs": [
        {
          "output_type": "execute_result",
          "data": {
            "text/plain": [
              "mark          \n",
              "45    student1    140.0\n",
              "67    student2    155.0\n",
              "      student4      NaN\n",
              "89    student3    167.0\n",
              "Name: height, dtype: float64"
            ]
          },
          "metadata": {},
          "execution_count": 54
        }
      ]
    },
    {
      "cell_type": "code",
      "metadata": {
        "colab": {
          "base_uri": "https://localhost:8080/"
        },
        "id": "Nb4sJP82nr1X",
        "outputId": "3113c0e9-c4a7-4429-ab63-85f8017b536e"
      },
      "source": [
        "df_new.groupby(['mark', 'age']).apply(lambda df: df.height)"
      ],
      "execution_count": 55,
      "outputs": [
        {
          "output_type": "execute_result",
          "data": {
            "text/plain": [
              "mark  age           \n",
              "45    15.0  student1    140.0\n",
              "67    16.0  student2    155.0\n",
              "      18.0  student4      NaN\n",
              "Name: height, dtype: float64"
            ]
          },
          "metadata": {},
          "execution_count": 55
        }
      ]
    },
    {
      "cell_type": "code",
      "metadata": {
        "colab": {
          "base_uri": "https://localhost:8080/"
        },
        "id": "ia37lFrooFWH",
        "outputId": "dcf8d62e-6ac7-4fb7-8cbf-68f428d5134d"
      },
      "source": [
        "df_new.groupby('mark').apply(lambda df: df.mark).agg([len, min, max])"
      ],
      "execution_count": 56,
      "outputs": [
        {
          "output_type": "execute_result",
          "data": {
            "text/plain": [
              "len     4\n",
              "min    45\n",
              "max    89\n",
              "Name: mark, dtype: int64"
            ]
          },
          "metadata": {},
          "execution_count": 56
        }
      ]
    },
    {
      "cell_type": "markdown",
      "metadata": {
        "id": "eNzrIQlaIP3Y"
      },
      "source": [
        "# **Section 6**: Data Types and Missing Values දත්ත වර්ග සහ නැතිවූ අගයන්"
      ]
    },
    {
      "cell_type": "markdown",
      "metadata": {
        "id": "scjiVg23rGsd"
      },
      "source": [
        "**Dealing with missing data** නැතිවූ දත්ත සමඟ කටයුතු කිරීම\n",
        "\n",
        "Data type of each column can be check by accessing **dtype** property\n",
        "\n",
        "**dtype** වෙත ප්‍රවේශ වීමෙන් එක් එක් තීරුවේ දත්ත වර්ගය පරීක්‍ෂා කළ හැකිය"
      ]
    },
    {
      "cell_type": "code",
      "metadata": {
        "colab": {
          "base_uri": "https://localhost:8080/"
        },
        "id": "NzClwgGKrTfH",
        "outputId": "c6c13067-dcb2-4c40-b4cf-538a22061ced"
      },
      "source": [
        "\n",
        "df_new.age.dtype "
      ],
      "execution_count": 57,
      "outputs": [
        {
          "output_type": "execute_result",
          "data": {
            "text/plain": [
              "dtype('float64')"
            ]
          },
          "metadata": {},
          "execution_count": 57
        }
      ]
    },
    {
      "cell_type": "code",
      "metadata": {
        "colab": {
          "base_uri": "https://localhost:8080/"
        },
        "id": "jNAdlUW0rwzD",
        "outputId": "6ca76307-2548-41ed-cc7a-ac7288c809f2"
      },
      "source": [
        "df_new.dtypes "
      ],
      "execution_count": 58,
      "outputs": [
        {
          "output_type": "execute_result",
          "data": {
            "text/plain": [
              "age       float64\n",
              "height    float64\n",
              "name       object\n",
              "mark        int64\n",
              "dtype: object"
            ]
          },
          "metadata": {},
          "execution_count": 58
        }
      ]
    },
    {
      "cell_type": "markdown",
      "metadata": {
        "id": "FrbLvGMwr-Pm"
      },
      "source": [
        "Data type any entry can be changed using **astype(dtype)** function. In general, age is represented in an integer. Can you  change the age column into integer values? Since one value is not defined, NaN, the first step is to remove those undefined values \n",
        "\n",
        "දත්ත වර්ගය ඕනෑම ඇතුළත් කිරීමක් ** astype (dtype) ** ශ්‍රිතය භාවිතයෙන් වෙනස් කළ හැකිය. පොදුවේ ගත් කල, වයස නිරූපණය වන්නේ නිඛිලයකින් ය. ඔබට වයස් තීරුව නිඛිල අගයන් ලෙස වෙනස්  කළ හැකිද? එක් අගයක් නිර්වචනය කර නැති හෙයින්, පළමු පියවර නම් එම නිර්වචනය නොකළ අගයන් ඉවත් කිරීමයි"
      ]
    },
    {
      "cell_type": "code",
      "metadata": {
        "id": "PAxKItsSsKG0"
      },
      "source": [
        "#df_new.age.astype(np.int) #You will get an error "
      ],
      "execution_count": 59,
      "outputs": []
    },
    {
      "cell_type": "code",
      "metadata": {
        "colab": {
          "base_uri": "https://localhost:8080/"
        },
        "id": "uhn7DGWhtKt8",
        "outputId": "8521a0ed-f843-4df8-d8f5-0b2303923ef6"
      },
      "source": [
        "pd.isnull(df_new.age)"
      ],
      "execution_count": 60,
      "outputs": [
        {
          "output_type": "execute_result",
          "data": {
            "text/plain": [
              "student1    False\n",
              "student2    False\n",
              "student3     True\n",
              "student4    False\n",
              "Name: age, dtype: bool"
            ]
          },
          "metadata": {},
          "execution_count": 60
        }
      ]
    },
    {
      "cell_type": "code",
      "metadata": {
        "colab": {
          "base_uri": "https://localhost:8080/"
        },
        "id": "j9NXeGx_tSXf",
        "outputId": "f67dd136-97f2-4d51-fccf-472bfd217d3d"
      },
      "source": [
        "df_new.age.isnull()"
      ],
      "execution_count": 61,
      "outputs": [
        {
          "output_type": "execute_result",
          "data": {
            "text/plain": [
              "student1    False\n",
              "student2    False\n",
              "student3     True\n",
              "student4    False\n",
              "Name: age, dtype: bool"
            ]
          },
          "metadata": {},
          "execution_count": 61
        }
      ]
    },
    {
      "cell_type": "code",
      "metadata": {
        "colab": {
          "base_uri": "https://localhost:8080/"
        },
        "id": "PlQSarbrtahv",
        "outputId": "c8e8fd46-3353-49a6-cb11-91973ed72565"
      },
      "source": [
        "df_new.age[~df_new.age.isnull()]"
      ],
      "execution_count": 62,
      "outputs": [
        {
          "output_type": "execute_result",
          "data": {
            "text/plain": [
              "student1    15.0\n",
              "student2    16.0\n",
              "student4    18.0\n",
              "Name: age, dtype: float64"
            ]
          },
          "metadata": {},
          "execution_count": 62
        }
      ]
    },
    {
      "cell_type": "code",
      "metadata": {
        "colab": {
          "base_uri": "https://localhost:8080/"
        },
        "id": "eyIGO1xytlvc",
        "outputId": "1315090d-2b39-4ad6-ef10-3b25d6111e2b"
      },
      "source": [
        "df_new.age[~df_new.age.isnull()].astype(\"int64\")"
      ],
      "execution_count": 63,
      "outputs": [
        {
          "output_type": "execute_result",
          "data": {
            "text/plain": [
              "student1    15\n",
              "student2    16\n",
              "student4    18\n",
              "Name: age, dtype: int64"
            ]
          },
          "metadata": {},
          "execution_count": 63
        }
      ]
    },
    {
      "cell_type": "code",
      "metadata": {
        "colab": {
          "base_uri": "https://localhost:8080/"
        },
        "id": "B9AO5E3Ct24S",
        "outputId": "1189dadd-2ad6-485a-f29f-fa2803d2084e"
      },
      "source": [
        "df_new.age.fillna(\"Unknown\")"
      ],
      "execution_count": 64,
      "outputs": [
        {
          "output_type": "execute_result",
          "data": {
            "text/plain": [
              "student1         15\n",
              "student2         16\n",
              "student3    Unknown\n",
              "student4         18\n",
              "Name: age, dtype: object"
            ]
          },
          "metadata": {},
          "execution_count": 64
        }
      ]
    },
    {
      "cell_type": "markdown",
      "metadata": {
        "id": "EtAXdUNxuMhR"
      },
      "source": [
        "Now type if age becomes object since datatypes are mixed of integer and string. Moreover, if we know the values to be replaced, we can use the **replace** function \n",
        "\n",
        "දැන් සංඛ්‍යාංකය හා තන්තුව මිශ්‍ර වී ඇති බැවින් වයස් කාලය වස්තුවක් බවට පත් වුවහොත් ටයිප් කරන්න. එපමණක් නොව, ආදේශ කළ යුතු අගයන් අප දන්නේ නම්, අපට ** ප්‍රතිස්ථාපන ** ශ්‍රිතය භාවිතා කළ හැකිය"
      ]
    },
    {
      "cell_type": "code",
      "metadata": {
        "colab": {
          "base_uri": "https://localhost:8080/"
        },
        "id": "3cNpbMN6vEYH",
        "outputId": "ac4bb40d-839e-4f0d-8ecf-e16d7ad8479a"
      },
      "source": [
        "df_new.age "
      ],
      "execution_count": 65,
      "outputs": [
        {
          "output_type": "execute_result",
          "data": {
            "text/plain": [
              "student1    15.0\n",
              "student2    16.0\n",
              "student3     NaN\n",
              "student4    18.0\n",
              "Name: age, dtype: float64"
            ]
          },
          "metadata": {},
          "execution_count": 65
        }
      ]
    },
    {
      "cell_type": "code",
      "metadata": {
        "id": "3KJtgnwDual8"
      },
      "source": [
        "df_new.age = df_new.age.replace(np.nan, 45)"
      ],
      "execution_count": 66,
      "outputs": []
    },
    {
      "cell_type": "markdown",
      "metadata": {
        "id": "lHJMEFbXIx6F"
      },
      "source": [
        "# **Section 7**: Renaming and Combining නැවත නම් කිරීම සහ ඒකාබද්ධ කිරීම"
      ]
    },
    {
      "cell_type": "markdown",
      "metadata": {
        "id": "0HcZREyTvRMV"
      },
      "source": [
        "**Renaming** නැවත නම් කිරීම\n",
        "\n",
        "We can rename any column or index using rename() function \n",
        "\n",
        "නැවත නම් කිරීමේ  ශ්‍රිතය භාවිතයෙන් අපට ඕනෑම තීරුවක් හෝ දර්ශකයක් නැවත නම් කළ හැකිය\n"
      ]
    },
    {
      "cell_type": "code",
      "metadata": {
        "colab": {
          "base_uri": "https://localhost:8080/",
          "height": 173
        },
        "id": "3_bbzPv9vkzR",
        "outputId": "eeae3b28-8169-4787-8abd-1f3664849236"
      },
      "source": [
        "df_new.rename(columns={'name':\"full_name\"})"
      ],
      "execution_count": 67,
      "outputs": [
        {
          "output_type": "execute_result",
          "data": {
            "text/html": [
              "<div>\n",
              "<style scoped>\n",
              "    .dataframe tbody tr th:only-of-type {\n",
              "        vertical-align: middle;\n",
              "    }\n",
              "\n",
              "    .dataframe tbody tr th {\n",
              "        vertical-align: top;\n",
              "    }\n",
              "\n",
              "    .dataframe thead th {\n",
              "        text-align: right;\n",
              "    }\n",
              "</style>\n",
              "<table border=\"1\" class=\"dataframe\">\n",
              "  <thead>\n",
              "    <tr style=\"text-align: right;\">\n",
              "      <th></th>\n",
              "      <th>age</th>\n",
              "      <th>height</th>\n",
              "      <th>full_name</th>\n",
              "      <th>mark</th>\n",
              "    </tr>\n",
              "  </thead>\n",
              "  <tbody>\n",
              "    <tr>\n",
              "      <th>student1</th>\n",
              "      <td>15.0</td>\n",
              "      <td>140.0</td>\n",
              "      <td>Tom Lul</td>\n",
              "      <td>45</td>\n",
              "    </tr>\n",
              "    <tr>\n",
              "      <th>student2</th>\n",
              "      <td>16.0</td>\n",
              "      <td>155.0</td>\n",
              "      <td>Tim Maxwell</td>\n",
              "      <td>67</td>\n",
              "    </tr>\n",
              "    <tr>\n",
              "      <th>student3</th>\n",
              "      <td>45.0</td>\n",
              "      <td>167.0</td>\n",
              "      <td>Tim Dima</td>\n",
              "      <td>89</td>\n",
              "    </tr>\n",
              "    <tr>\n",
              "      <th>student4</th>\n",
              "      <td>18.0</td>\n",
              "      <td>NaN</td>\n",
              "      <td>Savi Lavix</td>\n",
              "      <td>67</td>\n",
              "    </tr>\n",
              "  </tbody>\n",
              "</table>\n",
              "</div>"
            ],
            "text/plain": [
              "           age  height    full_name  mark\n",
              "student1  15.0   140.0      Tom Lul    45\n",
              "student2  16.0   155.0  Tim Maxwell    67\n",
              "student3  45.0   167.0     Tim Dima    89\n",
              "student4  18.0     NaN   Savi Lavix    67"
            ]
          },
          "metadata": {},
          "execution_count": 67
        }
      ]
    },
    {
      "cell_type": "code",
      "metadata": {
        "colab": {
          "base_uri": "https://localhost:8080/",
          "height": 173
        },
        "id": "o_-5latMwftP",
        "outputId": "6f19adfa-e78a-4b8b-da8d-1aa532b21700"
      },
      "source": [
        "df_new.rename(index={'student1':'s1', 'student3':'s3'})"
      ],
      "execution_count": 68,
      "outputs": [
        {
          "output_type": "execute_result",
          "data": {
            "text/html": [
              "<div>\n",
              "<style scoped>\n",
              "    .dataframe tbody tr th:only-of-type {\n",
              "        vertical-align: middle;\n",
              "    }\n",
              "\n",
              "    .dataframe tbody tr th {\n",
              "        vertical-align: top;\n",
              "    }\n",
              "\n",
              "    .dataframe thead th {\n",
              "        text-align: right;\n",
              "    }\n",
              "</style>\n",
              "<table border=\"1\" class=\"dataframe\">\n",
              "  <thead>\n",
              "    <tr style=\"text-align: right;\">\n",
              "      <th></th>\n",
              "      <th>age</th>\n",
              "      <th>height</th>\n",
              "      <th>name</th>\n",
              "      <th>mark</th>\n",
              "    </tr>\n",
              "  </thead>\n",
              "  <tbody>\n",
              "    <tr>\n",
              "      <th>s1</th>\n",
              "      <td>15.0</td>\n",
              "      <td>140.0</td>\n",
              "      <td>Tom Lul</td>\n",
              "      <td>45</td>\n",
              "    </tr>\n",
              "    <tr>\n",
              "      <th>student2</th>\n",
              "      <td>16.0</td>\n",
              "      <td>155.0</td>\n",
              "      <td>Tim Maxwell</td>\n",
              "      <td>67</td>\n",
              "    </tr>\n",
              "    <tr>\n",
              "      <th>s3</th>\n",
              "      <td>45.0</td>\n",
              "      <td>167.0</td>\n",
              "      <td>Tim Dima</td>\n",
              "      <td>89</td>\n",
              "    </tr>\n",
              "    <tr>\n",
              "      <th>student4</th>\n",
              "      <td>18.0</td>\n",
              "      <td>NaN</td>\n",
              "      <td>Savi Lavix</td>\n",
              "      <td>67</td>\n",
              "    </tr>\n",
              "  </tbody>\n",
              "</table>\n",
              "</div>"
            ],
            "text/plain": [
              "           age  height         name  mark\n",
              "s1        15.0   140.0      Tom Lul    45\n",
              "student2  16.0   155.0  Tim Maxwell    67\n",
              "s3        45.0   167.0     Tim Dima    89\n",
              "student4  18.0     NaN   Savi Lavix    67"
            ]
          },
          "metadata": {},
          "execution_count": 68
        }
      ]
    },
    {
      "cell_type": "markdown",
      "metadata": {
        "id": "3pbBV5bZwdo_"
      },
      "source": [
        "In order to to rename or add axis names, we can use **rename_axis()**\n",
        "\n",
        "අක්ෂයේ නම් නැවත නම් කිරීමට හෝ එකතු කිරීමට අපට **rename_axis ()** භාවිතා කළ හැකිය."
      ]
    },
    {
      "cell_type": "code",
      "metadata": {
        "colab": {
          "base_uri": "https://localhost:8080/",
          "height": 204
        },
        "id": "HW9ScqwtxLUJ",
        "outputId": "78dd2303-4b02-4967-c96b-7adc4dba83b4"
      },
      "source": [
        "df_new.rename_axis(\"index\", axis=\"rows\").rename_axis(\"information\", axis='columns')"
      ],
      "execution_count": 69,
      "outputs": [
        {
          "output_type": "execute_result",
          "data": {
            "text/html": [
              "<div>\n",
              "<style scoped>\n",
              "    .dataframe tbody tr th:only-of-type {\n",
              "        vertical-align: middle;\n",
              "    }\n",
              "\n",
              "    .dataframe tbody tr th {\n",
              "        vertical-align: top;\n",
              "    }\n",
              "\n",
              "    .dataframe thead th {\n",
              "        text-align: right;\n",
              "    }\n",
              "</style>\n",
              "<table border=\"1\" class=\"dataframe\">\n",
              "  <thead>\n",
              "    <tr style=\"text-align: right;\">\n",
              "      <th>information</th>\n",
              "      <th>age</th>\n",
              "      <th>height</th>\n",
              "      <th>name</th>\n",
              "      <th>mark</th>\n",
              "    </tr>\n",
              "    <tr>\n",
              "      <th>index</th>\n",
              "      <th></th>\n",
              "      <th></th>\n",
              "      <th></th>\n",
              "      <th></th>\n",
              "    </tr>\n",
              "  </thead>\n",
              "  <tbody>\n",
              "    <tr>\n",
              "      <th>student1</th>\n",
              "      <td>15.0</td>\n",
              "      <td>140.0</td>\n",
              "      <td>Tom Lul</td>\n",
              "      <td>45</td>\n",
              "    </tr>\n",
              "    <tr>\n",
              "      <th>student2</th>\n",
              "      <td>16.0</td>\n",
              "      <td>155.0</td>\n",
              "      <td>Tim Maxwell</td>\n",
              "      <td>67</td>\n",
              "    </tr>\n",
              "    <tr>\n",
              "      <th>student3</th>\n",
              "      <td>45.0</td>\n",
              "      <td>167.0</td>\n",
              "      <td>Tim Dima</td>\n",
              "      <td>89</td>\n",
              "    </tr>\n",
              "    <tr>\n",
              "      <th>student4</th>\n",
              "      <td>18.0</td>\n",
              "      <td>NaN</td>\n",
              "      <td>Savi Lavix</td>\n",
              "      <td>67</td>\n",
              "    </tr>\n",
              "  </tbody>\n",
              "</table>\n",
              "</div>"
            ],
            "text/plain": [
              "information   age  height         name  mark\n",
              "index                                       \n",
              "student1     15.0   140.0      Tom Lul    45\n",
              "student2     16.0   155.0  Tim Maxwell    67\n",
              "student3     45.0   167.0     Tim Dima    89\n",
              "student4     18.0     NaN   Savi Lavix    67"
            ]
          },
          "metadata": {},
          "execution_count": 69
        }
      ]
    },
    {
      "cell_type": "markdown",
      "metadata": {
        "id": "twU3K993x-Md"
      },
      "source": [
        "**Combining** ඒකාබද්ධ කිරීම\n",
        "\n",
        "Let's say class A and class B students' details are given as follows:\n",
        "\n",
        "A සහ B පන්තියේ සිසුන්ගේ විස්තර පහත පරිදි ලබා දී ඇතැයි කියමු:"
      ]
    },
    {
      "cell_type": "code",
      "metadata": {
        "colab": {
          "base_uri": "https://localhost:8080/",
          "height": 173
        },
        "id": "oaNFnz51yazU",
        "outputId": "69657ebb-19e4-428c-bc55-9f28b5b2058c"
      },
      "source": [
        "class_A = pd.DataFrame({\"age\":[15, 16, 23, 18], \"height\":[140, 155, 167, 178]\n",
        "                       , \"name\":[\"Tom Lul\", \"Tim Maxwell\", \"Tim Dima\", \"Savi Lavix\"], \"mark\":[45, 67, 89, 67]}\n",
        "                      , index=[\"a_s1\", \"a_s2\", \"a_s3\", \"a_s4\"])\n",
        "class_A"
      ],
      "execution_count": 70,
      "outputs": [
        {
          "output_type": "execute_result",
          "data": {
            "text/html": [
              "<div>\n",
              "<style scoped>\n",
              "    .dataframe tbody tr th:only-of-type {\n",
              "        vertical-align: middle;\n",
              "    }\n",
              "\n",
              "    .dataframe tbody tr th {\n",
              "        vertical-align: top;\n",
              "    }\n",
              "\n",
              "    .dataframe thead th {\n",
              "        text-align: right;\n",
              "    }\n",
              "</style>\n",
              "<table border=\"1\" class=\"dataframe\">\n",
              "  <thead>\n",
              "    <tr style=\"text-align: right;\">\n",
              "      <th></th>\n",
              "      <th>age</th>\n",
              "      <th>height</th>\n",
              "      <th>name</th>\n",
              "      <th>mark</th>\n",
              "    </tr>\n",
              "  </thead>\n",
              "  <tbody>\n",
              "    <tr>\n",
              "      <th>a_s1</th>\n",
              "      <td>15</td>\n",
              "      <td>140</td>\n",
              "      <td>Tom Lul</td>\n",
              "      <td>45</td>\n",
              "    </tr>\n",
              "    <tr>\n",
              "      <th>a_s2</th>\n",
              "      <td>16</td>\n",
              "      <td>155</td>\n",
              "      <td>Tim Maxwell</td>\n",
              "      <td>67</td>\n",
              "    </tr>\n",
              "    <tr>\n",
              "      <th>a_s3</th>\n",
              "      <td>23</td>\n",
              "      <td>167</td>\n",
              "      <td>Tim Dima</td>\n",
              "      <td>89</td>\n",
              "    </tr>\n",
              "    <tr>\n",
              "      <th>a_s4</th>\n",
              "      <td>18</td>\n",
              "      <td>178</td>\n",
              "      <td>Savi Lavix</td>\n",
              "      <td>67</td>\n",
              "    </tr>\n",
              "  </tbody>\n",
              "</table>\n",
              "</div>"
            ],
            "text/plain": [
              "      age  height         name  mark\n",
              "a_s1   15     140      Tom Lul    45\n",
              "a_s2   16     155  Tim Maxwell    67\n",
              "a_s3   23     167     Tim Dima    89\n",
              "a_s4   18     178   Savi Lavix    67"
            ]
          },
          "metadata": {},
          "execution_count": 70
        }
      ]
    },
    {
      "cell_type": "code",
      "metadata": {
        "colab": {
          "base_uri": "https://localhost:8080/",
          "height": 173
        },
        "id": "-U1kpVj7zGfw",
        "outputId": "e5b2df29-85c7-40ac-c4b2-8074ecde2469"
      },
      "source": [
        "\n",
        "class_B = pd.DataFrame({\"age\":[16, 14, 19, 16], \"height\":[120, 175, 187, 146]\n",
        "                       , \"name\":[\"Mina Vox\", \"Luna Bulad\", \"Bulga Martib\", \"Savin Lulax\"], \"mark\":[4,45, 28, 89]}\n",
        "                      , index=[\"b_s1\", \"b_s2\", \"b_s3\", \"b_s4\"])\n",
        "class_B"
      ],
      "execution_count": 71,
      "outputs": [
        {
          "output_type": "execute_result",
          "data": {
            "text/html": [
              "<div>\n",
              "<style scoped>\n",
              "    .dataframe tbody tr th:only-of-type {\n",
              "        vertical-align: middle;\n",
              "    }\n",
              "\n",
              "    .dataframe tbody tr th {\n",
              "        vertical-align: top;\n",
              "    }\n",
              "\n",
              "    .dataframe thead th {\n",
              "        text-align: right;\n",
              "    }\n",
              "</style>\n",
              "<table border=\"1\" class=\"dataframe\">\n",
              "  <thead>\n",
              "    <tr style=\"text-align: right;\">\n",
              "      <th></th>\n",
              "      <th>age</th>\n",
              "      <th>height</th>\n",
              "      <th>name</th>\n",
              "      <th>mark</th>\n",
              "    </tr>\n",
              "  </thead>\n",
              "  <tbody>\n",
              "    <tr>\n",
              "      <th>b_s1</th>\n",
              "      <td>16</td>\n",
              "      <td>120</td>\n",
              "      <td>Mina Vox</td>\n",
              "      <td>4</td>\n",
              "    </tr>\n",
              "    <tr>\n",
              "      <th>b_s2</th>\n",
              "      <td>14</td>\n",
              "      <td>175</td>\n",
              "      <td>Luna Bulad</td>\n",
              "      <td>45</td>\n",
              "    </tr>\n",
              "    <tr>\n",
              "      <th>b_s3</th>\n",
              "      <td>19</td>\n",
              "      <td>187</td>\n",
              "      <td>Bulga Martib</td>\n",
              "      <td>28</td>\n",
              "    </tr>\n",
              "    <tr>\n",
              "      <th>b_s4</th>\n",
              "      <td>16</td>\n",
              "      <td>146</td>\n",
              "      <td>Savin Lulax</td>\n",
              "      <td>89</td>\n",
              "    </tr>\n",
              "  </tbody>\n",
              "</table>\n",
              "</div>"
            ],
            "text/plain": [
              "      age  height          name  mark\n",
              "b_s1   16     120      Mina Vox     4\n",
              "b_s2   14     175    Luna Bulad    45\n",
              "b_s3   19     187  Bulga Martib    28\n",
              "b_s4   16     146   Savin Lulax    89"
            ]
          },
          "metadata": {},
          "execution_count": 71
        }
      ]
    },
    {
      "cell_type": "markdown",
      "metadata": {
        "id": "GzezwAqQzeWD"
      },
      "source": [
        "Now we need to check who has scored the highest mark? How can we do this?\n",
        "\n",
        "දැන් අපි පරීක්‍ෂා කළ යුත්තේ වැඩිම ලකුණු ලබාගත්තේ කවුද? අපට මෙය කළ හැක්කේ කෙසේද?"
      ]
    },
    {
      "cell_type": "code",
      "metadata": {
        "colab": {
          "base_uri": "https://localhost:8080/",
          "height": 297
        },
        "id": "Whum0SVlzkxb",
        "outputId": "8c4397f9-864c-411f-897a-617e2f2b73c2"
      },
      "source": [
        "classes = pd.concat([class_A, class_B])\n",
        "classes "
      ],
      "execution_count": 72,
      "outputs": [
        {
          "output_type": "execute_result",
          "data": {
            "text/html": [
              "<div>\n",
              "<style scoped>\n",
              "    .dataframe tbody tr th:only-of-type {\n",
              "        vertical-align: middle;\n",
              "    }\n",
              "\n",
              "    .dataframe tbody tr th {\n",
              "        vertical-align: top;\n",
              "    }\n",
              "\n",
              "    .dataframe thead th {\n",
              "        text-align: right;\n",
              "    }\n",
              "</style>\n",
              "<table border=\"1\" class=\"dataframe\">\n",
              "  <thead>\n",
              "    <tr style=\"text-align: right;\">\n",
              "      <th></th>\n",
              "      <th>age</th>\n",
              "      <th>height</th>\n",
              "      <th>name</th>\n",
              "      <th>mark</th>\n",
              "    </tr>\n",
              "  </thead>\n",
              "  <tbody>\n",
              "    <tr>\n",
              "      <th>a_s1</th>\n",
              "      <td>15</td>\n",
              "      <td>140</td>\n",
              "      <td>Tom Lul</td>\n",
              "      <td>45</td>\n",
              "    </tr>\n",
              "    <tr>\n",
              "      <th>a_s2</th>\n",
              "      <td>16</td>\n",
              "      <td>155</td>\n",
              "      <td>Tim Maxwell</td>\n",
              "      <td>67</td>\n",
              "    </tr>\n",
              "    <tr>\n",
              "      <th>a_s3</th>\n",
              "      <td>23</td>\n",
              "      <td>167</td>\n",
              "      <td>Tim Dima</td>\n",
              "      <td>89</td>\n",
              "    </tr>\n",
              "    <tr>\n",
              "      <th>a_s4</th>\n",
              "      <td>18</td>\n",
              "      <td>178</td>\n",
              "      <td>Savi Lavix</td>\n",
              "      <td>67</td>\n",
              "    </tr>\n",
              "    <tr>\n",
              "      <th>b_s1</th>\n",
              "      <td>16</td>\n",
              "      <td>120</td>\n",
              "      <td>Mina Vox</td>\n",
              "      <td>4</td>\n",
              "    </tr>\n",
              "    <tr>\n",
              "      <th>b_s2</th>\n",
              "      <td>14</td>\n",
              "      <td>175</td>\n",
              "      <td>Luna Bulad</td>\n",
              "      <td>45</td>\n",
              "    </tr>\n",
              "    <tr>\n",
              "      <th>b_s3</th>\n",
              "      <td>19</td>\n",
              "      <td>187</td>\n",
              "      <td>Bulga Martib</td>\n",
              "      <td>28</td>\n",
              "    </tr>\n",
              "    <tr>\n",
              "      <th>b_s4</th>\n",
              "      <td>16</td>\n",
              "      <td>146</td>\n",
              "      <td>Savin Lulax</td>\n",
              "      <td>89</td>\n",
              "    </tr>\n",
              "  </tbody>\n",
              "</table>\n",
              "</div>"
            ],
            "text/plain": [
              "      age  height          name  mark\n",
              "a_s1   15     140       Tom Lul    45\n",
              "a_s2   16     155   Tim Maxwell    67\n",
              "a_s3   23     167      Tim Dima    89\n",
              "a_s4   18     178    Savi Lavix    67\n",
              "b_s1   16     120      Mina Vox     4\n",
              "b_s2   14     175    Luna Bulad    45\n",
              "b_s3   19     187  Bulga Martib    28\n",
              "b_s4   16     146   Savin Lulax    89"
            ]
          },
          "metadata": {},
          "execution_count": 72
        }
      ]
    },
    {
      "cell_type": "code",
      "metadata": {
        "colab": {
          "base_uri": "https://localhost:8080/",
          "height": 35
        },
        "id": "U01apIM13m0g",
        "outputId": "84b069e9-c8ac-4c99-986f-c70109045e27"
      },
      "source": [
        "classes.age.idxmax()"
      ],
      "execution_count": 73,
      "outputs": [
        {
          "output_type": "execute_result",
          "data": {
            "application/vnd.google.colaboratory.intrinsic+json": {
              "type": "string"
            },
            "text/plain": [
              "'a_s3'"
            ]
          },
          "metadata": {},
          "execution_count": 73
        }
      ]
    },
    {
      "cell_type": "markdown",
      "metadata": {
        "id": "9qsoj7Kqz8iO"
      },
      "source": [
        "Let's think we want to find students in  same age\n",
        "\n",
        "සම වයසේ දරුවන් සොයා ගැනීමට අවශ්‍ය යැයි සිතමු"
      ]
    },
    {
      "cell_type": "code",
      "metadata": {
        "colab": {
          "base_uri": "https://localhost:8080/"
        },
        "id": "Y6t5h7TH0ABu",
        "outputId": "ac433ff2-6ec5-4e49-de8a-bc2d24f6aeee"
      },
      "source": [
        "classes.groupby(\"age\").apply(lambda df: df.age)"
      ],
      "execution_count": 74,
      "outputs": [
        {
          "output_type": "execute_result",
          "data": {
            "text/plain": [
              "age      \n",
              "14   b_s2    14\n",
              "15   a_s1    15\n",
              "16   a_s2    16\n",
              "     b_s1    16\n",
              "     b_s4    16\n",
              "18   a_s4    18\n",
              "19   b_s3    19\n",
              "23   a_s3    23\n",
              "Name: age, dtype: int64"
            ]
          },
          "metadata": {},
          "execution_count": 74
        }
      ]
    }
  ]
}